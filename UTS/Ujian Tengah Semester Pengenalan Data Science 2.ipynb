{
 "cells": [
  {
   "cell_type": "markdown",
   "metadata": {},
   "source": [
    "# Ujian Tengah Semester (2)"
   ]
  },
  {
   "cell_type": "markdown",
   "metadata": {},
   "source": [
    "Nama : Clarence Chandra Sentosa"
   ]
  },
  {
   "cell_type": "markdown",
   "metadata": {},
   "source": [
    "NRP   : 1973010"
   ]
  },
  {
   "cell_type": "markdown",
   "metadata": {},
   "source": [
    "# Simple Linear Regression"
   ]
  },
  {
   "cell_type": "markdown",
   "metadata": {},
   "source": [
    "Kita akan mencoba untuk memprediksi Boston Houses Prices menggunakan \"Simple Linear Regression\"."
   ]
  },
  {
   "cell_type": "markdown",
   "metadata": {},
   "source": [
    "# Import Modules"
   ]
  },
  {
   "cell_type": "markdown",
   "metadata": {},
   "source": [
    "Kita akan mengimport terlebih dahulu modul-modul penting yang akan kita gunakan untuk memprediksi boston house pricing dengan menggunakan simple linear regression"
   ]
  },
  {
   "cell_type": "code",
   "execution_count": 81,
   "metadata": {},
   "outputs": [],
   "source": [
    "# Code 01\n",
    "\n",
    "import pandas as pd\n",
    "import numpy as np\n",
    "from sklearn import linear_model\n",
    "from sklearn.model_selection import train_test_split"
   ]
  },
  {
   "cell_type": "markdown",
   "metadata": {},
   "source": [
    "# Load Boston Dataset"
   ]
  },
  {
   "cell_type": "code",
   "execution_count": 82,
   "metadata": {},
   "outputs": [
    {
     "data": {
      "text/plain": [
       "{'data': array([[6.3200e-03, 1.8000e+01, 2.3100e+00, ..., 1.5300e+01, 3.9690e+02,\n",
       "         4.9800e+00],\n",
       "        [2.7310e-02, 0.0000e+00, 7.0700e+00, ..., 1.7800e+01, 3.9690e+02,\n",
       "         9.1400e+00],\n",
       "        [2.7290e-02, 0.0000e+00, 7.0700e+00, ..., 1.7800e+01, 3.9283e+02,\n",
       "         4.0300e+00],\n",
       "        ...,\n",
       "        [6.0760e-02, 0.0000e+00, 1.1930e+01, ..., 2.1000e+01, 3.9690e+02,\n",
       "         5.6400e+00],\n",
       "        [1.0959e-01, 0.0000e+00, 1.1930e+01, ..., 2.1000e+01, 3.9345e+02,\n",
       "         6.4800e+00],\n",
       "        [4.7410e-02, 0.0000e+00, 1.1930e+01, ..., 2.1000e+01, 3.9690e+02,\n",
       "         7.8800e+00]]),\n",
       " 'target': array([24. , 21.6, 34.7, 33.4, 36.2, 28.7, 22.9, 27.1, 16.5, 18.9, 15. ,\n",
       "        18.9, 21.7, 20.4, 18.2, 19.9, 23.1, 17.5, 20.2, 18.2, 13.6, 19.6,\n",
       "        15.2, 14.5, 15.6, 13.9, 16.6, 14.8, 18.4, 21. , 12.7, 14.5, 13.2,\n",
       "        13.1, 13.5, 18.9, 20. , 21. , 24.7, 30.8, 34.9, 26.6, 25.3, 24.7,\n",
       "        21.2, 19.3, 20. , 16.6, 14.4, 19.4, 19.7, 20.5, 25. , 23.4, 18.9,\n",
       "        35.4, 24.7, 31.6, 23.3, 19.6, 18.7, 16. , 22.2, 25. , 33. , 23.5,\n",
       "        19.4, 22. , 17.4, 20.9, 24.2, 21.7, 22.8, 23.4, 24.1, 21.4, 20. ,\n",
       "        20.8, 21.2, 20.3, 28. , 23.9, 24.8, 22.9, 23.9, 26.6, 22.5, 22.2,\n",
       "        23.6, 28.7, 22.6, 22. , 22.9, 25. , 20.6, 28.4, 21.4, 38.7, 43.8,\n",
       "        33.2, 27.5, 26.5, 18.6, 19.3, 20.1, 19.5, 19.5, 20.4, 19.8, 19.4,\n",
       "        21.7, 22.8, 18.8, 18.7, 18.5, 18.3, 21.2, 19.2, 20.4, 19.3, 22. ,\n",
       "        20.3, 20.5, 17.3, 18.8, 21.4, 15.7, 16.2, 18. , 14.3, 19.2, 19.6,\n",
       "        23. , 18.4, 15.6, 18.1, 17.4, 17.1, 13.3, 17.8, 14. , 14.4, 13.4,\n",
       "        15.6, 11.8, 13.8, 15.6, 14.6, 17.8, 15.4, 21.5, 19.6, 15.3, 19.4,\n",
       "        17. , 15.6, 13.1, 41.3, 24.3, 23.3, 27. , 50. , 50. , 50. , 22.7,\n",
       "        25. , 50. , 23.8, 23.8, 22.3, 17.4, 19.1, 23.1, 23.6, 22.6, 29.4,\n",
       "        23.2, 24.6, 29.9, 37.2, 39.8, 36.2, 37.9, 32.5, 26.4, 29.6, 50. ,\n",
       "        32. , 29.8, 34.9, 37. , 30.5, 36.4, 31.1, 29.1, 50. , 33.3, 30.3,\n",
       "        34.6, 34.9, 32.9, 24.1, 42.3, 48.5, 50. , 22.6, 24.4, 22.5, 24.4,\n",
       "        20. , 21.7, 19.3, 22.4, 28.1, 23.7, 25. , 23.3, 28.7, 21.5, 23. ,\n",
       "        26.7, 21.7, 27.5, 30.1, 44.8, 50. , 37.6, 31.6, 46.7, 31.5, 24.3,\n",
       "        31.7, 41.7, 48.3, 29. , 24. , 25.1, 31.5, 23.7, 23.3, 22. , 20.1,\n",
       "        22.2, 23.7, 17.6, 18.5, 24.3, 20.5, 24.5, 26.2, 24.4, 24.8, 29.6,\n",
       "        42.8, 21.9, 20.9, 44. , 50. , 36. , 30.1, 33.8, 43.1, 48.8, 31. ,\n",
       "        36.5, 22.8, 30.7, 50. , 43.5, 20.7, 21.1, 25.2, 24.4, 35.2, 32.4,\n",
       "        32. , 33.2, 33.1, 29.1, 35.1, 45.4, 35.4, 46. , 50. , 32.2, 22. ,\n",
       "        20.1, 23.2, 22.3, 24.8, 28.5, 37.3, 27.9, 23.9, 21.7, 28.6, 27.1,\n",
       "        20.3, 22.5, 29. , 24.8, 22. , 26.4, 33.1, 36.1, 28.4, 33.4, 28.2,\n",
       "        22.8, 20.3, 16.1, 22.1, 19.4, 21.6, 23.8, 16.2, 17.8, 19.8, 23.1,\n",
       "        21. , 23.8, 23.1, 20.4, 18.5, 25. , 24.6, 23. , 22.2, 19.3, 22.6,\n",
       "        19.8, 17.1, 19.4, 22.2, 20.7, 21.1, 19.5, 18.5, 20.6, 19. , 18.7,\n",
       "        32.7, 16.5, 23.9, 31.2, 17.5, 17.2, 23.1, 24.5, 26.6, 22.9, 24.1,\n",
       "        18.6, 30.1, 18.2, 20.6, 17.8, 21.7, 22.7, 22.6, 25. , 19.9, 20.8,\n",
       "        16.8, 21.9, 27.5, 21.9, 23.1, 50. , 50. , 50. , 50. , 50. , 13.8,\n",
       "        13.8, 15. , 13.9, 13.3, 13.1, 10.2, 10.4, 10.9, 11.3, 12.3,  8.8,\n",
       "         7.2, 10.5,  7.4, 10.2, 11.5, 15.1, 23.2,  9.7, 13.8, 12.7, 13.1,\n",
       "        12.5,  8.5,  5. ,  6.3,  5.6,  7.2, 12.1,  8.3,  8.5,  5. , 11.9,\n",
       "        27.9, 17.2, 27.5, 15. , 17.2, 17.9, 16.3,  7. ,  7.2,  7.5, 10.4,\n",
       "         8.8,  8.4, 16.7, 14.2, 20.8, 13.4, 11.7,  8.3, 10.2, 10.9, 11. ,\n",
       "         9.5, 14.5, 14.1, 16.1, 14.3, 11.7, 13.4,  9.6,  8.7,  8.4, 12.8,\n",
       "        10.5, 17.1, 18.4, 15.4, 10.8, 11.8, 14.9, 12.6, 14.1, 13. , 13.4,\n",
       "        15.2, 16.1, 17.8, 14.9, 14.1, 12.7, 13.5, 14.9, 20. , 16.4, 17.7,\n",
       "        19.5, 20.2, 21.4, 19.9, 19. , 19.1, 19.1, 20.1, 19.9, 19.6, 23.2,\n",
       "        29.8, 13.8, 13.3, 16.7, 12. , 14.6, 21.4, 23. , 23.7, 25. , 21.8,\n",
       "        20.6, 21.2, 19.1, 20.6, 15.2,  7. ,  8.1, 13.6, 20.1, 21.8, 24.5,\n",
       "        23.1, 19.7, 18.3, 21.2, 17.5, 16.8, 22.4, 20.6, 23.9, 22. , 11.9]),\n",
       " 'feature_names': array(['CRIM', 'ZN', 'INDUS', 'CHAS', 'NOX', 'RM', 'AGE', 'DIS', 'RAD',\n",
       "        'TAX', 'PTRATIO', 'B', 'LSTAT'], dtype='<U7'),\n",
       " 'DESCR': \".. _boston_dataset:\\n\\nBoston house prices dataset\\n---------------------------\\n\\n**Data Set Characteristics:**  \\n\\n    :Number of Instances: 506 \\n\\n    :Number of Attributes: 13 numeric/categorical predictive. Median Value (attribute 14) is usually the target.\\n\\n    :Attribute Information (in order):\\n        - CRIM     per capita crime rate by town\\n        - ZN       proportion of residential land zoned for lots over 25,000 sq.ft.\\n        - INDUS    proportion of non-retail business acres per town\\n        - CHAS     Charles River dummy variable (= 1 if tract bounds river; 0 otherwise)\\n        - NOX      nitric oxides concentration (parts per 10 million)\\n        - RM       average number of rooms per dwelling\\n        - AGE      proportion of owner-occupied units built prior to 1940\\n        - DIS      weighted distances to five Boston employment centres\\n        - RAD      index of accessibility to radial highways\\n        - TAX      full-value property-tax rate per $10,000\\n        - PTRATIO  pupil-teacher ratio by town\\n        - B        1000(Bk - 0.63)^2 where Bk is the proportion of blacks by town\\n        - LSTAT    % lower status of the population\\n        - MEDV     Median value of owner-occupied homes in $1000's\\n\\n    :Missing Attribute Values: None\\n\\n    :Creator: Harrison, D. and Rubinfeld, D.L.\\n\\nThis is a copy of UCI ML housing dataset.\\nhttps://archive.ics.uci.edu/ml/machine-learning-databases/housing/\\n\\n\\nThis dataset was taken from the StatLib library which is maintained at Carnegie Mellon University.\\n\\nThe Boston house-price data of Harrison, D. and Rubinfeld, D.L. 'Hedonic\\nprices and the demand for clean air', J. Environ. Economics & Management,\\nvol.5, 81-102, 1978.   Used in Belsley, Kuh & Welsch, 'Regression diagnostics\\n...', Wiley, 1980.   N.B. Various transformations are used in the table on\\npages 244-261 of the latter.\\n\\nThe Boston house-price data has been used in many machine learning papers that address regression\\nproblems.   \\n     \\n.. topic:: References\\n\\n   - Belsley, Kuh & Welsch, 'Regression diagnostics: Identifying Influential Data and Sources of Collinearity', Wiley, 1980. 244-261.\\n   - Quinlan,R. (1993). Combining Instance-Based and Model-Based Learning. In Proceedings on the Tenth International Conference of Machine Learning, 236-243, University of Massachusetts, Amherst. Morgan Kaufmann.\\n\",\n",
       " 'filename': 'C:\\\\Users\\\\christ\\\\Anaconda3\\\\lib\\\\site-packages\\\\sklearn\\\\datasets\\\\data\\\\boston_house_prices.csv'}"
      ]
     },
     "execution_count": 82,
     "metadata": {},
     "output_type": "execute_result"
    }
   ],
   "source": [
    "# Code 02\n",
    "\n",
    "from sklearn.datasets import load_boston\n",
    "boston = load_boston()\n",
    "boston"
   ]
  },
  {
   "cell_type": "markdown",
   "metadata": {},
   "source": [
    "# Transform Data to Pandas Data Frame"
   ]
  },
  {
   "cell_type": "markdown",
   "metadata": {},
   "source": [
    "Kita akan menkonversikan terlebih dahulu data boston house pricing kedalam model pandas data frame agar tampilannya lebih jelas."
   ]
  },
  {
   "cell_type": "code",
   "execution_count": 83,
   "metadata": {},
   "outputs": [],
   "source": [
    "# Code 03\n",
    "\n",
    "x = pd.DataFrame(boston.data, columns=boston.feature_names)\n",
    "y = pd.DataFrame(boston.target)"
   ]
  },
  {
   "cell_type": "markdown",
   "metadata": {},
   "source": [
    "Pada code 03, kita melakukan inisiasi terlebih dahulu sebelum kita menggunakan dataset boston. \n",
    "- \"x\" merupakan representasi dari feature.\n",
    "- \"y\" merupakan representasi dari target."
   ]
  },
  {
   "cell_type": "markdown",
   "metadata": {},
   "source": [
    "# Menampilkan Data pada Boston Dataset dalam Pandas DataFrame"
   ]
  },
  {
   "cell_type": "code",
   "execution_count": 84,
   "metadata": {},
   "outputs": [
    {
     "data": {
      "text/html": [
       "<div>\n",
       "<style scoped>\n",
       "    .dataframe tbody tr th:only-of-type {\n",
       "        vertical-align: middle;\n",
       "    }\n",
       "\n",
       "    .dataframe tbody tr th {\n",
       "        vertical-align: top;\n",
       "    }\n",
       "\n",
       "    .dataframe thead th {\n",
       "        text-align: right;\n",
       "    }\n",
       "</style>\n",
       "<table border=\"1\" class=\"dataframe\">\n",
       "  <thead>\n",
       "    <tr style=\"text-align: right;\">\n",
       "      <th></th>\n",
       "      <th>CRIM</th>\n",
       "      <th>ZN</th>\n",
       "      <th>INDUS</th>\n",
       "      <th>CHAS</th>\n",
       "      <th>NOX</th>\n",
       "      <th>RM</th>\n",
       "      <th>AGE</th>\n",
       "      <th>DIS</th>\n",
       "      <th>RAD</th>\n",
       "      <th>TAX</th>\n",
       "      <th>PTRATIO</th>\n",
       "      <th>B</th>\n",
       "      <th>LSTAT</th>\n",
       "    </tr>\n",
       "  </thead>\n",
       "  <tbody>\n",
       "    <tr>\n",
       "      <td>count</td>\n",
       "      <td>506.000000</td>\n",
       "      <td>506.000000</td>\n",
       "      <td>506.000000</td>\n",
       "      <td>506.000000</td>\n",
       "      <td>506.000000</td>\n",
       "      <td>506.000000</td>\n",
       "      <td>506.000000</td>\n",
       "      <td>506.000000</td>\n",
       "      <td>506.000000</td>\n",
       "      <td>506.000000</td>\n",
       "      <td>506.000000</td>\n",
       "      <td>506.000000</td>\n",
       "      <td>506.000000</td>\n",
       "    </tr>\n",
       "    <tr>\n",
       "      <td>mean</td>\n",
       "      <td>3.613524</td>\n",
       "      <td>11.363636</td>\n",
       "      <td>11.136779</td>\n",
       "      <td>0.069170</td>\n",
       "      <td>0.554695</td>\n",
       "      <td>6.284634</td>\n",
       "      <td>68.574901</td>\n",
       "      <td>3.795043</td>\n",
       "      <td>9.549407</td>\n",
       "      <td>408.237154</td>\n",
       "      <td>18.455534</td>\n",
       "      <td>356.674032</td>\n",
       "      <td>12.653063</td>\n",
       "    </tr>\n",
       "    <tr>\n",
       "      <td>std</td>\n",
       "      <td>8.601545</td>\n",
       "      <td>23.322453</td>\n",
       "      <td>6.860353</td>\n",
       "      <td>0.253994</td>\n",
       "      <td>0.115878</td>\n",
       "      <td>0.702617</td>\n",
       "      <td>28.148861</td>\n",
       "      <td>2.105710</td>\n",
       "      <td>8.707259</td>\n",
       "      <td>168.537116</td>\n",
       "      <td>2.164946</td>\n",
       "      <td>91.294864</td>\n",
       "      <td>7.141062</td>\n",
       "    </tr>\n",
       "    <tr>\n",
       "      <td>min</td>\n",
       "      <td>0.006320</td>\n",
       "      <td>0.000000</td>\n",
       "      <td>0.460000</td>\n",
       "      <td>0.000000</td>\n",
       "      <td>0.385000</td>\n",
       "      <td>3.561000</td>\n",
       "      <td>2.900000</td>\n",
       "      <td>1.129600</td>\n",
       "      <td>1.000000</td>\n",
       "      <td>187.000000</td>\n",
       "      <td>12.600000</td>\n",
       "      <td>0.320000</td>\n",
       "      <td>1.730000</td>\n",
       "    </tr>\n",
       "    <tr>\n",
       "      <td>25%</td>\n",
       "      <td>0.082045</td>\n",
       "      <td>0.000000</td>\n",
       "      <td>5.190000</td>\n",
       "      <td>0.000000</td>\n",
       "      <td>0.449000</td>\n",
       "      <td>5.885500</td>\n",
       "      <td>45.025000</td>\n",
       "      <td>2.100175</td>\n",
       "      <td>4.000000</td>\n",
       "      <td>279.000000</td>\n",
       "      <td>17.400000</td>\n",
       "      <td>375.377500</td>\n",
       "      <td>6.950000</td>\n",
       "    </tr>\n",
       "    <tr>\n",
       "      <td>50%</td>\n",
       "      <td>0.256510</td>\n",
       "      <td>0.000000</td>\n",
       "      <td>9.690000</td>\n",
       "      <td>0.000000</td>\n",
       "      <td>0.538000</td>\n",
       "      <td>6.208500</td>\n",
       "      <td>77.500000</td>\n",
       "      <td>3.207450</td>\n",
       "      <td>5.000000</td>\n",
       "      <td>330.000000</td>\n",
       "      <td>19.050000</td>\n",
       "      <td>391.440000</td>\n",
       "      <td>11.360000</td>\n",
       "    </tr>\n",
       "    <tr>\n",
       "      <td>75%</td>\n",
       "      <td>3.677083</td>\n",
       "      <td>12.500000</td>\n",
       "      <td>18.100000</td>\n",
       "      <td>0.000000</td>\n",
       "      <td>0.624000</td>\n",
       "      <td>6.623500</td>\n",
       "      <td>94.075000</td>\n",
       "      <td>5.188425</td>\n",
       "      <td>24.000000</td>\n",
       "      <td>666.000000</td>\n",
       "      <td>20.200000</td>\n",
       "      <td>396.225000</td>\n",
       "      <td>16.955000</td>\n",
       "    </tr>\n",
       "    <tr>\n",
       "      <td>max</td>\n",
       "      <td>88.976200</td>\n",
       "      <td>100.000000</td>\n",
       "      <td>27.740000</td>\n",
       "      <td>1.000000</td>\n",
       "      <td>0.871000</td>\n",
       "      <td>8.780000</td>\n",
       "      <td>100.000000</td>\n",
       "      <td>12.126500</td>\n",
       "      <td>24.000000</td>\n",
       "      <td>711.000000</td>\n",
       "      <td>22.000000</td>\n",
       "      <td>396.900000</td>\n",
       "      <td>37.970000</td>\n",
       "    </tr>\n",
       "  </tbody>\n",
       "</table>\n",
       "</div>"
      ],
      "text/plain": [
       "             CRIM          ZN       INDUS        CHAS         NOX          RM  \\\n",
       "count  506.000000  506.000000  506.000000  506.000000  506.000000  506.000000   \n",
       "mean     3.613524   11.363636   11.136779    0.069170    0.554695    6.284634   \n",
       "std      8.601545   23.322453    6.860353    0.253994    0.115878    0.702617   \n",
       "min      0.006320    0.000000    0.460000    0.000000    0.385000    3.561000   \n",
       "25%      0.082045    0.000000    5.190000    0.000000    0.449000    5.885500   \n",
       "50%      0.256510    0.000000    9.690000    0.000000    0.538000    6.208500   \n",
       "75%      3.677083   12.500000   18.100000    0.000000    0.624000    6.623500   \n",
       "max     88.976200  100.000000   27.740000    1.000000    0.871000    8.780000   \n",
       "\n",
       "              AGE         DIS         RAD         TAX     PTRATIO           B  \\\n",
       "count  506.000000  506.000000  506.000000  506.000000  506.000000  506.000000   \n",
       "mean    68.574901    3.795043    9.549407  408.237154   18.455534  356.674032   \n",
       "std     28.148861    2.105710    8.707259  168.537116    2.164946   91.294864   \n",
       "min      2.900000    1.129600    1.000000  187.000000   12.600000    0.320000   \n",
       "25%     45.025000    2.100175    4.000000  279.000000   17.400000  375.377500   \n",
       "50%     77.500000    3.207450    5.000000  330.000000   19.050000  391.440000   \n",
       "75%     94.075000    5.188425   24.000000  666.000000   20.200000  396.225000   \n",
       "max    100.000000   12.126500   24.000000  711.000000   22.000000  396.900000   \n",
       "\n",
       "            LSTAT  \n",
       "count  506.000000  \n",
       "mean    12.653063  \n",
       "std      7.141062  \n",
       "min      1.730000  \n",
       "25%      6.950000  \n",
       "50%     11.360000  \n",
       "75%     16.955000  \n",
       "max     37.970000  "
      ]
     },
     "execution_count": 84,
     "metadata": {},
     "output_type": "execute_result"
    }
   ],
   "source": [
    "# Code 04\n",
    "\n",
    "x.describe()"
   ]
  },
  {
   "cell_type": "markdown",
   "metadata": {},
   "source": [
    "# Sample Dataset"
   ]
  },
  {
   "cell_type": "code",
   "execution_count": 85,
   "metadata": {},
   "outputs": [
    {
     "data": {
      "text/html": [
       "<div>\n",
       "<style scoped>\n",
       "    .dataframe tbody tr th:only-of-type {\n",
       "        vertical-align: middle;\n",
       "    }\n",
       "\n",
       "    .dataframe tbody tr th {\n",
       "        vertical-align: top;\n",
       "    }\n",
       "\n",
       "    .dataframe thead th {\n",
       "        text-align: right;\n",
       "    }\n",
       "</style>\n",
       "<table border=\"1\" class=\"dataframe\">\n",
       "  <thead>\n",
       "    <tr style=\"text-align: right;\">\n",
       "      <th></th>\n",
       "      <th>jumlah kamar</th>\n",
       "      <th>harga</th>\n",
       "    </tr>\n",
       "  </thead>\n",
       "  <tbody>\n",
       "    <tr>\n",
       "      <td>0</td>\n",
       "      <td>2</td>\n",
       "      <td>25.0</td>\n",
       "    </tr>\n",
       "    <tr>\n",
       "      <td>1</td>\n",
       "      <td>3</td>\n",
       "      <td>30.0</td>\n",
       "    </tr>\n",
       "    <tr>\n",
       "      <td>2</td>\n",
       "      <td>4</td>\n",
       "      <td>50.0</td>\n",
       "    </tr>\n",
       "    <tr>\n",
       "      <td>3</td>\n",
       "      <td>5</td>\n",
       "      <td>60.5</td>\n",
       "    </tr>\n",
       "    <tr>\n",
       "      <td>4</td>\n",
       "      <td>6</td>\n",
       "      <td>65.0</td>\n",
       "    </tr>\n",
       "  </tbody>\n",
       "</table>\n",
       "</div>"
      ],
      "text/plain": [
       "   jumlah kamar  harga\n",
       "0             2   25.0\n",
       "1             3   30.0\n",
       "2             4   50.0\n",
       "3             5   60.5\n",
       "4             6   65.0"
      ]
     },
     "execution_count": 85,
     "metadata": {},
     "output_type": "execute_result"
    }
   ],
   "source": [
    "# Code 05\n",
    "\n",
    "import pandas as pd \n",
    "\n",
    "house = {'jumlah kamar' : [2, 3, 4, 5, 6],\n",
    "         'harga' : [25, 30, 50, 60.5, 65]}\n",
    "\n",
    "house_df = pd.DataFrame(house)\n",
    "house_df"
   ]
  },
  {
   "cell_type": "markdown",
   "metadata": {},
   "source": [
    "Diatas merupakan dataset yang akan kita pakai. Kita akan membentuk dataset yang berisi daftar jumlah kamar beserta harganya, dataset ini kita akan tampung ke dalam format pandas data frame.\n",
    "- Mengimport modul pandas terlebih dahulu.\n",
    "- Lalu kita siapkan suatu dictionary yang terdiri dari 2 buah key yaitu \"jumlah kamar\" dan \"harga\" yang setiap key nya akan berasosiasi dengan list.\n",
    "- \"2, 3, 4, 5, dan 6\" adalah list untuk jumlah kamar, serta \"25, 30, 50, 60.5, dan 65\" adalah list untuk harga.\n",
    "- Berikutnya dictionary ini akan kita tampung ke dalam variable house untuk selanjutnya kita bentuk sebagai objek data frame.\n",
    "- Proses pembentukan data frame bisa kita lakukan dengan cara \"pd.DataFrame(house)\", house sebagai parameternya yang akan kita tampung ke dalam variable \"house_df\".\n",
    "- Lalu kita tampilkan isinya."
   ]
  },
  {
   "cell_type": "markdown",
   "metadata": {},
   "source": [
    "# Penyesuaian Dataset"
   ]
  },
  {
   "cell_type": "code",
   "execution_count": 86,
   "metadata": {},
   "outputs": [
    {
     "name": "stdout",
     "output_type": "stream",
     "text": [
      "X: [2 3 4 5 6]\n",
      "Y: [25.  30.  50.  60.5 65. ]\n"
     ]
    }
   ],
   "source": [
    "# Code 06\n",
    "\n",
    "import numpy as np\n",
    "\n",
    "x = np.array(house_df['jumlah kamar'])\n",
    "y = np.array(house_df['harga'])\n",
    "\n",
    "print(f'X: {x}')\n",
    "print(f'Y: {y}')"
   ]
  },
  {
   "cell_type": "markdown",
   "metadata": {},
   "source": [
    "Disini kita akan melakukan beberapa penyesuaian terhadap dataset house yang kita miliki.\n",
    "\n",
    "- Langkah pertama yang kita lakukan adalah mengelompokkan feature dan target ke dalam 2 variabel terpisah.\n",
    "- Selanjutnya kita akan melkaukan konversi struktur data dari yang semula menggunakan pandas data frame menjadi numpy array.\n",
    "\n",
    "Alur berpikir code 06 :\n",
    "\n",
    "- Melakukan import numpy as np.\n",
    "- Untuk jumlah kamar, karena jumlah kamar ini merupakan feature maka akan kita konversikan terlebih dahulu lalu kita koversikan menjadi suatu numpy array yang beikutnya akan kita tampung kedalam variabel \"x\", dimana variabel \"x\" akan kita pandang sebagai features.\n",
    "Lalu berikutnya, untuk kolom harga akan kita koversikan menjadi numpy array dan nilainya akan ditampung ke dalam variabel \"y' sebagai variabel target.\n",
    "\"X: [2 3 4 5 6]\" merupakan kumpulan nilai features.\n",
    "\"Y: [25.  30.  50.  60.5 65. ]\" merupakan kumpulan nilai target.\n",
    "\n",
    "Jika kita perhatikan pada variabel x yang digunakan untuk menampung nilai features hanya terdiri dari 1 dimensi saja padahal kita mengetahui bahwa model machine learning yang disertakan pad SKlearn membutuhkan sekumpulan nilai features yang ditampung dalam suatu array 2 dimensi. Oleh karena itu, pada kali ini kita perlu melakukan proses reshapping terhadap array yang digunakan untuk menampung nilai features ini."
   ]
  },
  {
   "cell_type": "code",
   "execution_count": 87,
   "metadata": {},
   "outputs": [
    {
     "data": {
      "text/plain": [
       "(5, 1)"
      ]
     },
     "execution_count": 87,
     "metadata": {},
     "output_type": "execute_result"
    }
   ],
   "source": [
    "# Code 07 (Melakukan Reshapping)\n",
    "\n",
    "X = x.reshape(-1, 1)\n",
    "X.shape"
   ]
  },
  {
   "cell_type": "code",
   "execution_count": 88,
   "metadata": {},
   "outputs": [
    {
     "data": {
      "text/plain": [
       "array([[2],\n",
       "       [3],\n",
       "       [4],\n",
       "       [5],\n",
       "       [6]], dtype=int64)"
      ]
     },
     "execution_count": 88,
     "metadata": {},
     "output_type": "execute_result"
    }
   ],
   "source": [
    "# Code 08 (Menampilkan Datanya)\n",
    "X"
   ]
  },
  {
   "cell_type": "markdown",
   "metadata": {},
   "source": [
    "# Visualisasi Data"
   ]
  },
  {
   "cell_type": "markdown",
   "metadata": {},
   "source": [
    "Kita akan mencoba menampilkan jumlah kamar dan harga rumah kedalam scatter plot."
   ]
  },
  {
   "cell_type": "code",
   "execution_count": 89,
   "metadata": {},
   "outputs": [
    {
     "data": {
      "image/png": "[encoded data removed]",
      "text/plain": [
       "<Figure size 432x288 with 1 Axes>"
      ]
     },
     "metadata": {
      "needs_background": "light"
     },
     "output_type": "display_data"
    }
   ],
   "source": [
    "# Code 09\n",
    "\n",
    "import matplotlib.pyplot as plt\n",
    "\n",
    "house_df.plot(kind='scatter', x='jumlah kamar', y='harga')\n",
    "\n",
    "plt.title('Perbandingan Jumlah Kamar dan Harga Rumah')\n",
    "plt.xlabel('Jumlah Kamar')\n",
    "plt.ylabel('Harga (Juta Rupiah)')\n",
    "plt.xlim(0, 100)\n",
    "plt.ylim(0, 100)\n",
    "plt.grid(True)\n",
    "plt.show()"
   ]
  },
  {
   "cell_type": "markdown",
   "metadata": {},
   "source": [
    "# Simple Linear Regression Model"
   ]
  },
  {
   "cell_type": "markdown",
   "metadata": {},
   "source": [
    "Setelah kita memahami konteks dataset dan juga permasalahannya, kita akan mencoba menerapkan \"Simple Linear Regression Model\" sebagai solusi. Sesuai dengan namanya, model machine learning yang satu ini memang digunakan untuk menyelesaikan regression task."
   ]
  },
  {
   "cell_type": "markdown",
   "metadata": {},
   "source": [
    "# Penyesuaian Dataset"
   ]
  },
  {
   "cell_type": "code",
   "execution_count": 90,
   "metadata": {},
   "outputs": [
    {
     "name": "stdout",
     "output_type": "stream",
     "text": [
      "X: [[2]\n",
      " [3]\n",
      " [4]\n",
      " [5]\n",
      " [6]]\n",
      "Y: [25.  30.  50.  60.5 65. ]\n"
     ]
    }
   ],
   "source": [
    "# Code 10\n",
    "\n",
    "import numpy as np\n",
    "\n",
    "x = np.array(house['jumlah kamar'])\n",
    "y = np.array(house['harga'])\n",
    "\n",
    "print(f'X: {X}')\n",
    "print(f'Y: {y}')"
   ]
  },
  {
   "cell_type": "markdown",
   "metadata": {},
   "source": [
    "Disini kita akan melakukan beberapa penyesuaian terhadap dataset house yang kita miliki.\n",
    "\n",
    "- Langkah pertama yang kita lakukan adalah mengelompokkan feature dan target ke dalam 2 variabel terpisah.\n",
    "- Selanjutnya kita akan melkaukan konversi struktur data dari yang semula menggunakan pandas data frame menjadi numpy array.\n",
    "\n",
    "Alur berpikir code 10 :\n",
    "\n",
    "- Melakukan import numpy as np.\n",
    "- Untuk diameter, karena \"jumlah kamar\" ini merupakan feature maka akan kita konversikan terlebih dahulu lalu kita koversikan menjadi suatu numpy array yang beikutnya akan kita tampung kedalam variabel \"X\", dimana variabel \"X\" akan kita pandang sebagai features.\n",
    "- Lalu berikutnya, untuk kolom harga akan kita koversikan menjadi numpy array dan nilainya akan ditampung ke dalam variabel \"y' sebagai variabel target.\n",
    "- \"X: [ 2 3 4 5 6]\" merupakan kumpulan nilai features.\n",
    "- \"Y: [25.  30.  50.  60.5 65. ]\" merupakan kumpulan nilai target.\n",
    "\n",
    "Jika kita perhatikan pada variabel \"X\" yang digunakan untuk menampung nilai features hanya terdiri dari 1 dimensi saja padahal kita mengetahui bahwa model machine learning yang disertakan pada SKlearn membutuhkan sekumpulan nilai features yang ditampung dalam suatu array 2 dimensi. Oleh karena itu, pada kali ini kita perlu melakukan proses reshapping terhadap array yang digunakan untuk menampung nilai features ini."
   ]
  },
  {
   "cell_type": "markdown",
   "metadata": {},
   "source": [
    "# Training Sample Linear Regression Model"
   ]
  },
  {
   "cell_type": "markdown",
   "metadata": {},
   "source": [
    "Pada kali ini kita, kita akan melakukan proses training model machine learning dimana model yang akan kita pilih adalah \"Linear Regression\"."
   ]
  },
  {
   "cell_type": "code",
   "execution_count": 91,
   "metadata": {},
   "outputs": [
    {
     "data": {
      "text/plain": [
       "LinearRegression()"
      ]
     },
     "execution_count": 91,
     "metadata": {},
     "output_type": "execute_result"
    }
   ],
   "source": [
    "# Code 11\n",
    "from sklearn.linear_model import LinearRegression\n",
    "\n",
    "model = LinearRegression()\n",
    "model.fit(X, y)"
   ]
  },
  {
   "cell_type": "markdown",
   "metadata": {},
   "source": [
    "# Visualisasi Simple Linear Regression Model "
   ]
  },
  {
   "cell_type": "code",
   "execution_count": 92,
   "metadata": {},
   "outputs": [],
   "source": [
    "# Code 12\n",
    "x_vis = np.array([0, 100]).reshape(-1, 1)\n",
    "y_vis = model.predict(x_vis)"
   ]
  },
  {
   "cell_type": "markdown",
   "metadata": {},
   "source": [
    "Alur berpikir code 12 :\n",
    "\n",
    "- Pertama-tama kita akan siapkan dua buah nilai untuk x atau featuresnya yaitu nilai (0, 100). Kedua nilai ini kita tentukan karena pada kali ini kita akan melakukan ploting pada area dengan ukuran 100x100, dan disini kita ambil nilai terkecil dan nilai terbesarnya yaitu 0 dan 100.\n",
    "\n",
    "- Kita akan siapkan 2 buah nilai untuk features yaitu 0 dan 25 dan kedua nilai ini akan kita bentuk sebagi numpy array.\n",
    "- Karena numpy array akan digunakan sebagai features, maka perlu kita reshape agar menghasilkan array 2 dimensi dengan memanggil \"reshape(-1, 1)\" yang kita tampung ke dalam variable \"x_vis\".\n",
    "- Lalu berikutnya, berdarsarkan nilai \"x_vis\", kita akan melakukan prediksi terhadap nilai y nya dengan memanggil \"model.predict(x_vis)\" yang kita tampung ke dalam variabel \"y_vis\"."
   ]
  },
  {
   "cell_type": "markdown",
   "metadata": {},
   "source": [
    "Selanjutnya kita akan melihat hasil visualisasi datanya dengan menggunakan scatter plot."
   ]
  },
  {
   "cell_type": "code",
   "execution_count": 93,
   "metadata": {},
   "outputs": [
    {
     "data": {
      "image/png": "[encoded data removed]",
      "text/plain": [
       "<Figure size 432x288 with 1 Axes>"
      ]
     },
     "metadata": {
      "needs_background": "light"
     },
     "output_type": "display_data"
    }
   ],
   "source": [
    "# Code 13\n",
    "\n",
    "plt.scatter(x, y)\n",
    "plt.plot(x_vis, y_vis, '-r')\n",
    "\n",
    "plt.title('Perbandingan Jumlah Kamar dan Harga Rumah')\n",
    "plt.xlabel('Jumlah Kamar')\n",
    "plt.ylabel('Harga (Juta Rupiah)')\n",
    "plt.xlim(0, 100)\n",
    "plt.ylim(0, 100)\n",
    "plt.grid(True)\n",
    "plt.show()"
   ]
  },
  {
   "cell_type": "markdown",
   "metadata": {},
   "source": [
    "# Formula Linear Regression: y = α + βx"
   ]
  },
  {
   "cell_type": "markdown",
   "metadata": {},
   "source": [
    "- y : Response Variable\n",
    "- x : Explanatory Variable\n",
    "- α : Intercept\n",
    "- β : Slope"
   ]
  },
  {
   "cell_type": "code",
   "execution_count": 94,
   "metadata": {},
   "outputs": [
    {
     "name": "stdout",
     "output_type": "stream",
     "text": [
      "intercept: 1.8999999999999915\n",
      "slope: [11.05]\n"
     ]
    }
   ],
   "source": [
    "# Code 14\n",
    "\n",
    "print(f'intercept: {model.intercept_}')\n",
    "print(f'slope: {model.coef_}')"
   ]
  },
  {
   "cell_type": "markdown",
   "metadata": {},
   "source": [
    "Bisa kita lihat dari hasil code 14 bahwa :\n",
    "- Nilai interceptnya adalah \"1.8999999999999915\" menunjukan titik awal mulai garis yang bewarna merah.\n",
    "- Nilai slopenya adalah \"11.05\""
   ]
  },
  {
   "cell_type": "markdown",
   "metadata": {},
   "source": [
    "# Mencari Nilai Slope"
   ]
  },
  {
   "cell_type": "markdown",
   "metadata": {},
   "source": [
    "Nilai slope pada Linear Regression bisa diperoleh dengan memanfaatkan formula berikut : "
   ]
  },
  {
   "cell_type": "markdown",
   "metadata": {},
   "source": [
    " $β  = \\frac{cov(x,y)}{var(x)}$"
   ]
  },
  {
   "cell_type": "code",
   "execution_count": 95,
   "metadata": {},
   "outputs": [
    {
     "name": "stdout",
     "output_type": "stream",
     "text": [
      "X:\n",
      "[[2]\n",
      " [3]\n",
      " [4]\n",
      " [5]\n",
      " [6]]\n",
      "\n",
      "X flatten: [2 3 4 5 6]\n",
      "\n",
      "Y\\y: [25.  30.  50.  60.5 65. ]\n"
     ]
    }
   ],
   "source": [
    "# Code 15\n",
    "\n",
    "print(f'X:\\n{X}\\n')\n",
    "print(f'X flatten: {X.flatten()}\\n')\n",
    "print(f'Y\\y: {y}')"
   ]
  },
  {
   "cell_type": "markdown",
   "metadata": {},
   "source": [
    "Alur berpikir code 15 :\n",
    "- Jika kita melihat hasil code variabel \"X\", nilai x kita berbentuk 2 dimensi dengan jumlah baris 5 dan jumlah kolom 1.\n",
    "- \"flatten: X.flatten()\" method faltten ini bisa digunakan untuk mengembalikan kepada bentuk asal. Dari yang tadinya 2 dimensi kembali menjadi 1 dimensi.\n",
    "- \"{y}\" untuk menampilkan nilai y yang sudah berbentuk 1 dimensi. "
   ]
  },
  {
   "cell_type": "markdown",
   "metadata": {},
   "source": [
    "# Variance"
   ]
  },
  {
   "cell_type": "markdown",
   "metadata": {},
   "source": [
    "Selanjutnya saya akan mencoba mencari nilai variance nya."
   ]
  },
  {
   "cell_type": "code",
   "execution_count": 96,
   "metadata": {},
   "outputs": [
    {
     "name": "stdout",
     "output_type": "stream",
     "text": [
      "variance : 2.5\n"
     ]
    }
   ],
   "source": [
    "# Code 16\n",
    "\n",
    "variance_x = np.var(X.flatten(), ddof=1)\n",
    "\n",
    "print(f'variance : {variance_x}')"
   ]
  },
  {
   "cell_type": "markdown",
   "metadata": {},
   "source": [
    "Alur berpikir code 16 :\n",
    "- Memanggil \"np.var\". Nilai variance ini akan membutuhkan 2 parameter. Parameter pertama adalah nilai dari variable x yang sudah di flatten kan. Parameter kedua yaitu ddof yaitu \"degree of freedom\" yang kita set dengan angka 1. Hasil perhitungan ditampung ke dalam variable \"variance_x\".\n",
    "- Lalu menampilkan hasilnya, yang pada kali ini hasilnya adalah 2.5."
   ]
  },
  {
   "cell_type": "markdown",
   "metadata": {},
   "source": [
    "# Covariance"
   ]
  },
  {
   "cell_type": "code",
   "execution_count": 97,
   "metadata": {},
   "outputs": [
    {
     "data": {
      "text/plain": [
       "array([[  2.5  ,  27.625],\n",
       "       [ 27.625, 321.05 ]])"
      ]
     },
     "execution_count": 97,
     "metadata": {},
     "output_type": "execute_result"
    }
   ],
   "source": [
    "# Code 17\n",
    "\n",
    "np.cov(X.flatten(), y)"
   ]
  },
  {
   "cell_type": "markdown",
   "metadata": {},
   "source": [
    "Alur berpikir code 17 :\n",
    "- Memanggil np.cov, lalu membutuhkan 2 parameter. Parameter pertama adalah nilai x yang sudah di flatten kan, lalu parameter kedua adalah y.\n",
    "- Pemanggilan fungsi \"np.cov\" ini akan menghasilkan covariance matriks yang terdiri dari 2 kolom dan 2 baris, tetapi nilai yang mau kita gunakan adalah \"27.625\" dan \"27.625\" atau yang berada dalam diagonal atau bersebrangan. "
   ]
  },
  {
   "cell_type": "code",
   "execution_count": 98,
   "metadata": {},
   "outputs": [
    {
     "name": "stdout",
     "output_type": "stream",
     "text": [
      "covariance: 27.625\n"
     ]
    }
   ],
   "source": [
    "# Code 18\n",
    "\n",
    "covariance_xy = np.cov(X.flatten(), y)[0][1]\n",
    "\n",
    "print(f'covariance: {covariance_xy}')\n",
    "\n",
    "# Juga bisa menggunakan X.patern() pada script ini"
   ]
  },
  {
   "cell_type": "markdown",
   "metadata": {},
   "source": [
    "# Slope"
   ]
  },
  {
   "cell_type": "code",
   "execution_count": 99,
   "metadata": {},
   "outputs": [
    {
     "name": "stdout",
     "output_type": "stream",
     "text": [
      "slope : 11.05\n"
     ]
    }
   ],
   "source": [
    "# Code 19\n",
    "slope = covariance_xy / variance_x\n",
    "\n",
    "print(f'slope : {slope}')\n",
    "\n",
    "# Nilainya sama persis seperti pada code 12"
   ]
  },
  {
   "cell_type": "markdown",
   "metadata": {},
   "source": [
    "# Mencari Nilai Intercept"
   ]
  },
  {
   "cell_type": "markdown",
   "metadata": {},
   "source": [
    "Nilai intercept pada Linear Regression bisa diperoleh dengan memanfaatkan formula berikut :\n",
    "\n",
    "$\\alpha = \\bar{y} - \\beta \\bar{x}$\n",
    "\n",
    "- α = Nilai intercept / nilai alpha.\n",
    "- $\\bar{y}$ = Nilai rata-rata target.\n",
    "- $β \\bar{x}$ = Slope dikali nilai rata-rata x."
   ]
  },
  {
   "cell_type": "code",
   "execution_count": 100,
   "metadata": {},
   "outputs": [
    {
     "name": "stdout",
     "output_type": "stream",
     "text": [
      "intercept: 1.8999999999999986\n"
     ]
    }
   ],
   "source": [
    "# Code 20\n",
    "\n",
    "intercept = np.mean(y) - slope * np.mean(X)\n",
    "\n",
    "print(f'intercept: {intercept}') "
   ]
  },
  {
   "cell_type": "markdown",
   "metadata": {},
   "source": [
    "# Prediksi Harga Rumah"
   ]
  },
  {
   "cell_type": "markdown",
   "metadata": {},
   "source": [
    "Pada kali ini, kita akan memprediksi harga rumah berdasarkan jumlah kamarnya."
   ]
  },
  {
   "cell_type": "markdown",
   "metadata": {},
   "source": [
    "# Menetukan Jumlah Kamar"
   ]
  },
  {
   "cell_type": "markdown",
   "metadata": {},
   "source": [
    "Pada kasus kita kali ini kita akan memprediksi harga rumah berdasarkan jumlah kamar dengan nilai 6 kamar ."
   ]
  },
  {
   "cell_type": "code",
   "execution_count": 101,
   "metadata": {},
   "outputs": [
    {
     "data": {
      "text/plain": [
       "array([[1],\n",
       "       [2],\n",
       "       [3],\n",
       "       [4],\n",
       "       [5],\n",
       "       [6]])"
      ]
     },
     "execution_count": 101,
     "metadata": {},
     "output_type": "execute_result"
    }
   ],
   "source": [
    "# Code 21\n",
    "\n",
    "jumlah_kamar = np.array([1, 2, 3, 4, 5, 6]).reshape(-1, 1)\n",
    "jumlah_kamar"
   ]
  },
  {
   "cell_type": "markdown",
   "metadata": {},
   "source": [
    "Alur berpikir code 21 :\n",
    "- Kita sudah menyiapkan 6 nilai jumlah kamar yaitu 1, 2, 3, 4, 5 dan 6 sebagai features yang akan kita prediksi. Saya memilih features yang bernilai 1, 2, 3, 4, 5 dan 6 karena menurut saya jumlah kamar pada rumah yang umum dalam arti rumah sederhana yang ada di Indonesia rata-rata berjumlah satu kamar, dua kamar, tiga kamar,  empat kamar, lima kamar, serta berjumlah 6 kamar.\n",
    "- Keempat nilai tersebut akan kita bundle sebagai suatu numpy array.\n",
    "- Karena kita hanya memiliki satu nilai features yaitu jumlah kamar saja, maka array nya perlu kita reshape untuk menjadi array 2 dimensi pada code \"reshape(-1, 1)\".\n",
    "- Lalu nilai array yang terbentuk ini kita tampung ke dalam variable \"jumlah_kamar\"."
   ]
  },
  {
   "cell_type": "markdown",
   "metadata": {},
   "source": [
    "# Memprediksi Harga Rumah"
   ]
  },
  {
   "cell_type": "markdown",
   "metadata": {},
   "source": [
    "Kita bisa memanfaatkan model linear regression yang sudah kita training sebelumnya untuk memprediksi harga rumah."
   ]
  },
  {
   "cell_type": "code",
   "execution_count": 102,
   "metadata": {},
   "outputs": [
    {
     "data": {
      "text/plain": [
       "array([12.95, 24.  , 35.05, 46.1 , 57.15, 68.2 ])"
      ]
     },
     "execution_count": 102,
     "metadata": {},
     "output_type": "execute_result"
    }
   ],
   "source": [
    "# Code 22\n",
    "\n",
    "prediksi_harga = model.predict(jumlah_kamar)\n",
    "prediksi_harga"
   ]
  },
  {
   "cell_type": "markdown",
   "metadata": {},
   "source": [
    "# Memperbaiki Tampilan"
   ]
  },
  {
   "cell_type": "code",
   "execution_count": 103,
   "metadata": {},
   "outputs": [
    {
     "name": "stdout",
     "output_type": "stream",
     "text": [
      "Jumlah Kamar: [1] Prediksi Harga: 12.949999999999994\n",
      "Jumlah Kamar: [2] Prediksi Harga: 23.999999999999996\n",
      "Jumlah Kamar: [3] Prediksi Harga: 35.05\n",
      "Jumlah Kamar: [4] Prediksi Harga: 46.1\n",
      "Jumlah Kamar: [5] Prediksi Harga: 57.150000000000006\n",
      "Jumlah Kamar: [6] Prediksi Harga: 68.2\n"
     ]
    }
   ],
   "source": [
    "# Code 23\n",
    "for kmr, hrg in zip(jumlah_kamar, prediksi_harga) :\n",
    "    print(f'Jumlah Kamar: {kmr} Prediksi Harga: {hrg}')"
   ]
  },
  {
   "cell_type": "markdown",
   "metadata": {},
   "source": [
    "Dengan mengacu pada hasil code 23, kita bisa menarik kesimpulan dari hasil prediksi harga rumah berdasarkan jumlah kamarnya tersebut bahwa :\n",
    "- Rumah dengan jumlah kamar 1 diprediksi mempunyai harga Rp, 12.949.000,00.\n",
    "- Rumah dengan jumlah kamar 2 diprediksi mempunyai harga Rp, 23.960.000,00.\n",
    "- Rumah dengan jumlah kamar 3 diprediksi mempunyai harga Rp, 35.050.000,00.\n",
    "- Rumah dengan jumlah kamar 4 diprediksi mempunyai harga Rp, 46.100.000,00.\n",
    "- Rumah dengan jumlah kamar 5 diprediksi mempunyai harga Rp, 57.150.000,00.\n",
    "- Rumah dengan jumlah kamar 6 diprediksi mempunyai harga Rp, 68.200.000,00."
   ]
  },
  {
   "cell_type": "markdown",
   "metadata": {},
   "source": [
    "# Evaluasi Simple Linear Regression Model"
   ]
  },
  {
   "cell_type": "markdown",
   "metadata": {},
   "source": [
    "# Training & Testing Dataset"
   ]
  },
  {
   "cell_type": "code",
   "execution_count": 104,
   "metadata": {},
   "outputs": [],
   "source": [
    "# Code 24\n",
    "\n",
    "X_train = np.array([1, 3, 2, 4, 5]).reshape(-1, 1)\n",
    "y_train = np.array([7, 9, 13, 17.5, 18])\n",
    "\n",
    "X_test = np.array([8, 9, 11, 16, 12]).reshape(-1, 1)\n",
    "y_test = np.array([11, 8.5, 15, 18, 11])\n",
    "\n",
    "# X merepresentasikan data features.\n",
    "# y merepresentasikan data target."
   ]
  },
  {
   "cell_type": "markdown",
   "metadata": {},
   "source": [
    "# Training Simple Linear Regression Model"
   ]
  },
  {
   "cell_type": "code",
   "execution_count": 105,
   "metadata": {},
   "outputs": [
    {
     "data": {
      "text/plain": [
       "LinearRegression()"
      ]
     },
     "execution_count": 105,
     "metadata": {},
     "output_type": "execute_result"
    }
   ],
   "source": [
    "# Code 25\n",
    "\n",
    "model = LinearRegression()\n",
    "model.fit(X_train, y_train)"
   ]
  },
  {
   "cell_type": "markdown",
   "metadata": {},
   "source": [
    "# Evaluasi Linear Regression Model dengan Coefficient of Determination atau R-squared  (R2)"
   ]
  },
  {
   "cell_type": "markdown",
   "metadata": {},
   "source": [
    "Saya akan melakukan prediksi kembali, namun pada kali ini menggunakan R-Squared (R2)."
   ]
  },
  {
   "cell_type": "code",
   "execution_count": 106,
   "metadata": {},
   "outputs": [
    {
     "name": "stdout",
     "output_type": "stream",
     "text": [
      "R squared: -43.55823063380285\n"
     ]
    }
   ],
   "source": [
    "# Code 26\n",
    "\n",
    "from sklearn.metrics import r2_score\n",
    "\n",
    "y_pred = model.predict(X_test)\n",
    "\n",
    "r_squared = r2_score(y_test, y_pred)\n",
    "\n",
    "print(f'R squared: {r_squared}')"
   ]
  },
  {
   "cell_type": "markdown",
   "metadata": {},
   "source": [
    "Pola berpikir code 26 :\n",
    "- Mengimport matriks evaluasi yang diimport adalah r2_score.\n",
    "- Selanjutnya akan dilakukan proses prediksi nilai target dengan memanfaatkan nilai features pada testing set kita yang nilai prediksinya akan ditampung kedalam variabel y_pred.\n",
    "- Mengukur nilai \"y\" hasil prediksi dan nilai \"y\" real dengan memanggil fungsi \"r2_score(y_test, y_pred)\" yang ditampung ke dalam variable \"r_squared\".\n",
    "- Lalu tampilkan dengan print.\n",
    "- Nilai r squared nya adalah \"-43.55823063380285\". Nilai r squared semakin dia mendekati 1 (satu) akan semakin baik, tetapi jika semakin menjauhi 1 atau semakin mendekati nilai 0 akan semakin buruk. Pada proses prediksi kali ini nilainya sangat buruk. Karean nilai terburuknya bernilai negatif"
   ]
  },
  {
   "cell_type": "markdown",
   "metadata": {},
   "source": [
    "# Mencari Nilai R-squared ($R^2$)"
   ]
  },
  {
   "cell_type": "markdown",
   "metadata": {},
   "source": [
    "$R^2 = 1 - \\frac{SS_res}{SS_tot}$\n",
    "\n",
    "- ss_res merepresentasikan some square residual.\n",
    "- ss_tot merepresentasikan some square total."
   ]
  },
  {
   "cell_type": "markdown",
   "metadata": {},
   "source": [
    "$SSres = \\sum_{i=1}^{n} (yi - f(X_i))^2$\n",
    "\n",
    "- ss_res pada dasarnya adalah proses perhitungan selisih antara setiap nilai y pada testing set dengan nilai prediksinya.\n",
    "- Lalu nilai selisihnya dipangkatkan dua dan kita jumlahkan secara keseluruhan.\n",
    "- Atau dengan kata lain, sebenernya sedang melakuka perhitungan nilai errornya atau akumulasi errornya."
   ]
  },
  {
   "cell_type": "markdown",
   "metadata": {},
   "source": [
    " $SStot = \\sum_{i=1}^{n} (yi - \\bar{y})^2$\n",
    "\n",
    "- ss_tot pada dasarnya adalah proses perhitungan selisih nilai untuk setiap nilai y pada testing set dengan nilai rata-ratanya.\n",
    "- Lalu dipangkatkan 2.\n",
    "- Selanjutnya akan diakumulasikan dengan keseluruhan nilai y yang ada."
   ]
  },
  {
   "cell_type": "markdown",
   "metadata": {},
   "source": [
    " $SSres$"
   ]
  },
  {
   "cell_type": "code",
   "execution_count": 107,
   "metadata": {},
   "outputs": [
    {
     "name": "stdout",
     "output_type": "stream",
     "text": [
      "ss_res: 2530.9075000000016\n"
     ]
    }
   ],
   "source": [
    "# Code 27  (Mencari nilai some square residual) \n",
    "\n",
    "ss_res = sum([(y_i - model.predict(x_i.reshape(-1, 1))[0])**2\n",
    "               for x_i, y_i in zip(X_test, y_test)])\n",
    "\n",
    "print(f'ss_res: {ss_res}')"
   ]
  },
  {
   "cell_type": "markdown",
   "metadata": {},
   "source": [
    " $SStot$"
   ]
  },
  {
   "cell_type": "code",
   "execution_count": 108,
   "metadata": {},
   "outputs": [
    {
     "name": "stdout",
     "output_type": "stream",
     "text": [
      "ss_tot: 56.8\n"
     ]
    }
   ],
   "source": [
    "# Code 28 (Mencari nilai some square total)\n",
    "\n",
    "mean_y = np.mean(y_test)\n",
    "ss_tot = sum([(y_i - mean_y)**2 for y_i in y_test])\n",
    "\n",
    "print(f'ss_tot: {ss_tot}')"
   ]
  },
  {
   "cell_type": "markdown",
   "metadata": {},
   "source": [
    " R$^2$"
   ]
  },
  {
   "cell_type": "code",
   "execution_count": 109,
   "metadata": {},
   "outputs": [
    {
     "name": "stdout",
     "output_type": "stream",
     "text": [
      "R squared: -43.55823063380285\n"
     ]
    }
   ],
   "source": [
    "# Code 29 (Setelah kita mendapatkan nilai some square residual dan total, baru kita dapat mendapatkan nilai R 2 nya)\n",
    "\n",
    "r_squared = 1 - (ss_res / ss_tot)\n",
    "\n",
    "print(f'R squared: {r_squared}')"
   ]
  },
  {
   "cell_type": "markdown",
   "metadata": {},
   "source": [
    "Demikianlah cara yang dilakukan untuk memprediksi harga rumah berdasarkan jumlah kamarnya menggunakan simple linear regression."
   ]
  },
  {
   "cell_type": "markdown",
   "metadata": {},
   "source": [
    "# \"Banyak Belajar Biar Bisa Bantu Banyak Orang\""
   ]
  },
  {
   "cell_type": "markdown",
   "metadata": {},
   "source": [
    "By : Clarence Code Pianist (1973010)"
   ]
  }
 ],
 "metadata": {
  "kernelspec": {
   "display_name": "Python 3",
   "language": "python",
   "name": "python3"
  },
  "language_info": {
   "codemirror_mode": {
    "name": "ipython",
    "version": 3
   },
   "file_extension": ".py",
   "mimetype": "text/x-python",
   "name": "python",
   "nbconvert_exporter": "python",
   "pygments_lexer": "ipython3",
   "version": "3.7.4"
  }
 },
 "nbformat": 4,
 "nbformat_minor": 2
}
