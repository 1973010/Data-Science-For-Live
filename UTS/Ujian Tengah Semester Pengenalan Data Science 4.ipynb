{
 "cells": [
  {
   "cell_type": "markdown",
   "metadata": {},
   "source": [
    "# Ujian Tengah Semester (4)"
   ]
  },
  {
   "cell_type": "markdown",
   "metadata": {},
   "source": [
    "Nama   : Clarence Chandra Sentosa"
   ]
  },
  {
   "cell_type": "markdown",
   "metadata": {},
   "source": [
    "NRP  : 1973010"
   ]
  },
  {
   "cell_type": "markdown",
   "metadata": {},
   "source": [
    "# Polynomial Regression"
   ]
  },
  {
   "cell_type": "markdown",
   "metadata": {},
   "source": [
    "Bentuk pengembangan lain dari bentuk \"Simple Linear Regression\" yaitu \"Polynomial Regression\".\n",
    "\n",
    "Polynomial Regression memodelkan hubungan antara independent variable  𝑥  dan dependent variable  𝑦  sebagai derajat polynomial dalam  𝑥 .\n",
    "\n",
    "- Independent variable  𝑥  sebenarnya merupakan features.\n",
    "- Dependent variable  𝑥  sebenarnya merupakan target."
   ]
  },
  {
   "cell_type": "markdown",
   "metadata": {},
   "source": [
    "# Load Boston Dataset"
   ]
  },
  {
   "cell_type": "markdown",
   "metadata": {},
   "source": [
    "Seperti biasa kita akan meload terlebih dahulu boston dataset untuk mengetahui element atau atribut apa yang akan kita gunakan untuk melakukan prediksi harga rumah dengan menggunakan multiple linear regression kali ini.\n",
    "\n",
    "Sebelumnya kita akan melihat kembali terlebih dahulu data dari boston dataset yang kita gunakan dalam kasus kali ini dan kasus sebelumnya."
   ]
  },
  {
   "cell_type": "code",
   "execution_count": 37,
   "metadata": {},
   "outputs": [
    {
     "data": {
      "text/plain": [
       "{'data': array([[6.3200e-03, 1.8000e+01, 2.3100e+00, ..., 1.5300e+01, 3.9690e+02,\n",
       "         4.9800e+00],\n",
       "        [2.7310e-02, 0.0000e+00, 7.0700e+00, ..., 1.7800e+01, 3.9690e+02,\n",
       "         9.1400e+00],\n",
       "        [2.7290e-02, 0.0000e+00, 7.0700e+00, ..., 1.7800e+01, 3.9283e+02,\n",
       "         4.0300e+00],\n",
       "        ...,\n",
       "        [6.0760e-02, 0.0000e+00, 1.1930e+01, ..., 2.1000e+01, 3.9690e+02,\n",
       "         5.6400e+00],\n",
       "        [1.0959e-01, 0.0000e+00, 1.1930e+01, ..., 2.1000e+01, 3.9345e+02,\n",
       "         6.4800e+00],\n",
       "        [4.7410e-02, 0.0000e+00, 1.1930e+01, ..., 2.1000e+01, 3.9690e+02,\n",
       "         7.8800e+00]]),\n",
       " 'target': array([24. , 21.6, 34.7, 33.4, 36.2, 28.7, 22.9, 27.1, 16.5, 18.9, 15. ,\n",
       "        18.9, 21.7, 20.4, 18.2, 19.9, 23.1, 17.5, 20.2, 18.2, 13.6, 19.6,\n",
       "        15.2, 14.5, 15.6, 13.9, 16.6, 14.8, 18.4, 21. , 12.7, 14.5, 13.2,\n",
       "        13.1, 13.5, 18.9, 20. , 21. , 24.7, 30.8, 34.9, 26.6, 25.3, 24.7,\n",
       "        21.2, 19.3, 20. , 16.6, 14.4, 19.4, 19.7, 20.5, 25. , 23.4, 18.9,\n",
       "        35.4, 24.7, 31.6, 23.3, 19.6, 18.7, 16. , 22.2, 25. , 33. , 23.5,\n",
       "        19.4, 22. , 17.4, 20.9, 24.2, 21.7, 22.8, 23.4, 24.1, 21.4, 20. ,\n",
       "        20.8, 21.2, 20.3, 28. , 23.9, 24.8, 22.9, 23.9, 26.6, 22.5, 22.2,\n",
       "        23.6, 28.7, 22.6, 22. , 22.9, 25. , 20.6, 28.4, 21.4, 38.7, 43.8,\n",
       "        33.2, 27.5, 26.5, 18.6, 19.3, 20.1, 19.5, 19.5, 20.4, 19.8, 19.4,\n",
       "        21.7, 22.8, 18.8, 18.7, 18.5, 18.3, 21.2, 19.2, 20.4, 19.3, 22. ,\n",
       "        20.3, 20.5, 17.3, 18.8, 21.4, 15.7, 16.2, 18. , 14.3, 19.2, 19.6,\n",
       "        23. , 18.4, 15.6, 18.1, 17.4, 17.1, 13.3, 17.8, 14. , 14.4, 13.4,\n",
       "        15.6, 11.8, 13.8, 15.6, 14.6, 17.8, 15.4, 21.5, 19.6, 15.3, 19.4,\n",
       "        17. , 15.6, 13.1, 41.3, 24.3, 23.3, 27. , 50. , 50. , 50. , 22.7,\n",
       "        25. , 50. , 23.8, 23.8, 22.3, 17.4, 19.1, 23.1, 23.6, 22.6, 29.4,\n",
       "        23.2, 24.6, 29.9, 37.2, 39.8, 36.2, 37.9, 32.5, 26.4, 29.6, 50. ,\n",
       "        32. , 29.8, 34.9, 37. , 30.5, 36.4, 31.1, 29.1, 50. , 33.3, 30.3,\n",
       "        34.6, 34.9, 32.9, 24.1, 42.3, 48.5, 50. , 22.6, 24.4, 22.5, 24.4,\n",
       "        20. , 21.7, 19.3, 22.4, 28.1, 23.7, 25. , 23.3, 28.7, 21.5, 23. ,\n",
       "        26.7, 21.7, 27.5, 30.1, 44.8, 50. , 37.6, 31.6, 46.7, 31.5, 24.3,\n",
       "        31.7, 41.7, 48.3, 29. , 24. , 25.1, 31.5, 23.7, 23.3, 22. , 20.1,\n",
       "        22.2, 23.7, 17.6, 18.5, 24.3, 20.5, 24.5, 26.2, 24.4, 24.8, 29.6,\n",
       "        42.8, 21.9, 20.9, 44. , 50. , 36. , 30.1, 33.8, 43.1, 48.8, 31. ,\n",
       "        36.5, 22.8, 30.7, 50. , 43.5, 20.7, 21.1, 25.2, 24.4, 35.2, 32.4,\n",
       "        32. , 33.2, 33.1, 29.1, 35.1, 45.4, 35.4, 46. , 50. , 32.2, 22. ,\n",
       "        20.1, 23.2, 22.3, 24.8, 28.5, 37.3, 27.9, 23.9, 21.7, 28.6, 27.1,\n",
       "        20.3, 22.5, 29. , 24.8, 22. , 26.4, 33.1, 36.1, 28.4, 33.4, 28.2,\n",
       "        22.8, 20.3, 16.1, 22.1, 19.4, 21.6, 23.8, 16.2, 17.8, 19.8, 23.1,\n",
       "        21. , 23.8, 23.1, 20.4, 18.5, 25. , 24.6, 23. , 22.2, 19.3, 22.6,\n",
       "        19.8, 17.1, 19.4, 22.2, 20.7, 21.1, 19.5, 18.5, 20.6, 19. , 18.7,\n",
       "        32.7, 16.5, 23.9, 31.2, 17.5, 17.2, 23.1, 24.5, 26.6, 22.9, 24.1,\n",
       "        18.6, 30.1, 18.2, 20.6, 17.8, 21.7, 22.7, 22.6, 25. , 19.9, 20.8,\n",
       "        16.8, 21.9, 27.5, 21.9, 23.1, 50. , 50. , 50. , 50. , 50. , 13.8,\n",
       "        13.8, 15. , 13.9, 13.3, 13.1, 10.2, 10.4, 10.9, 11.3, 12.3,  8.8,\n",
       "         7.2, 10.5,  7.4, 10.2, 11.5, 15.1, 23.2,  9.7, 13.8, 12.7, 13.1,\n",
       "        12.5,  8.5,  5. ,  6.3,  5.6,  7.2, 12.1,  8.3,  8.5,  5. , 11.9,\n",
       "        27.9, 17.2, 27.5, 15. , 17.2, 17.9, 16.3,  7. ,  7.2,  7.5, 10.4,\n",
       "         8.8,  8.4, 16.7, 14.2, 20.8, 13.4, 11.7,  8.3, 10.2, 10.9, 11. ,\n",
       "         9.5, 14.5, 14.1, 16.1, 14.3, 11.7, 13.4,  9.6,  8.7,  8.4, 12.8,\n",
       "        10.5, 17.1, 18.4, 15.4, 10.8, 11.8, 14.9, 12.6, 14.1, 13. , 13.4,\n",
       "        15.2, 16.1, 17.8, 14.9, 14.1, 12.7, 13.5, 14.9, 20. , 16.4, 17.7,\n",
       "        19.5, 20.2, 21.4, 19.9, 19. , 19.1, 19.1, 20.1, 19.9, 19.6, 23.2,\n",
       "        29.8, 13.8, 13.3, 16.7, 12. , 14.6, 21.4, 23. , 23.7, 25. , 21.8,\n",
       "        20.6, 21.2, 19.1, 20.6, 15.2,  7. ,  8.1, 13.6, 20.1, 21.8, 24.5,\n",
       "        23.1, 19.7, 18.3, 21.2, 17.5, 16.8, 22.4, 20.6, 23.9, 22. , 11.9]),\n",
       " 'feature_names': array(['CRIM', 'ZN', 'INDUS', 'CHAS', 'NOX', 'RM', 'AGE', 'DIS', 'RAD',\n",
       "        'TAX', 'PTRATIO', 'B', 'LSTAT'], dtype='<U7'),\n",
       " 'DESCR': \".. _boston_dataset:\\n\\nBoston house prices dataset\\n---------------------------\\n\\n**Data Set Characteristics:**  \\n\\n    :Number of Instances: 506 \\n\\n    :Number of Attributes: 13 numeric/categorical predictive. Median Value (attribute 14) is usually the target.\\n\\n    :Attribute Information (in order):\\n        - CRIM     per capita crime rate by town\\n        - ZN       proportion of residential land zoned for lots over 25,000 sq.ft.\\n        - INDUS    proportion of non-retail business acres per town\\n        - CHAS     Charles River dummy variable (= 1 if tract bounds river; 0 otherwise)\\n        - NOX      nitric oxides concentration (parts per 10 million)\\n        - RM       average number of rooms per dwelling\\n        - AGE      proportion of owner-occupied units built prior to 1940\\n        - DIS      weighted distances to five Boston employment centres\\n        - RAD      index of accessibility to radial highways\\n        - TAX      full-value property-tax rate per $10,000\\n        - PTRATIO  pupil-teacher ratio by town\\n        - B        1000(Bk - 0.63)^2 where Bk is the proportion of blacks by town\\n        - LSTAT    % lower status of the population\\n        - MEDV     Median value of owner-occupied homes in $1000's\\n\\n    :Missing Attribute Values: None\\n\\n    :Creator: Harrison, D. and Rubinfeld, D.L.\\n\\nThis is a copy of UCI ML housing dataset.\\nhttps://archive.ics.uci.edu/ml/machine-learning-databases/housing/\\n\\n\\nThis dataset was taken from the StatLib library which is maintained at Carnegie Mellon University.\\n\\nThe Boston house-price data of Harrison, D. and Rubinfeld, D.L. 'Hedonic\\nprices and the demand for clean air', J. Environ. Economics & Management,\\nvol.5, 81-102, 1978.   Used in Belsley, Kuh & Welsch, 'Regression diagnostics\\n...', Wiley, 1980.   N.B. Various transformations are used in the table on\\npages 244-261 of the latter.\\n\\nThe Boston house-price data has been used in many machine learning papers that address regression\\nproblems.   \\n     \\n.. topic:: References\\n\\n   - Belsley, Kuh & Welsch, 'Regression diagnostics: Identifying Influential Data and Sources of Collinearity', Wiley, 1980. 244-261.\\n   - Quinlan,R. (1993). Combining Instance-Based and Model-Based Learning. In Proceedings on the Tenth International Conference of Machine Learning, 236-243, University of Massachusetts, Amherst. Morgan Kaufmann.\\n\",\n",
       " 'filename': 'C:\\\\Users\\\\christ\\\\Anaconda3\\\\lib\\\\site-packages\\\\sklearn\\\\datasets\\\\data\\\\boston_house_prices.csv'}"
      ]
     },
     "execution_count": 37,
     "metadata": {},
     "output_type": "execute_result"
    }
   ],
   "source": [
    "# Code 01\n",
    "\n",
    "from sklearn.datasets import load_boston\n",
    "boston = load_boston()\n",
    "boston"
   ]
  },
  {
   "cell_type": "markdown",
   "metadata": {},
   "source": [
    "# Sample Dataset"
   ]
  },
  {
   "cell_type": "markdown",
   "metadata": {},
   "source": [
    "Saya akan menyiapkan dataset yang sudah digunakan sebelumnya untuk memprediksi harga rumah pada kali ini menggunakan \"Polynomial Regression\". Disini saya akan kembali memanfaatkan dataset \"house\", \"Tax Building\" atau pajak bangunan.\n",
    "\n",
    "Dataset yang akan kita bentuk kali ini berisi daftar ukuran \"jumlah kamar\" atau jumlah kamar per rumah, \"Tax Building\" atau pajak bangunan rumah, dan 'harga' atau harga dari sebuah rumah yang akan kita tampung kedalam format pandas DataFrame. Kali ini kita akan langsung persiapkan baik training dataset dan testing datasetnya."
   ]
  },
  {
   "cell_type": "markdown",
   "metadata": {},
   "source": [
    "# Training Set"
   ]
  },
  {
   "cell_type": "markdown",
   "metadata": {},
   "source": [
    "Selanjutnya saya akan menggunakan kembali suatu training set yang berisi features serta nilai dari features yang akan dibentuk dan digunakan."
   ]
  },
  {
   "cell_type": "code",
   "execution_count": 38,
   "metadata": {},
   "outputs": [
    {
     "data": {
      "text/html": [
       "<div>\n",
       "<style scoped>\n",
       "    .dataframe tbody tr th:only-of-type {\n",
       "        vertical-align: middle;\n",
       "    }\n",
       "\n",
       "    .dataframe tbody tr th {\n",
       "        vertical-align: top;\n",
       "    }\n",
       "\n",
       "    .dataframe thead th {\n",
       "        text-align: right;\n",
       "    }\n",
       "</style>\n",
       "<table border=\"1\" class=\"dataframe\">\n",
       "  <thead>\n",
       "    <tr style=\"text-align: right;\">\n",
       "      <th></th>\n",
       "      <th>jumlah kamar</th>\n",
       "      <th>pajak (%)</th>\n",
       "      <th>harga (Jt)</th>\n",
       "    </tr>\n",
       "  </thead>\n",
       "  <tbody>\n",
       "    <tr>\n",
       "      <td>0</td>\n",
       "      <td>1</td>\n",
       "      <td>10</td>\n",
       "      <td>100.0</td>\n",
       "    </tr>\n",
       "    <tr>\n",
       "      <td>1</td>\n",
       "      <td>2</td>\n",
       "      <td>15</td>\n",
       "      <td>150.0</td>\n",
       "    </tr>\n",
       "    <tr>\n",
       "      <td>2</td>\n",
       "      <td>3</td>\n",
       "      <td>25</td>\n",
       "      <td>175.5</td>\n",
       "    </tr>\n",
       "    <tr>\n",
       "      <td>3</td>\n",
       "      <td>4</td>\n",
       "      <td>30</td>\n",
       "      <td>300.0</td>\n",
       "    </tr>\n",
       "    <tr>\n",
       "      <td>4</td>\n",
       "      <td>5</td>\n",
       "      <td>50</td>\n",
       "      <td>450.0</td>\n",
       "    </tr>\n",
       "  </tbody>\n",
       "</table>\n",
       "</div>"
      ],
      "text/plain": [
       "   jumlah kamar  pajak (%)  harga (Jt)\n",
       "0             1         10       100.0\n",
       "1             2         15       150.0\n",
       "2             3         25       175.5\n",
       "3             4         30       300.0\n",
       "4             5         50       450.0"
      ]
     },
     "execution_count": 38,
     "metadata": {},
     "output_type": "execute_result"
    }
   ],
   "source": [
    "# Code 02\n",
    "\n",
    "import pandas as pd\n",
    "import numpy as np\n",
    "\n",
    "house = {'jumlah kamar': [1, 2, 3, 4, 5], \n",
    "         'pajak (%)': [10, 15, 25, 30, 50],\n",
    "         'harga (Jt)': [100, 150, 175.5, 300, 450]}\n",
    "\n",
    "train_house_df = pd.DataFrame(house)\n",
    "train_house_df"
   ]
  },
  {
   "cell_type": "markdown",
   "metadata": {},
   "source": [
    "Proses berpikir code 02 :\n",
    "\n",
    "- Pertama-tama kita akan mengimport mondul pandas yaitu \"import pandas as pd\" karena kita akan membentuk dataset dalam format pandas DataFrame.\n",
    "- Lalu berikutnya, kita akan menyiapkan dataset kita. Dataset kita kali ini awalnya dibentuk dari suatu dictionary, yang terdiri dari tiga buah key yaitu \"jumlah kamar\", \"pajak (%)\", dan \"harga (Jt)\".\n",
    "- Saya memilih nilai pajak tersebut karena rata-rata pajak sebuah rumah memiliki kurang lebih 10% sampe 50% sesuai proprosi harga rumah tersebut.\n",
    "- Setiap key tersebut akan menampung list yang berisi sekumpulan bilangan yang berasosiasi dengan setiap keys tersebut.\n",
    "- Lalu selanjutnya dictionary tersebut akan kita tampung ke dalam variabe \"house\".\n",
    "- Untuk selanjutnya, dictionary ini akan kita gunakan sebagai base atau sebagai basis untuk membuat pandas DataFrame.\n",
    "- Lalu selanjutnya kita panggil \"pd.DataFrame(house)\", artinya disini kita akan membentuk suatu pandas DataFrame dari data-data yang tersimpan dalam variabel house tersebut.\n",
    "- Selanjutnnya DataFrame yang terbentuk ini akan kita tampung kedalam variabel \"train_house_df\".\n",
    "- Lalu terakhir, kita akan mencoba tampilkan ke layar."
   ]
  },
  {
   "cell_type": "markdown",
   "metadata": {},
   "source": [
    "# Testing Set"
   ]
  },
  {
   "cell_type": "markdown",
   "metadata": {},
   "source": [
    "Selanjutnya kita juga akan menggunakan teknik yang sama untuk mempersiapkan testing dataset kita. Disini tahapannya sama persis, hanya saja datanya berbeda (perhatikan pada code 02 dan 03)."
   ]
  },
  {
   "cell_type": "code",
   "execution_count": 39,
   "metadata": {},
   "outputs": [
    {
     "data": {
      "text/html": [
       "<div>\n",
       "<style scoped>\n",
       "    .dataframe tbody tr th:only-of-type {\n",
       "        vertical-align: middle;\n",
       "    }\n",
       "\n",
       "    .dataframe tbody tr th {\n",
       "        vertical-align: top;\n",
       "    }\n",
       "\n",
       "    .dataframe thead th {\n",
       "        text-align: right;\n",
       "    }\n",
       "</style>\n",
       "<table border=\"1\" class=\"dataframe\">\n",
       "  <thead>\n",
       "    <tr style=\"text-align: right;\">\n",
       "      <th></th>\n",
       "      <th>jumlah kamar</th>\n",
       "      <th>pajak (%)</th>\n",
       "      <th>harga (Jt)</th>\n",
       "    </tr>\n",
       "  </thead>\n",
       "  <tbody>\n",
       "    <tr>\n",
       "      <td>0</td>\n",
       "      <td>8</td>\n",
       "      <td>65</td>\n",
       "      <td>1000</td>\n",
       "    </tr>\n",
       "    <tr>\n",
       "      <td>1</td>\n",
       "      <td>7</td>\n",
       "      <td>45</td>\n",
       "      <td>900</td>\n",
       "    </tr>\n",
       "    <tr>\n",
       "      <td>2</td>\n",
       "      <td>6</td>\n",
       "      <td>30</td>\n",
       "      <td>875</td>\n",
       "    </tr>\n",
       "    <tr>\n",
       "      <td>3</td>\n",
       "      <td>10</td>\n",
       "      <td>75</td>\n",
       "      <td>1100</td>\n",
       "    </tr>\n",
       "    <tr>\n",
       "      <td>4</td>\n",
       "      <td>12</td>\n",
       "      <td>85</td>\n",
       "      <td>2000</td>\n",
       "    </tr>\n",
       "  </tbody>\n",
       "</table>\n",
       "</div>"
      ],
      "text/plain": [
       "   jumlah kamar  pajak (%)  harga (Jt)\n",
       "0             8         65        1000\n",
       "1             7         45         900\n",
       "2             6         30         875\n",
       "3            10         75        1100\n",
       "4            12         85        2000"
      ]
     },
     "execution_count": 39,
     "metadata": {},
     "output_type": "execute_result"
    }
   ],
   "source": [
    "# Code 03\n",
    "\n",
    "house = {'jumlah kamar': [8, 7, 6, 10, 12], \n",
    "         'pajak (%)': [65, 45, 30, 75, 85],\n",
    "         'harga (Jt)': [1000, 900, 875, 1100, 2000]}\n",
    "\n",
    "\n",
    "test_house_df = pd.DataFrame(house)\n",
    "test_house_df"
   ]
  },
  {
   "cell_type": "markdown",
   "metadata": {},
   "source": [
    "Kedua dataset tersebut (code 02 dan code 03) sama-sama terdiri dari tiga buah kolom yaitu kolom \"jumlah kamar\", \"pajak (%)\", dan \"harga (Jt)\"."
   ]
  },
  {
   "cell_type": "markdown",
   "metadata": {},
   "source": [
    "# Preprocessing Dataset "
   ]
  },
  {
   "cell_type": "markdown",
   "metadata": {},
   "source": [
    "Disini untuk menyederhanakan proses belajar, kita akan memangkas jumlah feature nya menjadi satu feature saja."
   ]
  },
  {
   "cell_type": "code",
   "execution_count": 40,
   "metadata": {},
   "outputs": [
    {
     "name": "stdout",
     "output_type": "stream",
     "text": [
      "X_train:\n",
      "[[1]\n",
      " [2]\n",
      " [3]\n",
      " [4]\n",
      " [5]]\n",
      "\n",
      "y_train: [100.  150.  175.5 300.  450. ]\n"
     ]
    }
   ],
   "source": [
    "# Code 04\n",
    "\n",
    "X_train = np.array(train_house_df['jumlah kamar']).reshape(-1, 1)\n",
    "y_train = np.array(train_house_df['harga (Jt)'])\n",
    "\n",
    "print(f'X_train:\\n{X_train}\\n')\n",
    "print(f'y_train: {y_train}')"
   ]
  },
  {
   "cell_type": "markdown",
   "metadata": {},
   "source": [
    "Proses berpikir code 04 :\n",
    "\n",
    "- Disini feturesnya akan kita pangkas menjadi satu feature yang dalam kasus ini yang dijadikan feature adalah \"diameter\" atau diameter pizzanya, tetapi targetnya prediction nya tetap sama yaitu harga pizza.\n",
    "- Kita akan siapkan suatu numpy array \"(train_house_df['jumlah kamar'])\" karena kita hanya mau mengambil kolom jumlah kamar saja.\n",
    "- Lalu berikutnya, kita perlu melakukan proses reshaping atau reshape yang dalam kasus ini (-1, 1) karena pada SkLearn untuk featuresnya itu harus berada dalam array 2 dimensi, sedangkan disini kita hanya memiliki satu kolom saja sebagai featuresnya.\n",
    "- Artinya fetures yang terdiri dari satu varibel tersebut, perlu kita transformasikan kedalam array dua dimensi dengan memanfaatkan method reshape (-1, 1) lalu kita tampung kedalam variabel \"X_train\".\n",
    "- Selanjutnya kita akan membentuk array yang kedua yang akan menampung nilai target dengan memanggil \"np.array(train_house_df['harga (Jt)'] karena kolom harga tersebut akan kita gunakan sebagai target prediksinya yang akan kita tampung kedalam variabel \"y_train\".\n",
    "- Langkah akhir, kita akan mencoba cetak ke layar baik nilai 'X_train\" dan juga \"y_train\" nya.\n",
    "\n",
    "Bisa kita lihat pada code 04. Walaupun nilai \"X_train\" nya terdiri dari satu features saja, tetapi array yang terbentuk ini tetap dalam format array 2 dimensi. Hal ini dimungkinkan karena kita memanggil method \"reshape(-1, 1)\"."
   ]
  },
  {
   "cell_type": "markdown",
   "metadata": {},
   "source": [
    "# Polynomial Regression : Quadratic"
   ]
  },
  {
   "cell_type": "markdown",
   "metadata": {},
   "source": [
    "\"Polynomial Regression Quadratic\" pada SkLearn dengan derajat polynomial 2 atau biasa dikenal dengan istilah \"Quadratic\". Selain derajat polynomial 2, bisa juga menggunakan polynomial lainnya seperti 3, 4, dan seterusnya. Hanya saja, yang paling umum ditemui adalah derajat polynomial 2 dengan 3 atau dikenal dengan \"Quadratic\" dan \"Cubic\"."
   ]
  },
  {
   "cell_type": "markdown",
   "metadata": {},
   "source": [
    "# Formula"
   ]
  },
  {
   "cell_type": "markdown",
   "metadata": {},
   "source": [
    "$ y = \\alpha + \\beta_1x + \\beta_2x^2$\n",
    "\n",
    "- Jika kita perhatikan pada formula tersebut, nilai feature nya hanya ada satu yaitu x.\n",
    "- Hanya saja nilai feature yang tunggal tersebut akan kita representasikan dalam format polynomial.\n",
    "- Untuk kasus kita kali ini, kita akan menggunakna polynomial derajat 2 yang berarti kita akan memiliki $x^1$ dan $x^2$.\n",
    "- Untuk $x^1$ akan dikalikan dengan $\\beta^1$ dan untuk $x^2$ akan kita kalikan dengan $\\beta^2$."
   ]
  },
  {
   "cell_type": "markdown",
   "metadata": {},
   "source": [
    "# Polynomial Features"
   ]
  },
  {
   "cell_type": "markdown",
   "metadata": {},
   "source": [
    "Untuk menerapkan polynomial regression, pertama-tama perlu dilakukannya transformasi terhadap feature dari datset yang dimiliki."
   ]
  },
  {
   "cell_type": "code",
   "execution_count": 41,
   "metadata": {},
   "outputs": [
    {
     "name": "stdout",
     "output_type": "stream",
     "text": [
      "X_train_quadratic:\n",
      "[[ 1.  1.  1.]\n",
      " [ 1.  2.  4.]\n",
      " [ 1.  3.  9.]\n",
      " [ 1.  4. 16.]\n",
      " [ 1.  5. 25.]]\n",
      "\n"
     ]
    }
   ],
   "source": [
    "# Code 05\n",
    "\n",
    "from sklearn.preprocessing import PolynomialFeatures\n",
    "\n",
    "quadratic_feature = PolynomialFeatures(degree=2)\n",
    "X_train_quadratic = quadratic_feature.fit_transform(X_train)\n",
    "\n",
    "print(f'X_train_quadratic:\\n{X_train_quadratic}\\n')"
   ]
  },
  {
   "cell_type": "markdown",
   "metadata": {},
   "source": [
    "Proses berpikir code 05 :\n",
    "\n",
    "- Pertama-tama, import modulnya terlebih dahulu dengan memanggil \"from sklearn.preprocessing import PolynomialFeatures\".\n",
    "- Lalu berikutnya, membentuk objek polynomial fetures nya dengan memanggil \"PolynomialFeatures\" dengan menyertakan parameter \"(degree=2)\" atau derjat polynomialnya yang dalam kasus ini nilainya adalah 2. Karena dalam kasus kita kali ini kita akan membentuk \"Quadratic Polynomial Regression\", maka degree nya kita beri nilai 2 lalu kita tampung kedalam variabel \"quadratic_feature\".\n",
    "- Objek tersebut akan digunakan untuk melakukan proses transformasi terhadap dataset feature yang kita miliki. Oleh karena itu, kita memanggil \"quadratic_feature.fit_transform\" dengan menyertakan parameter \"X_train\". Lalu hasil transformasinya, akan kita tampung ke dalam variabel \"X_train_quadratic\".\n",
    "- Variabel \"X_train_quadratic\" akan berisi features dari training set yang sudah ditransformasikan kedalam \"Polynomial Features\".\n",
    "- Langkah akhir, coba untuk menampilkan hasilnya.\n",
    "\n",
    "Bisa kita lihat pada output code 05, bahwa nilai feature yang tunggal tadi sekarang menjadi 3. Diketahui bahwa nilai pada indeks pertama adalah 1, tetapi mengapa sekarang bisa menjadi 1, 1, 1 (lihat pada output code 07). Nilai 1 diperoleh dari nilai x dipangkatkan 0 yang diketahui hasilnya adalah 1, nilai 1 diperoleh dari 1 dipangkatkan 1 adalah 1, lalu 1 dipangkatkan 1 adalah 1 dan seterusnya pada kasus kali ini."
   ]
  },
  {
   "cell_type": "markdown",
   "metadata": {},
   "source": [
    "# Training Model"
   ]
  },
  {
   "cell_type": "markdown",
   "metadata": {},
   "source": [
    "Setelah memiliki polynomial features yang dibutuhkan, tahapan selanjutnya adalah memulai melakukan training model."
   ]
  },
  {
   "cell_type": "code",
   "execution_count": 42,
   "metadata": {},
   "outputs": [
    {
     "data": {
      "text/plain": [
       "LinearRegression()"
      ]
     },
     "execution_count": 42,
     "metadata": {},
     "output_type": "execute_result"
    }
   ],
   "source": [
    "# Code 06\n",
    "\n",
    "from sklearn.linear_model import LinearRegression\n",
    "\n",
    "model = LinearRegression()\n",
    "model.fit(X_train_quadratic, y_train)"
   ]
  },
  {
   "cell_type": "markdown",
   "metadata": {},
   "source": [
    "Proses berpikir code 06 :\n",
    "\n",
    "- Pertama-tama kita akan mengimport terlebih dahulu modulnya \"from sklearn.linear_model import LinearRegression\".\n",
    "- Lalu kita akan bentuk terlebih dahulu objek modelnya dengan memanggil \"LinearRegression()\" yang kita tampung kedalam variabel model.\n",
    "- Untuk selanjutnya, objek model ini akan kita training dengan memanfaatkan nilai fetures yang sudah kita transformasikan kedalam polynomial dengan memanggil \"(X_train_quadratic, y_train)\". Perlu diperhatikan bahwa proses transformasi polynomialnya dikenakan pada features dan tidak dikenakan pada target.\n",
    "- Bisa kita lihat pada hasil code tersebut bahwa tidak ada perbedaan antar implementasi linear regression dan polynomial regression. Yang berbeda hanyalah pada polynomial regression kita perlu melakukan transformasi features kedalam polynomial features sebelum mealkukan proses training model."
   ]
  },
  {
   "cell_type": "markdown",
   "metadata": {},
   "source": [
    "# Visualisasi Model"
   ]
  },
  {
   "cell_type": "markdown",
   "metadata": {},
   "source": [
    "Selanjutnya untuk memberikan gambaran yang lebih baik terkait qudratic polynomial regression ini, akan dicoba untuk memvisualisasikan modelnya."
   ]
  },
  {
   "cell_type": "code",
   "execution_count": 43,
   "metadata": {},
   "outputs": [
    {
     "data": {
      "image/png": "[encoded data removed]",
      "text/plain": [
       "<Figure size 432x288 with 1 Axes>"
      ]
     },
     "metadata": {
      "needs_background": "light"
     },
     "output_type": "display_data"
    }
   ],
   "source": [
    "# Code 07\n",
    "\n",
    "import matplotlib.pyplot as plt\n",
    "\n",
    "X_vis = np.linspace(0, 25, 100).reshape(-1, 1)\n",
    "X_vis_quadratic = quadratic_feature.transform(X_vis)\n",
    "y_vis_quadratic = model.predict(X_vis_quadratic)\n",
    "\n",
    "plt.scatter(X_train, y_train)\n",
    "plt.plot(X_vis, y_vis_quadratic, '-r')\n",
    "\n",
    "plt.title('Perbandingan Jumlah Kamar dan Harga Rumah')\n",
    "plt.xlabel('Jumlah Kamar')\n",
    "plt.ylabel('Harga Rumah (Jt)')\n",
    "plt.xlim(0, 5)\n",
    "plt.ylim(0, 500)\n",
    "plt.grid(True)\n",
    "plt.show()"
   ]
  },
  {
   "cell_type": "markdown",
   "metadata": {},
   "source": [
    "Alur berpikir code 07 :\n",
    "- Pertama-tama kita import terlebih dahulu mathplotlibnya.\n",
    "- Selanjutnya, kita akan membentuk terlebih dahulu sederet bilangan mulai dari 0 sampai 25 sebanyak 100 data point yang akan kita tampung kedalam variabel \"X_vis\".\n",
    "- Lalu variable \"X_vis\" ini akan kita kenakan proses transformasi dengan memanggil \"quadratic_feature.transform(X_vis)\". Disini kita tidak melakukan fit transform tetapi kita hanya melakukan transform kaena kita akan menggunakan quadratic_feature yang kita buat sebelumnya, lalu hasilnya kita tampung kedalam \"X_vis_quadratic\".\n",
    "- Selanjutnya kita akan melakukan nilai prediksi terhadap nilai \"X_vis_quadratic\" dengan memanggil \"model.predict(X_vis_quadratic)\" yang hasilnya kita tmapung kedalam variabel \"y_vis_quadratic\".\n",
    "- Pada kali ini yang akan kita visualisasikan ada 2 hal. Yang pertama adalah X_train dan y_train nya atau data point yang kita gunakan untuk melakukan proses trainingnya.\n",
    "- Untuk data training tersebut, kita akan visualisasikan sebagai scatter plot dengan memanggil \"plt.scatter\" dengan menyertakan parameternya yaitu X_train serta y_train nya yang akan menghasilkan 5 titik (lihat pada hasil code 07) dan kelima titik tersebut merepresentasikan 5 data point pada training set.\n",
    "- Lalu berikutnya kita akan memploting hasil prediksi dari model kita dengan memanggil \"plt.plot(X_vis, y_vis_quadratic, '-r')\". Kali ini kita akan memploting sebagai line plot atau ploting garis dengan warna merah (lihat kembali pada hasil code 07).\n",
    "- Lalu kita cetak keterangan tambahan seperti judul, xlabel dan ylabel, xlim dan ylim, grid untuk menampilkan garisnya yang kita beri nilai True, lalu kita show atau tampilkan pada layar.\n"
   ]
  },
  {
   "cell_type": "markdown",
   "metadata": {},
   "source": [
    "# Polynomial Regression: Quadratic vs Cubic"
   ]
  },
  {
   "cell_type": "markdown",
   "metadata": {},
   "source": [
    "Disini saya akan mencoba membandingkan antar model \"Simple Linear Regression\", \"Quadratic Polynomial Regression\", dan juga \"Cubic Polynomial Regression\" secara visual."
   ]
  },
  {
   "cell_type": "code",
   "execution_count": 44,
   "metadata": {},
   "outputs": [
    {
     "data": {
      "image/png": "[encoded data removed]",
      "text/plain": [
       "<Figure size 432x288 with 1 Axes>"
      ]
     },
     "metadata": {
      "needs_background": "light"
     },
     "output_type": "display_data"
    }
   ],
   "source": [
    "# Code 08\n",
    "\n",
    "# Training Set\n",
    "plt.scatter(X_train, y_train)\n",
    "\n",
    "# Linear\n",
    "model = LinearRegression()\n",
    "model.fit(X_train, y_train)\n",
    "X_vis = np.linspace(0, 25, 100).reshape(-1, 1)\n",
    "y_vis = model.predict(X_vis)\n",
    "plt.plot(X_vis, y_vis, '--r', label='linear')\n",
    "\n",
    "# Quadratic\n",
    "quadratic_feature = PolynomialFeatures(degree=2)\n",
    "X_train_quadratic = quadratic_feature.fit_transform(X_train)\n",
    "model = LinearRegression()\n",
    "model.fit(X_train_quadratic, y_train)\n",
    "X_vis_quadratic = quadratic_feature.transform(X_vis)\n",
    "y_vis = model.predict(X_vis_quadratic)\n",
    "plt.plot(X_vis, y_vis, '--g', label='quadratic')\n",
    "\n",
    "# Cubic\n",
    "cubic_feature = PolynomialFeatures(degree=3)\n",
    "X_train_cubic = cubic_feature.fit_transform(X_train)\n",
    "model = LinearRegression()\n",
    "model.fit(X_train_cubic, y_train)\n",
    "X_vis_cubic = cubic_feature.transform(X_vis)\n",
    "y_vis = model.predict(X_vis_cubic)\n",
    "plt.plot(X_vis, y_vis, '--y', label='cubic')\n",
    "\n",
    "plt.title('Perbandingan Jumlah Kamar dan Harga Rumah')\n",
    "plt.xlabel('Jumlah Kamar)')\n",
    "plt.ylabel('Harga Rumah (Jt)')\n",
    "plt.legend()\n",
    "plt.xlim(0, 5)\n",
    "plt.ylim(0, 500)\n",
    "plt.grid(True)\n",
    "plt.show()"
   ]
  },
  {
   "cell_type": "markdown",
   "metadata": {},
   "source": [
    "Alur berpikir code 08 :\n",
    "\n",
    "Training Set :\n",
    "- Pertama-tama, panggil terlebih dahulu \"plt.scatter(X_train, y_train)\" artinya disini kita akan melakukan plotting dataset yang hasil plottingnya berupa kelima data point atau kelima titik biru (lihat pada hasil code 08).\n",
    "\n",
    "Linear :\n",
    "- Lalu berikutnya saya akan membentuk model simple linear regression.\n",
    "- Pertama-tama, akan dibentuk terlebih dahulu untuk objek modelnya dengan memanggil \"LinearRegression()\" yang kita tampung kedalam variabel \"model\".\n",
    "- Lalu selanjutnya, modelnya akan dilakukannya training dengan menggunakan \"X_train\" dan \"y_train\".\n",
    "- Berikutnya disini saya akan menyiapkan 100 data point dengan jangkauan 0 - 25. Lalu nilai data point ini sebelum ditampung kedalam variabel \"X_vis\" akan kita reshape dengan parameter (-1, 1).\n",
    "- Selanjutnya nilai yang ditampung dalam variabel \"X_vis\" tersebut akan digunakan sebagai features untuk melakukan prediksi dengan memanggil \"model.predict(X_vis)\" yang kita tampung kedalam variabel \"y_vis\".\n",
    "- Lalu berikutnya, hasil prediksi tersebut akan ditampilkan secara visual dengan memanggil \"plt.plot(X_vis, y_vis, '--r', label='linear')\" yang akan menghasilkan garis merah putus-putus (lihat pada hasil code 08).\n",
    "- Garis merah tersebut merepresentasikan model simple linear regression yang terbentuk.\n",
    "\n",
    "Quadratic :\n",
    "- Lalu berikutnya saya akan membandingkan dengan quadratic. Perbedaannya sebenarnya terletak hanya pada penerapan point polynomial feature dengan degree atau derajat 2.\n",
    "- Pertama, membentuk terlebih dahulu objeknya dengan memanggil \"PolynomialFeatures(degree=2)\" yang akan kita tampug kedalam variabel \"quadratic_feature\".\n",
    "- Selanjutnya akan digunakan objek \"qudratic_feature\" tersebut, untuk melakukan fit.transform terhadap nilai dari \"X_train\" yang hasilnya akan ditampung kedalam variabel \"X_train_quadratic\".\n",
    "- Lalu tahapan berikutnya, akan dibentuk objek modelnya yang ditampung kedalam variabel \"model\".\n",
    "- Dan selanjutnya saya akan memproses training terhadap model yang tersedia. Hanya saja disini, modelnya akan ditraining dengan menggunakan features yang sudah ditranformasikan kedalam quadratic polynomial. Oleh karenanya, akan dipanggil \"(X_train_quadratic, y_train)\".\n",
    "- Berikutnya nilai \"X_vis\" nya juga sama, akan ditransformasikan menjadi quadratic polynomial yang selanjutnya akan ditampung kedalam variabel \"X_vis_quadratic\".\n",
    "- Lalu nilai \"X_vis_quadratic tersebut akan digunakan untuk melakukan prediksi.\n",
    "- Selanjutnya hasil prediksi tersebut akan diplotting dengan memanggil \"plt.plot(X_vis, y_vis, '--g', label='quadratic')\" (lihat pada code hasil code 08 garis putus-putus berwarna hijau).\n",
    "\n",
    "Cubic :\n",
    "- Perbedaan cubic dengan yang lain yaitu sewaktu dibentuk objek polynomial features, serta menyertakan degree nya adalah 3.\n",
    "- Lalu untuk proses berikutnya sama persis dengan proses linear dan quadratic.\n",
    "- Untuk cubic polynomial regression disini, akan dilakukan plotting sebagai \"--y\" artinya akan diploting sebagai garis putus-putus berwarna yellow atau kuning serta menyertakan label \"cubic\" (lihat pada hasil code 08 garis putus-putus berwarna kuning)."
   ]
  },
  {
   "cell_type": "markdown",
   "metadata": {},
   "source": [
    "Demikianlah merupakan cara menggunakan \"Polynomial Linear Regression\" yang merupakan pengembangan dari \"Simple Linear Regression\" berdasarkan data yang sudah disiapkan yang mengacu pada dataset boston house pricing."
   ]
  },
  {
   "cell_type": "markdown",
   "metadata": {},
   "source": [
    "# \"Banyak Belajar Biar Bisa Bantu Banyak Orang\""
   ]
  },
  {
   "cell_type": "markdown",
   "metadata": {},
   "source": [
    "By : Clarence Code Pianist (1973010)"
   ]
  }
 ],
 "metadata": {
  "kernelspec": {
   "display_name": "Python 3",
   "language": "python",
   "name": "python3"
  },
  "language_info": {
   "codemirror_mode": {
    "name": "ipython",
    "version": 3
   },
   "file_extension": ".py",
   "mimetype": "text/x-python",
   "name": "python",
   "nbconvert_exporter": "python",
   "pygments_lexer": "ipython3",
   "version": "3.7.4"
  }
 },
 "nbformat": 4,
 "nbformat_minor": 2
}
