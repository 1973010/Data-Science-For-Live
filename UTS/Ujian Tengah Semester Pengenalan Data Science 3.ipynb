{
 "cells": [
  {
   "cell_type": "markdown",
   "metadata": {},
   "source": [
    "# Ujian Tengah Semester (3)"
   ]
  },
  {
   "cell_type": "markdown",
   "metadata": {},
   "source": [
    "Nama  : Clarence Chandra Sentosa"
   ]
  },
  {
   "cell_type": "markdown",
   "metadata": {},
   "source": [
    "NRP   : 1973010"
   ]
  },
  {
   "cell_type": "markdown",
   "metadata": {},
   "source": [
    "# Multiple Linear Regression"
   ]
  },
  {
   "cell_type": "markdown",
   "metadata": {},
   "source": [
    "Pada kali ini kita akan mencoba mengembangkan hasil prediksi rumah yang sudah dilakukan pada simple linear regression. Pengembangan dari simple linear regression tersebut yang pertama yaitu \"Multiple Linear Regression."
   ]
  },
  {
   "cell_type": "markdown",
   "metadata": {},
   "source": [
    "# Load Boston Dataset"
   ]
  },
  {
   "cell_type": "markdown",
   "metadata": {},
   "source": [
    "Seperti biasa kita akan meload terlebih dahulu boston dataset untuk mengetahui element atau atribut apa yang akan kita gunakan untuk melakukan prediksi harga rumah dengan menggunakan multiple linear regression kali ini.\n",
    "\n",
    "Sebelumnya kita akan melihat kembali terlebih dahulu data dari boston dataset yang kita gunakan dalam kasus kali ini dan kasus sebelumnya. "
   ]
  },
  {
   "cell_type": "code",
   "execution_count": 19,
   "metadata": {},
   "outputs": [
    {
     "data": {
      "text/plain": [
       "{'data': array([[6.3200e-03, 1.8000e+01, 2.3100e+00, ..., 1.5300e+01, 3.9690e+02,\n",
       "         4.9800e+00],\n",
       "        [2.7310e-02, 0.0000e+00, 7.0700e+00, ..., 1.7800e+01, 3.9690e+02,\n",
       "         9.1400e+00],\n",
       "        [2.7290e-02, 0.0000e+00, 7.0700e+00, ..., 1.7800e+01, 3.9283e+02,\n",
       "         4.0300e+00],\n",
       "        ...,\n",
       "        [6.0760e-02, 0.0000e+00, 1.1930e+01, ..., 2.1000e+01, 3.9690e+02,\n",
       "         5.6400e+00],\n",
       "        [1.0959e-01, 0.0000e+00, 1.1930e+01, ..., 2.1000e+01, 3.9345e+02,\n",
       "         6.4800e+00],\n",
       "        [4.7410e-02, 0.0000e+00, 1.1930e+01, ..., 2.1000e+01, 3.9690e+02,\n",
       "         7.8800e+00]]),\n",
       " 'target': array([24. , 21.6, 34.7, 33.4, 36.2, 28.7, 22.9, 27.1, 16.5, 18.9, 15. ,\n",
       "        18.9, 21.7, 20.4, 18.2, 19.9, 23.1, 17.5, 20.2, 18.2, 13.6, 19.6,\n",
       "        15.2, 14.5, 15.6, 13.9, 16.6, 14.8, 18.4, 21. , 12.7, 14.5, 13.2,\n",
       "        13.1, 13.5, 18.9, 20. , 21. , 24.7, 30.8, 34.9, 26.6, 25.3, 24.7,\n",
       "        21.2, 19.3, 20. , 16.6, 14.4, 19.4, 19.7, 20.5, 25. , 23.4, 18.9,\n",
       "        35.4, 24.7, 31.6, 23.3, 19.6, 18.7, 16. , 22.2, 25. , 33. , 23.5,\n",
       "        19.4, 22. , 17.4, 20.9, 24.2, 21.7, 22.8, 23.4, 24.1, 21.4, 20. ,\n",
       "        20.8, 21.2, 20.3, 28. , 23.9, 24.8, 22.9, 23.9, 26.6, 22.5, 22.2,\n",
       "        23.6, 28.7, 22.6, 22. , 22.9, 25. , 20.6, 28.4, 21.4, 38.7, 43.8,\n",
       "        33.2, 27.5, 26.5, 18.6, 19.3, 20.1, 19.5, 19.5, 20.4, 19.8, 19.4,\n",
       "        21.7, 22.8, 18.8, 18.7, 18.5, 18.3, 21.2, 19.2, 20.4, 19.3, 22. ,\n",
       "        20.3, 20.5, 17.3, 18.8, 21.4, 15.7, 16.2, 18. , 14.3, 19.2, 19.6,\n",
       "        23. , 18.4, 15.6, 18.1, 17.4, 17.1, 13.3, 17.8, 14. , 14.4, 13.4,\n",
       "        15.6, 11.8, 13.8, 15.6, 14.6, 17.8, 15.4, 21.5, 19.6, 15.3, 19.4,\n",
       "        17. , 15.6, 13.1, 41.3, 24.3, 23.3, 27. , 50. , 50. , 50. , 22.7,\n",
       "        25. , 50. , 23.8, 23.8, 22.3, 17.4, 19.1, 23.1, 23.6, 22.6, 29.4,\n",
       "        23.2, 24.6, 29.9, 37.2, 39.8, 36.2, 37.9, 32.5, 26.4, 29.6, 50. ,\n",
       "        32. , 29.8, 34.9, 37. , 30.5, 36.4, 31.1, 29.1, 50. , 33.3, 30.3,\n",
       "        34.6, 34.9, 32.9, 24.1, 42.3, 48.5, 50. , 22.6, 24.4, 22.5, 24.4,\n",
       "        20. , 21.7, 19.3, 22.4, 28.1, 23.7, 25. , 23.3, 28.7, 21.5, 23. ,\n",
       "        26.7, 21.7, 27.5, 30.1, 44.8, 50. , 37.6, 31.6, 46.7, 31.5, 24.3,\n",
       "        31.7, 41.7, 48.3, 29. , 24. , 25.1, 31.5, 23.7, 23.3, 22. , 20.1,\n",
       "        22.2, 23.7, 17.6, 18.5, 24.3, 20.5, 24.5, 26.2, 24.4, 24.8, 29.6,\n",
       "        42.8, 21.9, 20.9, 44. , 50. , 36. , 30.1, 33.8, 43.1, 48.8, 31. ,\n",
       "        36.5, 22.8, 30.7, 50. , 43.5, 20.7, 21.1, 25.2, 24.4, 35.2, 32.4,\n",
       "        32. , 33.2, 33.1, 29.1, 35.1, 45.4, 35.4, 46. , 50. , 32.2, 22. ,\n",
       "        20.1, 23.2, 22.3, 24.8, 28.5, 37.3, 27.9, 23.9, 21.7, 28.6, 27.1,\n",
       "        20.3, 22.5, 29. , 24.8, 22. , 26.4, 33.1, 36.1, 28.4, 33.4, 28.2,\n",
       "        22.8, 20.3, 16.1, 22.1, 19.4, 21.6, 23.8, 16.2, 17.8, 19.8, 23.1,\n",
       "        21. , 23.8, 23.1, 20.4, 18.5, 25. , 24.6, 23. , 22.2, 19.3, 22.6,\n",
       "        19.8, 17.1, 19.4, 22.2, 20.7, 21.1, 19.5, 18.5, 20.6, 19. , 18.7,\n",
       "        32.7, 16.5, 23.9, 31.2, 17.5, 17.2, 23.1, 24.5, 26.6, 22.9, 24.1,\n",
       "        18.6, 30.1, 18.2, 20.6, 17.8, 21.7, 22.7, 22.6, 25. , 19.9, 20.8,\n",
       "        16.8, 21.9, 27.5, 21.9, 23.1, 50. , 50. , 50. , 50. , 50. , 13.8,\n",
       "        13.8, 15. , 13.9, 13.3, 13.1, 10.2, 10.4, 10.9, 11.3, 12.3,  8.8,\n",
       "         7.2, 10.5,  7.4, 10.2, 11.5, 15.1, 23.2,  9.7, 13.8, 12.7, 13.1,\n",
       "        12.5,  8.5,  5. ,  6.3,  5.6,  7.2, 12.1,  8.3,  8.5,  5. , 11.9,\n",
       "        27.9, 17.2, 27.5, 15. , 17.2, 17.9, 16.3,  7. ,  7.2,  7.5, 10.4,\n",
       "         8.8,  8.4, 16.7, 14.2, 20.8, 13.4, 11.7,  8.3, 10.2, 10.9, 11. ,\n",
       "         9.5, 14.5, 14.1, 16.1, 14.3, 11.7, 13.4,  9.6,  8.7,  8.4, 12.8,\n",
       "        10.5, 17.1, 18.4, 15.4, 10.8, 11.8, 14.9, 12.6, 14.1, 13. , 13.4,\n",
       "        15.2, 16.1, 17.8, 14.9, 14.1, 12.7, 13.5, 14.9, 20. , 16.4, 17.7,\n",
       "        19.5, 20.2, 21.4, 19.9, 19. , 19.1, 19.1, 20.1, 19.9, 19.6, 23.2,\n",
       "        29.8, 13.8, 13.3, 16.7, 12. , 14.6, 21.4, 23. , 23.7, 25. , 21.8,\n",
       "        20.6, 21.2, 19.1, 20.6, 15.2,  7. ,  8.1, 13.6, 20.1, 21.8, 24.5,\n",
       "        23.1, 19.7, 18.3, 21.2, 17.5, 16.8, 22.4, 20.6, 23.9, 22. , 11.9]),\n",
       " 'feature_names': array(['CRIM', 'ZN', 'INDUS', 'CHAS', 'NOX', 'RM', 'AGE', 'DIS', 'RAD',\n",
       "        'TAX', 'PTRATIO', 'B', 'LSTAT'], dtype='<U7'),\n",
       " 'DESCR': \".. _boston_dataset:\\n\\nBoston house prices dataset\\n---------------------------\\n\\n**Data Set Characteristics:**  \\n\\n    :Number of Instances: 506 \\n\\n    :Number of Attributes: 13 numeric/categorical predictive. Median Value (attribute 14) is usually the target.\\n\\n    :Attribute Information (in order):\\n        - CRIM     per capita crime rate by town\\n        - ZN       proportion of residential land zoned for lots over 25,000 sq.ft.\\n        - INDUS    proportion of non-retail business acres per town\\n        - CHAS     Charles River dummy variable (= 1 if tract bounds river; 0 otherwise)\\n        - NOX      nitric oxides concentration (parts per 10 million)\\n        - RM       average number of rooms per dwelling\\n        - AGE      proportion of owner-occupied units built prior to 1940\\n        - DIS      weighted distances to five Boston employment centres\\n        - RAD      index of accessibility to radial highways\\n        - TAX      full-value property-tax rate per $10,000\\n        - PTRATIO  pupil-teacher ratio by town\\n        - B        1000(Bk - 0.63)^2 where Bk is the proportion of blacks by town\\n        - LSTAT    % lower status of the population\\n        - MEDV     Median value of owner-occupied homes in $1000's\\n\\n    :Missing Attribute Values: None\\n\\n    :Creator: Harrison, D. and Rubinfeld, D.L.\\n\\nThis is a copy of UCI ML housing dataset.\\nhttps://archive.ics.uci.edu/ml/machine-learning-databases/housing/\\n\\n\\nThis dataset was taken from the StatLib library which is maintained at Carnegie Mellon University.\\n\\nThe Boston house-price data of Harrison, D. and Rubinfeld, D.L. 'Hedonic\\nprices and the demand for clean air', J. Environ. Economics & Management,\\nvol.5, 81-102, 1978.   Used in Belsley, Kuh & Welsch, 'Regression diagnostics\\n...', Wiley, 1980.   N.B. Various transformations are used in the table on\\npages 244-261 of the latter.\\n\\nThe Boston house-price data has been used in many machine learning papers that address regression\\nproblems.   \\n     \\n.. topic:: References\\n\\n   - Belsley, Kuh & Welsch, 'Regression diagnostics: Identifying Influential Data and Sources of Collinearity', Wiley, 1980. 244-261.\\n   - Quinlan,R. (1993). Combining Instance-Based and Model-Based Learning. In Proceedings on the Tenth International Conference of Machine Learning, 236-243, University of Massachusetts, Amherst. Morgan Kaufmann.\\n\",\n",
       " 'filename': 'C:\\\\Users\\\\christ\\\\Anaconda3\\\\lib\\\\site-packages\\\\sklearn\\\\datasets\\\\data\\\\boston_house_prices.csv'}"
      ]
     },
     "execution_count": 19,
     "metadata": {},
     "output_type": "execute_result"
    }
   ],
   "source": [
    "# Code 01\n",
    "\n",
    "from sklearn.datasets import load_boston\n",
    "boston = load_boston()\n",
    "boston"
   ]
  },
  {
   "cell_type": "markdown",
   "metadata": {},
   "source": [
    "# Sample Dataset"
   ]
  },
  {
   "cell_type": "markdown",
   "metadata": {},
   "source": [
    "Pertama-tama, saya akan menyiapkan dataset yang akan saya pakai untuk memprediksi harga rumah pada kali ini. Disini saya akan kembali memanfaatkan dataset \"house\", hanya saja disini kita akan menyertakan kolom baru yaitu \"Tax Building\" atau pajak bangunan.\n",
    "\n",
    "Dataset yang akan kita bentuk kali ini berisi daftar ukuran \"jumlah kamar\" atau jumlah kamar per rumah, \"Tax Building\" atau pajak bangunan rumah, dan 'harga' atau harga dari sebuah rumah yang akan kita tampung kedalam format pandas DataFrame. Kali ini kita akan langsung persiapkan baik training dataset dan testing datasetnya."
   ]
  },
  {
   "cell_type": "markdown",
   "metadata": {},
   "source": [
    "# Training Set"
   ]
  },
  {
   "cell_type": "markdown",
   "metadata": {},
   "source": [
    "Selanjutnya saya akan membentuk suatu training set yang akan berisi features serta nilai dari features yang akan dibentuk dan digunakan"
   ]
  },
  {
   "cell_type": "code",
   "execution_count": 20,
   "metadata": {},
   "outputs": [
    {
     "data": {
      "text/html": [
       "<div>\n",
       "<style scoped>\n",
       "    .dataframe tbody tr th:only-of-type {\n",
       "        vertical-align: middle;\n",
       "    }\n",
       "\n",
       "    .dataframe tbody tr th {\n",
       "        vertical-align: top;\n",
       "    }\n",
       "\n",
       "    .dataframe thead th {\n",
       "        text-align: right;\n",
       "    }\n",
       "</style>\n",
       "<table border=\"1\" class=\"dataframe\">\n",
       "  <thead>\n",
       "    <tr style=\"text-align: right;\">\n",
       "      <th></th>\n",
       "      <th>jumlah kamar</th>\n",
       "      <th>pajak (%)</th>\n",
       "      <th>harga (Jt)</th>\n",
       "    </tr>\n",
       "  </thead>\n",
       "  <tbody>\n",
       "    <tr>\n",
       "      <td>0</td>\n",
       "      <td>1</td>\n",
       "      <td>10</td>\n",
       "      <td>100.0</td>\n",
       "    </tr>\n",
       "    <tr>\n",
       "      <td>1</td>\n",
       "      <td>2</td>\n",
       "      <td>15</td>\n",
       "      <td>150.0</td>\n",
       "    </tr>\n",
       "    <tr>\n",
       "      <td>2</td>\n",
       "      <td>3</td>\n",
       "      <td>25</td>\n",
       "      <td>175.5</td>\n",
       "    </tr>\n",
       "    <tr>\n",
       "      <td>3</td>\n",
       "      <td>4</td>\n",
       "      <td>30</td>\n",
       "      <td>300.0</td>\n",
       "    </tr>\n",
       "    <tr>\n",
       "      <td>4</td>\n",
       "      <td>5</td>\n",
       "      <td>50</td>\n",
       "      <td>450.0</td>\n",
       "    </tr>\n",
       "  </tbody>\n",
       "</table>\n",
       "</div>"
      ],
      "text/plain": [
       "   jumlah kamar  pajak (%)  harga (Jt)\n",
       "0             1         10       100.0\n",
       "1             2         15       150.0\n",
       "2             3         25       175.5\n",
       "3             4         30       300.0\n",
       "4             5         50       450.0"
      ]
     },
     "execution_count": 20,
     "metadata": {},
     "output_type": "execute_result"
    }
   ],
   "source": [
    "# Code 02\n",
    "\n",
    "import pandas as pd\n",
    "\n",
    "house = {'jumlah kamar': [1, 2, 3, 4, 5], \n",
    "         'pajak (%)': [10, 15, 25, 30, 50],\n",
    "         'harga (Jt)': [100, 150, 175.5, 300, 450]}\n",
    "\n",
    "train_house_df = pd.DataFrame(house)\n",
    "train_house_df"
   ]
  },
  {
   "cell_type": "markdown",
   "metadata": {},
   "source": [
    "Proses berpikir code 02 :\n",
    "\n",
    "- Pertama-tama kita akan mengimport mondul pandas yaitu \"import pandas as pd\" karena kita akan membentuk dataset dalam format pandas DataFrame.\n",
    "- Lalu berikutnya, kita akan menyiapkan dataset kita. Dataset kita kali ini awalnya dibentuk dari suatu dictionary, yang terdiri dari tiga buah key yaitu \"jumlah kamar\", \"pajak (%)\", dan \"harga (Jt)\".\n",
    "- Saya memilih nilai pajak tersebut karena rata-rata pajak sebuah rumah memiliki kurang lebih 10% sampe 50% sesuai proprosi harga rumah tersebut.\n",
    "- Setiap key tersebut akan menampung list yang berisi sekumpulan bilangan yang berasosiasi dengan setiap keys tersebut.\n",
    "- Lalu selanjutnya dictionary tersebut akan kita tampung ke dalam variabe \"house\".\n",
    "- Untuk selanjutnya, dictionary ini akan kita gunakan sebagai base atau sebagai basis untuk membuat pandas DataFrame.\n",
    "- Lalu selanjutnya kita panggil \"pd.DataFrame(house)\", artinya disini kita akan membentuk suatu pandas DataFrame dari data-data yang tersimpan dalam variabel house tersebut.\n",
    "- Selanjutnnya DataFrame yang terbentuk ini akan kita tampung kedalam variabel \"train_house_df\".\n",
    "- Lalu terakhir, kita akan mencoba tampilkan ke layar."
   ]
  },
  {
   "cell_type": "markdown",
   "metadata": {},
   "source": [
    "# Testing Set"
   ]
  },
  {
   "cell_type": "markdown",
   "metadata": {},
   "source": [
    "Selanjutnya kita juga akan menggunakan teknik yang sama untuk mempersiapkan testing dataset kita. Disini tahapannya sama persis, hanya saja datanya berbeda (perhatikan pada code 02 dan 03)."
   ]
  },
  {
   "cell_type": "code",
   "execution_count": 21,
   "metadata": {},
   "outputs": [
    {
     "data": {
      "text/html": [
       "<div>\n",
       "<style scoped>\n",
       "    .dataframe tbody tr th:only-of-type {\n",
       "        vertical-align: middle;\n",
       "    }\n",
       "\n",
       "    .dataframe tbody tr th {\n",
       "        vertical-align: top;\n",
       "    }\n",
       "\n",
       "    .dataframe thead th {\n",
       "        text-align: right;\n",
       "    }\n",
       "</style>\n",
       "<table border=\"1\" class=\"dataframe\">\n",
       "  <thead>\n",
       "    <tr style=\"text-align: right;\">\n",
       "      <th></th>\n",
       "      <th>jumlah kamar</th>\n",
       "      <th>pajak (%)</th>\n",
       "      <th>harga (Jt)</th>\n",
       "    </tr>\n",
       "  </thead>\n",
       "  <tbody>\n",
       "    <tr>\n",
       "      <td>0</td>\n",
       "      <td>8</td>\n",
       "      <td>65</td>\n",
       "      <td>1000</td>\n",
       "    </tr>\n",
       "    <tr>\n",
       "      <td>1</td>\n",
       "      <td>7</td>\n",
       "      <td>45</td>\n",
       "      <td>900</td>\n",
       "    </tr>\n",
       "    <tr>\n",
       "      <td>2</td>\n",
       "      <td>6</td>\n",
       "      <td>30</td>\n",
       "      <td>875</td>\n",
       "    </tr>\n",
       "    <tr>\n",
       "      <td>3</td>\n",
       "      <td>10</td>\n",
       "      <td>75</td>\n",
       "      <td>1100</td>\n",
       "    </tr>\n",
       "    <tr>\n",
       "      <td>4</td>\n",
       "      <td>12</td>\n",
       "      <td>85</td>\n",
       "      <td>2000</td>\n",
       "    </tr>\n",
       "  </tbody>\n",
       "</table>\n",
       "</div>"
      ],
      "text/plain": [
       "   jumlah kamar  pajak (%)  harga (Jt)\n",
       "0             8         65        1000\n",
       "1             7         45         900\n",
       "2             6         30         875\n",
       "3            10         75        1100\n",
       "4            12         85        2000"
      ]
     },
     "execution_count": 21,
     "metadata": {},
     "output_type": "execute_result"
    }
   ],
   "source": [
    "# Code 03\n",
    "\n",
    "house = {'jumlah kamar': [8, 7, 6, 10, 12], \n",
    "         'pajak (%)': [65, 45, 30, 75, 85],\n",
    "         'harga (Jt)': [1000, 900, 875, 1100, 2000]}\n",
    "\n",
    "\n",
    "test_house_df = pd.DataFrame(house)\n",
    "test_house_df"
   ]
  },
  {
   "cell_type": "markdown",
   "metadata": {},
   "source": [
    "Kedua dataset tersebut (code 02 dan code 03) sama-sama terdiri dari tiga buah kolom yaitu kolom \"jumlah kamar\", \"pajak (%)\", dan \"harga (Jt)\".\n",
    "\n",
    "Dalam sesi pembelajaran kali ini kita akan membentuk suatu model machine learning sederhana yang dapat digunakan untuk memprediksi harga rumah berdasarkan jumlah kamar dan pajaknya. Dengan kata lain, disini data jumlah kamar dan pajak akan berperan sebagai features, sedangkan harga rumah atau \"harga (jt)\" akan berperan sebagai target. Karena disini akan diprediksi berupa nilai continous dan bukan kategori, maka kasus tersebut masuk kedalam \"Regression Task\"."
   ]
  },
  {
   "cell_type": "markdown",
   "metadata": {},
   "source": [
    "# Preprocessing Data"
   ]
  },
  {
   "cell_type": "markdown",
   "metadata": {},
   "source": [
    "Sebelum kita melangkah kepada proses training model, kita akan kelompokan terlebih dahulu sekumpulan nilai features dan nilai target dari sekumpulan dataset yang kita miliki."
   ]
  },
  {
   "cell_type": "markdown",
   "metadata": {},
   "source": [
    "# Testing Set"
   ]
  },
  {
   "cell_type": "markdown",
   "metadata": {},
   "source": [
    "Saya juga akan menyiapkan testing setnya, sebagai berikut."
   ]
  },
  {
   "cell_type": "code",
   "execution_count": 22,
   "metadata": {},
   "outputs": [
    {
     "name": "stdout",
     "output_type": "stream",
     "text": [
      "X_train:\n",
      "[[ 1 10]\n",
      " [ 2 15]\n",
      " [ 3 25]\n",
      " [ 4 30]\n",
      " [ 5 50]]\n",
      "\n",
      "y_train: [100.  150.  175.5 300.  450. ]\n"
     ]
    }
   ],
   "source": [
    "# Code 04\n",
    "\n",
    "import numpy as np\n",
    "\n",
    "X_train = np.array(train_house_df[['jumlah kamar', 'pajak (%)']])\n",
    "y_train = np.array(train_house_df['harga (Jt)'])\n",
    "\n",
    "print(f'X_train:\\n{X_train}\\n')\n",
    "print(f'y_train: {y_train}')"
   ]
  },
  {
   "cell_type": "markdown",
   "metadata": {},
   "source": [
    "Proses berpikir code 04 :\n",
    "\n",
    "- Pertama, import terlebih dahulu \"numpy as np\".\n",
    "- Untuk kasus kita kali ini, jumlah kamar dan pajak rumah akan kita konversikan kedalam numpy array.\n",
    "- Lalu kemudian kita tampung kedalam variabel \"X_train\" sebagai sekumpulan features untuk training set.\n",
    "- Lalu untuk harga rumah, kita juga akan mengkonversikan menjadi numpy array untuk selanjutnya kita tampung kedalam variabel \"y_train\" sebagai sekumpulan nilai target untuk training set.\n",
    "- Proses serupa juga kita akan terapkan pada training setnya pada code 05.\n",
    "\n",
    "Berdasarkan hasil output code 04, seperti biasa \"X_train\" selalu berada dalam format array 2 dimensi, sedangkan \"y_train\" akan selalu berada dalam format array satu dimensi."
   ]
  },
  {
   "cell_type": "markdown",
   "metadata": {},
   "source": [
    "# Training Set"
   ]
  },
  {
   "cell_type": "code",
   "execution_count": 23,
   "metadata": {},
   "outputs": [
    {
     "name": "stdout",
     "output_type": "stream",
     "text": [
      "X_test:\n",
      "[[ 8 65]\n",
      " [ 7 45]\n",
      " [ 6 30]\n",
      " [10 75]\n",
      " [12 85]]\n",
      "\n",
      "y_test: [1000  900  875 1100 2000]\n"
     ]
    }
   ],
   "source": [
    "# Code 05\n",
    "\n",
    "X_test = np.array(test_house_df[['jumlah kamar', 'pajak (%)']])\n",
    "y_test = np.array(test_house_df['harga (Jt)'])\n",
    "\n",
    "print(f'X_test:\\n{X_test}\\n')\n",
    "print(f'y_test: {y_test}')"
   ]
  },
  {
   "cell_type": "markdown",
   "metadata": {},
   "source": [
    "Pada hasil output code 05 diatas tersebut merupakan testing set yang kita miliki baik untuk features maupun targetnya."
   ]
  },
  {
   "cell_type": "markdown",
   "metadata": {},
   "source": [
    "Setelah kita memahami konteks dataset dan permasalahannya, kita akan mencoba menerapkan \"Multiple Linear Regression\" untuk kasus kita kali ini.\n",
    "\n",
    "Multiple Linear Regression merupakan generalisasi dari Simple Linear Regression yang memungkinkan untuk menggunakan beberapa explanatory variables.\n",
    "\n",
    "Jadi sebenarnya, perbedaan dasar antar \"Simple Linear Regression\" dan \"Multiple Linear Regression\" terletak pada jumlah features atau explanatory variable yang digunakan. Pada \"Simple Linear Regression\" kita hanya menggunakan satu feature saja untuk melakukan prediksi nilai, sedangkan pada \"Multiple Linear Regression\" kita akan menggunakan lebih dari satu features untuk melakukan prediksi."
   ]
  },
  {
   "cell_type": "markdown",
   "metadata": {},
   "source": [
    "# Formula\n",
    "\n",
    "Berikut adalah formula yang merupkan konsep dari multiple linear regression.\n",
    "\n",
    "$y = \\alpha + \\beta_1 x_1 + \\beta_2 x_2 + ... + \\beta_n x_n$\n",
    "\n",
    "- Perhatikan pada formula atau rumus tersebut, disana terdapat lebih dari satu nilai x, yaitu ada x1, x2, sampai dengan xn. \n",
    "- Dengan kata lain, jumlah x atau jumlah features ini bisa lebih dari satu. \n",
    "- Yang perlu diperhatikan disini ialah untuk setiap nilai $x$ nya akan dikalikan dengan $\\beta$.\n",
    "- Berarti jika kita memiliki $x1$, maka $x1$ tersebut akan dikalikan dengan $\\beta1$.\n",
    "- Dan jika kita memiliki $x2$, maka nilai $x2$ akan dikalikan dengan $\\beta2$"
   ]
  },
  {
   "cell_type": "code",
   "execution_count": 24,
   "metadata": {},
   "outputs": [
    {
     "name": "stdout",
     "output_type": "stream",
     "text": [
      "r_squared: -1.5942854277620375\n"
     ]
    }
   ],
   "source": [
    "# Code 06\n",
    "\n",
    "from sklearn.linear_model import LinearRegression\n",
    "from sklearn.metrics import r2_score\n",
    "\n",
    "model = LinearRegression()\n",
    "model.fit(X_train, y_train)\n",
    "y_pred = model.predict(X_test)\n",
    "    \n",
    "print(f'r_squared: {r2_score(y_test, y_pred)}')"
   ]
  },
  {
   "cell_type": "markdown",
   "metadata": {},
   "source": [
    "Pada kali ini kita akan memanfaat r2_score sebagai pengukuran peforma dari hasil model prediksi \"y_pred\".\n",
    "\n",
    "Proses berpikir code 06 :\n",
    "\n",
    "- Pertama-tama saya akan mengimport terlebih dahulu modulnya \"from sklearn.linear_model import LinearRegression\".\n",
    "- Lalu selanjutnya, saya akan mengimport juga untuk matrix nya dengan memanggil fungsi \"from sklearn.metrics import r2_score\".\n",
    "- Lalu tahapan berikutnya, saya akan membentuk objek modelnya dengan memanggil fungsi \"LinearRegression()\", lalu saya tampung kedalam variabel \"model\".\n",
    "- Lalu berikutnya, saya akan melakukan proses training model kita dengan memanggil fungsi \"model.fit\" dengan menyertakan parameter \"(X_train, y_train)\".\n",
    "- Setelah modelnya kita training, model tersebut akan kita gunakan untuk melakukan prediksi. Disini kita akan menggunakan train model kita untuk melakukan prediksi terhadap feature yang terdapat dalam testing set kita. Oleh karenanya, kita akan memanggil fungsi \"y_pred = model.predict(X_test)\" yang akan kita tampung kedalam variabel \"y_pred\".\n",
    "- Untuk selanjutnya model prediksi ini akan saya gunakan untuk mengukur peforma dari model kita.\n",
    "- Dalam kasus kita kali ini, kita akan gunakan r2_score sebagai pengukuran peformanya.\n",
    "- Langkah terakhir, kita akan tampilkan nilai-nilai tersebut.\n",
    "\n",
    "Jika kita perhatikan pada code 05 tersebut, bahwa pada SkLearn sebenarnya tidak ada perbedaan antara implementasi \"Simple Linear Regression\" dan \"Multiple Linear Regression\". Yang berbeda hanyalah pada jumlah feature yang dilewatkannya saja."
   ]
  },
  {
   "cell_type": "markdown",
   "metadata": {},
   "source": [
    "Demikianlah merupakan cara menggunakan \"Multiple Linear Regression\" yang merupakan pengembangan dari \"Simple Linear Regression\"."
   ]
  },
  {
   "cell_type": "markdown",
   "metadata": {},
   "source": [
    "# \"Banyak Belajar Biar Bisa Bantu Banyak Orang\""
   ]
  },
  {
   "cell_type": "markdown",
   "metadata": {},
   "source": [
    "By : Clarence Code Pianist (1973010)"
   ]
  }
 ],
 "metadata": {
  "kernelspec": {
   "display_name": "Python 3",
   "language": "python",
   "name": "python3"
  },
  "language_info": {
   "codemirror_mode": {
    "name": "ipython",
    "version": 3
   },
   "file_extension": ".py",
   "mimetype": "text/x-python",
   "name": "python",
   "nbconvert_exporter": "python",
   "pygments_lexer": "ipython3",
   "version": "3.7.4"
  }
 },
 "nbformat": 4,
 "nbformat_minor": 2
}
