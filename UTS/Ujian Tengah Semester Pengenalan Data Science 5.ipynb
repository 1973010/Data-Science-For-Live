{
 "cells": [
  {
   "cell_type": "markdown",
   "metadata": {},
   "source": [
    "# Ujian Tengah Semester (5)"
   ]
  },
  {
   "cell_type": "markdown",
   "metadata": {},
   "source": [
    "Nama   : Clarence Chandra Sentosa"
   ]
  },
  {
   "cell_type": "markdown",
   "metadata": {},
   "source": [
    "NRP  : 1973010"
   ]
  },
  {
   "cell_type": "markdown",
   "metadata": {},
   "source": [
    "# Classification dengan KNN (K Nearest Neighbours)"
   ]
  },
  {
   "cell_type": "markdown",
   "metadata": {},
   "source": [
    "- KNN adalah model machine learning yang dapat digunakan untuk melakukan prediksi berdasarkan kedekatan karakteristik dengan sejumlah tetangga terdekat.\n",
    "- Prediksi yang dilakukan dapat diterapkan baik pada classification maupun regression tasks.\n",
    "- Pada pemecahan kasus kali ini, saya akan mencoba memprediksi harga rumah berdasarkan pada dataset boston house pricing dengan penerapan KNN untuk classification tasks."
   ]
  },
  {
   "cell_type": "markdown",
   "metadata": {},
   "source": [
    "# Load Boston Dataset"
   ]
  },
  {
   "cell_type": "markdown",
   "metadata": {},
   "source": [
    "Seperti biasa, saya akan meload terlebih dahulu boston dataset yang akan dipakai untuk proses prediksi kali ini."
   ]
  },
  {
   "cell_type": "code",
   "execution_count": 24,
   "metadata": {},
   "outputs": [
    {
     "data": {
      "text/plain": [
       "{'data': array([[6.3200e-03, 1.8000e+01, 2.3100e+00, ..., 1.5300e+01, 3.9690e+02,\n",
       "         4.9800e+00],\n",
       "        [2.7310e-02, 0.0000e+00, 7.0700e+00, ..., 1.7800e+01, 3.9690e+02,\n",
       "         9.1400e+00],\n",
       "        [2.7290e-02, 0.0000e+00, 7.0700e+00, ..., 1.7800e+01, 3.9283e+02,\n",
       "         4.0300e+00],\n",
       "        ...,\n",
       "        [6.0760e-02, 0.0000e+00, 1.1930e+01, ..., 2.1000e+01, 3.9690e+02,\n",
       "         5.6400e+00],\n",
       "        [1.0959e-01, 0.0000e+00, 1.1930e+01, ..., 2.1000e+01, 3.9345e+02,\n",
       "         6.4800e+00],\n",
       "        [4.7410e-02, 0.0000e+00, 1.1930e+01, ..., 2.1000e+01, 3.9690e+02,\n",
       "         7.8800e+00]]),\n",
       " 'target': array([24. , 21.6, 34.7, 33.4, 36.2, 28.7, 22.9, 27.1, 16.5, 18.9, 15. ,\n",
       "        18.9, 21.7, 20.4, 18.2, 19.9, 23.1, 17.5, 20.2, 18.2, 13.6, 19.6,\n",
       "        15.2, 14.5, 15.6, 13.9, 16.6, 14.8, 18.4, 21. , 12.7, 14.5, 13.2,\n",
       "        13.1, 13.5, 18.9, 20. , 21. , 24.7, 30.8, 34.9, 26.6, 25.3, 24.7,\n",
       "        21.2, 19.3, 20. , 16.6, 14.4, 19.4, 19.7, 20.5, 25. , 23.4, 18.9,\n",
       "        35.4, 24.7, 31.6, 23.3, 19.6, 18.7, 16. , 22.2, 25. , 33. , 23.5,\n",
       "        19.4, 22. , 17.4, 20.9, 24.2, 21.7, 22.8, 23.4, 24.1, 21.4, 20. ,\n",
       "        20.8, 21.2, 20.3, 28. , 23.9, 24.8, 22.9, 23.9, 26.6, 22.5, 22.2,\n",
       "        23.6, 28.7, 22.6, 22. , 22.9, 25. , 20.6, 28.4, 21.4, 38.7, 43.8,\n",
       "        33.2, 27.5, 26.5, 18.6, 19.3, 20.1, 19.5, 19.5, 20.4, 19.8, 19.4,\n",
       "        21.7, 22.8, 18.8, 18.7, 18.5, 18.3, 21.2, 19.2, 20.4, 19.3, 22. ,\n",
       "        20.3, 20.5, 17.3, 18.8, 21.4, 15.7, 16.2, 18. , 14.3, 19.2, 19.6,\n",
       "        23. , 18.4, 15.6, 18.1, 17.4, 17.1, 13.3, 17.8, 14. , 14.4, 13.4,\n",
       "        15.6, 11.8, 13.8, 15.6, 14.6, 17.8, 15.4, 21.5, 19.6, 15.3, 19.4,\n",
       "        17. , 15.6, 13.1, 41.3, 24.3, 23.3, 27. , 50. , 50. , 50. , 22.7,\n",
       "        25. , 50. , 23.8, 23.8, 22.3, 17.4, 19.1, 23.1, 23.6, 22.6, 29.4,\n",
       "        23.2, 24.6, 29.9, 37.2, 39.8, 36.2, 37.9, 32.5, 26.4, 29.6, 50. ,\n",
       "        32. , 29.8, 34.9, 37. , 30.5, 36.4, 31.1, 29.1, 50. , 33.3, 30.3,\n",
       "        34.6, 34.9, 32.9, 24.1, 42.3, 48.5, 50. , 22.6, 24.4, 22.5, 24.4,\n",
       "        20. , 21.7, 19.3, 22.4, 28.1, 23.7, 25. , 23.3, 28.7, 21.5, 23. ,\n",
       "        26.7, 21.7, 27.5, 30.1, 44.8, 50. , 37.6, 31.6, 46.7, 31.5, 24.3,\n",
       "        31.7, 41.7, 48.3, 29. , 24. , 25.1, 31.5, 23.7, 23.3, 22. , 20.1,\n",
       "        22.2, 23.7, 17.6, 18.5, 24.3, 20.5, 24.5, 26.2, 24.4, 24.8, 29.6,\n",
       "        42.8, 21.9, 20.9, 44. , 50. , 36. , 30.1, 33.8, 43.1, 48.8, 31. ,\n",
       "        36.5, 22.8, 30.7, 50. , 43.5, 20.7, 21.1, 25.2, 24.4, 35.2, 32.4,\n",
       "        32. , 33.2, 33.1, 29.1, 35.1, 45.4, 35.4, 46. , 50. , 32.2, 22. ,\n",
       "        20.1, 23.2, 22.3, 24.8, 28.5, 37.3, 27.9, 23.9, 21.7, 28.6, 27.1,\n",
       "        20.3, 22.5, 29. , 24.8, 22. , 26.4, 33.1, 36.1, 28.4, 33.4, 28.2,\n",
       "        22.8, 20.3, 16.1, 22.1, 19.4, 21.6, 23.8, 16.2, 17.8, 19.8, 23.1,\n",
       "        21. , 23.8, 23.1, 20.4, 18.5, 25. , 24.6, 23. , 22.2, 19.3, 22.6,\n",
       "        19.8, 17.1, 19.4, 22.2, 20.7, 21.1, 19.5, 18.5, 20.6, 19. , 18.7,\n",
       "        32.7, 16.5, 23.9, 31.2, 17.5, 17.2, 23.1, 24.5, 26.6, 22.9, 24.1,\n",
       "        18.6, 30.1, 18.2, 20.6, 17.8, 21.7, 22.7, 22.6, 25. , 19.9, 20.8,\n",
       "        16.8, 21.9, 27.5, 21.9, 23.1, 50. , 50. , 50. , 50. , 50. , 13.8,\n",
       "        13.8, 15. , 13.9, 13.3, 13.1, 10.2, 10.4, 10.9, 11.3, 12.3,  8.8,\n",
       "         7.2, 10.5,  7.4, 10.2, 11.5, 15.1, 23.2,  9.7, 13.8, 12.7, 13.1,\n",
       "        12.5,  8.5,  5. ,  6.3,  5.6,  7.2, 12.1,  8.3,  8.5,  5. , 11.9,\n",
       "        27.9, 17.2, 27.5, 15. , 17.2, 17.9, 16.3,  7. ,  7.2,  7.5, 10.4,\n",
       "         8.8,  8.4, 16.7, 14.2, 20.8, 13.4, 11.7,  8.3, 10.2, 10.9, 11. ,\n",
       "         9.5, 14.5, 14.1, 16.1, 14.3, 11.7, 13.4,  9.6,  8.7,  8.4, 12.8,\n",
       "        10.5, 17.1, 18.4, 15.4, 10.8, 11.8, 14.9, 12.6, 14.1, 13. , 13.4,\n",
       "        15.2, 16.1, 17.8, 14.9, 14.1, 12.7, 13.5, 14.9, 20. , 16.4, 17.7,\n",
       "        19.5, 20.2, 21.4, 19.9, 19. , 19.1, 19.1, 20.1, 19.9, 19.6, 23.2,\n",
       "        29.8, 13.8, 13.3, 16.7, 12. , 14.6, 21.4, 23. , 23.7, 25. , 21.8,\n",
       "        20.6, 21.2, 19.1, 20.6, 15.2,  7. ,  8.1, 13.6, 20.1, 21.8, 24.5,\n",
       "        23.1, 19.7, 18.3, 21.2, 17.5, 16.8, 22.4, 20.6, 23.9, 22. , 11.9]),\n",
       " 'feature_names': array(['CRIM', 'ZN', 'INDUS', 'CHAS', 'NOX', 'RM', 'AGE', 'DIS', 'RAD',\n",
       "        'TAX', 'PTRATIO', 'B', 'LSTAT'], dtype='<U7'),\n",
       " 'DESCR': \".. _boston_dataset:\\n\\nBoston house prices dataset\\n---------------------------\\n\\n**Data Set Characteristics:**  \\n\\n    :Number of Instances: 506 \\n\\n    :Number of Attributes: 13 numeric/categorical predictive. Median Value (attribute 14) is usually the target.\\n\\n    :Attribute Information (in order):\\n        - CRIM     per capita crime rate by town\\n        - ZN       proportion of residential land zoned for lots over 25,000 sq.ft.\\n        - INDUS    proportion of non-retail business acres per town\\n        - CHAS     Charles River dummy variable (= 1 if tract bounds river; 0 otherwise)\\n        - NOX      nitric oxides concentration (parts per 10 million)\\n        - RM       average number of rooms per dwelling\\n        - AGE      proportion of owner-occupied units built prior to 1940\\n        - DIS      weighted distances to five Boston employment centres\\n        - RAD      index of accessibility to radial highways\\n        - TAX      full-value property-tax rate per $10,000\\n        - PTRATIO  pupil-teacher ratio by town\\n        - B        1000(Bk - 0.63)^2 where Bk is the proportion of blacks by town\\n        - LSTAT    % lower status of the population\\n        - MEDV     Median value of owner-occupied homes in $1000's\\n\\n    :Missing Attribute Values: None\\n\\n    :Creator: Harrison, D. and Rubinfeld, D.L.\\n\\nThis is a copy of UCI ML housing dataset.\\nhttps://archive.ics.uci.edu/ml/machine-learning-databases/housing/\\n\\n\\nThis dataset was taken from the StatLib library which is maintained at Carnegie Mellon University.\\n\\nThe Boston house-price data of Harrison, D. and Rubinfeld, D.L. 'Hedonic\\nprices and the demand for clean air', J. Environ. Economics & Management,\\nvol.5, 81-102, 1978.   Used in Belsley, Kuh & Welsch, 'Regression diagnostics\\n...', Wiley, 1980.   N.B. Various transformations are used in the table on\\npages 244-261 of the latter.\\n\\nThe Boston house-price data has been used in many machine learning papers that address regression\\nproblems.   \\n     \\n.. topic:: References\\n\\n   - Belsley, Kuh & Welsch, 'Regression diagnostics: Identifying Influential Data and Sources of Collinearity', Wiley, 1980. 244-261.\\n   - Quinlan,R. (1993). Combining Instance-Based and Model-Based Learning. In Proceedings on the Tenth International Conference of Machine Learning, 236-243, University of Massachusetts, Amherst. Morgan Kaufmann.\\n\",\n",
       " 'filename': 'C:\\\\Users\\\\christ\\\\Anaconda3\\\\lib\\\\site-packages\\\\sklearn\\\\datasets\\\\data\\\\boston_house_prices.csv'}"
      ]
     },
     "execution_count": 24,
     "metadata": {},
     "output_type": "execute_result"
    }
   ],
   "source": [
    "# Code 01\n",
    "\n",
    "from sklearn.datasets import load_boston\n",
    "boston = load_boston()\n",
    "boston"
   ]
  },
  {
   "cell_type": "markdown",
   "metadata": {},
   "source": [
    "# Sample Dataset"
   ]
  },
  {
   "cell_type": "markdown",
   "metadata": {},
   "source": [
    "Pada tahapan ini, saya akan mencoba menyiapkan sample dataset untuk diprediksi yang mengacu pada data boston house pricing."
   ]
  },
  {
   "cell_type": "code",
   "execution_count": 25,
   "metadata": {},
   "outputs": [
    {
     "data": {
      "text/html": [
       "<div>\n",
       "<style scoped>\n",
       "    .dataframe tbody tr th:only-of-type {\n",
       "        vertical-align: middle;\n",
       "    }\n",
       "\n",
       "    .dataframe tbody tr th {\n",
       "        vertical-align: top;\n",
       "    }\n",
       "\n",
       "    .dataframe thead th {\n",
       "        text-align: right;\n",
       "    }\n",
       "</style>\n",
       "<table border=\"1\" class=\"dataframe\">\n",
       "  <thead>\n",
       "    <tr style=\"text-align: right;\">\n",
       "      <th></th>\n",
       "      <th>jk</th>\n",
       "      <th>type</th>\n",
       "      <th>harga</th>\n",
       "    </tr>\n",
       "  </thead>\n",
       "  <tbody>\n",
       "    <tr>\n",
       "      <td>0</td>\n",
       "      <td>2</td>\n",
       "      <td>1</td>\n",
       "      <td>sedang</td>\n",
       "    </tr>\n",
       "    <tr>\n",
       "      <td>1</td>\n",
       "      <td>2</td>\n",
       "      <td>2</td>\n",
       "      <td>sedang</td>\n",
       "    </tr>\n",
       "    <tr>\n",
       "      <td>2</td>\n",
       "      <td>3</td>\n",
       "      <td>2</td>\n",
       "      <td>tinggi</td>\n",
       "    </tr>\n",
       "    <tr>\n",
       "      <td>3</td>\n",
       "      <td>5</td>\n",
       "      <td>2</td>\n",
       "      <td>tinggi</td>\n",
       "    </tr>\n",
       "    <tr>\n",
       "      <td>4</td>\n",
       "      <td>4</td>\n",
       "      <td>3</td>\n",
       "      <td>tinggi</td>\n",
       "    </tr>\n",
       "    <tr>\n",
       "      <td>5</td>\n",
       "      <td>6</td>\n",
       "      <td>4</td>\n",
       "      <td>tinggi</td>\n",
       "    </tr>\n",
       "    <tr>\n",
       "      <td>6</td>\n",
       "      <td>6</td>\n",
       "      <td>4</td>\n",
       "      <td>tinggi</td>\n",
       "    </tr>\n",
       "  </tbody>\n",
       "</table>\n",
       "</div>"
      ],
      "text/plain": [
       "   jk  type   harga\n",
       "0   2     1  sedang\n",
       "1   2     2  sedang\n",
       "2   3     2  tinggi\n",
       "3   5     2  tinggi\n",
       "4   4     3  tinggi\n",
       "5   6     4  tinggi\n",
       "6   6     4  tinggi"
      ]
     },
     "execution_count": 25,
     "metadata": {},
     "output_type": "execute_result"
    }
   ],
   "source": [
    "# Code 02\n",
    "\n",
    "import pandas as pd\n",
    "\n",
    "house = {\n",
    "    'jk': [2, 2, 3, 5, 4, 6, 6],\n",
    "    'type': [1, 2, 2, 2, 3, 4, 4],\n",
    "    'harga' : ['sedang', 'sedang', 'tinggi', 'tinggi', 'tinggi', 'tinggi', 'tinggi']\n",
    "}\n",
    "\n",
    "house_df = pd.DataFrame(house)\n",
    "house_df"
   ]
  },
  {
   "cell_type": "markdown",
   "metadata": {},
   "source": [
    "Kali ini saya akan membentuk dataset yang berisi daftar jumlah kamar dan type rumah beserta sejumlah nominal harga rumah, Dataset tersebut akan ditampung ke dalam format Pandas DataFrame\n",
    "\n",
    "Proses berpikir code 01 :\n",
    "\n",
    "- Pertama, kita akan mengimport terlebih dahulu modul pandas.\n",
    "- Lalu berikutnya, menyiapkan suatu variabel yang dalam hal ini adalah 'house' yang digunakan untuk menampung suatu data dictionary, dimana dictionary ini akan menampung 3 buah keys yaitu : jumlah kamar, type, dan harga.\n",
    "- 'jk' akan berasosiasi dengan daftar jumlah kamar.\n",
    "- 'type' dan 'harga (proporsional)' akan berasosiasi dengan jumlah lantai pada rumah dan harga rumah.\n",
    "- Saya memilih features tersebut karena saya menyesuaikan dengan harga rumah pada umumnya berdasarkan jumlah kamar serta tingkatnya.\n",
    "- Lalu selanjutnya, dictionary ini akan kita tampung ke dalam suatu variabel dengan nama 'house'.\n",
    "- Dictionary sensus akan dibentuk menjadi suatu Pandas DataFrame. Oleh karena itu, kita panggil dengan 'pd.DataFrame(house)'.\n",
    "- Lalu objek DataFramenya, kita tampung ke dalam variabel 'house_df'.\n",
    "- Kemudian kita tampilkan dengan memanggil 'house_df'.\n",
    "\n",
    "Adapun tingkatan harga rumah berdasarkan perhitungan menurut pendapat saya yaitu :\n",
    "- Rumah dengan harga sedang memiliki harga pada kisaran 300 juta sampai 700 juta.\n",
    "- Rumah dengan harga tinggi memiliki harga pada kisaran lebih dari 700 juta.\n",
    "\n",
    "Jika kita melihat dataset kita, dataset kita kali ini terdiri dari 3 buah kolom yaitu 'jumlah kamar', 'type rumah' berdasarkan jumlah lantai, serta 'harga rumah'. Pada kali ini, saya akan membentuk model machine learning sederhana yang dapat digunakan untuk memprediksi harga rumah berdasarkan data jumlah kamar dan type (berdasarkan jumlah lantai atau tingkat rumah tersebut). Dengan kata lain, data jumlah kamar dan jumlah lantai atau type rumah akan berperan sebagai features, sedangkan harga akan berperan sebagai target."
   ]
  },
  {
   "cell_type": "markdown",
   "metadata": {},
   "source": [
    "# Visualisasi Data"
   ]
  },
  {
   "cell_type": "markdown",
   "metadata": {},
   "source": [
    "Langkah beriktutnya, saya akan mencoba memvisualisasikan sample dataset yang sudah dibentuk kedalam bentuk scatter plot dimana sumbu x akan berasosisasi dengan jumlah kamar, sedangkan sumbu y akan berasosisasi dengan type atau jumlah lantai atau tingkatan pada rumah."
   ]
  },
  {
   "cell_type": "code",
   "execution_count": 26,
   "metadata": {
    "scrolled": true
   },
   "outputs": [
    {
     "data": {
      "image/png": "[encoded data removed]",
      "text/plain": [
       "<Figure size 432x288 with 1 Axes>"
      ]
     },
     "metadata": {
      "needs_background": "light"
     },
     "output_type": "display_data"
    }
   ],
   "source": [
    "# Code 03\n",
    "\n",
    "import matplotlib.pyplot as plt\n",
    "\n",
    "fig, ax = plt.subplots()\n",
    "for harga , d in house_df.groupby('harga'):\n",
    "    ax.scatter(d['jk'], d['type'], label=harga)\n",
    "    \n",
    "plt.legend(loc='upper left')\n",
    "plt.title('Sebaran Data Jumlah Kamar, Type Rumah, dan Harga Rumah')\n",
    "plt.xlabel('Jumlah Kamar')\n",
    "plt.ylabel('type rumah')\n",
    "plt.grid(True)\n",
    "plt.show()"
   ]
  },
  {
   "cell_type": "markdown",
   "metadata": {},
   "source": [
    "Kita akan mencoba visualisasikan dataset sensus yang telah kita bentuk sebelumnya ke dalam scatter plot, dimana sumbu x akan berasosisasi dengan jumlah kamar, sedangkan sumbu y akan berasosisasi dengan type rumah.\n",
    "\n",
    "Disni kita juga akan menggunakan warna marker yang berbeda untuk merepresentasikan harga rumah harga rumah secara proporsional yaitu marker biru untuk harga rendah, marker orange untuk harga sedang, serta marker hijau untuk harga tinggi.\n",
    "\n",
    "Proses berpikir code 03 :\n",
    "- Import modul matplotlib.\n",
    "- Lalu berikutnya, disini saya akan membentuk subplots, yang dimana akan digunakan untuk menangkap objek figure dan axes nya.\n",
    "- Selanjutnya, akan dilakukan looping terhadap data house_df tersebut, dimana house_df nya akan digrouping terlebih dahulu berdasarkan 'harga' atau harga rumahnya.\n",
    "- Pada setiap iterasinya, akan ditangkap 2 nilai yaitu 'jk' yang merepresentasikan jumlah kamar berdasarkan pengelompokannya, dan yang kedua adalah 'd' yang berisi sekumpulan baris data dari kelompok jumlah kamar tertentu. Karena ingin dibentuk scatter plot, maka saya akan panggil 'ax.scatter', dimana sumbu x nya akan diasosiasikan dengan data baris dengan kolom 'jumlah kamar', sedangkan sumbu y akan diasosiasi dengan data baris dengan kolom 'type rumah', lalu akan disertakan juga labelnya, dimana label tersebut akan disesuaikan dengan kelompok proporsi harganya.\n",
    "- Lalu berikutnya, saya akan menyertakan beberapa keterangan tambahan diantarnya adalah legend, yang akan berasosiasi dengan 'label=harga'. Jika tidak menyertakan parameter 'label', maka legendnya hanya akan menampilkan marker warna saja tanpa disertai keterangannya. \n",
    "- Lalu berikutnya, akan melakukan pemanggilan 'plt.legend' juga menyertakan parameter 'loc', parameter 'loc' ini digunakan untuk mengatur lokasi atau posisi dari legendnya, yang dalam kasus ini 'loc' nya sebagai upper left, berarti posisinya ada di sudut kiri atas.\n",
    "- Selanjutnya, sebagai data tambahan disini akan disertakan judul, label untuk sumbu x dan juga sumbu y 'plt.title', 'plt.xlabel', 'plt.ylabel'.\n",
    "- Selain itu, juga akan disertakan 'plt.grid' yang diberi nilai true.\n",
    "- Terakhir, memanggil 'plt.show' untuk memunculkan hasil ploting tersebut.\n",
    "\n",
    "Jika menghitung jumlah markernya berdasarkan hasil output code 03, berjumlah 5 marker, kelima marker tersebut akan berasosiasi dengan setiap baris dari dataset yang digunakan dalam kasus kali ini (pada code 02), bisa dilihat bahwa dalam pandas dataframe kali ini memiliki 5 buah entries atau row atau instances. Oleh karena itu, setiap baris ini akan menghasilkan satu data point pada scatter plot nya. Bisa kita lihat, bahwa data kelima harga rumah tersebut berbeda-beda atau unique.\n",
    "\n",
    "Pada kali ini, tujuan utamanya adalah ketika ditemukan suatu data point baru, maka data point tersebut akan coba diprediksi apakah dia masuk kedalam kategori rendah, sedang, dan tinggi."
   ]
  },
  {
   "cell_type": "markdown",
   "metadata": {},
   "source": [
    "# Classification Dengan KNN"
   ]
  },
  {
   "cell_type": "markdown",
   "metadata": {},
   "source": [
    "Setelah konteks dataset dan juga permasalahannya dipahami, maka selanjutnya saya akan mencoba menerapkan KNN atau Key Nearest Neighbours untuk melakukan klasifikasi harga rumah berdasarkan data jumlah kamar dan tingkatnya. Sesuai dengan namanya, model machine learning yang satu ini akan melakukan prediksi yang dalam kasus ini adalah prediksi harga rumah berdasarkan kemiripan karakteristik atau features dengan dataset yang tersedia. "
   ]
  },
  {
   "cell_type": "markdown",
   "metadata": {},
   "source": [
    "# Preprocessing Dataset"
   ]
  },
  {
   "cell_type": "markdown",
   "metadata": {},
   "source": [
    "Sebelum melangkah kepada proses training model, perlu dilakukannya beberapa penyesuaian pada dataset sensus tersebut, dimana akan dikonversikan data jumlah kamar dan type rumah berdasarkan tingkatannya ke dalam numpy array. Selanjutnya akan ditampung ke dalam variabel 'X_train' sebagai sekumpulan features untuk training set. Lalu untuk kolom 'harga' juga akan dikonversikan menjadi numpy array untuk selanjutnya akan ditampung ke dalam variabel 'y_train' sebagai sekumpulan nilai target untuk training set."
   ]
  },
  {
   "cell_type": "code",
   "execution_count": 27,
   "metadata": {},
   "outputs": [
    {
     "name": "stdout",
     "output_type": "stream",
     "text": [
      "X_train:\n",
      "[[2 1]\n",
      " [2 2]\n",
      " [3 2]\n",
      " [5 2]\n",
      " [4 3]\n",
      " [6 4]\n",
      " [6 4]]\n",
      "\n",
      "y_train: ['sedang' 'sedang' 'tinggi' 'tinggi' 'tinggi' 'tinggi' 'tinggi']\n"
     ]
    }
   ],
   "source": [
    "# Code 04\n",
    "\n",
    "import numpy as np\n",
    "\n",
    "X_train = np.array(house_df[['jk', 'type']])\n",
    "y_train = np.array(house_df['harga'])\n",
    "\n",
    "print(f'X_train:\\n{X_train}\\n')\n",
    "print(f'y_train: {y_train}')"
   ]
  },
  {
   "cell_type": "markdown",
   "metadata": {},
   "source": [
    "Sebelum kita melangkah kepada proses training model, kita perlu melakukan beberapa penyesuaian pada dataset sensus tersebut, dimana kita akan mengkonversikan data jumlah kamar dan type rumah ke dalam numpy array. Selanjutnya kita tampung ke dalam variabel 'X_train' sebagai sekumpulan features untuk training set. Lalu untuk kolom 'harga' juga kita akan konversikan menjadi numpy array untuk selanjutnya kita tampung ke dalam variabel 'y_train' sebagai sekumpulan nilai target untuk training set.\n",
    "\n",
    "Proses berpikir code 04 :\n",
    "- Pertama-tama, saya akan import numpy as np.\n",
    "- Lalu saya akan bentuk 2 buah numpy array. Untuk numpy array yang pertama akan saya bentuk berdasarkan kolom jumlah kamar dan type rumah dari 'house_df' yang ditampung ke dalam variabel 'X_train', sedangkan numpy array kedua akan dibentuk berdasarkan kolom 'jk' dari 'house_df' yang akan ditampung ke dalam variabel 'y_train'.\n",
    "- Lalu ditampilkan dengan cara di print kedua variabel tersebut.\n",
    "\n",
    "Berdasarkan output code 04, X_train berisi sekumpulan nilai features, sedangkan y_train akan berisi sekumpulan nilai target. Jika kita perhatikan pada output code 04 sekumpulan nilai features untuk training set yang dimiliki sudah dalam format array dua dimensi dan tipe datanya pun sudah berupa data numerik, artinya sekumpulan nilai features ini sudah siap digunakan untuk proses training. Tetapi jika kita perhatikan nilai targetnya, tipe datanya berupa string. Sebenarnya untuk kasus classification dengan KNN, target dengan tipe data string tetap bisa diproses dengan baik, hanya saja kita akan menghadapi kendala ketika kita ketika kita melakukan evaluasi model. Oleh karena itu, pada kasus ini saya akan mengkonversikan nilai string menjadi nilai numerik.\n",
    "\n",
    "Karena harga ini hanya terdiri dari 2 nilai, dalam kasus ini adalah 'sedang' dan 'tinggi', maka kita bisa memanfaatkan label binarizer untuk melakukan konversi nilai string tersebut menjadi numerik biner (lihat pada code 04)."
   ]
  },
  {
   "cell_type": "code",
   "execution_count": 28,
   "metadata": {},
   "outputs": [
    {
     "name": "stdout",
     "output_type": "stream",
     "text": [
      "y_train:\n",
      "[[0]\n",
      " [0]\n",
      " [1]\n",
      " [1]\n",
      " [1]\n",
      " [1]\n",
      " [1]]\n"
     ]
    }
   ],
   "source": [
    "# Code 05\n",
    "\n",
    "from sklearn.preprocessing import LabelBinarizer\n",
    "\n",
    "lb = LabelBinarizer()\n",
    "y_train = lb.fit_transform(y_train)\n",
    "print(f'y_train:\\n{y_train}')"
   ]
  },
  {
   "cell_type": "markdown",
   "metadata": {},
   "source": [
    "Proses berpikir code 05 :\n",
    "- Memanfaatkan class preprocessing yang disertakan oleh SkLearn yaitu LabelBinarizer. Oleh karena itu pertama-tama, lakukan import modul ('from sklearn.preprocessing import LabelBinarizer').\n",
    "- Lalu berikutnya, akan dicoba membentuk objek dari class label binarizer tersebut, dengan cara memanggil ('lb = LabelBinarizer()') yang akan ditampung ke dalam variabel 'lb'.\n",
    "- Selanjutnya, objek label binarizer tersebut akan saya manfaatkan untuk melakukan transformasi data yang terdapat dalam variabel 'y_train'. Oleh karena itu, kita akan panggil ('lb.fit_transform(y_train)') yang nilainya kita tampung kembali ke dalam variabel 'y_train'.\n",
    "- Terakhir akan dilakukan print out terhadap variabel 'y_train'.\n",
    "\n",
    "Pada output tersebut hanya terdapat 2 nilai yaitu 0 dan 1. Dalam hal ini nilai nol akan merepresentasikan data sedang, sedangkan nilai satu akan merepresentasikan data tinggi.\n",
    "\n",
    "Pada output code 05 tersebut, setelah melalui proses transformasi data dengan label binarizer, sekumpulan nilai target yang dimiliki, sekarang tersimpan dalam format array 2 dimensi. Oleh karena itu, kita perlu kembalikan menjadi array satu dimensi dengan method flatten (pada code 06)."
   ]
  },
  {
   "cell_type": "code",
   "execution_count": 29,
   "metadata": {},
   "outputs": [
    {
     "name": "stdout",
     "output_type": "stream",
     "text": [
      "y_train: [0 0 1 1 1 1 1]\n"
     ]
    }
   ],
   "source": [
    "# Code 06\n",
    "\n",
    "y_train = y_train.flatten()\n",
    "print(f'y_train: {y_train}')"
   ]
  },
  {
   "cell_type": "markdown",
   "metadata": {},
   "source": [
    "Proses berpikir code 06 :\n",
    "- Memanggil fungsi 'y_train.flatten()' yang akan ditampung ke dalam variabel y_train.\n",
    "- Lakukan pemanggilan dengan print untuk melihat hasilnya.  \n"
   ]
  },
  {
   "cell_type": "markdown",
   "metadata": {},
   "source": [
    "# Training KNN Classification Model"
   ]
  },
  {
   "cell_type": "markdown",
   "metadata": {},
   "source": [
    "Setelah training setnya dipersiapkan, selanjutnya akan lanjut kepada langkah melakukan pemrosesan training model. Kali ini model machine learning yang akan saya gunakan adalah KNN."
   ]
  },
  {
   "cell_type": "code",
   "execution_count": 30,
   "metadata": {},
   "outputs": [
    {
     "data": {
      "text/plain": [
       "KNeighborsClassifier(n_neighbors=3)"
      ]
     },
     "execution_count": 30,
     "metadata": {},
     "output_type": "execute_result"
    }
   ],
   "source": [
    "# Code 07\n",
    "\n",
    "from sklearn.neighbors import KNeighborsClassifier\n",
    "\n",
    "K = 3\n",
    "model = KNeighborsClassifier(n_neighbors=K)\n",
    "model.fit(X_train, y_train)"
   ]
  },
  {
   "cell_type": "markdown",
   "metadata": {},
   "source": [
    "Proses berpikir code 07 :\n",
    "- Pertama-tama akan saya import terlebih dahulu estimater class nya 'from sklearn.neighbors import KNeighborsClassifier'. Disini kita memilih KNeighbors Classifier karena kita akan menggunakan KNN ini untuk clasification task.\n",
    "- Disini terdapat satu parameter yang harus kita spesifikasikan nilainya yaitu paremeter 'K'. Untuk kasus kali ini nilai 'K' yang akan set sebagai 3. Nilai parameter 'K' ini digunakan untuk menentukan jumlah tetangga terdekat yang akan dilibatkan untuk proses prediksi, dan untuk kasus kali ini adalah 3 tetangga terdekat.\n",
    "- Setelah nilai 'K' kita tentukan, selanjutnya akan dibentuk objek dari class KNeighbors Classifier. KNeighbors Classifier ini akan membutuhkan satu parameter yaitu n_neighbors yang kita beri nilai 'K' lalu ditampung kedalam variabel 'model'.\n",
    "- Untuk selanjutnya, akan melakukan training dengan memanfaatkan X_train dan y_train yang sudah dipersiapkan sebelumnya.\n",
    "- Pada kali ini, proses trainingnya akan dilakukan dengan cara memanggil 'model.fit(X_train, y_train)'\n",
    "\n",
    "Setelah modelnya kita training (lihat pada output code 07), maka status dari model ini adalah train model atau model yang sudah di training. Pada kali ini, proses trainingnya terbilang cepat  karena ukuran data set dimiliki juga terbilang sangat kecil."
   ]
  },
  {
   "cell_type": "markdown",
   "metadata": {},
   "source": [
    "# Prediksi Harga Rumah"
   ]
  },
  {
   "cell_type": "markdown",
   "metadata": {},
   "source": [
    "Setelah model KNN Classifier nya kita training, tahapan selanjutnya saya akan menggunakan train model ini untuk melakukan prediksi harga rumah berdasarkan jumlah kamar dan tingkatnya. Disini kita akan mempersiapkan terlebih dahulu data baru yang akan saya pergunakan untuk melalkukan proses prediksi."
   ]
  },
  {
   "cell_type": "code",
   "execution_count": 31,
   "metadata": {},
   "outputs": [
    {
     "data": {
      "text/plain": [
       "array([[4, 3]])"
      ]
     },
     "execution_count": 31,
     "metadata": {},
     "output_type": "execute_result"
    }
   ],
   "source": [
    "# Code 08\n",
    "\n",
    "jumlah_kamar = 4\n",
    "type_rumah = 3\n",
    "X_new = np.array([jumlah_kamar, type_rumah]).reshape(1, -1)\n",
    "X_new"
   ]
  },
  {
   "cell_type": "markdown",
   "metadata": {},
   "source": [
    "Proses berpikir code 08 :\n",
    "- Disini semisal saja memiliki data jumlah_kamar sebesar 4 dan type rumah atau tingkat rumah sebesar 3 yang akan kita prediksi harganya apakah sedang atau tinggi.\n",
    "- Pada kali ini, nilai featuresnya harus dibentuk terlebih dulu menjadi suatu numpy array. Oleh karenanya, disini saya panggil 'np.array' lalu saya bundle jumlah kamar dan berat type rumah '([jumlah_kamar, type_rumah])'. Karena disini hanya terdapat satu dataset atau instance saja, maka perlu melakukan reshape menjadi array 2 dimensi 'reshape(1, -1)'. Lalu array ini akan ditanpung ke dalam variabel 'X_new'.\n",
    "- Lalu terkahir akan dicoba untuk ditampilkan.\n",
    "\n",
    "Bisa dilihat pada outputnya (code 08), array nya adalah array 2 dimensi dimana jumlah barisnya adalah satu dan jumlah kolom nya adalah dua.\n",
    "\n",
    "Setelah data tinggi dan berat badanny siap, selanjutnya akan dilakukan proses prediksi harga rumah dengan memanfaatkan model KNN Classifier yang sudah ditraining sebelumnya (lihat pada code 09). "
   ]
  },
  {
   "cell_type": "code",
   "execution_count": 32,
   "metadata": {},
   "outputs": [
    {
     "data": {
      "text/plain": [
       "array([1])"
      ]
     },
     "execution_count": 32,
     "metadata": {},
     "output_type": "execute_result"
    }
   ],
   "source": [
    "# Code 09\n",
    "\n",
    "y_new = model.predict(X_new)\n",
    "y_new"
   ]
  },
  {
   "cell_type": "markdown",
   "metadata": {},
   "source": [
    "Proses berpikir code 09 :\n",
    "-  Memanggil fungsi 'model.predict' lalu kita sertakan '(X_new)' nya dimana hasil prediksinya akan kita tampung kedalam variabel 'y_new'.\n",
    "- Lalu kita tampilkan pada layar.\n",
    "\n",
    "Berdasarkan hasil output code 09, bisa disimpulkan bahwa jumlah kamar 4 dan type rumah 3, ini akan diprediksi memiliki harga [1]. "
   ]
  },
  {
   "cell_type": "code",
   "execution_count": 33,
   "metadata": {},
   "outputs": [
    {
     "data": {
      "text/plain": [
       "array(['tinggi'], dtype='<U6')"
      ]
     },
     "execution_count": 33,
     "metadata": {},
     "output_type": "execute_result"
    }
   ],
   "source": [
    "# Code 10\n",
    "\n",
    "lb.inverse_transform(y_new)"
   ]
  },
  {
   "cell_type": "markdown",
   "metadata": {},
   "source": [
    "Output code 10 merupakan hasil konversi baliknya, disini bisa diketahui bahwa nilai 1 untuk target itu berkolerasi dengan tinggi atau dengan kata lain, rumah dengan jumlah kamar 4 dan memiliki 3 lantai tersebut diprediksi sebagai data 'tinggi' oleh model yang sudah ditraining sebelumnya. "
   ]
  },
  {
   "cell_type": "markdown",
   "metadata": {},
   "source": [
    "# Visualisasi Nearest Neighbour"
   ]
  },
  {
   "cell_type": "markdown",
   "metadata": {},
   "source": [
    "Untuk dapat memahami cara kerja KNN dengan lebih baik, akan dicoba untuk memvisualisasikan posisi data baru tadi terhadap sekumpulan data jumlah kamar dan type rumah yang digunakan sebelumnya untuk training model KNN."
   ]
  },
  {
   "cell_type": "code",
   "execution_count": 34,
   "metadata": {},
   "outputs": [
    {
     "data": {
      "image/png": "[encoded data removed]",
      "text/plain": [
       "<Figure size 432x288 with 1 Axes>"
      ]
     },
     "metadata": {
      "needs_background": "light"
     },
     "output_type": "display_data"
    }
   ],
   "source": [
    "# Code 11\n",
    "\n",
    "fig, ax = plt.subplots()\n",
    "for jk, d in house_df.groupby('harga'):\n",
    "    ax.scatter(d['jk'], d['type'], label=jk)\n",
    "\n",
    "plt.scatter(jumlah_kamar,\n",
    "           type_rumah,\n",
    "           marker='s',\n",
    "           color='red',\n",
    "           label='misterius')\n",
    "\n",
    "plt.legend(loc='upper left')\n",
    "plt.title('Sebaran Data Jumlah Kamar, Type Rumah, dan Harga Rumah')\n",
    "plt.xlabel('Jumlah Kamar')\n",
    "plt.ylabel('Type Rumah')\n",
    "plt.grid(True)\n",
    "plt.show()"
   ]
  },
  {
   "cell_type": "markdown",
   "metadata": {},
   "source": [
    "Proses berpikir code 11 :\n",
    "- Tidak perlu mengimport matplotlib karena cukup sekali saja.\n",
    "- Memanggil 'plt.subplots()' untuk mendapatkan objek figure dan axes nya.\n",
    "- Lalu berikutnya, akan dicoba untuk menampilkan kembali data points dari dataset yang dimiliki. \n",
    "- Caranya kurang lebih sama dengan cara sebelumnya, hanya saja disini kita akan menyertakan marker baru pada scatter plot. Marker baru ini dihasilkan dengan memanggil  'plt.scatter' dimana nilai x nya itu berasal dari variabel Jumlah Kamar dan nilai y nya berasal dari type rumah, sedangkan untuk  markernya kita beri nilai 's' karena bentuk markernya sebagai square atau kotak. Lalu untuk colour diberikan warna merah 'red', dan labelnya diberi nama label 'misterius'."
   ]
  },
  {
   "cell_type": "markdown",
   "metadata": {},
   "source": [
    "# Kalkulasi Distance (Euclidean Distance)"
   ]
  },
  {
   "cell_type": "markdown",
   "metadata": {},
   "source": [
    "$distance = \\sqrt{(t_1 - t_2)^2  + (b_1 - b_2)^2 }$"
   ]
  },
  {
   "cell_type": "markdown",
   "metadata": {},
   "source": [
    "Euclidean distance digunakan untuk mengukur jarak antara satu data ponit dengan data point lainnya. \n",
    "\n",
    "Untuk selanjutnya, sejumlah K data point dengan jarak terdekat inilah yang akan digunakan oleh KNN sebagai nearest neighbors atau tetangga terdekatnya.\n",
    "\n",
    "Penjelasan rumus Euclidean Distance :\n",
    "- t : merepresentasikan tinggi badan.\n",
    "- b : merepresentasikan berat badan.\n",
    "- t1 : merepresentasikan data tinggi badan dari data point yang pertama.\n",
    "- t2 : merepresentasikan data tinggi badan dari data point yang kedua.\n",
    "- b1 : merepresentasikan data berat badan dari data point yang pertama. \n",
    "- b2 : merepresentasikan data berat badan dari data point yang kedua.\n",
    "\n",
    "Formula atau rumus tersebut dapat digunakan untuk mengukur jarak atau distance atau kedekatan antara data point pertama dengan data point kedua.\n",
    "\n",
    "Selanjutnya, saya akan mencoba untuk melakukan proses kalkulasi yang diterapkan oleh KNN dalam menentukan tetangga terdekat untuk suatu data point yang akan diprediksi."
   ]
  },
  {
   "cell_type": "code",
   "execution_count": 35,
   "metadata": {},
   "outputs": [
    {
     "data": {
      "text/plain": [
       "array([4, 3])"
      ]
     },
     "execution_count": 35,
     "metadata": {},
     "output_type": "execute_result"
    }
   ],
   "source": [
    "# Code 12\n",
    "\n",
    "misterius = np.array([jumlah_kamar, type_rumah])\n",
    "misterius"
   ]
  },
  {
   "cell_type": "code",
   "execution_count": 36,
   "metadata": {},
   "outputs": [
    {
     "data": {
      "text/plain": [
       "array([[2, 1],\n",
       "       [2, 2],\n",
       "       [3, 2],\n",
       "       [5, 2],\n",
       "       [4, 3],\n",
       "       [6, 4],\n",
       "       [6, 4]], dtype=int64)"
      ]
     },
     "execution_count": 36,
     "metadata": {},
     "output_type": "execute_result"
    }
   ],
   "source": [
    "# Code 13\n",
    "\n",
    "X_train"
   ]
  },
  {
   "cell_type": "code",
   "execution_count": 37,
   "metadata": {},
   "outputs": [
    {
     "data": {
      "text/plain": [
       "[2.8284271247461903,\n",
       " 2.23606797749979,\n",
       " 1.4142135623730951,\n",
       " 1.4142135623730951,\n",
       " 0.0,\n",
       " 2.23606797749979,\n",
       " 2.23606797749979]"
      ]
     },
     "execution_count": 37,
     "metadata": {},
     "output_type": "execute_result"
    }
   ],
   "source": [
    "# Code 14\n",
    "\n",
    "from scipy.spatial.distance import euclidean\n",
    "\n",
    "data_jarak = [euclidean(misterius, d) for d in X_train]\n",
    "data_jarak"
   ]
  },
  {
   "cell_type": "code",
   "execution_count": 38,
   "metadata": {},
   "outputs": [
    {
     "data": {
      "text/html": [
       "<div>\n",
       "<style scoped>\n",
       "    .dataframe tbody tr th:only-of-type {\n",
       "        vertical-align: middle;\n",
       "    }\n",
       "\n",
       "    .dataframe tbody tr th {\n",
       "        vertical-align: top;\n",
       "    }\n",
       "\n",
       "    .dataframe thead th {\n",
       "        text-align: right;\n",
       "    }\n",
       "</style>\n",
       "<table border=\"1\" class=\"dataframe\">\n",
       "  <thead>\n",
       "    <tr style=\"text-align: right;\">\n",
       "      <th></th>\n",
       "      <th>jk</th>\n",
       "      <th>type</th>\n",
       "      <th>harga</th>\n",
       "      <th>jarak</th>\n",
       "    </tr>\n",
       "  </thead>\n",
       "  <tbody>\n",
       "    <tr>\n",
       "      <td>4</td>\n",
       "      <td>4</td>\n",
       "      <td>3</td>\n",
       "      <td>tinggi</td>\n",
       "      <td>0.000000</td>\n",
       "    </tr>\n",
       "    <tr>\n",
       "      <td>2</td>\n",
       "      <td>3</td>\n",
       "      <td>2</td>\n",
       "      <td>tinggi</td>\n",
       "      <td>1.414214</td>\n",
       "    </tr>\n",
       "    <tr>\n",
       "      <td>3</td>\n",
       "      <td>5</td>\n",
       "      <td>2</td>\n",
       "      <td>tinggi</td>\n",
       "      <td>1.414214</td>\n",
       "    </tr>\n",
       "    <tr>\n",
       "      <td>1</td>\n",
       "      <td>2</td>\n",
       "      <td>2</td>\n",
       "      <td>sedang</td>\n",
       "      <td>2.236068</td>\n",
       "    </tr>\n",
       "    <tr>\n",
       "      <td>5</td>\n",
       "      <td>6</td>\n",
       "      <td>4</td>\n",
       "      <td>tinggi</td>\n",
       "      <td>2.236068</td>\n",
       "    </tr>\n",
       "    <tr>\n",
       "      <td>6</td>\n",
       "      <td>6</td>\n",
       "      <td>4</td>\n",
       "      <td>tinggi</td>\n",
       "      <td>2.236068</td>\n",
       "    </tr>\n",
       "    <tr>\n",
       "      <td>0</td>\n",
       "      <td>2</td>\n",
       "      <td>1</td>\n",
       "      <td>sedang</td>\n",
       "      <td>2.828427</td>\n",
       "    </tr>\n",
       "  </tbody>\n",
       "</table>\n",
       "</div>"
      ],
      "text/plain": [
       "   jk  type   harga     jarak\n",
       "4   4     3  tinggi  0.000000\n",
       "2   3     2  tinggi  1.414214\n",
       "3   5     2  tinggi  1.414214\n",
       "1   2     2  sedang  2.236068\n",
       "5   6     4  tinggi  2.236068\n",
       "6   6     4  tinggi  2.236068\n",
       "0   2     1  sedang  2.828427"
      ]
     },
     "execution_count": 38,
     "metadata": {},
     "output_type": "execute_result"
    }
   ],
   "source": [
    "# Code 15\n",
    "\n",
    "house_df['jarak'] = data_jarak\n",
    "house_df.sort_values(['jarak'])"
   ]
  },
  {
   "cell_type": "markdown",
   "metadata": {},
   "source": [
    "Proses berpikir code 12-15:\n",
    "- Pertama, data point misterius tersebut akan saya akan bentuk terlebih dahulu ke dalam format numpy array 'np.array([jumlah_kamar, type_rumah])'.\n",
    "- Lalu selanjutnya akan ditampung ke dalam variabel misterius.\n",
    "- Lalu berikutnya (pada code 13), akan menampilkan sekumpulan nilai features dari training set. Berdasarkan hasil output code 13, saya akan mencoba hitung jarak berdasarkan euclidean distance antara data point misterius (hasil output code 12) dengan setiap data point lain pada dataset 'X_train' (hasil output code 13).\n",
    "- Untuk menghitung jarak antara keduanya, saya akan gunakan function euclidean yang sudah disertakan pada scipy (pada code 14).\n",
    "- Caranya cukup mudah, hanya tinggal memanggil method atau function 'from scipy.spatial.distance import euclidean'.\n",
    "- Lalu berikutnya tinggal dipakai saja euclidean distancenya. Pada code 14 baris code kedua, funtion euclidean system tersebut digunakan untuk mengukur jarak atau kedekatan atau distancenya antara data point misterius dengan suatu data point lain (dalam kasus ini adalah 'd') di dalam variabel 'X_train' yang ditampung ke dalam variabel 'data_jarak'.\n",
    "- Kemudian tampilkan ke layar.\n",
    "- Pada hasil output code 14, kita bisa melihat bahwa jarak antara data point misterius dengan data point pertama pada 'X_train' (4) adalah (0.000000) dan seterusnya.\n",
    "- Selanjutnya untuk mempermudah proses pengamatan, saya akan membentuk kolom baru pada 'house_df' dengan memanfaatkan data jarak pada hasil output 14 (perhatikan pada code 15). Oleh karena itu, selanjutnya hanya tinggal memanggil 'house_df['jarak'] = data_jarak' artinya disini akan membentuk kolom  baru pada house df dengan nama jarak, lalu datanya saya ambil dari variabel 'data_jarak' (pada code 14)\n",
    "- Untuk selanjutnya, DataFrame 'house_df' ini akan diurutkan nilainya berdasarkan kolom jarak. Dalam hal ini, pengurutan dilakukan secara ascending artinya dari nilai terkecil sampe yang terbesar (lihat pada code 15)\n",
    "- Pada hasil output code 15, bisa dilihat bahwa datanya sudah terurut berdasarkan kolom jarak. Karena untuk kasus kita kali ini nilai 'k' nya adalah 3, maka akan hanya memperhatikan 3 data point dengan jarak terdekat atau jarak terkecil dengan data point misterius yang dimiliki. Oleh karenanya, bisa dilihat pada output code 15 juga, bahwa 3 baris pertama merupakan 3 neighbor terdekat yang akan menjadi perhatikan untuk melakukan proses prediksi.\n",
    "- Untuk neigbor pertama, harganya adalah tinggi, neighbor kedua harganya adalah tinggi, dan neighbor yang ketiga harganya adalah tinggi.\n",
    "- Berdasarkan data neighbors tersebut, makan nilai KNN akan memprediksi data point misterius tersebut sebagai data harga dengan harga tinggi."
   ]
  },
  {
   "cell_type": "markdown",
   "metadata": {},
   "source": [
    "# Evaluasi KNN Classification Model"
   ]
  },
  {
   "cell_type": "markdown",
   "metadata": {},
   "source": [
    "Setelah memahami memanfaatkan KNN untuk menyeeleksi tetangga terdekat, selanjutnya ada beberapa matriks yang bisa digunakan untuk mmengukur performa dari model machine learning untuk kasus classification task dengan menyiapkan terlebih dahulu testing set nya."
   ]
  },
  {
   "cell_type": "code",
   "execution_count": 39,
   "metadata": {},
   "outputs": [
    {
     "name": "stdout",
     "output_type": "stream",
     "text": [
      "X_test:\n",
      "[[2 1]\n",
      " [1 1]\n",
      " [3 2]\n",
      " [4 3]]\n",
      "\n",
      "y_test:\n",
      "[0 0 1 1]\n"
     ]
    }
   ],
   "source": [
    "# Code 16\n",
    "\n",
    "X_test = np.array([[2, 1], [1, 1], [3, 2], [4, 3]])\n",
    "y_test = lb.transform(np.array(['sedang', 'sedang', 'tinggi', 'tinggi'])).flatten()\n",
    "\n",
    "print(f'X_test:\\n{X_test}\\n')\n",
    "print(f'y_test:\\n{y_test}')"
   ]
  },
  {
   "cell_type": "markdown",
   "metadata": {},
   "source": [
    "Proses berpikir code 16 :\n",
    "- Code tersebut berupa testing set, dimana testing set tersebut terdiri dari 4 data point. Oleh karena itu, saya disni akan menyiapkan numpy array yang terdiri dari 4 baris dan 2 kolom sebagai 'X_test'.\n",
    "- Lalu berikutnya, disini saya akan menyiapkan target yang terdiri dari 4 data yaitu 'sedang', 'sedang', 'tinggi', 'tinggi' yang harus ditransformasikan menjadi nilai numerik biner dengan memanfaatkan label binarizer dengan memanggil 'lb.transform' yang akan menghasilkan array 2 dimensi, padahal yang kita harapkan untuk 'y_test'adalah array 1 dimensi. Oleh karena itu, disini perlu untuk  memanggil method flatten.\n",
    "- Jika dilihat pada hasil outputnya sudah sesuai dengan harapan yang dimana X_test nya terdiri dari sekumpulan nilai numerik yang di bundle atau dikemas sebagai array 2 dimensi. Demikian juga nilai y_test nya yang terdiri dari sekumpulan nilai numerik biner pada kasus kali ini yang di bundle dalam suatu numpy array satu dimensi."
   ]
  },
  {
   "cell_type": "markdown",
   "metadata": {},
   "source": [
    "# Prediksi Terhadap Testing Set"
   ]
  },
  {
   "cell_type": "code",
   "execution_count": 40,
   "metadata": {},
   "outputs": [
    {
     "data": {
      "text/plain": [
       "array([0, 0, 0, 1])"
      ]
     },
     "execution_count": 40,
     "metadata": {},
     "output_type": "execute_result"
    }
   ],
   "source": [
    "# Code 17\n",
    "\n",
    "y_pred = model.predict(X_test)\n",
    "y_pred"
   ]
  },
  {
   "cell_type": "markdown",
   "metadata": {},
   "source": [
    "Setelah testing setnya siap (pada code 16), selanjutnya akan dilakukannya prediksi terhadap testing set tersebut dengan memanfaatkan model KNN Classifier yang sudah ditraining sebelumnya.\n",
    "\n",
    "Proses berpikir code 17 :\n",
    "- Memanggil 'model.predict(X_test)' yang diprediksi adalah nilai X_test nya yang akan ditampung ke dalam variabel y_pred.\n",
    "- Lalu saya akan panggil kembali fungsi tersebut untuk melihat hasilnya.\n",
    "\n",
    "Bisa kita lihat pada hasil output code 17, nilai yang diharapkan adalah nilai yang ada di dalam y_test (lihat pada output code 16), dimana [0, 0, 1, 1] sedangkan model prediksi yang diperoleh (pada code 16) adalah [0, 0, 0, 1] yang ditampung kedalam variabel y_pred. Untuk fase evaluasi, pada intinya adalah untuk membandingkan nilai y_test (pada output code 16) dengan nilai y_pred nya (pada output code 17)."
   ]
  },
  {
   "cell_type": "markdown",
   "metadata": {},
   "source": [
    "# Accuracy"
   ]
  },
  {
   "cell_type": "markdown",
   "metadata": {},
   "source": [
    "Matriks evaluasi pertama yang akan saya coba adalah accuracy. Akurasi adalah proprosi dari instance pada training set yang diklasifikasikan secara benar atau yang berhasil diprediksi dengan tepat."
   ]
  },
  {
   "cell_type": "markdown",
   "metadata": {},
   "source": [
    "$accuracy  =  \\frac{tp + tn}{tp + tn + fp + fn}$ "
   ]
  },
  {
   "cell_type": "markdown",
   "metadata": {},
   "source": [
    "Perhatikan pada rumus accuracy :\n",
    "- tp = true positive\n",
    "- tn = true negative\n",
    "- fp = false postive\n",
    "- fn = false negative\n",
    "\n",
    "True postif dan truen negatif merepresentasikan hasil prediksi atau klasifikasi yang benar. True postive berarti sesuatu yang bernilai positif telah dengan tepat diprediksi sebagai positif oleh model, sedangkan true negative berarti sesuatu yang bernilai negatif telah dengan tepat diprediksi sebagai sesuatu yang negatif oleh model.\n",
    "\n",
    "Jika mengacu pada kasus tersebut, true positif berarti model sudah dengan tepat memprediksi data sedang sebagai harga sedang dan data tinggi sebagai harga tinggi, sedangkan true negatif berarti model sudah dengan tepat memprediksi sebagai data sedang sebagai bukan tinggi dan data tinnggi sebagai bukan sedang.\n",
    "\n",
    "Dua istilah berikutnya adalah false positive dan false negative, keduanya merepresentasikan hasil prediksi atau klasifikasi yang salah. False positive berarti sesuatu yang bernilai negatif telah keliru diprediksi sebagai positif oleh model. Sedangkan false negative, berarti sesuatu yang bernilai postif telah keliru diprediksi sebagai negatif oleh model atau jika mengacu pada kasus tersebut, false positif berarti model sudah dengan keliru memprediksi data tinggi sebagai sedang dan data sedang sebagai tinggi, sedangkan false negative berarti model sudah dengan keliru memprediksi data sedang sebagai bukan sedang dan data tinggi sebagai bukan tinggi."
   ]
  },
  {
   "cell_type": "code",
   "execution_count": 41,
   "metadata": {},
   "outputs": [
    {
     "name": "stdout",
     "output_type": "stream",
     "text": [
      "Accuracy: 0.75\n"
     ]
    }
   ],
   "source": [
    "# Code 18\n",
    "\n",
    "from sklearn.metrics import accuracy_score\n",
    "\n",
    "acc = accuracy_score(y_test, y_pred)\n",
    "\n",
    "print(f'Accuracy: {acc}')"
   ]
  },
  {
   "cell_type": "markdown",
   "metadata": {},
   "source": [
    "Code 18 merupakan tahapan menggunakan matriks accuracy untuk melakukan evaluasi model machine learning pada SKLearn.\n",
    "\n",
    "Proses berpikir code 18 :\n",
    "- Memangil method 'from sklearn.metrics import accuracy_score'.\n",
    "- Lalu cara pemanfaatannya cukup sederhana, tinggal memanggil saja 'accuracy_score' dengan menyertakan 2 buah parameter. Parameter pertama adalah 'y_test' dan parameter kedua adalah 'y_pred'. 'y_test' merupakan target dari testing set, sedangkan 'y_pred' merupakan hasil prediksi untuk target dari testing setnya, lalu nilai akurasi ini kita tampung ke dalam variabel acc.\n",
    "- Lalu tampilkan ke layar.\n",
    "\n",
    "Bisa kita lihat pada output code 18, nilai akurasinya adalah 0.75 atau ddengan kata lain nilai akurasinya adalah 75%."
   ]
  },
  {
   "cell_type": "markdown",
   "metadata": {},
   "source": [
    "# Precission"
   ]
  },
  {
   "cell_type": "markdown",
   "metadata": {},
   "source": [
    "Matrik evaluasi kedua yang akan dipakai adalah precission. Presisi adalah proporsi dari tetsing set yang diprediksi sebagai positif oleh model, yang memang benar-benar positif.  "
   ]
  },
  {
   "cell_type": "markdown",
   "metadata": {},
   "source": [
    "$precission  =  \\frac{tp}{tp  \\ + \\  fp}$\n",
    "\n",
    "Perhatikan pada rumus atau formula precission :\n",
    "- tp : merepresentasikan nilai true positive.\n",
    "- fp : merepresentasikan nilai false positive."
   ]
  },
  {
   "cell_type": "markdown",
   "metadata": {},
   "source": [
    "Selanjutnya akan mencoba untuk melakukan tahapan matrix precision tersebut untuk melakukan evaluasi model machine learning pada SKLearn (perhatikan pada code 19)."
   ]
  },
  {
   "cell_type": "code",
   "execution_count": 42,
   "metadata": {},
   "outputs": [
    {
     "name": "stdout",
     "output_type": "stream",
     "text": [
      "Precission: 1.0\n"
     ]
    }
   ],
   "source": [
    "# Code 19\n",
    "\n",
    "from sklearn.metrics import precision_score\n",
    "\n",
    "prec = precision_score(y_test, y_pred)\n",
    "\n",
    "print(f'Precission: {prec}')"
   ]
  },
  {
   "cell_type": "markdown",
   "metadata": {},
   "source": [
    "Proses berpikir code 19 :\n",
    "- Pertama, akan diimport terlebih dahulu precision score nya dengan cara 'from sklearn.metrics import precision_score'.\n",
    "- Lalu untuk menggunakannya sama seperti cara menggunakan evaluation matrix yang lainnya, hanya cukup memanggil 'precision_score(y_test, y_pred)', disini menyertakan nilai 'y_test' dan juga 'y_pred' sebagai parameternya. \n",
    "- Lalu hasilnya akan ditampung ke dalam variabel 'prec'.\n",
    "- Kemudian tampilkan dengan cara print.\n",
    "\n",
    "Bisa kita lihat pada hasil output code 19, bahwa nilai precissionnya adalah 1.0 sekian atau disini bisa dibilang bahwa nilai precisionnya adalah 0,1%."
   ]
  },
  {
   "cell_type": "markdown",
   "metadata": {},
   "source": [
    "# Recall"
   ]
  },
  {
   "cell_type": "markdown",
   "metadata": {},
   "source": [
    "Recall adalah proporsi dari data pada testing set yang memang benar-benar positif yang diprediksi sebagai positif oleh model tersedia."
   ]
  },
  {
   "cell_type": "markdown",
   "metadata": {},
   "source": [
    "$recall  =  \\frac{tp}{tp + fn}$"
   ]
  },
  {
   "cell_type": "markdown",
   "metadata": {},
   "source": [
    "Perhatikan pada formula atau rumus recall :\n",
    "- tp : merepresentasikan nilai true positive.\n",
    "- fn : merepresentasikan nilai false negative."
   ]
  },
  {
   "cell_type": "code",
   "execution_count": 43,
   "metadata": {},
   "outputs": [
    {
     "name": "stdout",
     "output_type": "stream",
     "text": [
      "Recall: 0.5\n"
     ]
    }
   ],
   "source": [
    "# Code 20\n",
    "\n",
    "from sklearn.metrics import recall_score\n",
    "\n",
    "rec = recall_score(y_test, y_pred)\n",
    "\n",
    "print(f'Recall: {rec}')"
   ]
  },
  {
   "cell_type": "markdown",
   "metadata": {},
   "source": [
    "Proses berpikir code 20 :\n",
    "- Pertama, mengimport 'from sklearn.metrics import recall_score'\n",
    "- Lalu pemanfaatannya, tinggal memanggil 'rec = recall_score(y_test, y_pred)'. Seperti biasa nilai 'y_test' dan 'y_pred' merupakan parameternya, yang ditampung ke dalam variabel 'rec'.\n",
    "- Terakhir ditampilkan dengan print.\n",
    "\n",
    "Berdasarkan output code 20, nilai recall nya adalah 0.5 yang merupakan nilai tertinggi atau dengan kata lain, nilai recall nya adalah 50%."
   ]
  },
  {
   "cell_type": "markdown",
   "metadata": {},
   "source": [
    "# F1 Score"
   ]
  },
  {
   "cell_type": "markdown",
   "metadata": {},
   "source": [
    "Metriks selanjutnya yang akan digunakan adalah F1 Score.\n",
    "\n",
    "F1 score  yaitu f1 score merupakan harmonik mean atau nilai rata-rata harmonik dari percision dan recall. "
   ]
  },
  {
   "cell_type": "markdown",
   "metadata": {},
   "source": [
    "$F1  =  2 \\ \\times \\ \\frac{precision \\ \\times \\ recall}{precision \\ + \\ recall}$"
   ]
  },
  {
   "cell_type": "code",
   "execution_count": 44,
   "metadata": {},
   "outputs": [
    {
     "name": "stdout",
     "output_type": "stream",
     "text": [
      "F1-score: 0.6666666666666666\n"
     ]
    }
   ],
   "source": [
    "# Code 21\n",
    "\n",
    "from sklearn.metrics import f1_score\n",
    "\n",
    "f1 = f1_score(y_test, y_pred)\n",
    "\n",
    "print(f'F1-score: {f1}')"
   ]
  },
  {
   "cell_type": "markdown",
   "metadata": {},
   "source": [
    "Proses berpikir code 21 :\n",
    "- Pertama-tama saya akan mengimport terlebih dahulu 'from sklearn.metrics import f1_score'.\n",
    "- Lalu untuk menggunakannya juga sama, hanya tinggal memanggil 'f1 = f1_score(y_test, y_pred)' dimana 'y_test' dan 'y_pred' sebagai parameternya yang akan saya tampung ke dalam variabel 'f1'.\n",
    "- Terakhir tampilkan pada layar hasilnya.\n",
    "\n",
    "Berdasarkan output code 21, memeroleh f1-score nya adalah 0.666.\n"
   ]
  },
  {
   "cell_type": "markdown",
   "metadata": {},
   "source": [
    "# Classification Report"
   ]
  },
  {
   "cell_type": "markdown",
   "metadata": {},
   "source": [
    "Keempat matriks yang sudah dilakukan sebelumnya, juga bisa ditampilkan secara keseluruhan sebagai classification report. Sesuai dengan namanya, keempat matriks tersebut memang digunakan untuk mengukur performa model pada classification task.  \n",
    "\n",
    "Berikutnya saya akan mencoba cara untuk menampilkan classification report dengan memanfaatkan SKlearn (perhatikan pada code 22). "
   ]
  },
  {
   "cell_type": "code",
   "execution_count": 45,
   "metadata": {},
   "outputs": [
    {
     "name": "stdout",
     "output_type": "stream",
     "text": [
      "Classification Report :\n",
      "              precision    recall  f1-score   support\n",
      "\n",
      "           0       0.67      1.00      0.80         2\n",
      "           1       1.00      0.50      0.67         2\n",
      "\n",
      "    accuracy                           0.75         4\n",
      "   macro avg       0.83      0.75      0.73         4\n",
      "weighted avg       0.83      0.75      0.73         4\n",
      "\n"
     ]
    }
   ],
   "source": [
    "# Code 22\n",
    "\n",
    "from sklearn.metrics import classification_report\n",
    "\n",
    "cls_report = classification_report(y_test, y_pred)\n",
    "\n",
    "print(f'Classification Report :\\n{cls_report}')"
   ]
  },
  {
   "cell_type": "markdown",
   "metadata": {},
   "source": [
    "Proses berpikir code 22 :\n",
    "- Pertama, saya akan panggil dengan menggunakan 'from sklearn.metrics import classification_report'.\n",
    "- Lalu pemanfaatannya juga sama dengan matriks yang lainnya, hanya tinggal memanggil 'classification_report(y_test, y_pred)', dimana 'y_test' dan 'y_pred' merupakan parameternya yang akan ditampung ke dalam variabel 'cls_report.\n",
    "- Terakhir, tampilkan ke layar dengan print.\n",
    "\n",
    "Bisa kita lihat pada output code 22, dilihat nilai precision, recall, dan f1-score dan juga bisa dilihat pengklasifikasiannya. Keempat matriks evaluasi yang dipelajari ini ditunjukan untuk binary classifier, dimana berapa pun banyaknya jumlah class atau kelompok nilai yang terdapat pada targets tetap akan diasumsikan sebagai dua kelompok nilai saja yaitu positif atau negatif.\n",
    "\n",
    "Disini nilai biner satu akan dipandang sebagai nilai positif secara deafult, sedangkan nilai biner 0 akan dipandang sebagai nilai negatif.\n",
    "\n",
    "Classification report yang ditampilkan pada output code 22 mencankup nilai presicion recall dan f1-score untuk keseluruhan kelas baik yang bernilai 0 maupun 1. Oleh karena itu, sebaiknya menggunakan classification report daripada melakukan pengukuran precision, recall, serta f1-score secara terpisah. Selain itu, classification report juga menampilkan nilai rata-rata untuk precision, recall, dan f1-score."
   ]
  },
  {
   "cell_type": "markdown",
   "metadata": {},
   "source": [
    "# Matthews Correlation Coefficient (MCC)"
   ]
  },
  {
   "cell_type": "markdown",
   "metadata": {},
   "source": [
    "Metriks evaluasi kelima yang akan digunakan adalah matthews correlation coefficient atau yang biasa disingkat menjadi MCC.\n",
    "\n",
    "- MCC is an alternative to the F1 score for measuring the performance of binary classifiers. Dalam bahasa indonesia, bisa bilang bahwa mcc merupakan alternatif untuk f1-score yang digunakan untuk keperluan pengukuran performa dari binary classifier.\n",
    "- A perfect classifier's MCC is 1. Dalam terjemahan bahasa indonesia, artinya nilai tertingginya adalah satu. \n",
    "- A trivial classifier that predicts randomly will score 0, and a perfectly wrong classifier will score -1. Dalam bahasa indonesia yaitu jika prediksinya dilakukan secara random atau acak dan asal maka nilai scorenya adalah 0, atau jika model classifier nya benar-benar kacau maka akan menghasilkan nilai -1. Oleh karena itu, nilai rentan MCC ini dimulai dari -1 untuk kondisi terburuk sampai dengan 1 untuk kondisi terbaiknya."
   ]
  },
  {
   "cell_type": "markdown",
   "metadata": {},
   "source": [
    "$MCC = \\frac{tp \\ \\times \\ tn + fp \\ \\times \\ fn}{\\sqrt{(tp + fp) \\ \\times \\ (tp + fn) \\ \\times \\ (tn + fp) \\ \\times \\ (tn + fn)}}$"
   ]
  },
  {
   "cell_type": "code",
   "execution_count": 46,
   "metadata": {},
   "outputs": [
    {
     "name": "stdout",
     "output_type": "stream",
     "text": [
      "MCC: 0.5773502691896258\n"
     ]
    }
   ],
   "source": [
    "# Code 23\n",
    "\n",
    "from sklearn.metrics import matthews_corrcoef\n",
    "\n",
    "mcc = matthews_corrcoef(y_test, y_pred)\n",
    "\n",
    "print(f'MCC: {mcc}')"
   ]
  },
  {
   "cell_type": "markdown",
   "metadata": {},
   "source": [
    "Pada code 23 merupakan cara atau tahapan menggunakan mcc untuk melakukan evaluasi model machine learning pada SkLearn.\n",
    "\n",
    "Proses berpikir code 23 :\n",
    "- Pertama, memanggil'from sklearn.metrics import matthews_corrcoef'.\n",
    "- Lalu untuk menggunakan matthews correlation coefficient ini hanya tinggal memanggil saja 'matthews_corrcoef' lalu sertakan parameternya yang dalam hal ini, parameter pertama adalah'y_test' dan parameter kedua adalah 'y_pred' yang kemudian ditampung ke dalam variabel mcc.\n",
    "- Kemudian tampilkan ke layar dengan cara memanggilnya denga print.\n",
    "\n",
    "Berdasarkan output code 23, nilai MCC nya adalah 0.5773502691896258."
   ]
  },
  {
   "cell_type": "markdown",
   "metadata": {},
   "source": [
    "Demikianlah cara yang digunakan untuk memprediksi boston house pricing dengan memanfaatkan \"Classification KNN\"."
   ]
  },
  {
   "cell_type": "markdown",
   "metadata": {},
   "source": [
    "# \" Banyak Belajar Biar Bisa Bantu Banyak Orang \""
   ]
  },
  {
   "cell_type": "markdown",
   "metadata": {},
   "source": [
    "By : Clarence Code Pianist (1973010)"
   ]
  }
 ],
 "metadata": {
  "kernelspec": {
   "display_name": "Python 3",
   "language": "python",
   "name": "python3"
  },
  "language_info": {
   "codemirror_mode": {
    "name": "ipython",
    "version": 3
   },
   "file_extension": ".py",
   "mimetype": "text/x-python",
   "name": "python",
   "nbconvert_exporter": "python",
   "pygments_lexer": "ipython3",
   "version": "3.7.4"
  }
 },
 "nbformat": 4,
 "nbformat_minor": 2
}
