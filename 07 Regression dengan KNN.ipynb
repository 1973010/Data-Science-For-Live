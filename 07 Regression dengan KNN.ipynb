{
 "cells": [
  {
   "cell_type": "markdown",
   "metadata": {},
   "source": [
    "# Regression dengan KNN (K Nearest Neighbour)\n",
    "\n",
    "- KNN adalah model machine learning yang dapat digunakan untuk melakukan prediksi berdasarkan kedekatan karakteristik dengan sejumlah tetangga terdekat.\n",
    "- Prediksi yang dilakukan dapat diterapkan baik pada classification maupun regression tasks.\n",
    "\n",
    "Referensi : https://en.wikipedia.org/wiki/K-nearest_neighbors_algorithm"
   ]
  },
  {
   "cell_type": "markdown",
   "metadata": {},
   "source": [
    "Pada sesi pembelajaran kali ini, akan berfokus pada penerapan KNN untuk regression task."
   ]
  },
  {
   "cell_type": "markdown",
   "metadata": {},
   "source": [
    "# Sample Dataset"
   ]
  },
  {
   "cell_type": "markdown",
   "metadata": {},
   "source": [
    "Dataset dibawah ini adalah dataset yang sama dengan dataset pada sesi pembeljaran sebelumnya, dataset ini berisi 'berat badan', 'tinggi badan', dan 'jenis kelamin' dari sejumlah partisipan yang kita tampung kedalam format pandas dataframe. "
   ]
  },
  {
   "cell_type": "code",
   "execution_count": 55,
   "metadata": {},
   "outputs": [
    {
     "data": {
      "text/html": [
       "<div>\n",
       "<style scoped>\n",
       "    .dataframe tbody tr th:only-of-type {\n",
       "        vertical-align: middle;\n",
       "    }\n",
       "\n",
       "    .dataframe tbody tr th {\n",
       "        vertical-align: top;\n",
       "    }\n",
       "\n",
       "    .dataframe thead th {\n",
       "        text-align: right;\n",
       "    }\n",
       "</style>\n",
       "<table border=\"1\" class=\"dataframe\">\n",
       "  <thead>\n",
       "    <tr style=\"text-align: right;\">\n",
       "      <th></th>\n",
       "      <th>tinggi</th>\n",
       "      <th>jk</th>\n",
       "      <th>berat</th>\n",
       "    </tr>\n",
       "  </thead>\n",
       "  <tbody>\n",
       "    <tr>\n",
       "      <td>0</td>\n",
       "      <td>158</td>\n",
       "      <td>pria</td>\n",
       "      <td>64</td>\n",
       "    </tr>\n",
       "    <tr>\n",
       "      <td>1</td>\n",
       "      <td>170</td>\n",
       "      <td>pria</td>\n",
       "      <td>86</td>\n",
       "    </tr>\n",
       "    <tr>\n",
       "      <td>2</td>\n",
       "      <td>183</td>\n",
       "      <td>pria</td>\n",
       "      <td>84</td>\n",
       "    </tr>\n",
       "    <tr>\n",
       "      <td>3</td>\n",
       "      <td>191</td>\n",
       "      <td>pria</td>\n",
       "      <td>80</td>\n",
       "    </tr>\n",
       "    <tr>\n",
       "      <td>4</td>\n",
       "      <td>155</td>\n",
       "      <td>wanita</td>\n",
       "      <td>49</td>\n",
       "    </tr>\n",
       "    <tr>\n",
       "      <td>5</td>\n",
       "      <td>163</td>\n",
       "      <td>wanita</td>\n",
       "      <td>59</td>\n",
       "    </tr>\n",
       "    <tr>\n",
       "      <td>6</td>\n",
       "      <td>180</td>\n",
       "      <td>wanita</td>\n",
       "      <td>67</td>\n",
       "    </tr>\n",
       "    <tr>\n",
       "      <td>7</td>\n",
       "      <td>158</td>\n",
       "      <td>wanita</td>\n",
       "      <td>54</td>\n",
       "    </tr>\n",
       "    <tr>\n",
       "      <td>8</td>\n",
       "      <td>170</td>\n",
       "      <td>wanita</td>\n",
       "      <td>67</td>\n",
       "    </tr>\n",
       "  </tbody>\n",
       "</table>\n",
       "</div>"
      ],
      "text/plain": [
       "   tinggi      jk  berat\n",
       "0     158    pria     64\n",
       "1     170    pria     86\n",
       "2     183    pria     84\n",
       "3     191    pria     80\n",
       "4     155  wanita     49\n",
       "5     163  wanita     59\n",
       "6     180  wanita     67\n",
       "7     158  wanita     54\n",
       "8     170  wanita     67"
      ]
     },
     "execution_count": 55,
     "metadata": {},
     "output_type": "execute_result"
    }
   ],
   "source": [
    "# Code 01\n",
    "\n",
    "import pandas as pd\n",
    "\n",
    "sensus = {'tinggi' : [158, 170, 183, 191, 155, 163, 180, 158, 170],\n",
    "         'jk' : ['pria', 'pria', 'pria', 'pria', 'wanita', 'wanita', 'wanita', 'wanita', 'wanita'],\n",
    "         'berat' : [64, 86, 84, 80, 49, 59, 67, 54, 67]}\n",
    "\n",
    "sensus_df = pd.DataFrame(sensus)\n",
    "sensus_df"
   ]
  },
  {
   "cell_type": "markdown",
   "metadata": {},
   "source": [
    "Alur berpikir code 01 :\n",
    "- Pertama-tama, kita import terlebih dahulu modul pandas 'import pandas as pd'.\n",
    "- Lalu berikutnya, kita akan menyiapkan suatu dictionary yang terdiri dari 3 buah keys yaitu, 'tinggi', 'jk', dan 'berat'.\n",
    "- Key 'tinggi' akan berasosiasi dengan sekumpulan nilai tinggi badan.\n",
    "- Key 'jk' akan berasosiasi dengan sekumpulan nilai jenis kelamin. Dalam kali ini nilai jenis kelamin terdiri dari 2 nilai string, yaitu 'pria' dan 'wanita'.\n",
    "- Key 'berat' akan berasosiasi dengan sekumpulan nilai berat badan.\n",
    "- Lalu dictionary tersebut akan kita tampung kedalam variabel 'sensus'.\n",
    "- Untuk selanjutnya, variabel 'sensus' digunakan sebagai dasar pembentukan pandas dataframe 'pd.DataFrame(sensus)'.\n",
    "- Lalu objek 'pd.DataFrame(sensus)' ini akan kita tampung kedalam variabel 'sensus_df'.\n",
    "- Terakhir kita panggil atau run.\n",
    "\n",
    "Jika kita lihat pada hasil output code 01, dataframe tersebut terdiri dari 3 buah kolom yaitu 'tinggi, 'jk', dan 'berat', serta berjumlah 9 baris yang dimulai dari index 0 sampai dengan index 8 dan dataset ini sama percis dengan dataset yang digunakan pada sesi pembelajaran sebelumnya.\n",
    "\n",
    "\n",
    "Dalam sesi pembelajaran kita kali ini, kita akan membentuk suatu model machine learning sederhana yang dapat kita gunakan untuk memprediksi berat badan seseorang berdasarkan tinggi badan dan jenis kelaminnya. Dengan kata lain, tinggi badan dan jenis kelamin akan berperan sebaagai features, sedangkan berat badan akan berperan sebagai target.\n"
   ]
  },
  {
   "cell_type": "markdown",
   "metadata": {},
   "source": [
    "# Regression dengan KNN"
   ]
  },
  {
   "cell_type": "markdown",
   "metadata": {},
   "source": [
    "Setelah kita memahami konteks dataset dan juga permasalahannya, kita akan mencoba untuk menerapkan KNN atau Key Nearest Neighbours untuk melakukan estimasi nilai berat badan.\n",
    "\n",
    "Sedikit berbeda dengan sesi pembelajaran sebelumnya yang dimana kita menggunakan KNN untuk melakukan classification. Dalam sesi ini, kita akna menggunakan KNN untuk melakukan regression untuk estimasi nilai, dimana dalam kasus ini nilai yang akan prediksi adalah nilai berat badan. "
   ]
  },
  {
   "cell_type": "markdown",
   "metadata": {},
   "source": [
    "# Features & Target"
   ]
  },
  {
   "cell_type": "markdown",
   "metadata": {},
   "source": [
    "Sebelum kita melangkah kepada proses training model, kita akan mengelompokan terlebih dahulu sekumpulan nilai features dan nilai target dari dataset yang kita miliki. "
   ]
  },
  {
   "cell_type": "code",
   "execution_count": 56,
   "metadata": {},
   "outputs": [
    {
     "name": "stdout",
     "output_type": "stream",
     "text": [
      "X_train:\n",
      "[[158 'pria']\n",
      " [170 'pria']\n",
      " [183 'pria']\n",
      " [191 'pria']\n",
      " [155 'wanita']\n",
      " [163 'wanita']\n",
      " [180 'wanita']\n",
      " [158 'wanita']\n",
      " [170 'wanita']]\n",
      "\n",
      "y_train: [64 86 84 80 49 59 67 54 67]\n"
     ]
    }
   ],
   "source": [
    "# Code 02\n",
    "\n",
    "import numpy as np \n",
    "\n",
    "X_train = np.array(sensus_df[['tinggi', 'jk']])\n",
    "y_train = np.array(sensus_df['berat'])\n",
    "\n",
    "print(f'X_train:\\n{X_train}\\n')\n",
    "print(f'y_train: {y_train}')"
   ]
  },
  {
   "cell_type": "markdown",
   "metadata": {},
   "source": [
    "Untuk kasus kita kali ini, data tinggi badan dan jenis kelamin akan kita konversikan kedalam numpy array dan akan kita tampung ke dalam variabel 'X_train' sebagai sekumpulan features untuk training set.\n",
    "\n",
    "Lalu untuk data berat badan juga akan kita konversikan menjadi numpy array, untuk selanjutnya kita tampung kedalam variabel 'y_train' sebagai sekumpulan nilai target untuk training set. \n",
    "\n",
    "Alur berpikir code 02 :\n",
    "- Pertama-tama kita akan mengimport modul numpy terlebih dahulu 'import numpy as np'.\n",
    "- Lalu berikutnya untuk nilai features, yang dalam hal ini adalah tingggi dan jenis kelamin akan kita bundle menjadi suatu numpy array dan berikutnya kita tampung kedalam variabel 'X_train'.\n",
    "- Kemudian untuk sekumpulan nilai targetnya yang dalam hal ini adalah berat badan akan kita koversikan juga menjadi suatu numpy array yang kemudian kita tampung kedalam variabel 'y_train'.\n",
    "- Kemudian kita akan tampilkan nilai 'X_train' dan juuga 'y_train' dengan melakukan perintah print.\n",
    "\n",
    "Karena pada sesi pembelajaran ini yang akan diprediksi adalah nilai continous dan bukan kategori yang kita telah temui pada sesi pembelajarann sebelumnya, maka kasus ini (code ini) termasuk dalam regression task. Pada sesi pembelajaran sebelumnya juga, kita telah memahami bahwa KNN akan melakukan prediksi berdasarkan jumlah data terdekat, dimana tetangga terdekat tersebut ditentukan berdasarkan kalkulasi jarak dengan memanfaatkan \"euclidean distance\". \n",
    "\n",
    "Disini kita perlu memperhatikan agar nilai featuresnya bertipe data numerik agar dapat dihitung jarak antar data pointnya. "
   ]
  },
  {
   "cell_type": "markdown",
   "metadata": {},
   "source": [
    "# Preprocess Dataset : Konversi Label menjadi Nilai Numerik Biner"
   ]
  },
  {
   "cell_type": "markdown",
   "metadata": {},
   "source": [
    "Pada tahap ini, kita akan melihat tahapan data preprocessing untuk mengkonversi nilai pria dan wanita menjadi numerik biner 0 dan 1."
   ]
  },
  {
   "cell_type": "code",
   "execution_count": 57,
   "metadata": {},
   "outputs": [
    {
     "name": "stdout",
     "output_type": "stream",
     "text": [
      "X_train:\n",
      "[[158 'pria']\n",
      " [170 'pria']\n",
      " [183 'pria']\n",
      " [191 'pria']\n",
      " [155 'wanita']\n",
      " [163 'wanita']\n",
      " [180 'wanita']\n",
      " [158 'wanita']\n",
      " [170 'wanita']]\n",
      "\n",
      "X_train_transposed:\n",
      "[[158 170 183 191 155 163 180 158 170]\n",
      " ['pria' 'pria' 'pria' 'pria' 'wanita' 'wanita' 'wanita' 'wanita'\n",
      "  'wanita']]\n"
     ]
    }
   ],
   "source": [
    "# Code 03\n",
    "\n",
    "X_train_transposed = np.transpose(X_train)\n",
    "\n",
    "print(f'X_train:\\n{X_train}\\n')\n",
    "print(f'X_train_transposed:\\n{X_train_transposed}')"
   ]
  },
  {
   "cell_type": "markdown",
   "metadata": {},
   "source": [
    "Alur berpikir code 03 :\n",
    "- Pertama kita akan melakukan proses transpose terlebih dahulu terhadap 'X_train'. \n",
    "- Proses transpose ini pada dasarnya akan mengubah posisi baris kolom dan posisi kolom menjadi baris.\n",
    "- Jika kita perhatikan pada hasil output code 03, posisi barisnya mengindikasikan instance, sedangkan posisi kolomnya mengindikasikan features.\n",
    "- Kolom pertama (sebelah kiri pada output 'X_train') tersebut yang merupakan features pertama yaitu tinggi badan.\n",
    "- Kolom kedua (sebelah kanan pada output 'X_train') tersebut yang merupakan features kedau yaitu jenis kelamin.\n",
    "- Pada kali ini, kita akan ubah posisi featuresnya tidak berada dalam kolom, tetapi yang kita mau posisi featuresnya berada dalam baris. Oleh karen itu, kita melakukan proses transpose.\n",
    "- Kita panggil 'np.transpose(X_train)' yang ditampung kedalam variabel 'X_train_transposed'.\n",
    "- Terakhir kita cetak pada layar dengan print.\n",
    "\n",
    "Jika kita perhatikan pada hasil output code 03 pada hasil 'X_train_transposed', terdiri dari 2 baris saja yaitu baris pertama dan baris kedua, dan jika kita lihat nilai pada baris pertama tersebut merepresentasikan nilai 'tinggi badan', sedangkan nilai untuk baris kedua merepresentasikan sekumpulan nilai 'jenis kelamin'."
   ]
  },
  {
   "cell_type": "code",
   "execution_count": 58,
   "metadata": {},
   "outputs": [
    {
     "name": "stdout",
     "output_type": "stream",
     "text": [
      "jk: ['pria' 'pria' 'pria' 'pria' 'wanita' 'wanita' 'wanita' 'wanita' 'wanita']\n",
      "\n",
      "jk_binarised:\n",
      "[[0]\n",
      " [0]\n",
      " [0]\n",
      " [0]\n",
      " [1]\n",
      " [1]\n",
      " [1]\n",
      " [1]\n",
      " [1]]\n"
     ]
    }
   ],
   "source": [
    "# Code 04\n",
    "\n",
    "from sklearn.preprocessing import LabelBinarizer\n",
    "\n",
    "lb = LabelBinarizer()\n",
    "jk_binarised = lb.fit_transform(X_train_transposed[1])\n",
    "\n",
    "print(f'jk: {X_train_transposed[1]}\\n')\n",
    "print(f'jk_binarised:\\n{jk_binarised}')"
   ]
  },
  {
   "cell_type": "markdown",
   "metadata": {},
   "source": [
    "Pada code 04, kita akan menerapkan 'LabelBinariser' yang pernah kita gunakan pada sesi pembelajan sebelumnya, disini 'LabelBinariser' akan kita gunakan lagi karena kita ingin menkonversikan nilai pria dan wanita tersebut menjadi nilai biner 0 dan 1.\n",
    "\n",
    "Alur berpikir code 04 :\n",
    "- Pertama-tama kita akan mengimport terlebih dahulu label binarizernya dengan memanggil fungsi 'from sklearn.preprocessing import LabelBinarizer'.\n",
    "- Lalu berikutnya, kita akan membentuk objek dari class label binarizer ini yang akan kita tampung kedalam variabel 'lb'.\n",
    "- Pada kali ini, proses transformasi label binarizernya akan kita terapkan pada 'jenis kelamin'. Oleh karena itu, disini kita panggil 'lb.fit_transform' yang akan kita terapkan pada 'X_train_transposed[1]' berarti index kesatu. Karena index ke nolnya adalah 'tinggi badan', sedangkan index kesatunya adalah 'jenis kelamin', lalu hasil transformnya kita tampung kedalam variabel 'jk_binarised'.\n",
    "- Untuk selanjutnya, kita akan mencetak baik nilai 'X_train_transposed' index kesatu dan juga 'jk_binarised'.\n",
    "\n",
    "Bisa kita lihat pada hasil output code 04, data pria berubah menjadi 0 dan data wanita akan berubah menjadi 1, tetapi disini kita juga mempunyai permasalahan yang lain. Jika kita lihat pada kondisi awal, datanya terdiri dari satu dimensi saja, sedangkan setelah proses transformasi datanya berubah menjadi 2 dimensi. Oleh karena itu, kita perlu melakukan proses faltten yang kita ketahui pada sesi pembelajaran sebelumnya, method atau function flatten dapat digunakan untuk mengkonversikan multi- dimension array menjadi single dimenssion array (lihat pada code 05).\n"
   ]
  },
  {
   "cell_type": "code",
   "execution_count": 59,
   "metadata": {},
   "outputs": [
    {
     "data": {
      "text/plain": [
       "array([0, 0, 0, 0, 1, 1, 1, 1, 1])"
      ]
     },
     "execution_count": 59,
     "metadata": {},
     "output_type": "execute_result"
    }
   ],
   "source": [
    "# Code 05\n",
    "\n",
    "jk_binarised = jk_binarised.flatten()\n",
    "jk_binarised"
   ]
  },
  {
   "cell_type": "markdown",
   "metadata": {},
   "source": [
    "Bila kita lihat pada hasil code 05, bentuk arraynya sudah dalam satu dimensi. Langkah selanjutnya adalah nilai yang sudah dikonversikan, akan kita tampung lagi kedalam 'X_train_tanspose' karena nilai pada output code 05 masih berada dalam variabel 'jk_binarised' (lihat pada code 06). "
   ]
  },
  {
   "cell_type": "code",
   "execution_count": 60,
   "metadata": {},
   "outputs": [
    {
     "name": "stdout",
     "output_type": "stream",
     "text": [
      "X_train_transposed:\n",
      "[[158 170 183 191 155 163 180 158 170]\n",
      " [0 0 0 0 1 1 1 1 1]]\n",
      "\n",
      "X_train:\n",
      "[[158 0]\n",
      " [170 0]\n",
      " [183 0]\n",
      " [191 0]\n",
      " [155 1]\n",
      " [163 1]\n",
      " [180 1]\n",
      " [158 1]\n",
      " [170 1]]\n"
     ]
    }
   ],
   "source": [
    "# Code 06\n",
    "\n",
    "X_train_transposed[1] = jk_binarised\n",
    "X_train = X_train_transposed.transpose()\n",
    "\n",
    "print(f'X_train_transposed:\\n{X_train_transposed}\\n')\n",
    "print(f'X_train:\\n{X_train}')"
   ]
  },
  {
   "cell_type": "markdown",
   "metadata": {},
   "source": [
    "Alur berpikir code 06 :\n",
    "- Pertama-tama, kita akan memnggail terlebih dahulu 'X_train_transposed[1]' atau index kesatu yang berkolerasi dengan 'jenis kelamin' yang nilainya akan kita ganti dengan nilai 'jk_binarised'.\n",
    "- Lalu berikutnya, 'X_train_transposed' tersebut akan kita transpose balik, agar yang tadinya baris kembali menjadi kolom dan yang tadinya kolom akan menjadi baris lalu kita akan tampung kedalam variabel 'X_train'.\n",
    "- Terakhir, kita akan cetak kembali baik nilai 'X_train_transposed' dan nilai 'X_train'.\n",
    "\n",
    "Prosesnya secara keseluruhan memang terlihat panjang. Tetapi pada intinya, proses yang kita lakukan ini, untuk mengubah nilai jenis kelamin yang tadinya pria dan wanita menjadi nilai numerik biner yaitu 0 dan 1 yang dimana dalam kasus ini, nilai 0 merepresentasikan jenis kelamin pria, sedangkan nilai 1 merepresentasikan jenis kelamin wanita. \n",
    "\n",
    "Jika kita perhatikan kembali, saat ini sekumpulan nilai features dan targetnya sudah siap digunakan untuk training model."
   ]
  },
  {
   "cell_type": "markdown",
   "metadata": {},
   "source": [
    "# Training KNN Regression Model"
   ]
  },
  {
   "cell_type": "markdown",
   "metadata": {},
   "source": [
    "Setelah training setnya kita persiapkan, selanjutnya kita melangkah kepada proses training model.\n",
    "\n",
    "Untuk kasus ini, machine learning yang akan kita gunakan adalah KNN. "
   ]
  },
  {
   "cell_type": "code",
   "execution_count": 61,
   "metadata": {},
   "outputs": [
    {
     "data": {
      "text/plain": [
       "KNeighborsRegressor(n_neighbors=3)"
      ]
     },
     "execution_count": 61,
     "metadata": {},
     "output_type": "execute_result"
    }
   ],
   "source": [
    "# Code 07\n",
    "\n",
    "from sklearn.neighbors import KNeighborsRegressor\n",
    "\n",
    "K = 3\n",
    "model = KNeighborsRegressor(n_neighbors=K)\n",
    "model.fit(X_train, y_train)"
   ]
  },
  {
   "cell_type": "markdown",
   "metadata": {},
   "source": [
    "Alur berpikir code 07 :\n",
    "- Pertama-tama, kita akan mengimport terlebih dahulu estimeter classnya dengan memanggil fungsi 'from sklearn.neighbors import KNeighborsRegressor'.\n",
    "- Lalu berikutnya kita akan menentukan nilai K nya yang akan berkolerasi dengan jumlah atau banyaknya neighbors atau banyaknya tetangga yang akan digunakan untuk melakukan proses prediksi yang dalam kasus ini bernilai 3.\n",
    "- Lalu selanjutnya kita akan membentuk objek modelnya dengan cara memanggil 'KNeighborsRegressor' dan akan kita akan menyertakan nilai parameter 'n_neighbors' yang diisi dengan nilai 'K' atau dengan kata lain 'n_neighbors' nya kita set sebagai 3.\n",
    "- Setelah objek modelnya terbentuk, lalu berikutnya kita tinggal melakukan proses training model dengan memanggil 'model.fit' serta '(X_train, y_train)' sebagai parameternya.\n"
   ]
  },
  {
   "cell_type": "markdown",
   "metadata": {},
   "source": [
    "# Prediksi Berat Bandan"
   ]
  },
  {
   "cell_type": "markdown",
   "metadata": {},
   "source": [
    "Setelah KNN Regressiornya kita training, tahapan selanjutnya kita akan menggunakan train model tersebut untuk melakukan prediksi berat badan berdasarkan data tinggi badan dan jenis kelamin. "
   ]
  },
  {
   "cell_type": "code",
   "execution_count": 62,
   "metadata": {},
   "outputs": [
    {
     "data": {
      "text/plain": [
       "array([[155,   1]])"
      ]
     },
     "execution_count": 62,
     "metadata": {},
     "output_type": "execute_result"
    }
   ],
   "source": [
    "# Code 08\n",
    "\n",
    "X_new = np.array([[155, 1]])\n",
    "X_new"
   ]
  },
  {
   "cell_type": "markdown",
   "metadata": {},
   "source": [
    "Alur berpikir code 08 : \n",
    "- Pada kali ini, kita akan persiapkan terlebih dahulu data baru yang akan digunakan untuk prediksi. Kita siapkan data baru yang dimana nilai tinggi badannya adalah 155 cm dan jenis kelaminnya wanita, disini jenis kelamin wanitanya sudah kita encode menajadi nilai 1. \n",
    "- Lalu berikutnya, pasangan nilai array tersebut kita akan bundle menjadi suatu array 2 dimensi yang kita tampung kedalam variable 'X_new'.\n",
    "\n",
    "Hasil code 08 merupakan nilai features yang akan kita prediksi. Setelah data tinggi badan dan jenis kelaminnya siap, selanjutnya kita akan melakukan prediksi berat badan dengan memanfaatkan model KNN Regressor yang sudah kita training sebelumnya (lihat pada code 09). "
   ]
  },
  {
   "cell_type": "code",
   "execution_count": 63,
   "metadata": {},
   "outputs": [
    {
     "data": {
      "text/plain": [
       "array([55.66666667])"
      ]
     },
     "execution_count": 63,
     "metadata": {},
     "output_type": "execute_result"
    }
   ],
   "source": [
    "# Code 09\n",
    "\n",
    "y_pred = model.predict(X_new)\n",
    "y_pred"
   ]
  },
  {
   "cell_type": "markdown",
   "metadata": {},
   "source": [
    "Alur berpikir code 09 :\n",
    "- Memanggil fungsi 'model.predict' dengan menyertakan parameternya yaitu 'X_new'.\n",
    "- Lalu hasil prediksinya kita tampung kedalam variabel 'y_pred'.\n",
    "\n",
    "Berdasarkan hasil output code 09, kita bisa bilang bahwa untuk data dengan tinggi badan 155 cm dan jenis kelamin wanita, ini diprediksi model kita memiliki berat badan 55,6 kg."
   ]
  },
  {
   "cell_type": "markdown",
   "metadata": {},
   "source": [
    "# Evaluasi KNN Regression Model"
   ]
  },
  {
   "cell_type": "markdown",
   "metadata": {},
   "source": [
    "Disini kita akan mulai mempelajari beberapa matrix yang bisa kita gunakan untuk mengukur performa dari model machine learning untuk kasuk regression task dengan menyiapkan terlebih dahul testing setnya. "
   ]
  },
  {
   "cell_type": "code",
   "execution_count": 64,
   "metadata": {},
   "outputs": [
    {
     "name": "stdout",
     "output_type": "stream",
     "text": [
      "X_test:\n",
      "[[168   0]\n",
      " [180   0]\n",
      " [160   1]\n",
      " [169   1]]\n",
      "\n",
      "y_test: [65 96 52 67]\n"
     ]
    }
   ],
   "source": [
    "# Code 10 (Testing set)\n",
    "\n",
    "X_test = np.array([[168, 0], [180, 0], [160, 1], [169, 1]])\n",
    "y_test = np.array([65, 96, 52, 67])\n",
    "\n",
    "print(f'X_test:\\n{X_test}\\n')\n",
    "print(f'y_test: {y_test}')"
   ]
  },
  {
   "cell_type": "markdown",
   "metadata": {},
   "source": [
    "Alur berpikir code 10 :\n",
    "- Pertama-tama, kita akan menyiapkan terlebih dahulu sekumpulan nilai features untuk testing setnya yang kita tampung kedalam variabel 'X_test'.\n",
    "- Setelah itu, kita juga akan menyiapkan sekumpulan nilai target lalu kita tampung kedalam varibel 'y_test'.\n",
    "- Lalu kita print.\n",
    "\n",
    "Setelah testing setnya siap, selanjutnya kita akan melakukan prediksi terhadap testing set tersebut dengan menmafaatkan model KNN Regressor yang sudah kita training sebelumnya. "
   ]
  },
  {
   "cell_type": "code",
   "execution_count": 65,
   "metadata": {},
   "outputs": [
    {
     "data": {
      "text/plain": [
       "array([70.66666667, 79.        , 59.        , 70.66666667])"
      ]
     },
     "execution_count": 65,
     "metadata": {},
     "output_type": "execute_result"
    }
   ],
   "source": [
    "# Code 11\n",
    "\n",
    "y_pred = model.predict(X_test)\n",
    "y_pred"
   ]
  },
  {
   "cell_type": "markdown",
   "metadata": {},
   "source": [
    "Pada code 11, kita akan menerapkan prediksi terhadap sekumpulan features dari 'X_test' ini dengan memanfaatkan model KNN yang sudah kita training sebelumnya. Oleh karena itu, kita memanggil 'model.predict' lalu menyertakan parameter 'X_test' yang hasil prediksinya kita tampung kedalam variabel 'y_pred'.\n",
    "\n",
    "Berdasarkan hasil code 11, kita bisa bilang bahwa data untuk tinggi 168 cm dan jenis kelamin pria, ini diprediksi memiliki berat badan 70,66, sedangkan data yang diharapkan adalah 65. \n",
    "\n",
    "Lalu berikutnya untuk data point yang paling akhir, disni kita bisa bilang bahwa untuk data dengan tinggi badan 169 dan jenis kelamin wanita, ini diprediksi memiliki berat badan 70.66 sekian, sedangkan nilai yang diharapkan adalah 67."
   ]
  },
  {
   "cell_type": "markdown",
   "metadata": {},
   "source": [
    "Coefficient of Determination atau $R^2$"
   ]
  },
  {
   "cell_type": "markdown",
   "metadata": {},
   "source": [
    "Referensi : https://en.wikipedia.org/wiki/Coefficient_of_determination"
   ]
  },
  {
   "cell_type": "markdown",
   "metadata": {},
   "source": [
    "Metriks evaluasi pertama yang akan kita gunakan adalah coefficient of determination atau biasa dikenal sebagai R-Squared. Metriks evaluasi ini juga pernah kita pelajari pada sesi pembelajaran sebelumnya sewaktu kita mempelajari topik \"Simple Linear Regression\".\n",
    "\n",
    "Selanjutnya, kita akan melakukan tahapan menggunakan metriks r-squared untuk melakukan evaluasi model regressor pada sklearn (lihat pada code 12)."
   ]
  },
  {
   "cell_type": "code",
   "execution_count": 66,
   "metadata": {},
   "outputs": [
    {
     "name": "stdout",
     "output_type": "stream",
     "text": [
      "R-squared: 0.6290565226735438\n"
     ]
    }
   ],
   "source": [
    "# Code 12\n",
    "\n",
    "from sklearn.metrics import r2_score\n",
    "\n",
    "r_squared = r2_score(y_test, y_pred)\n",
    "\n",
    "print(f'R-squared: {r_squared}')"
   ]
  },
  {
   "cell_type": "markdown",
   "metadata": {},
   "source": [
    "Alur berpikir code 12 :\n",
    "- Pertama-tama, kita akan mengimport terlebih dahulu metriksnya dengan memanggil 'from sklearn.metrics import r2_score'.\n",
    "- Berikutnya untuk menggunakan metriks ini, kita tinggal memanggil 'r2_score' dengan menyertakan parameter 'y_test' dan 'y_pred', lalu nilai evaluasi ini  akan kita tampung kedalam variabel 'r_squared'.\n",
    "- Lalu kita tampilkan hasilnya dengan cara memanggil 'r-squared' menggunakan fungsi print().\n",
    "\n",
    "Berdasarkan hasil output code 12, kita mendapatkan nilai r-squared untuk model kita. Seperti yang pernah dijelaskan pada sesi pembelajaran sebelumnya, nilai r-squared ini semakin ia mendekati 1 maka akan semakin baik, dan semakin ia mendekati 0 atau bahkan negatif, hal tersebut mengindifikasikan model yang kurang baik.\n"
   ]
  },
  {
   "cell_type": "markdown",
   "metadata": {},
   "source": [
    "# Mean Absolute Error (MAE) atau Mean Absolute Deviation (MAD)"
   ]
  },
  {
   "cell_type": "markdown",
   "metadata": {},
   "source": [
    "Metriks evaluasi selanjutnya yang akan kita pelajari adalah Mean Absolute Error atau kadang dikenal dengan Mean Absolute Deviation."
   ]
  },
  {
   "cell_type": "markdown",
   "metadata": {},
   "source": [
    "$MAE$ is the average of the absolute values of the errors of the prediction. Dalam bahasa indonesia, kita bisa bilang bahwa $MAE$ merupakan nilai rata-rata dari absolute error dari prediksi."
   ]
  },
  {
   "cell_type": "markdown",
   "metadata": {},
   "source": [
    "$MAE =\\frac{1}{n} \\sum_{i=1}^{n} |y_i - \\hat{y}_i|$\n",
    "\n",
    "Referensi : https://en.wikipedia.org/wiki/Mean_absolute_error"
   ]
  },
  {
   "cell_type": "markdown",
   "metadata": {},
   "source": [
    "Diatas merupakan formula untuk MAE yang intinya MAE ini akan menghitung selisih atau error antara $yi$ dengan $\\hat{y}_i$. \n",
    "- $yi$ = merepresentasikan setiap nilai target pada testing set.\n",
    "- $\\hat{y}_i$ = merepresentasikan nilai prediksi yang dihasilkan oleh model kita.\n",
    "- Disini yang dihitung adalah selisih antara $yi$ dengan $\\hat{y}_i$. Proses tersebut memungkinkan untuk menghasilkan nilai positif maupun nilai negatif.\n",
    "- Jika hasil prediksinya ternyata lebih kecil dari nilai yang seharusnya, maka nilainya akan menjadi positif.\n",
    "- Jika hasil prediksinya ternyata lebih besar dari nilai yang seharusnya, maka nilainya akan menjadi negatif.\n",
    "- Untuk menghindari nilai negatif, maka kita harus menerapkan yang namanya absolute function. Absolute function ini akan menghilangkan nilai negatif artinya semua hasilnya, baik itu negatif maupun positif akan diubah menjadi nilai positif.\n",
    "- Lalu berikutnya, selisih nilai ini akan diakumulasikan atau dijumlahkan untuk berikutnya kita akan bagi dengan 'n'. 'n' merepresentasikan jumlah data pointnya."
   ]
  },
  {
   "cell_type": "code",
   "execution_count": 67,
   "metadata": {},
   "outputs": [
    {
     "name": "stdout",
     "output_type": "stream",
     "text": [
      "MAE : 8.333333333333336\n"
     ]
    }
   ],
   "source": [
    "# Code 13\n",
    "\n",
    "from sklearn.metrics import mean_absolute_error\n",
    "\n",
    "MAE = mean_absolute_error(y_test, y_pred)\n",
    "\n",
    "print(f'MAE : {MAE}')"
   ]
  },
  {
   "cell_type": "markdown",
   "metadata": {},
   "source": [
    "Alur berpikir code 13 :\n",
    "- Pertama-tama kita akan mengimport terlebih dahulu mean absolute error dengan memanggil function 'from sklearn.metrics import mean_absolute_error'.\n",
    "- Lalu berikutnya untuk menggunakan fucntion mean absolute error tersebut, kita hanya tinggal memanggil function 'mean_absolute_error' dengan menyertakan parameter 'y_test' serta 'y_pred' yang akan kita tampung kedalam variabel 'MAE'.\n",
    "- Lalu terakhir kita tampilkan nilai'MAE' dengan function print seperti biasa.\n",
    "\n",
    "Berdasarkan hasil output code 13, hasil 'MAE' nya adalah 8,33. Oleh karena disini yang dihitung nilai errornya atau selisih antara nilai prediksi dengan nilai sebenarnya, oleh karenanya semakin kecil nilai 'MAE' nya akan mengindikasikan kualitas modal yang lebih baik."
   ]
  },
  {
   "cell_type": "markdown",
   "metadata": {},
   "source": [
    "# Mean Squared Error (MSE) atau Mean Squared Deviation (MSD)"
   ]
  },
  {
   "cell_type": "markdown",
   "metadata": {},
   "source": [
    "Matriks evaluasi kedua yang akan kita pelajari adalah Mean Squared Error atau kadang dikenal sebagai Mean Squared Deviation."
   ]
  },
  {
   "cell_type": "markdown",
   "metadata": {},
   "source": [
    "$MSE$ is the average of the squares of the errors of the prediction. Dalam bahasa indonesia berarti kita bisa bilang bahwa $MSE$ ini merupakan rata-rata dari error kuadrat untuk prediksi."
   ]
  },
  {
   "cell_type": "markdown",
   "metadata": {},
   "source": [
    "$MSE =\\frac{1}{n} \\sum_{i=1}^{n} (y_i - \\hat{y}_i)^2$\n",
    "\n",
    "Referensi : https://en.wikipedia.org/wiki/Mean_squared_error"
   ]
  },
  {
   "cell_type": "markdown",
   "metadata": {},
   "source": [
    "Formula $MSE$ pada intinya sama dengan $MAE$, menghitung error artinya disini juga kita menghitung nilai selisih antara $y_i$ dengan $\\hat{y}_i$.\n",
    "\n",
    "- $y_i$ merupakan nilai target dari testing set.\n",
    "- $\\hat{y}_i$ merupakan nilai estimasi yang dihasilkan oleh model kita.\n",
    "- Kedua nilai tersebut kita selisihkan yang dimana serupa dengan kasus sebelumnya, selisih kedua nilai terebut bisa postif dan juga bisa bernilai negatif.\n",
    "- Jika ternyata nilai prediksinya lebih besar dari nilai sebenarnya, maka akan menghasilkan nilai negatif.\n",
    "- Sedangkan jika nilai prediksinya  lebih kecil dari nilai sebenarnya atau nilai ekspetasinya, maka akan menghasilkan nilai positif.\n",
    "- Untuk menghindari nilai negatif pada $mse$, selisih nilainya akan kita pangkatkan 2.\n",
    "- Lalu berikutnya, hasil pemangkata ini akan kita akumulasikan untuk kemudian kita bagi dengan 'n' yang diman 'n' merupakan jumlah untuk data pointnya. "
   ]
  },
  {
   "cell_type": "code",
   "execution_count": 68,
   "metadata": {},
   "outputs": [
    {
     "name": "stdout",
     "output_type": "stream",
     "text": [
      "MSE : 95.8888888888889\n"
     ]
    }
   ],
   "source": [
    "# Code 14\n",
    "\n",
    "from sklearn.metrics import mean_squared_error\n",
    "\n",
    "MSE = mean_squared_error(y_test, y_pred)\n",
    "\n",
    "print(f'MSE : {MSE}')"
   ]
  },
  {
   "cell_type": "markdown",
   "metadata": {},
   "source": [
    "Alur berpikir code 14 :\n",
    "- Pertama-tama, kita akan mengimport terlebih dahulu modulnya dengan memanggil function 'from sklearn.metrics import mean_squared_error'.\n",
    "- Lalu untuk menggunakan mean squared error caranya mudah, disini kita tinggal memanggil 'mean_squared_error' dengan menyertakan parameter 'y_test' dan juga 'y_pred' lalu kita tampung nilainya kedalam variabel 'MSE'.\n",
    "- Terakhir kita tampilkan nilai 'MSE' tersebut pada layar dengan menggunakan print.\n",
    "\n",
    "Berdasarkan output code 14, untuk $MSE$ juga sama konsepnya dengan $MAE$. Karenanya yang dihitung nilai adalah nilai error, maka tentunya makin kecil nilai $MSE$ nya akan mengindikasikan model yang makin baik.\n",
    "\n",
    "Perlu diingat juga bahwa nilai $MSE$ akan selalu lebih besar bila dibandingkan dengan nilai $MAE$ karena setiap nilai errornya untuk $MSE$ akan selalu dipangkatkan 2."
   ]
  },
  {
   "cell_type": "markdown",
   "metadata": {},
   "source": [
    "# Permasalahan Scaling pada Features"
   ]
  },
  {
   "cell_type": "markdown",
   "metadata": {},
   "source": [
    "Pada kali ini, kita akan melihat permasalahan terkait scaling pada nilai features.\n",
    "\n",
    "Dataset yang kita gunakan pada kali ini memiliki 2 features yaitu tinggi badan dan jenis kelamin.\n",
    "- Nilai tinggi badan direpresentasikan dalam satuan cm.\n",
    "- Nilai jenis kelamin direpresentasikan dalam bilangan biner 0 dan 1.\n",
    "\n",
    "Pada intinya, kita pada kali ini akan mempelajari apakah perbedaan satuan pengukuran yang tersedia akan berdampak pada konsistensi hasil kalkulasi euclidean distancenya. \n",
    "\n",
    "Untuk memperjelas pemahaman, kita akan perkecil terlebih dahulu ukuran datasetnya menjadi 2 instances saja, selanjutkan kita akan melakukan 2 eksperimen. Pada eksperimen pertama, kita akan menggunakan milimeter sebagai satuan pengukuran tinggi badan (lihat pada code 15), sedangkan untuk eksperimen kedua kita akan menggunakan meter sebagai satuan pengukurannya. "
   ]
  },
  {
   "cell_type": "code",
   "execution_count": 69,
   "metadata": {},
   "outputs": [
    {
     "data": {
      "text/plain": [
       "[60.0, 40.01249804748511]"
      ]
     },
     "execution_count": 69,
     "metadata": {},
     "output_type": "execute_result"
    }
   ],
   "source": [
    "# Code 15\n",
    "\n",
    "from scipy.spatial.distance import euclidean\n",
    "\n",
    "# tinggi dalam milimeter\n",
    "X_train = np.array([[1700, 0], [1600, 1]])\n",
    "X_new = np.array([[1640, 0]])\n",
    "\n",
    "[euclidean(X_new[0], d) for d in X_train]"
   ]
  },
  {
   "cell_type": "markdown",
   "metadata": {},
   "source": [
    "Alur berpikir code 15 :\n",
    "- Karena kita membutuhkan euclidean distance, maka kita akan mengimport dahulu 'from scipy.spatial.distance import euclidean'.\n",
    "- Lalu berikutnya, kita akan siapkan datasetnya yaitu 'X_train' dan 'X_new'. 'X_train' akan berisi sekumpulan nilai features untuk training set, sedangkan 'X_new' akan berisi sekumpulan fetures untuk data point yang akan kita prediksi.\n",
    "- Hanya saja disni kita perhatikan bahwa nilai features untuk tinggi badan direpresentasikan dalam satuan milimeter.\n",
    "- Oleh karenanya disini untuk data point pertama pada training set, tinggi badannya adalah 1700 dan 1600. Sedangkan pada data point baru yang akan diprediksi, tinggi badannya adalah 1640.\n",
    "- Pada kali ini nilainya akan menjadi besar karena ukuran satuannya diubah yang awalnya cm menjadi mm.\n",
    "- Lalu berikutnya, kita akan mencoba menggukur jarak untuk data point yang baru ini terhadapa 2 data point pada training setnya. \n",
    "- Untuk proses pengukurannya, kita akan memanfaatkan euclidean distance.\n",
    "\n",
    "Berdasarkan hasil code 15, angka 60.0 merupakan jarak antara data point 'X_new' dengan data point pertama pada 'X_train' yaitu 1700. Sedangkan angka 40.01249804748511 merupakan jarak antara data point 'X_new' terhadap data kedua dari 'X_train' atau tranining setnya yaitu 1600.\n",
    "\n",
    "Pada eksperimen pertama ini, terlihat jelas bahwa data point yang baru lebih dekat dengan data point kedua bila dibandingkan dengan data point pertama. Bisa kita lihat pada output 15 bahwa nilai jaraknya lebih pendek.  "
   ]
  },
  {
   "cell_type": "code",
   "execution_count": 70,
   "metadata": {},
   "outputs": [
    {
     "data": {
      "text/plain": [
       "[0.06000000000000005, 1.0007996802557442]"
      ]
     },
     "execution_count": 70,
     "metadata": {},
     "output_type": "execute_result"
    }
   ],
   "source": [
    "# Code 16 \n",
    "\n",
    "# tinggi dalam meter\n",
    "X_train = np.array([[1.7, 0], [1.6, 1]])\n",
    "X_new = np.array([[1.64, 0]])\n",
    "\n",
    "[euclidean(X_new[0], d) for d in X_train]"
   ]
  },
  {
   "cell_type": "markdown",
   "metadata": {},
   "source": [
    "Alur berpikir code 16 :\n",
    "- Untuk eksperimen kali ini, tinggi badannya diukur dalam satuan meter. \n",
    "- Jika kita lihat untuk traning set nya bernilai 1.7 yang berarti 1,7 meter dan 1.6 yang berarti 1,6 meter untuk tinggi badannya.\n",
    "- Nilai 1,7 meter setara dengan nilai 1700 milimeter, demikian juga dengan 1,6 meter setara dengan nilai 1600 milimeter.\n",
    "- Lalu untuk data point yang baru, disini tinggi badannya adalah 1.64 meter yang setara dengan 1640 milimeter. Disini kita yakin bahwa kedua dataset ini merupakan dataset yang sebenarnya identik, hanya saja direpresentasikan dengan ukuran yang berbeda.\n",
    "- Berikutnya, kita akan coba mengukur jarak antara data point baru ('X_new') dengan kedua nilai data point pada training setnya.\n",
    "- Pada kali ini juga kita akan memanfaatkan euclidean distance.\n",
    "\n",
    "Berdasarkan hasil output 16, bahwa hasil 0.06000000000000005 tersebut merupakan antara data point yang baru 'X_new' dengan data point pertama pada pertama pada 'X_train'. Lalu hasil 1.0007996802557442 merupakan jarak antara yang baru 'X_new' dengan data point kedua pada 'X_train'.\n",
    "\n",
    "Pada eksperimen kali ini, bisa nampak bahwa data point yang baru lebih dekat dengan data point pertama bila dibandingkan dengan data point kedua."
   ]
  },
  {
   "cell_type": "markdown",
   "metadata": {},
   "source": [
    "# Menerapkan Standar Scaler (Standard Score atau Z-Score)"
   ]
  },
  {
   "cell_type": "markdown",
   "metadata": {},
   "source": [
    "Salah satu metode yang bisa gunakan untuk memecahkan masalah ini dengan menerapkan standard scaler, standard scaler ini menerapkan standard score atau z-score yang umum ditemui dalam bidang statistika."
   ]
  },
  {
   "cell_type": "markdown",
   "metadata": {},
   "source": [
    "Standarized features by removing the mean and scaling to to unit variance."
   ]
  },
  {
   "cell_type": "markdown",
   "metadata": {},
   "source": [
    "$ z = \\frac{x-\\bar{x}}{S}$\n",
    "\n",
    "Diatas merupakan formula yang kita gunakan untuk mencari nilai z-score, yang memiliki beberap komponen sebagai berikut :\n",
    "- $x$ : merepresentasikan nilai features.\n",
    "- $\\bar{x}$ : merepresentasikan rata-rata nilai features.\n",
    "- $S$ : merepresentasikan nilai standard deviation dari sekumpulan nilai features.\n",
    "- $z$ : merepresentasikan nilai z-score."
   ]
  },
  {
   "cell_type": "markdown",
   "metadata": {},
   "source": [
    "Referensi : https://en.wikipedia.org/wiki/Standard_score\n",
    "\n",
    "Selanjutnya kita akan melakukan tahapan untuk merapkan standard scaler ini pada kedua eksperimen yang sebelumnya sudah kita lakukan.\n",
    "\n",
    "Kita akan memulai dari eksperimen pertama dimana tinggi badan direpresentasikan dalam satuan milimeter (mm)."
   ]
  },
  {
   "cell_type": "code",
   "execution_count": 71,
   "metadata": {},
   "outputs": [],
   "source": [
    "# Code 17 (mengimport terlebih dahulu Standard Scaler)\n",
    "\n",
    "from sklearn.preprocessing import StandardScaler\n",
    "\n",
    "ss = StandardScaler()"
   ]
  },
  {
   "cell_type": "code",
   "execution_count": 72,
   "metadata": {},
   "outputs": [
    {
     "name": "stdout",
     "output_type": "stream",
     "text": [
      "X_train_scaled:\n",
      "[[ 1. -1.]\n",
      " [-1.  1.]]\n",
      "\n",
      "X_new_scaled: [[-0.2 -1. ]]\n",
      "\n",
      "jarak : [1.2, 2.1540659228538015]\n"
     ]
    }
   ],
   "source": [
    "# Code 18 \n",
    "\n",
    "# Tinggi dalam milimeter\n",
    "X_train = np.array([[1700, 0], [1600, 1]])\n",
    "X_train_scaled = ss.fit_transform(X_train)\n",
    "print(f'X_train_scaled:\\n{X_train_scaled}\\n')\n",
    "\n",
    "X_new = np.array([[1640, 0]])\n",
    "X_new_scaled = ss.transform(X_new)\n",
    "print(f'X_new_scaled: {X_new_scaled}\\n')\n",
    "\n",
    "\n",
    "jarak = [euclidean(X_new_scaled[0], d) for d in X_train_scaled]\n",
    "print(f'jarak : {jarak}')"
   ]
  },
  {
   "cell_type": "markdown",
   "metadata": {},
   "source": [
    "Alur berpikir code 18 : Melakukan Replikasi\n",
    "- Pada kasus ini, nilai feature untuk tinggi badan direprsentasikan dalam satuan mm.\n",
    "- Yang  berbeda dengan eksperimen sebelumnya adalah setelah nilai features atau X_train nya dibentuk, berikutnya kita akan mengenakan standard scaler ini pada nilai X_train nya.\n",
    "- Kita panggil objek standar scalernnya ('ss') lalu kita panggil ('.fit_transform') yang kita kenakan pada 'X_train' yang hasilnya kita tampung ke dalam variabel 'X_train_scaled' lalu kita cetak dengan print.\n",
    "- Demikian juga untuk 'X_new' nya yang akan kita kenakan proses transformasi. Hanya saja disini untuk proses transformasinya, kita langsung memanggil function transformnya bukan fit_transform karena proses fit nya akan kita kenakan pada 'X_train' tetapi proses transformnya akan kita kenakan baik pada 'X_train' maupun pada 'X_new' yang akan kita tampung kedalam variabel 'X_new_scaled'.\n",
    "- Lalu kita tampilkan ke layar.\n",
    "- Berikutnya kita akan hitung jaraknya dengan menggunakan euclidean distances, yang kita hitung jaraknya disini adalah nilai 'X_new_scaled' dengan nilai 'X_train_scaled'. \n",
    "\n",
    "Bisa kita lihat pada output 18, nilai-nilai pada hasil output tersebut sudah tidak lagi menggunakan satuan cm atau mm maupun m, melainkan satuannya sudah menggunakan satuan standard score atau $z$-score. Jika kita perhatikan pada hasil 'jarak' 1,2 yaitu merupakan jarak antara 'X_new_scaled' dengan X_train_scaled' untuk data point yang pertama, sedangkan jarak 2.1540659228538015 merupakan jarak antara 'X_new_scaled' dengan data point kedua pada 'X_train_scaled'. \n",
    "\n",
    "Pada hasil output eksperimen tersebut pada code 18 terlihat dengan jelas bahwa data point yang baru lebih dekat dengan data point pertama bila dibandingkan dengan data point kedua.\n"
   ]
  },
  {
   "cell_type": "code",
   "execution_count": 73,
   "metadata": {},
   "outputs": [
    {
     "name": "stdout",
     "output_type": "stream",
     "text": [
      "X_train_scaled:\n",
      "[[ 1. -1.]\n",
      " [-1.  1.]]\n",
      "X_new_scaled : [[-0.2 -1. ]]\n",
      "\n",
      "Jarak : [1.2000000000000026, 2.1540659228538006]\n"
     ]
    }
   ],
   "source": [
    "# Code 19\n",
    "\n",
    "# Tinggi dalam meter\n",
    "X_train = np.array([[1.7, 0], [1.6, 1]])\n",
    "X_train_scaled = ss.fit_transform(X_train)\n",
    "print(f'X_train_scaled:\\n{X_train_scaled}')\n",
    "\n",
    "X_new = np.array([[1.64, 0]])\n",
    "X_new_scaled = ss.transform(X_new)\n",
    "print(f'X_new_scaled : {X_new_scaled}\\n')\n",
    "\n",
    "jarak = [euclidean(X_new_scaled[0], d) for d in X_train_scaled]\n",
    "print(f'Jarak : {jarak}')"
   ]
  },
  {
   "cell_type": "markdown",
   "metadata": {},
   "source": [
    "Alur berpikir code 19 :\n",
    "- Selanjutnya kita akan melakukan eksperimen kedua dengan memanfaatkan dataset yang sama. Hanya saja kita akan menggunakan meter sebagai satuan pengukuran untuk tinggi badan.\n",
    "- Disini sekumpulan nilai features nya sama, namun yang berbeda adalah satuan pengukurannya saja dalam kasus ini adalah meter (m).\n",
    "- Tetapi sebelum kita menghitung jaraknya dengan menggunakan euclidean distance, nilai-nilai fetaures tersebut kita akan scaling terlebih dahulu dengan memanfaatkan standar scaler.\n",
    "- Disini untuk 'X_train' nya kita panggil terlebih dahulu function 'fit_transform(X_train)' yang hasilnya akan kita tampung kedalam variabel 'X_train_scaled'.\n",
    "- Lalu berikutnya untuk 'X_new', kita tinggal memanggil saja function 'ss.transform' dengan menyertakan paremeter pada 'X_new' nya lalu hasilnya kita tampung kedalam variabel 'X_new_scaled'.\n",
    "- Berikutnya, kita akan menghitung jaraknya. Untuk perhitungan jaraknya, disini juga sama kita akan menggunakan euclidean distance.\n",
    "\n",
    "Berdasarkan hasil code 19, kita mendapatkan nilai 'X_train_scaled', 'X_new_scaled' serta 'jarak'. Jika lihat pada hasil eksperimen pada hasil code 19, eksperimen ini menghasilkan jarak yang sama atau setidaknya sangat mendekati dengan nilai jarak pada eksperimen pertama, disini juga kita bisa lihat bahwa data point baru juga lebih dekat dengan data point pertama bila dibandingkan dengan data point kedua.\n"
   ]
  },
  {
   "cell_type": "markdown",
   "metadata": {},
   "source": [
    "# Menerapkan Nilai Features Scaling pada KNN"
   ]
  },
  {
   "cell_type": "markdown",
   "metadata": {},
   "source": [
    "Pada kali ini, kita akan ulangi kembali proses training dan evaluasi model KNN yang pernah kita lakukan sebelumnya, tetapi pada kali ini kita akan menerapkan features scaling. \n",
    "\n",
    "Untuk kasus dibawah, features scaling yang akan kita terapkan adalah standard scaler. Kita akan melihat bagaiman features scaling ini berpotensi dalam meningkatkan performa dari model KNN."
   ]
  },
  {
   "cell_type": "markdown",
   "metadata": {},
   "source": [
    "# Dataset"
   ]
  },
  {
   "cell_type": "code",
   "execution_count": 74,
   "metadata": {},
   "outputs": [],
   "source": [
    "# Code 20 \n",
    "\n",
    "#Training Set\n",
    "X_train = np.array([[158, 0], [170, 0], [183, 0], [191, 0], [155, 1], [163,1],\n",
    "                   [180, 1], [158, 1], [170, 1]])\n",
    "\n",
    "y_train = np.array([64, 86, 84, 80, 49, 59, 67, 54, 67])\n",
    "\n",
    "# Test set\n",
    "X_test = np.array([[168, 0], [180, 0], [160, 1], [169,1]])\n",
    "y_test = np.array([65, 96, 52, 67])"
   ]
  },
  {
   "cell_type": "markdown",
   "metadata": {},
   "source": [
    "Alur berpikir code 20 :\n",
    "- Pertama-tama, kita akan persiapkan terlebih dahulu training setnya dengan menyiapkan 'X_train' untuk menampung sekumpulan nilai features untuk training set dan 'y_train' untuk menampung sekumpulan nilai target untuk training setnya.\n",
    "- Selain itu untuk keperluan evaluasi, kita akan perisiapkan 'X_test' dan 'y_test'.\n",
    "- Jika kita perhatikan pada code 20, training set dan testing set yang kita gunakan ini sama persis dengan training set dan testing set yang kita gunakan sebelumnya."
   ]
  },
  {
   "cell_type": "markdown",
   "metadata": {},
   "source": [
    "# Features Scaling (Standard Scaler)"
   ]
  },
  {
   "cell_type": "markdown",
   "metadata": {},
   "source": [
    "Yang berbeda disini adalah setelah training dan testing set nya tersedia, kita tidak langsung melakukan proses training model, tetapi kita akan menscaling feturesnya terlebih dahulu (lihat pada code 21)."
   ]
  },
  {
   "cell_type": "code",
   "execution_count": 75,
   "metadata": {},
   "outputs": [
    {
     "name": "stdout",
     "output_type": "stream",
     "text": [
      "X_train_scaled:\n",
      "[[-0.9908706  -1.11803399]\n",
      " [ 0.01869567 -1.11803399]\n",
      " [ 1.11239246 -1.11803399]\n",
      " [ 1.78543664 -1.11803399]\n",
      " [-1.24326216  0.89442719]\n",
      " [-0.57021798  0.89442719]\n",
      " [ 0.86000089  0.89442719]\n",
      " [-0.9908706   0.89442719]\n",
      " [ 0.01869567  0.89442719]]\n",
      "\n",
      "X_test_scaled:\n",
      "[[-0.14956537 -1.11803399]\n",
      " [ 0.86000089 -1.11803399]\n",
      " [-0.82260955  0.89442719]\n",
      " [-0.06543485  0.89442719]]\n",
      "\n"
     ]
    }
   ],
   "source": [
    "# Code 21\n",
    "X_train_scaled = ss.fit_transform(X_train)\n",
    "X_test_scaled = ss.transform(X_test)\n",
    "\n",
    "print(f'X_train_scaled:\\n{X_train_scaled}\\n')\n",
    "print(f'X_test_scaled:\\n{X_test_scaled}\\n')"
   ]
  },
  {
   "cell_type": "markdown",
   "metadata": {},
   "source": [
    "Alur berpikir code 21 : \n",
    "- Pertama, kita akan memanggil terlebih dahulu function 'ss.fit_transform' yang kita terapkan pada 'X_train', lalu hasil scalingnya kita tampung kedalam variabel 'X_train_scaled'.\n",
    "- Demikian juga untuk 'X_test' nya, kita memanggil function 'ss.transform' dengan menyertakan parameter 'X_test' lalu haisl scalingnya kita tampung kedalam variabel 'X_test_scaled'.\n",
    "- Lalu kita tampilkan ke layar."
   ]
  },
  {
   "cell_type": "markdown",
   "metadata": {},
   "source": [
    "# Training & Evaluasi Model"
   ]
  },
  {
   "cell_type": "markdown",
   "metadata": {},
   "source": [
    "Setelah nilai featuresnya kita scaling, tahapan berikutnya kita akan melakukan proses training model."
   ]
  },
  {
   "cell_type": "code",
   "execution_count": 76,
   "metadata": {},
   "outputs": [
    {
     "name": "stdout",
     "output_type": "stream",
     "text": [
      "MAE: 7.583333333333336\n",
      "MSE: 85.13888888888893\n"
     ]
    }
   ],
   "source": [
    "# Code 22\n",
    "\n",
    "model.fit(X_train_scaled, y_train)\n",
    "y_pred = model.predict(X_test_scaled)\n",
    "\n",
    "MAE = mean_absolute_error(y_test, y_pred)\n",
    "MSE = mean_squared_error(y_test, y_pred)\n",
    "\n",
    "print(f'MAE: {MAE}')\n",
    "print(f'MSE: {MSE}')"
   ]
  },
  {
   "cell_type": "markdown",
   "metadata": {},
   "source": [
    "Alur berpikir code 22 :\n",
    "- Pertama-tama, objek modelnya kita training dengan memanggil function 'model.fit' dengan menyertakan parameter 'X_train_scaled' dan 'y_train'. Disni features yang kita lewatkan adalah features yang sudah kita scaling.\n",
    "- Lalu setelah modelnya kita training, train model atau model yang sudah kita training ini akan kita gunakan untuk melakukan prediksi dengan memanggil function 'model.predict' dengan menyertakan parameter '(X_test_scaled)' yang hasilnya akan kita tampung kedalam variabel 'y_pred'.\n",
    "- Selanjutnya, kita akan hitung nilai errornya. Pada kali ini, nilai error yang akan kita hitung adalah baik MAE maupun MSE nya. Untuk MAE, kita tinggal memanggil function 'mean_absolute_error' dengan menyertakan parameter 'y_test' dan 'y_pred'.\n",
    "- Sedangkan untuk MSE, kita akan memangggil function 'mean_squared_error' dengan menyertakan kembali 'y_test' maupun 'y_pred' nya sebagai parameter.\n",
    "\n",
    "Berdasarkan hasil scaling pada output code 22, hasilnya lebih baik setelah kita menerapkan fetures scaling yakni hasilnya menjadi lebih kecil atau dengan kata lain, kita bisa menghasilkan model dengan kualitas atau performa yang lebih baik setelah kita menerapkan features scaling.\n",
    "\n"
   ]
  },
  {
   "cell_type": "markdown",
   "metadata": {},
   "source": [
    "Untuk pembelajaran lebih lengkapnya, jangan lupa untuk mengunjungi channel youtube Indonesia Belajar pada link https://www.youtube.com/watch?v=W8adIcfv16M dan jangan lupa untuk subscribe."
   ]
  },
  {
   "cell_type": "markdown",
   "metadata": {},
   "source": [
    "# \"Banyak Belajar Biar Bisa Bantu Banyak Orang\""
   ]
  },
  {
   "cell_type": "markdown",
   "metadata": {},
   "source": [
    "By : Clarence Code Pianist"
   ]
  }
 ],
 "metadata": {
  "kernelspec": {
   "display_name": "Python 3",
   "language": "python",
   "name": "python3"
  },
  "language_info": {
   "codemirror_mode": {
    "name": "ipython",
    "version": 3
   },
   "file_extension": ".py",
   "mimetype": "text/x-python",
   "name": "python",
   "nbconvert_exporter": "python",
   "pygments_lexer": "ipython3",
   "version": "3.7.4"
  }
 },
 "nbformat": 4,
 "nbformat_minor": 2
}
