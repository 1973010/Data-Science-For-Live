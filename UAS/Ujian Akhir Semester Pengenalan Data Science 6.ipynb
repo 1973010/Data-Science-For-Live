{
 "cells": [
  {
   "cell_type": "markdown",
   "id": "3a0e7f64",
   "metadata": {},
   "source": [
    "# Ujian Akhir Semester (6)"
   ]
  },
  {
   "cell_type": "markdown",
   "id": "4339f23e",
   "metadata": {},
   "source": [
    "Nama   : Clarence Chandra Sentosa\n",
    "\n",
    "NRP    : 1973010"
   ]
  },
  {
   "cell_type": "markdown",
   "id": "73b1c9f2",
   "metadata": {},
   "source": [
    "# Training Classifier dengan KNN (K Nearest Neighbour)"
   ]
  },
  {
   "cell_type": "markdown",
   "id": "e188e695",
   "metadata": {},
   "source": [
    "# Load Breast Cancer Dataset"
   ]
  },
  {
   "cell_type": "code",
   "execution_count": 18,
   "id": "e77b5bbb",
   "metadata": {},
   "outputs": [],
   "source": [
    "# Code 01 (Import Modul)\n",
    "\n",
    "from sklearn.datasets import load_breast_cancer\n",
    "\n",
    "cancer = load_breast_cancer()"
   ]
  },
  {
   "cell_type": "markdown",
   "id": "ae77ea02",
   "metadata": {},
   "source": [
    "# Dataset Dimension"
   ]
  },
  {
   "cell_type": "code",
   "execution_count": 20,
   "id": "c714e2dc",
   "metadata": {},
   "outputs": [
    {
     "data": {
      "text/plain": [
       "(569, 30)"
      ]
     },
     "execution_count": 20,
     "metadata": {},
     "output_type": "execute_result"
    }
   ],
   "source": [
    "# Code 02 (Menampilkan dimensi dataset)\n",
    "\n",
    "cancer['data'].shape"
   ]
  },
  {
   "cell_type": "markdown",
   "id": "ad2b2edc",
   "metadata": {},
   "source": [
    "Kita bisa mengetahui pada code 02 bahwa **Breast Cancer** dataset memiliki 569 baris dan 30 kolom."
   ]
  },
  {
   "cell_type": "markdown",
   "id": "b377bce3",
   "metadata": {},
   "source": [
    "# Training Set dan Testing Set"
   ]
  },
  {
   "cell_type": "markdown",
   "id": "29b01765",
   "metadata": {},
   "source": [
    "Kita akan membagi dataset kedalam *Training Set* dan *Testing Set* nya."
   ]
  },
  {
   "cell_type": "code",
   "execution_count": 25,
   "id": "a82ea19f",
   "metadata": {},
   "outputs": [
    {
     "name": "stdout",
     "output_type": "stream",
     "text": [
      "X_train shape (426, 30)\n",
      "Y_train shape (426,)\n",
      "X_test shape (143, 30)\n",
      "Y_test shape (143,)\n"
     ]
    }
   ],
   "source": [
    "# Code 03\n",
    "\n",
    "from sklearn.model_selection import train_test_split\n",
    "X_train, X_test, y_train, y_test = train_test_split(\n",
    "    cancer['data'], cancer['target'], random_state = 0)\n",
    "\n",
    "print(\"X_train shape\", format(X_train.shape))\n",
    "print(\"Y_train shape\", format(y_train.shape))\n",
    "\n",
    "print(\"X_test shape\", format(X_test.shape))\n",
    "print(\"Y_test shape\", format(y_test.shape))"
   ]
  },
  {
   "cell_type": "markdown",
   "id": "8e3cded0",
   "metadata": {},
   "source": [
    "**Konsep berpikir code 03 :**\n",
    "- Pertama-tama kita import terlebih dahulu modulnya dengan memanggil *from sklearn.model_selection import train_test_split*.\n",
    "- Lalu kita panggil *train_test_split* dengan menyertakan parameter *(cancer['data'], cancer['target'], random_state = 0)*.\n",
    "- Lalu kita tampikan *X_train* dan *X_test* nya untuk melihat dimensi dari training set dan testing set nya.\n",
    "\n",
    "Berdasarkan hasil output code 03, kita bisa lihat bahwa X_train shape (426, 30) dan X_test shape (143, 30).\n",
    "    \n"
   ]
  },
  {
   "cell_type": "markdown",
   "id": "29824147",
   "metadata": {},
   "source": [
    "# Training KNN Classification Model "
   ]
  },
  {
   "cell_type": "markdown",
   "id": "821ccd69",
   "metadata": {},
   "source": [
    "Setelah training setnya kita persiapkan, selnjutnya kita akan melangkah ke proses training model. Kali ini model machine learning yang akan kita gunakan adalah **KNN**."
   ]
  },
  {
   "cell_type": "code",
   "execution_count": 32,
   "id": "a1ea3fe9",
   "metadata": {},
   "outputs": [
    {
     "data": {
      "text/plain": [
       "KNeighborsClassifier(n_neighbors=1)"
      ]
     },
     "execution_count": 32,
     "metadata": {},
     "output_type": "execute_result"
    }
   ],
   "source": [
    "# Code 04\n",
    "\n",
    "from sklearn.neighbors import KNeighborsClassifier\n",
    "\n",
    "knn = KNeighborsClassifier(n_neighbors = 1)\n",
    "\n",
    "knn.fit(X_train, y_train)"
   ]
  },
  {
   "cell_type": "markdown",
   "id": "7b02e136",
   "metadata": {},
   "source": [
    "**Konsep berpikir code 04 :**\n",
    "- Pertama-tama kita akan import terlebih dahulu estimater class nya 'from sklearn.neighbors import KNeighborsClassifier'.\n",
    "- Lalu kita panggil *KNeighborsClassifier* dengan menyertakan parameter *(n_neighbors = 1)* artinya kita menentukan jumlah tetangga pada kasus ini ialah 1 tetangga terdekat yang kita tampung kedalam variabel *knn*.\n",
    "- Selanjutnya kita akan melakukan fit transfrom pada *X_train* dan *y_train* dengan memanggil *fit(X_train, y_train)* yang kita kenakan pada variabel *knn*. "
   ]
  },
  {
   "cell_type": "markdown",
   "id": "4d4a6e3a",
   "metadata": {},
   "source": [
    "# Prediction Breast Cancer Dataset by KNN "
   ]
  },
  {
   "cell_type": "markdown",
   "id": "1608a559",
   "metadata": {},
   "source": [
    "Selanjutnya kita akan melakukan prediksi terhadap *X_test* yang dimiliki."
   ]
  },
  {
   "cell_type": "code",
   "execution_count": 34,
   "id": "573ad8a4",
   "metadata": {},
   "outputs": [],
   "source": [
    "# Code 05 (Prediction Dataset)\n",
    "\n",
    "y_pred = knn.predict(X_test)"
   ]
  },
  {
   "cell_type": "markdown",
   "id": "0c46efdc",
   "metadata": {},
   "source": [
    "# Classification Report"
   ]
  },
  {
   "cell_type": "code",
   "execution_count": 36,
   "id": "a8696a0e",
   "metadata": {},
   "outputs": [
    {
     "name": "stdout",
     "output_type": "stream",
     "text": [
      "Classification Report :\n",
      "              precision    recall  f1-score   support\n",
      "\n",
      "           0       0.90      0.87      0.88        53\n",
      "           1       0.92      0.94      0.93        90\n",
      "\n",
      "    accuracy                           0.92       143\n",
      "   macro avg       0.91      0.91      0.91       143\n",
      "weighted avg       0.92      0.92      0.92       143\n",
      "\n"
     ]
    }
   ],
   "source": [
    "# Code 06\n",
    "\n",
    "from sklearn.metrics import classification_report\n",
    "\n",
    "cls_report = classification_report(y_test, y_pred)\n",
    "\n",
    "print(f'Classification Report :\\n{cls_report}')"
   ]
  },
  {
   "cell_type": "markdown",
   "id": "132428c6",
   "metadata": {},
   "source": [
    "**Alur berpikir code 06** :\n",
    "- Pertama-tam kita akan import terlebih dahulu modulnya dengan memanggil *'from sklearn.metrics import classification_report'*.\n",
    "- Untuk selanjutnya kita akan memanggil *'classification_report'* dengan menyertakan parameter *'(y_test, y_pred)'* yang kita tampung kedalam variabel *cls_report*.\n",
    "\n",
    "Hasil output code 06 merupakan *classification report* sebagai bentuk evaluasi terhadap model **KNN** pada **Breast Cancer** dataset yang baru saja kita training sebelumnya, ditampilkan nilai *precision*, *recall*, serta *f1-score* nya."
   ]
  },
  {
   "cell_type": "markdown",
   "id": "f613aad6",
   "metadata": {},
   "source": [
    "Demikianlah cara yang saya lakukan untuk melakukan training classifier dengan menggunakan *Key Nearest Neighbour* atau **KNN** pada **Breast Cancer** dataset."
   ]
  },
  {
   "cell_type": "markdown",
   "id": "6b5a395c",
   "metadata": {},
   "source": [
    "# \"Banyak Belajar Biar Bisa Bantu Banyak Orang\"\n",
    "\n",
    "Written by : Clarence Code Pianist (1973010)"
   ]
  }
 ],
 "metadata": {
  "kernelspec": {
   "display_name": "Python 3",
   "language": "python",
   "name": "python3"
  },
  "language_info": {
   "codemirror_mode": {
    "name": "ipython",
    "version": 3
   },
   "file_extension": ".py",
   "mimetype": "text/x-python",
   "name": "python",
   "nbconvert_exporter": "python",
   "pygments_lexer": "ipython3",
   "version": "3.8.8"
  }
 },
 "nbformat": 4,
 "nbformat_minor": 5
}
