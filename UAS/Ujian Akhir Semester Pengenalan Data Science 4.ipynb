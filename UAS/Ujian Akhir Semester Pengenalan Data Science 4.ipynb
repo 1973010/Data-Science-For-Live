{
 "cells": [
  {
   "cell_type": "markdown",
   "id": "fbe1310f",
   "metadata": {},
   "source": [
    "# Ujian Akhir Semester (4)"
   ]
  },
  {
   "cell_type": "markdown",
   "id": "99098a4f",
   "metadata": {},
   "source": [
    "Nama   : Clarence Chandra Sentosa\n",
    "\n",
    "NRP    : 1973010\n",
    "    "
   ]
  },
  {
   "cell_type": "markdown",
   "id": "f5c68304",
   "metadata": {},
   "source": [
    "# Training Classifier dengan Suppor Vector Machine (SVM)"
   ]
  },
  {
   "cell_type": "markdown",
   "id": "a9af074c",
   "metadata": {},
   "source": [
    "# Load Breast Cancer Dataset"
   ]
  },
  {
   "cell_type": "markdown",
   "id": "a7a6def5",
   "metadata": {},
   "source": [
    "Pada kali ini saya akan menggunakan dataset yang sudah saya unduh terlebih dahulu pada website UCI Machine Learning."
   ]
  },
  {
   "cell_type": "code",
   "execution_count": 23,
   "id": "3915479d",
   "metadata": {},
   "outputs": [],
   "source": [
    "# Code 1a\n",
    "# Import Module Pandas\n",
    "\n",
    "import pandas as pd"
   ]
  },
  {
   "cell_type": "code",
   "execution_count": 24,
   "id": "bdf79dae",
   "metadata": {},
   "outputs": [],
   "source": [
    "# Code 1b\n",
    "# Load Dataset langsung dari UCI Machine Learning\n",
    "\n",
    "df = pd.read_csv(\"https://archive.ics.uci.edu/ml/machine-learning-databases/breast-cancer-wisconsin/breast-cancer-wisconsin.data\")"
   ]
  },
  {
   "cell_type": "code",
   "execution_count": 25,
   "id": "5f1abfba",
   "metadata": {},
   "outputs": [
    {
     "data": {
      "text/html": [
       "<div>\n",
       "<style scoped>\n",
       "    .dataframe tbody tr th:only-of-type {\n",
       "        vertical-align: middle;\n",
       "    }\n",
       "\n",
       "    .dataframe tbody tr th {\n",
       "        vertical-align: top;\n",
       "    }\n",
       "\n",
       "    .dataframe thead th {\n",
       "        text-align: right;\n",
       "    }\n",
       "</style>\n",
       "<table border=\"1\" class=\"dataframe\">\n",
       "  <thead>\n",
       "    <tr style=\"text-align: right;\">\n",
       "      <th></th>\n",
       "      <th>1000025</th>\n",
       "      <th>5</th>\n",
       "      <th>1</th>\n",
       "      <th>1.1</th>\n",
       "      <th>1.2</th>\n",
       "      <th>2</th>\n",
       "      <th>1.3</th>\n",
       "      <th>3</th>\n",
       "      <th>1.4</th>\n",
       "      <th>1.5</th>\n",
       "      <th>2.1</th>\n",
       "    </tr>\n",
       "  </thead>\n",
       "  <tbody>\n",
       "    <tr>\n",
       "      <th>0</th>\n",
       "      <td>1002945</td>\n",
       "      <td>5</td>\n",
       "      <td>4</td>\n",
       "      <td>4</td>\n",
       "      <td>5</td>\n",
       "      <td>7</td>\n",
       "      <td>10</td>\n",
       "      <td>3</td>\n",
       "      <td>2</td>\n",
       "      <td>1</td>\n",
       "      <td>2</td>\n",
       "    </tr>\n",
       "    <tr>\n",
       "      <th>1</th>\n",
       "      <td>1015425</td>\n",
       "      <td>3</td>\n",
       "      <td>1</td>\n",
       "      <td>1</td>\n",
       "      <td>1</td>\n",
       "      <td>2</td>\n",
       "      <td>2</td>\n",
       "      <td>3</td>\n",
       "      <td>1</td>\n",
       "      <td>1</td>\n",
       "      <td>2</td>\n",
       "    </tr>\n",
       "    <tr>\n",
       "      <th>2</th>\n",
       "      <td>1016277</td>\n",
       "      <td>6</td>\n",
       "      <td>8</td>\n",
       "      <td>8</td>\n",
       "      <td>1</td>\n",
       "      <td>3</td>\n",
       "      <td>4</td>\n",
       "      <td>3</td>\n",
       "      <td>7</td>\n",
       "      <td>1</td>\n",
       "      <td>2</td>\n",
       "    </tr>\n",
       "    <tr>\n",
       "      <th>3</th>\n",
       "      <td>1017023</td>\n",
       "      <td>4</td>\n",
       "      <td>1</td>\n",
       "      <td>1</td>\n",
       "      <td>3</td>\n",
       "      <td>2</td>\n",
       "      <td>1</td>\n",
       "      <td>3</td>\n",
       "      <td>1</td>\n",
       "      <td>1</td>\n",
       "      <td>2</td>\n",
       "    </tr>\n",
       "    <tr>\n",
       "      <th>4</th>\n",
       "      <td>1017122</td>\n",
       "      <td>8</td>\n",
       "      <td>10</td>\n",
       "      <td>10</td>\n",
       "      <td>8</td>\n",
       "      <td>7</td>\n",
       "      <td>10</td>\n",
       "      <td>9</td>\n",
       "      <td>7</td>\n",
       "      <td>1</td>\n",
       "      <td>4</td>\n",
       "    </tr>\n",
       "  </tbody>\n",
       "</table>\n",
       "</div>"
      ],
      "text/plain": [
       "   1000025  5   1  1.1  1.2  2 1.3  3  1.4  1.5  2.1\n",
       "0  1002945  5   4    4    5  7  10  3    2    1    2\n",
       "1  1015425  3   1    1    1  2   2  3    1    1    2\n",
       "2  1016277  6   8    8    1  3   4  3    7    1    2\n",
       "3  1017023  4   1    1    3  2   1  3    1    1    2\n",
       "4  1017122  8  10   10    8  7  10  9    7    1    4"
      ]
     },
     "execution_count": 25,
     "metadata": {},
     "output_type": "execute_result"
    }
   ],
   "source": [
    "# Code 1c\n",
    "# Menampilkan Data\n",
    "\n",
    "df.head()"
   ]
  },
  {
   "cell_type": "code",
   "execution_count": 28,
   "id": "68d1f0e1",
   "metadata": {},
   "outputs": [
    {
     "data": {
      "text/plain": [
       "(698, 11)"
      ]
     },
     "execution_count": 28,
     "metadata": {},
     "output_type": "execute_result"
    }
   ],
   "source": [
    "# Code 1d\n",
    "# Menampilkan Dimensi Dataset\n",
    "\n",
    "df.shape"
   ]
  },
  {
   "cell_type": "code",
   "execution_count": 26,
   "id": "6e3974cf",
   "metadata": {},
   "outputs": [
    {
     "data": {
      "text/html": [
       "<div>\n",
       "<style scoped>\n",
       "    .dataframe tbody tr th:only-of-type {\n",
       "        vertical-align: middle;\n",
       "    }\n",
       "\n",
       "    .dataframe tbody tr th {\n",
       "        vertical-align: top;\n",
       "    }\n",
       "\n",
       "    .dataframe thead th {\n",
       "        text-align: right;\n",
       "    }\n",
       "</style>\n",
       "<table border=\"1\" class=\"dataframe\">\n",
       "  <thead>\n",
       "    <tr style=\"text-align: right;\">\n",
       "      <th></th>\n",
       "      <th>1000025</th>\n",
       "      <th>5</th>\n",
       "      <th>1</th>\n",
       "      <th>1.1</th>\n",
       "      <th>1.2</th>\n",
       "      <th>2</th>\n",
       "      <th>1.3</th>\n",
       "      <th>3</th>\n",
       "      <th>1.4</th>\n",
       "      <th>1.5</th>\n",
       "      <th>2.1</th>\n",
       "    </tr>\n",
       "  </thead>\n",
       "  <tbody>\n",
       "    <tr>\n",
       "      <th>693</th>\n",
       "      <td>776715</td>\n",
       "      <td>3</td>\n",
       "      <td>1</td>\n",
       "      <td>1</td>\n",
       "      <td>1</td>\n",
       "      <td>3</td>\n",
       "      <td>2</td>\n",
       "      <td>1</td>\n",
       "      <td>1</td>\n",
       "      <td>1</td>\n",
       "      <td>2</td>\n",
       "    </tr>\n",
       "    <tr>\n",
       "      <th>694</th>\n",
       "      <td>841769</td>\n",
       "      <td>2</td>\n",
       "      <td>1</td>\n",
       "      <td>1</td>\n",
       "      <td>1</td>\n",
       "      <td>2</td>\n",
       "      <td>1</td>\n",
       "      <td>1</td>\n",
       "      <td>1</td>\n",
       "      <td>1</td>\n",
       "      <td>2</td>\n",
       "    </tr>\n",
       "    <tr>\n",
       "      <th>695</th>\n",
       "      <td>888820</td>\n",
       "      <td>5</td>\n",
       "      <td>10</td>\n",
       "      <td>10</td>\n",
       "      <td>3</td>\n",
       "      <td>7</td>\n",
       "      <td>3</td>\n",
       "      <td>8</td>\n",
       "      <td>10</td>\n",
       "      <td>2</td>\n",
       "      <td>4</td>\n",
       "    </tr>\n",
       "    <tr>\n",
       "      <th>696</th>\n",
       "      <td>897471</td>\n",
       "      <td>4</td>\n",
       "      <td>8</td>\n",
       "      <td>6</td>\n",
       "      <td>4</td>\n",
       "      <td>3</td>\n",
       "      <td>4</td>\n",
       "      <td>10</td>\n",
       "      <td>6</td>\n",
       "      <td>1</td>\n",
       "      <td>4</td>\n",
       "    </tr>\n",
       "    <tr>\n",
       "      <th>697</th>\n",
       "      <td>897471</td>\n",
       "      <td>4</td>\n",
       "      <td>8</td>\n",
       "      <td>8</td>\n",
       "      <td>5</td>\n",
       "      <td>4</td>\n",
       "      <td>5</td>\n",
       "      <td>10</td>\n",
       "      <td>4</td>\n",
       "      <td>1</td>\n",
       "      <td>4</td>\n",
       "    </tr>\n",
       "  </tbody>\n",
       "</table>\n",
       "</div>"
      ],
      "text/plain": [
       "     1000025  5   1  1.1  1.2  2 1.3   3  1.4  1.5  2.1\n",
       "693   776715  3   1    1    1  3   2   1    1    1    2\n",
       "694   841769  2   1    1    1  2   1   1    1    1    2\n",
       "695   888820  5  10   10    3  7   3   8   10    2    4\n",
       "696   897471  4   8    6    4  3   4  10    6    1    4\n",
       "697   897471  4   8    8    5  4   5  10    4    1    4"
      ]
     },
     "execution_count": 26,
     "metadata": {},
     "output_type": "execute_result"
    }
   ],
   "source": [
    "# Code 1e\n",
    "# Menampilkan 5 Data Terakhir\n",
    "\n",
    "df.tail()"
   ]
  },
  {
   "cell_type": "markdown",
   "id": "b1c60f5f",
   "metadata": {},
   "source": [
    "# Dataset Dimension"
   ]
  },
  {
   "cell_type": "code",
   "execution_count": 14,
   "id": "45bf45af",
   "metadata": {},
   "outputs": [
    {
     "data": {
      "text/plain": [
       "(569, 30)"
      ]
     },
     "execution_count": 14,
     "metadata": {},
     "output_type": "execute_result"
    }
   ],
   "source": [
    "# Code 02\n",
    "\n",
    "X, y = load_breast_cancer(return_X_y=True)\n",
    "X.shape"
   ]
  },
  {
   "cell_type": "markdown",
   "id": "a8a95c60",
   "metadata": {},
   "source": [
    "**Konsep berpikir code 02 :**\n",
    "\n",
    "- Pertama-tama kita panggil method *load_breast_cancer* dengan menyertakan parameter (return_X_y=True).\n",
    "- Lalu selanjutnya kita panggil *X.shape* dan kita coba run.\n",
    "\n",
    "Bisa kita lihat pada output code 02 bahwa, jumlah baris pada **Breast Cancer** dataset tersebut berjumlah 569 baris dan 30 kolom."
   ]
  },
  {
   "cell_type": "markdown",
   "id": "944d0243",
   "metadata": {},
   "source": [
    "# Training Set dan Testing Set"
   ]
  },
  {
   "cell_type": "markdown",
   "id": "2a50adf8",
   "metadata": {},
   "source": [
    "Kita akan membagi dataset tersebut kedalam training set dan testing set nya."
   ]
  },
  {
   "cell_type": "code",
   "execution_count": 32,
   "id": "c719d03e",
   "metadata": {},
   "outputs": [
    {
     "name": "stdout",
     "output_type": "stream",
     "text": [
      "X_train shape (455, 30)\n",
      "X_test shape (114, 30)\n",
      "y_train shape (455,)\n",
      "y_test shape (114,)\n"
     ]
    }
   ],
   "source": [
    "# Code 03\n",
    "\n",
    "from sklearn.model_selection import train_test_split\n",
    "\n",
    "X_train, X_test, y_train, y_test = train_test_split(X,\n",
    "                                                    y,\n",
    "                                                    test_size=0.2,\n",
    "                                                    random_state=2)\n",
    "\n",
    "print(f'X_train shape {X_train.shape}')\n",
    "print(f'X_test shape {X_test.shape}')\n",
    "print(f'y_train shape {y_train.shape}')\n",
    "print(f'y_test shape {y_test.shape}')"
   ]
  },
  {
   "cell_type": "markdown",
   "id": "a6146a4b",
   "metadata": {},
   "source": [
    "**Konsep berpikir code 03 :**\n",
    "- Pertama-tama kita akan mencoba import terlebih dahulu modulnya dengan memanggil fungsi \"from sklearn.model_selection import train_test_split\".\n",
    "- Selanjutnya kita akan memanggil \"train_test_split\" dengan menyertakan parameter \"(X, y, test_size=0.2 (artinya 20% dari data kita akan dialokasikan untuk testing dataset, sedangkan 80% akan digunakan sebagai training dataset), random_state=2). Fungsi ini akan mengembalikan 4 buah kumpulan nilai yang perlu kita tangkap kedalam 4 variabel yaitu \"X_train, X_test, y_train, dan y_test\".\n",
    "- Untuk selanjutnya, kita akan coba untuk menampilkan dimensi dari X_train dan X_test nya.\n",
    "\n",
    "Bisa kita lihat pada code 03, untuk X_train jumlah datanya ada 455 dan untuk X_test ada 114 artinya X_train merupakan 80% dan X_test 20% dari keseluruhan dataset yang kita miliki."
   ]
  },
  {
   "cell_type": "markdown",
   "id": "67bdc027",
   "metadata": {},
   "source": [
    "# Classification dengan SVC (Support Vector Classifier)"
   ]
  },
  {
   "cell_type": "code",
   "execution_count": 37,
   "id": "38dde503",
   "metadata": {},
   "outputs": [],
   "source": [
    "# Code 04 (Import modul dan inisiasi)\n",
    "\n",
    "from sklearn import svm\n",
    "\n",
    "model = svm.SVC(kernel = 'linear',gamma = \"auto\",C = 0.3)"
   ]
  },
  {
   "cell_type": "markdown",
   "id": "f5e068c5",
   "metadata": {},
   "source": [
    "**Konsep berpikir code 04 :**\n",
    "- Pertama-tama, import modul **SVM** pada *SkLearn* dengan memanggil *from sklearn import svm*.\n",
    "- Lalu *svm.SVC* dengan menyertakan parameter *(kernel = 'linear',gamma = \"auto\",C = 0.3)* yang ditampung ke dalam variabel *model*.\n",
    "\n",
    "**Penjelasan tentang *kernel*, *gamma*, dan *C***\n",
    "- Metode **kernel** adalah kelas algoritma untuk analisis pola.\n",
    "- Parameter **gamma** menentukan jarak pengaruh sampel data tunggal atau dikatakan menyesuaikan kelengkungan batas keputusan.\n",
    "- **C** menentukan penalti atau berapa banyak sampel yang boleh ditempatkan di kelas yang berbeda."
   ]
  },
  {
   "cell_type": "code",
   "execution_count": 39,
   "id": "9baf90eb",
   "metadata": {},
   "outputs": [
    {
     "data": {
      "text/plain": [
       "SVC(C=0.3, gamma='auto', kernel='linear')"
      ]
     },
     "execution_count": 39,
     "metadata": {},
     "output_type": "execute_result"
    }
   ],
   "source": [
    "# Code 05 (Fit Model)\n",
    "\n",
    "model.fit(X_train, y_train)"
   ]
  },
  {
   "cell_type": "markdown",
   "id": "edf80434",
   "metadata": {},
   "source": [
    "# Prediksi"
   ]
  },
  {
   "cell_type": "markdown",
   "id": "812d0fe1",
   "metadata": {},
   "source": [
    "Disini kita akan melakukan prediksi pada **Breast Cancer** dataset tersebut."
   ]
  },
  {
   "cell_type": "code",
   "execution_count": 41,
   "id": "d82b185c",
   "metadata": {},
   "outputs": [],
   "source": [
    "# Code 06 (Process Prediksi)\n",
    "\n",
    "y_predicted = model.predict(X_test)"
   ]
  },
  {
   "cell_type": "markdown",
   "id": "14070194",
   "metadata": {},
   "source": [
    "# Evaluasi "
   ]
  },
  {
   "cell_type": "markdown",
   "id": "7eef122a",
   "metadata": {},
   "source": [
    "Kita akan melakukan evaluasi **SVM** yang telah kita lakukan pada **Breast Cancer Dataset**"
   ]
  },
  {
   "cell_type": "code",
   "execution_count": 43,
   "id": "91b9062e",
   "metadata": {},
   "outputs": [
    {
     "name": "stdout",
     "output_type": "stream",
     "text": [
      "              precision    recall  f1-score   support\n",
      "\n",
      "           0       0.93      0.91      0.92        45\n",
      "           1       0.94      0.96      0.95        69\n",
      "\n",
      "    accuracy                           0.94       114\n",
      "   macro avg       0.94      0.93      0.94       114\n",
      "weighted avg       0.94      0.94      0.94       114\n",
      "\n"
     ]
    }
   ],
   "source": [
    "# Code 07 (Evaluasi nilai precision, recall, f1-score)\n",
    "\n",
    "from sklearn.metrics import classification_report\n",
    "\n",
    "print(classification_report(y_test, y_predicted))"
   ]
  },
  {
   "cell_type": "markdown",
   "id": "0768576c",
   "metadata": {},
   "source": [
    "**Konsep berpikir code 07 :**\n",
    "- Pertama kita akan mengimport modul terlebih dahulu dengan memanggigl method *from sklearn.metrics import classification_report*.\n",
    "- Lalu kita tampilkan *(classification_report(y_test, y_predicted))* dengan print.\n",
    "\n",
    "Pada output code 07 kita bisa lihat hasil evaluasi berupa nilai *precission*, *recall*, serta *f1-score* nya."
   ]
  },
  {
   "cell_type": "markdown",
   "id": "e109fe50",
   "metadata": {},
   "source": [
    "Demikianlah cara yang saya lakukan untuk melakukan training classifier dengan menggunakan *Support Vector Machine model* pada **Breast Cancer** dataset."
   ]
  },
  {
   "cell_type": "markdown",
   "id": "a6795b8d",
   "metadata": {},
   "source": [
    "# \"Banyak Belajar Biar Bisa Bantu Banyak Orang\"\n",
    "\n",
    "Written by : Clarence Code Pianist (1973010)"
   ]
  }
 ],
 "metadata": {
  "kernelspec": {
   "display_name": "Python 3",
   "language": "python",
   "name": "python3"
  },
  "language_info": {
   "codemirror_mode": {
    "name": "ipython",
    "version": 3
   },
   "file_extension": ".py",
   "mimetype": "text/x-python",
   "name": "python",
   "nbconvert_exporter": "python",
   "pygments_lexer": "ipython3",
   "version": "3.8.8"
  }
 },
 "nbformat": 4,
 "nbformat_minor": 5
}
