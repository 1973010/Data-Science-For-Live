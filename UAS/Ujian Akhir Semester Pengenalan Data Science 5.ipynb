{
 "cells": [
  {
   "cell_type": "markdown",
   "id": "2190bba0",
   "metadata": {},
   "source": [
    "# Ujian Akhir Semester (5)"
   ]
  },
  {
   "cell_type": "markdown",
   "id": "0fe61ba7",
   "metadata": {},
   "source": [
    "Nama   : Clarence Chandra Sentosa\n",
    "\n",
    "NRP    : 1973010"
   ]
  },
  {
   "cell_type": "markdown",
   "id": "ec06bd3c",
   "metadata": {},
   "source": [
    "# Training Classifier dengan Random Forest"
   ]
  },
  {
   "cell_type": "markdown",
   "id": "3c606019",
   "metadata": {},
   "source": [
    " **Random Forest** termasuk model machine learning yang umum ditemui dan merupakan pengembangan dari model **Desicion Tree**."
   ]
  },
  {
   "cell_type": "markdown",
   "id": "915738f8",
   "metadata": {},
   "source": [
    "# Load Breast Cancer Dataset"
   ]
  },
  {
   "cell_type": "code",
   "execution_count": 3,
   "id": "34871c9e",
   "metadata": {},
   "outputs": [
    {
     "name": "stdout",
     "output_type": "stream",
     "text": [
      "Dimensi Feature: (569, 30)\n",
      "Class: {0, 1}\n"
     ]
    }
   ],
   "source": [
    "# Code 01\n",
    "\n",
    "from sklearn.datasets import load_breast_cancer\n",
    "\n",
    "X, y = load_breast_cancer(return_X_y=True)\n",
    "\n",
    "print(f'Dimensi Feature: {X.shape}')\n",
    "print(f'Class: {set(y)}')"
   ]
  },
  {
   "cell_type": "markdown",
   "id": "a61116de",
   "metadata": {},
   "source": [
    "**Konsep berpikir code 01** :\n",
    "- Pertama-tama kita akan import terlebih dahulu modulnya dengan memanggil method *'from sklearn.datasets import load_breast_cancer'*.\n",
    "- Lalu berikutnya kta akan memanggil *'load_breast_cancer'* dengan menyertakan parameter *'(return_X_y)'* yang kita beri nilai *True*. Konsekuensinya disini kita harus menyiapkan 2 buah variabel yaitu *X* dan *y*, dimana *X* akan menampung sekumpulan nilai feature dan *y* akan menampung sekumpulan nilai target labelnya. \n",
    "- Lalu selanjutnya kita akan coba print out atau tampilkan shape atau dimensi dari variabel *X* nya, dan juga akan kita coba print out atau tampilkan class apa saja yang terdapat pada target label *y* nya.\n",
    "\n",
    "Jika kita perhatikan pada output code 01, dimensi feature atau dimensi dari variabel *X* nya terdiri dari 569 baris dan 30 kolom. Lalu terkait target label *y* nya, disini terdapat 2 buah class atau 2 nilai class yang berbeda yaitu class 0 dan class 1."
   ]
  },
  {
   "cell_type": "markdown",
   "id": "d8943f5a",
   "metadata": {},
   "source": [
    "# Training Set dan Testing Set"
   ]
  },
  {
   "cell_type": "markdown",
   "id": "fb3677d1",
   "metadata": {},
   "source": [
    "Selanjutnya dataset akan dibagi kedalam *training set* dan *testing set*."
   ]
  },
  {
   "cell_type": "code",
   "execution_count": 4,
   "id": "aebf2358",
   "metadata": {},
   "outputs": [],
   "source": [
    "# Code 02\n",
    "\n",
    "from sklearn.model_selection import train_test_split\n",
    "\n",
    "X_train, X_test, y_train, y_test = train_test_split(X,\n",
    "                                                    y,\n",
    "                                                    test_size=0.4,\n",
    "                                                    random_state=0)"
   ]
  },
  {
   "cell_type": "markdown",
   "id": "e86b062a",
   "metadata": {},
   "source": [
    "**Konsep berpikir code 02** :\n",
    "- Disini pertama-tama kita akn import modul terlebih dahulu dengan memanggi method *'from sklearn.model_selection import train_test_split'*. \n",
    "- Lalu berikutnya kita akan panggil *'train_test_split'* dengan menyertakan beberapa parameter yaitu *'(X, y)'*.\n",
    "- Lalu kita juga akan menentukan *'(test_size)'* sebesar 0.4. Artinya ukuran *testing_set* nya adalah 40%, sedangkan 60% nya akan kita alokasikan sebagai *Training Set*. \n",
    "- Selanjutnya untuk *'(random_state)'* nya akan kita pilih atau set sebagai 0. \n",
    "- Berikutnya pemanggilan *train_test_split* ini akan membutuhkan 4 buah variabel. Oleh karenanya, pada kasus ini kita akan siapkan *X_train, X_test, y_train,* serta *y_test* sebagai variabelnya.\n",
    "\n",
    "Disini kita sudah memiliki feature untuk Training set *X_Train* dan juga feature untuk testing set *X_test*, lalu kita juga memiliki target label untuk yraining set *y_train*, dan juga target label untuk testing setnya *y_test*."
   ]
  },
  {
   "cell_type": "markdown",
   "id": "37555c88",
   "metadata": {},
   "source": [
    "## Classification dengan `RandomForestClassifier`\n",
    "\n",
    "Disini kita akan menerapkan **Random Forest** untuk melakukan klasifkasi **Breast Cancer**."
   ]
  },
  {
   "cell_type": "code",
   "execution_count": 6,
   "id": "ed927c7d",
   "metadata": {},
   "outputs": [
    {
     "data": {
      "text/plain": [
       "RandomForestClassifier(n_estimators=150, random_state=0)"
      ]
     },
     "execution_count": 6,
     "metadata": {},
     "output_type": "execute_result"
    }
   ],
   "source": [
    "# Code 03\n",
    "\n",
    "from sklearn.ensemble import RandomForestClassifier\n",
    "\n",
    "model = RandomForestClassifier(n_estimators=150, \n",
    "                               random_state=0)\n",
    "\n",
    "model.fit(X_train, y_train)"
   ]
  },
  {
   "cell_type": "markdown",
   "id": "761fb4ff",
   "metadata": {},
   "source": [
    "**Konsep berpikir code 03** :\n",
    "- Pertama-tama kita akan mengimport terlebihi dahulu modulnya dengan memanggil method *'from sklearn.ensemble import RandomForestClassifier'*.\n",
    "- Selanjutnya kita akan bentuk objek dari *'RandomForestClassifier'* ini dengan menyertakan 2 buah parameter yaitu *'(n_estimators=150)'* yang untuk kasus kali ini kita melakukan training 150 buah model.\n",
    "- Lalu agar eksperimen kita ini bisa kita replicate dengan hasil yang konsisten, kita juga perlu mengeset random statenya yang dalam kasus kita kali ini adalah *'(random_state=0)'*. \n",
    "- Selanjutnya objek yang terbentuk tersbut akan kita tampung kedalam variabel *model*. \n",
    "- Untuk selanjutnya, model ini akan kita training dengan memanggil method *fit* dengan menyertakan parameter *'(X_train, y_train)'*."
   ]
  },
  {
   "cell_type": "markdown",
   "id": "f781a67b",
   "metadata": {},
   "source": [
    "# Evaluasi Model\n",
    "\n",
    "Disini kita akan lakukan evaluasi performa dari model **Random Forest** yang baru saja kita training tadi dengan memanfaatkan **Classification Report**."
   ]
  },
  {
   "cell_type": "code",
   "execution_count": 7,
   "id": "a347140f",
   "metadata": {},
   "outputs": [
    {
     "name": "stdout",
     "output_type": "stream",
     "text": [
      "              precision    recall  f1-score   support\n",
      "\n",
      "           0       0.96      0.87      0.91        83\n",
      "           1       0.93      0.98      0.95       145\n",
      "\n",
      "    accuracy                           0.94       228\n",
      "   macro avg       0.94      0.92      0.93       228\n",
      "weighted avg       0.94      0.94      0.94       228\n",
      "\n"
     ]
    }
   ],
   "source": [
    "# Code 04\n",
    "\n",
    "from sklearn.metrics import classification_report\n",
    "\n",
    "y_pred = model.predict(X_test)\n",
    "\n",
    "print(classification_report(y_test, y_pred))"
   ]
  },
  {
   "cell_type": "markdown",
   "id": "a03c7abb",
   "metadata": {},
   "source": [
    "**Alur berpikir code 04** :\n",
    "- Pertama-tam kita akan import terlebih dahulu modulnya dengan memanggil *'from sklearn.metrics import classification_report'*.\n",
    "- Lalu berikutnya kita lakukan prediksi terhadap x_test dengan memanggil *'model.predict(X_test)'* yang akan kita tampung kedalam variabel *y_pred*.\n",
    "- Untuk selanjutnya kita akan memanggil *'classification_report'* dengan menyertakan parameter *'(y_test, y_pred)'*.\n",
    "\n",
    "Hasil output code 04 merupakan *classification report* sebagai bentuk evaluasi terhadap model **Random Forest** yang baru saja kita training sebelumnya, ditampilkan nilai *precision*, *recall*, serta *f1-score* nya."
   ]
  },
  {
   "cell_type": "markdown",
   "id": "2ef30ed5",
   "metadata": {},
   "source": [
    "Demikianlah cara yang saya lakukan untuk melakukan training classifier dengan menggunakan *Random Forest* pada **Breast Cancer** dataset."
   ]
  },
  {
   "cell_type": "markdown",
   "id": "dec343dd",
   "metadata": {},
   "source": [
    "# \"Banyak Belajar Biar Bisa Bantu Banyak Orang\"\n",
    "\n",
    "Written by : Clarence Code Pianist (1973010)"
   ]
  }
 ],
 "metadata": {
  "kernelspec": {
   "display_name": "Python 3",
   "language": "python",
   "name": "python3"
  },
  "language_info": {
   "codemirror_mode": {
    "name": "ipython",
    "version": 3
   },
   "file_extension": ".py",
   "mimetype": "text/x-python",
   "name": "python",
   "nbconvert_exporter": "python",
   "pygments_lexer": "ipython3",
   "version": "3.8.8"
  }
 },
 "nbformat": 4,
 "nbformat_minor": 5
}
