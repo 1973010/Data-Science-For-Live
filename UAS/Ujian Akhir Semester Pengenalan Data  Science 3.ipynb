{
 "cells": [
  {
   "cell_type": "markdown",
   "id": "5e703443",
   "metadata": {},
   "source": [
    "# Ujian Akhir Semester (3)"
   ]
  },
  {
   "cell_type": "markdown",
   "id": "99fee75a",
   "metadata": {},
   "source": [
    "Nama : Clarence Chandra Sentosa\n",
    "\n",
    "NRP  : 1973010"
   ]
  },
  {
   "cell_type": "markdown",
   "id": "361a4012",
   "metadata": {},
   "source": [
    "# Training Classifier dengan Naive Bayes"
   ]
  },
  {
   "cell_type": "markdown",
   "id": "cbddae7c",
   "metadata": {},
   "source": [
    "# Load Breast Cancer Dataset"
   ]
  },
  {
   "cell_type": "code",
   "execution_count": 1,
   "id": "e5af6490",
   "metadata": {},
   "outputs": [
    {
     "name": "stdout",
     "output_type": "stream",
     "text": [
      ".. _breast_cancer_dataset:\n",
      "\n",
      "Breast cancer wisconsin (diagnostic) dataset\n",
      "--------------------------------------------\n",
      "\n",
      "**Data Set Characteristics:**\n",
      "\n",
      "    :Number of Instances: 569\n",
      "\n",
      "    :Number of Attributes: 30 numeric, predictive attributes and the class\n",
      "\n",
      "    :Attribute Information:\n",
      "        - radius (mean of distances from center to points on the perimeter)\n",
      "        - texture (standard deviation of gray-scale values)\n",
      "        - perimeter\n",
      "        - area\n",
      "        - smoothness (local variation in radius lengths)\n",
      "        - compactness (perimeter^2 / area - 1.0)\n",
      "        - concavity (severity of concave portions of the contour)\n",
      "        - concave points (number of concave portions of the contour)\n",
      "        - symmetry\n",
      "        - fractal dimension (\"coastline approximation\" - 1)\n",
      "\n",
      "        The mean, standard error, and \"worst\" or largest (mean of the three\n",
      "        worst/largest values) of these features were computed for each image,\n",
      "        resulting in 30 features.  For instance, field 0 is Mean Radius, field\n",
      "        10 is Radius SE, field 20 is Worst Radius.\n",
      "\n",
      "        - class:\n",
      "                - WDBC-Malignant\n",
      "                - WDBC-Benign\n",
      "\n",
      "    :Summary Statistics:\n",
      "\n",
      "    ===================================== ====== ======\n",
      "                                           Min    Max\n",
      "    ===================================== ====== ======\n",
      "    radius (mean):                        6.981  28.11\n",
      "    texture (mean):                       9.71   39.28\n",
      "    perimeter (mean):                     43.79  188.5\n",
      "    area (mean):                          143.5  2501.0\n",
      "    smoothness (mean):                    0.053  0.163\n",
      "    compactness (mean):                   0.019  0.345\n",
      "    concavity (mean):                     0.0    0.427\n",
      "    concave points (mean):                0.0    0.201\n",
      "    symmetry (mean):                      0.106  0.304\n",
      "    fractal dimension (mean):             0.05   0.097\n",
      "    radius (standard error):              0.112  2.873\n",
      "    texture (standard error):             0.36   4.885\n",
      "    perimeter (standard error):           0.757  21.98\n",
      "    area (standard error):                6.802  542.2\n",
      "    smoothness (standard error):          0.002  0.031\n",
      "    compactness (standard error):         0.002  0.135\n",
      "    concavity (standard error):           0.0    0.396\n",
      "    concave points (standard error):      0.0    0.053\n",
      "    symmetry (standard error):            0.008  0.079\n",
      "    fractal dimension (standard error):   0.001  0.03\n",
      "    radius (worst):                       7.93   36.04\n",
      "    texture (worst):                      12.02  49.54\n",
      "    perimeter (worst):                    50.41  251.2\n",
      "    area (worst):                         185.2  4254.0\n",
      "    smoothness (worst):                   0.071  0.223\n",
      "    compactness (worst):                  0.027  1.058\n",
      "    concavity (worst):                    0.0    1.252\n",
      "    concave points (worst):               0.0    0.291\n",
      "    symmetry (worst):                     0.156  0.664\n",
      "    fractal dimension (worst):            0.055  0.208\n",
      "    ===================================== ====== ======\n",
      "\n",
      "    :Missing Attribute Values: None\n",
      "\n",
      "    :Class Distribution: 212 - Malignant, 357 - Benign\n",
      "\n",
      "    :Creator:  Dr. William H. Wolberg, W. Nick Street, Olvi L. Mangasarian\n",
      "\n",
      "    :Donor: Nick Street\n",
      "\n",
      "    :Date: November, 1995\n",
      "\n",
      "This is a copy of UCI ML Breast Cancer Wisconsin (Diagnostic) datasets.\n",
      "https://goo.gl/U2Uwz2\n",
      "\n",
      "Features are computed from a digitized image of a fine needle\n",
      "aspirate (FNA) of a breast mass.  They describe\n",
      "characteristics of the cell nuclei present in the image.\n",
      "\n",
      "Separating plane described above was obtained using\n",
      "Multisurface Method-Tree (MSM-T) [K. P. Bennett, \"Decision Tree\n",
      "Construction Via Linear Programming.\" Proceedings of the 4th\n",
      "Midwest Artificial Intelligence and Cognitive Science Society,\n",
      "pp. 97-101, 1992], a classification method which uses linear\n",
      "programming to construct a decision tree.  Relevant features\n",
      "were selected using an exhaustive search in the space of 1-4\n",
      "features and 1-3 separating planes.\n",
      "\n",
      "The actual linear program used to obtain the separating plane\n",
      "in the 3-dimensional space is that described in:\n",
      "[K. P. Bennett and O. L. Mangasarian: \"Robust Linear\n",
      "Programming Discrimination of Two Linearly Inseparable Sets\",\n",
      "Optimization Methods and Software 1, 1992, 23-34].\n",
      "\n",
      "This database is also available through the UW CS ftp server:\n",
      "\n",
      "ftp ftp.cs.wisc.edu\n",
      "cd math-prog/cpo-dataset/machine-learn/WDBC/\n",
      "\n",
      ".. topic:: References\n",
      "\n",
      "   - W.N. Street, W.H. Wolberg and O.L. Mangasarian. Nuclear feature extraction \n",
      "     for breast tumor diagnosis. IS&T/SPIE 1993 International Symposium on \n",
      "     Electronic Imaging: Science and Technology, volume 1905, pages 861-870,\n",
      "     San Jose, CA, 1993.\n",
      "   - O.L. Mangasarian, W.N. Street and W.H. Wolberg. Breast cancer diagnosis and \n",
      "     prognosis via linear programming. Operations Research, 43(4), pages 570-577, \n",
      "     July-August 1995.\n",
      "   - W.H. Wolberg, W.N. Street, and O.L. Mangasarian. Machine learning techniques\n",
      "     to diagnose breast cancer from fine-needle aspirates. Cancer Letters 77 (1994) \n",
      "     163-171.\n"
     ]
    }
   ],
   "source": [
    "# Code 01\n",
    "\n",
    "from sklearn.datasets import load_breast_cancer\n",
    "\n",
    "print(load_breast_cancer().DESCR)"
   ]
  },
  {
   "cell_type": "markdown",
   "id": "4192d628",
   "metadata": {},
   "source": [
    "**Konsep berpikir code 01 :**\n",
    "\n",
    "- Pertama-tama kita akan mengimport terlebih dahulu modulnya dengan memanggil method \"from sklearn.datasets import load_breast_cancer\".\n",
    "- Lalu selajutnya kita akan memanggil \"load_breast_cancer()\" dan disini kita akan coba akses description dari datasetnya dengan memanggil \".DESCR\".\n",
    "- Lalu terakhir kita akan coba tampilkna pada layar dengan memanfaatkan fungsi print.\n",
    "\n",
    "Berdasarkan hasil code 01, kita bisa melihat isi deskripsi dari dataset \"Breast Cancer Wisconsin (Diagnostic)\", kita bisa ketahui juga bahwa dataset ini terdiri dari 569 instances atau 569 data, kita juga bisa lihat number of attributes adalah 30 numeric yang artinya disini terdapat 30 nilai numerik sebagai featurenya atau sebagai kolomnya yang kita bisa lihat featurenya terdiri dari : - radius (mean of distances from center to points on the perimeter) - texture (standard deviation of gray-scale values) - perimeter - area - smoothness (local variation in radius lengths) - compactness (perimeter^2 / area - 1.0) - concavity (severity of concave portions of the contour) - concave points (number of concave portions of the contour) - symmetry - fractal dimension (\"coastline approximation\" - 1)\n",
    "\n",
    "Semua feature tersebut memiliki type data numeric dengan total jumlah feature adalah 30. Terkait dengan class, terdapat 2 buah class pada dataset ini yaitu WDBC-Malignant (mengindikasikan tumor ganas) dan WDBC-Benign (mengindikasikan tumor jinak). Kita juga bisa melihat bahwa pada dataset ini tidak terdapat missing value. Lalu terkait proporsi classnya, terdapat 212 data yang diklasifikasikan sebagai malignant atau tumor ganas dan terdapat 357 data yang diklasifikasikan sebagai benign atau tumor jinak. Lalu selanjutnya ada keterangan creator ata pembuat dataset, dan ada juga tanggal pembuatannya. Kita sebaiknya mengetahui deskirpisi suatu dataset terlebih dahulu sebelum bekerja dengan dataset yang akan digunakan."
   ]
  },
  {
   "cell_type": "markdown",
   "id": "b6d250c1",
   "metadata": {},
   "source": [
    "# Dataset Dimension"
   ]
  },
  {
   "cell_type": "code",
   "execution_count": 2,
   "id": "cb40bf72",
   "metadata": {},
   "outputs": [
    {
     "data": {
      "text/plain": [
       "(569, 30)"
      ]
     },
     "execution_count": 2,
     "metadata": {},
     "output_type": "execute_result"
    }
   ],
   "source": [
    "# Code 02\n",
    "\n",
    "X, y = load_breast_cancer(return_X_y=True)\n",
    "X.shape"
   ]
  },
  {
   "cell_type": "markdown",
   "id": "61d909bc",
   "metadata": {},
   "source": [
    "**Konsep berpikir code 02 :**\n",
    "\n",
    "- Pertama-tama kita panggil method *load_breast_cancer* dengan menyertakan parameter (return_X_y=True).\n",
    "- Lalu selanjutnya kita panggil *X.shape* dan kita coba run.\n",
    "\n",
    "Bisa kita lihat pada output code 02 bahwa, jumlah baris pada **Breast Cancer** dataset tersebut berjumlah 569 baris dan 30 kolom."
   ]
  },
  {
   "cell_type": "markdown",
   "id": "b67c91c6",
   "metadata": {},
   "source": [
    "# Training & Testing Set"
   ]
  },
  {
   "cell_type": "markdown",
   "id": "7939eb0e",
   "metadata": {},
   "source": [
    "Kita akan membagi dataset tersebut kedalam *training set* dan *testing set* nya."
   ]
  },
  {
   "cell_type": "code",
   "execution_count": 3,
   "id": "155b6d45",
   "metadata": {},
   "outputs": [
    {
     "name": "stdout",
     "output_type": "stream",
     "text": [
      "X_train shape (455, 30)\n",
      "X_test shape (114, 30)\n"
     ]
    }
   ],
   "source": [
    "# Code 03\n",
    "\n",
    "from sklearn.model_selection import train_test_split\n",
    "\n",
    "X_train, X_test, y_train, y_test = train_test_split(X,\n",
    "                                                    y,\n",
    "                                                    test_size=0.2,\n",
    "                                                    random_state=0)\n",
    "\n",
    "print(f'X_train shape {X_train.shape}')\n",
    "print(f'X_test shape {X_test.shape}')"
   ]
  },
  {
   "cell_type": "markdown",
   "id": "24af5207",
   "metadata": {},
   "source": [
    "**Konsep berpikir code 03 :**\n",
    "- Pertama-tama kita akan mencoba import terlebih dahulu modulnya dengan memanggil fungsi \"from sklearn.model_selection import train_test_split\".\n",
    "- Selanjutnya kita akan memanggil \"train_test_split\" dengan menyertakan parameter \"(X, y, test_size=0.2 (artinya 20% dari data kita akan dialokasikan untuk testing dataset, sedangkan 80% akan digunakan sebagai training dataset), random_state=0). Fungsi ini akan mengembalikan 4 buah kumpulan nilai yang perlu kita tangkap kedalam 4 variabel yaitu \"X_train, X_test, y_train, dan y_test\".\n",
    "- Untuk selanjutnya, kita akan coba untuk menampilkan dimensi dari X_train dan X_test nya.\n",
    "\n",
    "Bisa kita lihat pada code 03, untuk X_train jumlah datanya ada 455 dan untuk X_test ada 114 artinya X_train merupakan 80% dan X_test 20% dari keseluruhan dataset yang kita miliki."
   ]
  },
  {
   "cell_type": "markdown",
   "id": "e5fc4e78",
   "metadata": {},
   "source": [
    "# Naive Bayes dengan Scikit Learn\n",
    "\n",
    "Pada kali ini kita akan menerapkan \"Naive Bayes\" untuk melakukan klasifikasi data pada dataset \"Breast Cancer\" yang kita miliki."
   ]
  },
  {
   "cell_type": "code",
   "execution_count": 8,
   "id": "df8f175e",
   "metadata": {},
   "outputs": [
    {
     "data": {
      "text/plain": [
       "'accuracy_score : 0.9298245614035088'"
      ]
     },
     "execution_count": 8,
     "metadata": {},
     "output_type": "execute_result"
    }
   ],
   "source": [
    "# Code 04\n",
    "\n",
    "from sklearn.naive_bayes import GaussianNB\n",
    "from sklearn.metrics import accuracy_score\n",
    "\n",
    "model = GaussianNB()\n",
    "model.fit(X_train, y_train)\n",
    "y_pred = model.predict(X_test)\n",
    "f'accuracy_score : {accuracy_score(y_test, y_pred)}'"
   ]
  },
  {
   "cell_type": "markdown",
   "id": "cd3a2ff2",
   "metadata": {},
   "source": [
    "**Konsep berpikir code 04 :**\n",
    "- Pertama-tama kita mengimport terlebih dahulu modelnya dengan memanggil fungsi \"from sklearn.naive_bayes import GaussianNB\". NB merepresentasikan Naive Bayes.\n",
    "- Lalu kita juga akan mengimport matriks akurasinya dengan memanggi fungsi \"from sklearn.metrics import accuracy_score\".\n",
    "- Berikutnya kita aka membentuk terlebih dahulu objek dari model \"GaussianNB()\" yang ditampung kedalam variabel \"model\".\n",
    "- Lalu selanjutnya, model ini akan training dengan menggunakan method \"fit()\" dengan menyertakan parameter \"(X_train, y_train)\".\n",
    "- Setelah modelnya kita training, maka train model tersebut akan kita gunakan untuk melakukan prediksi terhadap nilai dari X_test yang hasil prediksinya akan kita tampung kedalam variabel \"y_pred\".\n",
    "- Untuk selanjutnya, kita akan mengukur nilai akurasinya dengan memanggil fungsi \"accuracy_score\" dengan menyertakan parameter \"(y_test, y_pred)\"\n",
    "\n",
    "Kita bisa lihat bahwa hasil akurasinya adalah 0.9298245614035088. Kita juga bisa mencari nilai akurasinya dengan cara yang lebih sederhana (perhatikan pada code 05)."
   ]
  },
  {
   "cell_type": "code",
   "execution_count": 9,
   "id": "99b76e76",
   "metadata": {},
   "outputs": [
    {
     "data": {
      "text/plain": [
       "0.9298245614035088"
      ]
     },
     "execution_count": 9,
     "metadata": {},
     "output_type": "execute_result"
    }
   ],
   "source": [
    "# Code 05\n",
    "\n",
    "model.score(X_test, y_test)"
   ]
  },
  {
   "cell_type": "markdown",
   "id": "6f147cd4",
   "metadata": {},
   "source": [
    "Selanjutnya kita akan melakukan evaluasi performa dari Naive Bayes model yang baru saja kita training tadi dengan memanfaatkan Classification Report."
   ]
  },
  {
   "cell_type": "code",
   "execution_count": 10,
   "id": "4fa7bc1a",
   "metadata": {},
   "outputs": [
    {
     "name": "stdout",
     "output_type": "stream",
     "text": [
      "              precision    recall  f1-score   support\n",
      "\n",
      "           0       0.91      0.91      0.91        47\n",
      "           1       0.94      0.94      0.94        67\n",
      "\n",
      "    accuracy                           0.93       114\n",
      "   macro avg       0.93      0.93      0.93       114\n",
      "weighted avg       0.93      0.93      0.93       114\n",
      "\n"
     ]
    }
   ],
   "source": [
    "# Code 06\n",
    "\n",
    "from sklearn.metrics import classification_report\n",
    "\n",
    "y_pred = model.predict(X_test)\n",
    "\n",
    "print(classification_report(y_test, y_pred))"
   ]
  },
  {
   "cell_type": "markdown",
   "id": "b2f4b4d0",
   "metadata": {},
   "source": [
    "**Konsep berpikir code 06 :\n",
    "\n",
    "- Pertama-tama kita akan import terlebih dahulu modulnya dengan memanggil method \"from sklearn.metrics import classification_report\".\n",
    "- Lalu berikutnya kita akan melakukan prediksi dengan memanggil method \"model.predict\" dengan memanfaatkan testing_set kita (X_test), yang hasil prediksinya akan ditampung kedalam variabel y_pred.\n",
    "- Untuk selanjutnya akan kita evaluasi dengan menggunakan classification_report dengan menyertakan parameter y_test dan y_pred.\n",
    "- Pada output code 06, kita bisa melihat kolom nilai precission, recall, f1-score, support, serta kolom nilai accuracy nya sebagai peforma dari Naive Bayes model yang telah kita gunakan."
   ]
  },
  {
   "cell_type": "markdown",
   "id": "d2945a47",
   "metadata": {},
   "source": [
    "Demikianlah cara yang saya lakukan untuk melakukan training classifier dengan menggunakan *Naive Bayes* model pada **Breast Cancer** dataset."
   ]
  },
  {
   "cell_type": "markdown",
   "id": "74912716",
   "metadata": {},
   "source": [
    "# \"Banyak Belajar Biar Bisa Bantu Banyak Orang\"\n",
    "\n",
    "Written by : Clarence Code Pianist (1973010)"
   ]
  }
 ],
 "metadata": {
  "kernelspec": {
   "display_name": "Python 3",
   "language": "python",
   "name": "python3"
  },
  "language_info": {
   "codemirror_mode": {
    "name": "ipython",
    "version": 3
   },
   "file_extension": ".py",
   "mimetype": "text/x-python",
   "name": "python",
   "nbconvert_exporter": "python",
   "pygments_lexer": "ipython3",
   "version": "3.8.8"
  }
 },
 "nbformat": 4,
 "nbformat_minor": 5
}
