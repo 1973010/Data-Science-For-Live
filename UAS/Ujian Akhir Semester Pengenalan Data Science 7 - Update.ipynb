{
 "cells": [
  {
   "cell_type": "markdown",
   "id": "763c04a7",
   "metadata": {},
   "source": [
    "# Ujian Akhir Semester (7)"
   ]
  },
  {
   "cell_type": "markdown",
   "id": "6a59d802",
   "metadata": {},
   "source": [
    "Nama   : Clarence Chandra Sentosa\n",
    "\n",
    "NRP    : 1973010"
   ]
  },
  {
   "cell_type": "markdown",
   "id": "c6d64b01",
   "metadata": {},
   "source": [
    "# Classifier Performance"
   ]
  },
  {
   "cell_type": "markdown",
   "id": "6b565678",
   "metadata": {},
   "source": [
    "Pada kali ini, kita akan mencoba membuat perbandingan dari seluruh classifier yang sudah kita terapkan atau training pada **Breast Cancer** dataset. Langkah ini sebenarnya adalah langkah yang telah kita lakukan pada classifier yang telah kita build sebelumnya. Namun pada kali ini, kita akan samakan baik itu *training set*, *testing set*, serta nilai-nilai parameter lainnya dengan cara yang lebih ringkas dan singkat."
   ]
  },
  {
   "cell_type": "markdown",
   "id": "18c0fae3",
   "metadata": {},
   "source": [
    "# Load Breast Cancer Dataset"
   ]
  },
  {
   "cell_type": "markdown",
   "id": "6a9b24fb",
   "metadata": {},
   "source": [
    "Disini pertama-tama kita akan meload **Breast Cancer** dataset nya terlebih dahulu."
   ]
  },
  {
   "cell_type": "code",
   "execution_count": 15,
   "id": "1c608d9e",
   "metadata": {},
   "outputs": [
    {
     "name": "stdout",
     "output_type": "stream",
     "text": [
      "Dimensi Feature: (569, 30)\n",
      "Class: {0, 1}\n"
     ]
    }
   ],
   "source": [
    "# Code 01\n",
    "\n",
    "from sklearn.datasets import load_breast_cancer\n",
    "\n",
    "X, y = load_breast_cancer(return_X_y=True)\n",
    "\n",
    "print(f'Dimensi Feature: {X.shape}')\n",
    "print(f'Class: {set(y)}')"
   ]
  },
  {
   "cell_type": "markdown",
   "id": "da43ca8a",
   "metadata": {},
   "source": [
    "**Konsep berpikir code 01** :\n",
    "- Pertama-tama kita akan import terlebih dahulu modulnya dengan memanggil method *'from sklearn.datasets import load_breast_cancer'*.\n",
    "- Lalu berikutnya kta akan memanggil *'load_breast_cancer'* dengan menyertakan parameter *'(return_X_y)'* yang kita beri nilai *True*. Konsekuensinya disini kita harus menyiapkan 2 buah variabel yaitu *X* dan *y*, dimana *X* akan menampung sekumpulan nilai feature dan *y* akan menampung sekumpulan nilai target labelnya. \n",
    "- Lalu selanjutnya kita akan coba print out atau tampilkan shape atau dimensi dari variabel *X* nya, dan juga akan kita coba print out atau tampilkan class apa saja yang terdapat pada target label *y* nya.\n",
    "\n",
    "Jika kita perhatikan pada output code 01, dimensi feature atau dimensi dari variabel *X* nya terdiri dari 569 baris dan 30 kolom. Lalu terkait target label *y* nya, disini terdapat 2 buah class atau 2 nilai class yang berbeda yaitu class 0 dan class 1."
   ]
  },
  {
   "cell_type": "markdown",
   "id": "76dc470d",
   "metadata": {},
   "source": [
    "# Training Set & Testing Set"
   ]
  },
  {
   "cell_type": "markdown",
   "id": "577bbafb",
   "metadata": {},
   "source": [
    "Lalu kita akan membagi dataset tersebut kedalam *training set* serta *testing set* nya. "
   ]
  },
  {
   "cell_type": "code",
   "execution_count": 16,
   "id": "c7786545",
   "metadata": {},
   "outputs": [],
   "source": [
    "# Code 02\n",
    "\n",
    "from sklearn.model_selection import train_test_split\n",
    "\n",
    "X_train, X_test, y_train, y_test = train_test_split(X, y, test_size = 0.3, random_state = 0)"
   ]
  },
  {
   "cell_type": "markdown",
   "id": "b9e2bf1c",
   "metadata": {},
   "source": [
    "**Konsep berpikir code 02** :\n",
    "- Disini pertama-tama kita akn import modul terlebih dahulu dengan memanggi method *'from sklearn.model_selection import train_test_split'*. \n",
    "- Lalu berikutnya kita akan panggil *'train_test_split'* dengan menyertakan beberapa parameter yaitu *'(X, y)'*.\n",
    "- Lalu kita juga akan menentukan *'(test_size)'* sebesar 0.3. Artinya ukuran *testing_set* nya adalah 30%, sedangkan 70% nya akan kita alokasikan sebagai *Training Set*. \n",
    "- Selanjutnya untuk *'(random_state)'* nya akan kita pilih atau set sebagai 0. \n",
    "- Berikutnya pemanggilan *train_test_split* ini akan membutuhkan 4 buah variabel. Oleh karenanya, pada kasus ini kita akan siapkan *X_train, X_test, y_train,* serta *y_test* sebagai variabelnya.\n",
    "\n",
    "Disini kita sudah memiliki feature untuk Training set *X_Train* dan juga feature untuk testing set *X_test*, lalu kita juga memiliki target label untuk yraining set *y_train*, dan juga target label untuk testing setnya *y_test*."
   ]
  },
  {
   "cell_type": "markdown",
   "id": "34692cbc",
   "metadata": {},
   "source": [
    "# Build `Desicion Tree Classifier`"
   ]
  },
  {
   "cell_type": "markdown",
   "id": "27d2f9a9",
   "metadata": {},
   "source": [
    "Pertama kita akan membangun classifier pada *Desicion Tree* yang kita terapkan pada **Breast Cancer** dataset."
   ]
  },
  {
   "cell_type": "code",
   "execution_count": 17,
   "id": "cd3f5b8f",
   "metadata": {},
   "outputs": [
    {
     "name": "stdout",
     "output_type": "stream",
     "text": [
      "Performance : 0.9298245614035088\n"
     ]
    }
   ],
   "source": [
    "# Code 03\n",
    "\n",
    "from sklearn import tree\n",
    "\n",
    "tree = tree.DecisionTreeClassifier(max_depth=5)\n",
    "\n",
    "tree.fit(X_train, y_train)\n",
    "\n",
    "tree.score(X_test, y_test)\n",
    "\n",
    "y_pred = tree.predict(X_test)\n",
    "print(f'Performance : {tree.score(X_test, y_test)}')"
   ]
  },
  {
   "cell_type": "markdown",
   "id": "1697f010",
   "metadata": {},
   "source": [
    "**Konsep berpikir code 03 :**\n",
    "- Pertama-tama kita akan import terlebih dahulu modulnya dengan memanggil *from sklearn import tree*.\n",
    "- Lalu kita panggil*tree.DecisionTreeClassifier* dengan menyertakan parameter *(max_depth=5)* yang berarti disini kita menetepakan 5 layer per desicion tree nya.\n",
    "- Selanjutnya kita lakukan training pada *X_train* dan *y_train* nya dengan memanggil method *tree.fit(X_train, y_train)*.\n",
    "- Berikutnya kita akan melakukan kalkulasi performa pada *X_test* serta *y_test* nya dengan memanggil fungsi *tree.score(X_test, y_test)*.\n",
    "- Lalu kita panggil *tree.predict* dengan menyetakan parameter *(X_test)* yang ditampung kedalam variabel *y_pred*.\n",
    "- Terakhir kita tampilkan hasil kalkulasi score pada *X_test* dan *y_test* nya dengan memangggil *tree.score(X_test, y_test)* lalu kita print untuk melihat hasilnya.\n",
    "\n",
    "Bisa kita lihat pada hasil output code 03 bahwa hasil score performa pada model **Desicion Tree**  yang dikenakan pada **Breast Cancer** dataset yaitu 0.9298245614035088."
   ]
  },
  {
   "cell_type": "markdown",
   "id": "0c31a734",
   "metadata": {},
   "source": [
    "# Build `Random Forest Classifier`"
   ]
  },
  {
   "cell_type": "markdown",
   "id": "f3c17edd",
   "metadata": {},
   "source": [
    "Selanjutnya kita akan membangun classifier pada *Random Forest* yang kita terapkan pada **Breast Cancer** dataset."
   ]
  },
  {
   "cell_type": "code",
   "execution_count": 18,
   "id": "8a8c555e",
   "metadata": {},
   "outputs": [
    {
     "name": "stdout",
     "output_type": "stream",
     "text": [
      "Performance : 1.0\n"
     ]
    }
   ],
   "source": [
    "# Code 04\n",
    "\n",
    "from sklearn import ensemble\n",
    "\n",
    "forest = ensemble.RandomForestClassifier(n_estimators = 100,\n",
    "                                        random_state = 0)\n",
    "\n",
    "forest.fit(X_train, y_train)\n",
    "\n",
    "print(f'Performance : {forest.score(X_train, y_train)}')"
   ]
  },
  {
   "cell_type": "markdown",
   "id": "f7af8077",
   "metadata": {},
   "source": [
    "**Konsep berpikir code 04 :**\n",
    "- Pertama- tama kita akan mengimport modul terlebih dahulu dengan memanggil method *from sklearn import ensemble*.\n",
    "- Lalu kita panggil *ensemble.RandomForestClassifier* dengan menyertakan parameter *(n_estimators = 100)*  yang untuk kasus kali ini kita melakukan training 100 buah model.\n",
    "- Lalu agar eksperimen kita ini bisa kita replicate dengan hasil yang konsisten, kita juga perlu mengeset random statenya yang dalam kasus kita kali ini adalah *'(random_state=0)'*. \n",
    "- Selanjutnya objek yang terbentuk tersbut akan kita tampung kedalam variabel *forest*. \n",
    "- Untuk selanjutnya, model ini akan kita training dengan memanggil method *fit* dengan menyertakan parameter *'(X_train, y_train)'*.\n",
    "- Terakhir kita tampilkan hasil kalkulasi score pada *X_test* dan *y_test* nya dengan memangggil *forest.score(X_test, y_test)* lalu kita print untuk melihat hasilnya.\n",
    "\n",
    "Bisa kita lihat pada hasil output code 04 bahwa hasil score performa pada model **Random Forest**  yang dikenakan pada **Breast Cancer** dataset yaitu 1.0."
   ]
  },
  {
   "cell_type": "markdown",
   "id": "50fbfb4f",
   "metadata": {},
   "source": [
    "# Build `Naive Bayes Classifier`"
   ]
  },
  {
   "cell_type": "markdown",
   "id": "df45d7c6",
   "metadata": {},
   "source": [
    "Selanjutnya kita akan membangun classifier pada *Naive Bayes* yang kita terapkan pada **Breast Cancer dataset**."
   ]
  },
  {
   "cell_type": "code",
   "execution_count": 19,
   "id": "bbfb1e58",
   "metadata": {},
   "outputs": [
    {
     "name": "stdout",
     "output_type": "stream",
     "text": [
      " Performance : 0.9239766081871345\n"
     ]
    }
   ],
   "source": [
    "# Code 05\n",
    "\n",
    "from sklearn.naive_bayes import GaussianNB\n",
    "\n",
    "nb = GaussianNB()\n",
    "\n",
    "nb.fit(X_train, y_train)\n",
    "\n",
    "print(f' Performance : {nb.score(X_test, y_test)}')"
   ]
  },
  {
   "cell_type": "markdown",
   "id": "20a68f76",
   "metadata": {},
   "source": [
    "**Konsep berpikir code 05 :**\n",
    "- Pertama-tama kita mengimport terlebih dahulu modelnya dengan memanggil fungsi \"from sklearn.naive_bayes import GaussianNB\". NB merepresentasikan Naive Bayes.\n",
    "- Berikutnya kita aka membentuk terlebih dahulu objek dari model \"GaussianNB()\" yang ditampung kedalam variabel *nb*.\n",
    "- Lalu selanjutnya, model ini akan training dengan menggunakan method \"fit()\" dengan menyertakan parameter \"(X_train, y_train)\".\n",
    "- Untuk selanjutnya, kita akan mengukur nilai akurasinya dengan memanggil fungsi *nb_score* dengan menyertakan parameter \"(X_test, y_test)\"\n",
    "\n",
    "Bisa kita lihat pada hasil output code 05 bahwa hasil score performa pada model **Naive Bayes**  yang dikenakan pada **Breast Cancer** dataset yaitu 0.9239766081871345."
   ]
  },
  {
   "cell_type": "markdown",
   "id": "1b3b5196",
   "metadata": {},
   "source": [
    "# Build `K-Nearest Neighbor Classifier`"
   ]
  },
  {
   "cell_type": "markdown",
   "id": "ea999d1b",
   "metadata": {},
   "source": [
    "Selanjutnya kita akan membangun classifier pada *K-Nearest Neighbor* yang kita terapkan pada **Breast Cancer dataset**."
   ]
  },
  {
   "cell_type": "code",
   "execution_count": 20,
   "id": "2c1f23e2",
   "metadata": {},
   "outputs": [
    {
     "name": "stdout",
     "output_type": "stream",
     "text": [
      "Performance : 0.9181286549707602\n"
     ]
    }
   ],
   "source": [
    "# Code 06\n",
    "\n",
    "from sklearn.neighbors import KNeighborsClassifier\n",
    "\n",
    "knn = KNeighborsClassifier(n_neighbors = 3)\n",
    "\n",
    "knn.fit(X_train, y_train)\n",
    "\n",
    "print(f'Performance : {knn.score(X_test, y_test)}')"
   ]
  },
  {
   "cell_type": "markdown",
   "id": "4ce9f5a5",
   "metadata": {},
   "source": [
    "**Konsep berpikir code 06 :**\n",
    "- Pertama kita import modul terlebih dahulu dengan memanggil *from sklearn.neighbors import KNeighborsClassifier*.\n",
    "- Lalu kita panggil *KNeighborsClassifier* dengan menyertakan parameter *(n_neighbors = 3)* yang dalam kasus kali ini kita akan melakukan klasifikasi terhadap 3 tetangga terdekat, lalu kita tampung kedalam variabel *knn*.\n",
    "- Selnjutnya kita akan melakukan training terhadap model yang sudha kita bentuk dengan memanggil method *knn.fit* dengan menyertakan parameter *(X_train, y_train)*.\n",
    "- Terakhir kita akan tampilkan score atau kalkulasi performa nya dengan memanggil method *knn.score(X_test, y_test)* kemudian kita tampilkan ke layar dengan print.\n",
    "\n",
    "\n",
    "Bisa kita lihat pada hasil output code 06 bahwa hasil score performa pada model **KNN**  yang dikenakan pada **Breast Cancer** dataset yaitu 0.9181286549707602."
   ]
  },
  {
   "cell_type": "markdown",
   "id": "7ea7a370",
   "metadata": {},
   "source": [
    "# Build `Support Vector Machine (SVM)`"
   ]
  },
  {
   "cell_type": "code",
   "execution_count": 21,
   "id": "a0aecb0a",
   "metadata": {},
   "outputs": [
    {
     "name": "stdout",
     "output_type": "stream",
     "text": [
      "Performance : 0.9883040935672515\n"
     ]
    }
   ],
   "source": [
    "# Code 07\n",
    "\n",
    "from sklearn.svm import SVC\n",
    "\n",
    "svm = SVC(probability = True, kernel = 'linear')\n",
    "\n",
    "svm.fit(X_test, y_test)\n",
    "\n",
    "print(f'Performance : {svm.score(X_test, y_test)}')"
   ]
  },
  {
   "cell_type": "markdown",
   "id": "d978baf8",
   "metadata": {},
   "source": [
    "**Konsep berpikir code 07 :**\n",
    "- Pertama kita akan mengimport modul terlebih dahulu dengan memanggil *from sklearn.svm import SVC*.\n",
    "- Lalu kita panggil *SVC* dengan menyertakan parameter *(probability = True, kernel = 'linear')* yang kita tampung kedalam variabel *svm*.\n",
    "- Selanjutnya kita lakukan training terhadap variabel *svm* dengan memanggil method *svm.fit(X_test, y_test)*.\n",
    "- Terakhir kita akan mencetak performanya dengan memanggil *svm.score(X_test, y_test)* lalu kita tampilkan pada layar dengan print.\n",
    "\n",
    "Bisa kita lihat pada hasil output code 06 bahwa hasil score performa pada model **SVM**  yang dikenakan pada **Breast Cancer** dataset yaitu 0.9883040935672515."
   ]
  },
  {
   "cell_type": "markdown",
   "id": "adaaddbc",
   "metadata": {},
   "source": [
    "# `Receiver Operating Characteristic (ROC)`"
   ]
  },
  {
   "cell_type": "markdown",
   "id": "09e6eba5",
   "metadata": {},
   "source": [
    "Disini kita akan menggunakan *ROC* untuk melakukan visualisasi terhadap performa dari beberapa *training classifier* yang kita sudah digunakan terhadap **Breast Cancer** dataset."
   ]
  },
  {
   "cell_type": "markdown",
   "id": "dea89055",
   "metadata": {},
   "source": [
    "# Prediction Probabilities"
   ]
  },
  {
   "cell_type": "markdown",
   "id": "1e7ddf11",
   "metadata": {},
   "source": [
    "Disini kita akan melakukan prediksi probability atau prediksi kemungkinan dari training classifier yang sudah kita training tadi terhadap **Breast Cancer** dataset."
   ]
  },
  {
   "cell_type": "code",
   "execution_count": 22,
   "id": "5c7e5b6e",
   "metadata": {},
   "outputs": [],
   "source": [
    "# Code 08\n",
    "\n",
    "tree_prob = tree.predict_proba(X_test) # Desicion Tree Prediction\n",
    "forest_prob = forest.predict_proba(X_test) # Random Forest Prediction\n",
    "nb_prob = nb.predict_proba(X_test) # Naive Bayes Prediction\n",
    "knn_prob = knn.predict_proba(X_test) # KNN Prediction\n",
    "svm_prob = svm.predict_proba(X_test) # SVM Prediction"
   ]
  },
  {
   "cell_type": "markdown",
   "id": "3fc7df6d",
   "metadata": {},
   "source": [
    "# Probabilities Positive Outcome"
   ]
  },
  {
   "cell_type": "markdown",
   "id": "7eff8636",
   "metadata": {},
   "source": [
    "Pada kali ini kita akan mengeset kemungkinan angka yang keluar adalah angka positif atau >= 1."
   ]
  },
  {
   "cell_type": "code",
   "execution_count": 23,
   "id": "dd307e38",
   "metadata": {},
   "outputs": [],
   "source": [
    "# Code 09\n",
    "\n",
    "tree = tree_prob[:, 1]\n",
    "forest = forest_prob[:, 1]\n",
    "nb = nb_prob[:, 1]\n",
    "knn = knn_prob[:, 1]\n",
    "svm = svm_prob[:, 1]"
   ]
  },
  {
   "cell_type": "markdown",
   "id": "542e2b76",
   "metadata": {},
   "source": [
    "# Compute AUROC Values"
   ]
  },
  {
   "cell_type": "markdown",
   "id": "59c22fb1",
   "metadata": {},
   "source": [
    "Disini kita akan melakukan kalkulasi nilai **AUROC** pada kelima model classifier kita. "
   ]
  },
  {
   "cell_type": "code",
   "execution_count": 24,
   "id": "b97ec5dd",
   "metadata": {},
   "outputs": [],
   "source": [
    "# Code 10\n",
    "\n",
    "from sklearn.metrics import roc_curve, roc_auc_score\n",
    "\n",
    "tree_auc = roc_auc_score(y_test, tree)\n",
    "forest_auc = roc_auc_score(y_test, forest)\n",
    "nb_auc = roc_auc_score(y_test, nb)\n",
    "knn_auc = roc_auc_score(y_test, knn)\n",
    "svm_auc = roc_auc_score(y_test, svm)"
   ]
  },
  {
   "cell_type": "markdown",
   "id": "f0b1c4a5",
   "metadata": {},
   "source": [
    "# Display AUROC Values"
   ]
  },
  {
   "cell_type": "markdown",
   "id": "655a30e2",
   "metadata": {},
   "source": [
    "Setelah melewati proses kalkulasi, kemudian kita tampilkan nilai dari **AUROC** nya."
   ]
  },
  {
   "cell_type": "code",
   "execution_count": 25,
   "id": "e534b06d",
   "metadata": {},
   "outputs": [
    {
     "name": "stdout",
     "output_type": "stream",
     "text": [
      "Desicion Tree AUROC Value = 0.9347442680776015\n",
      "Random Forest AUROC Value = 0.9961052322163434\n",
      "Naive Bayes AUROC Value = 0.9854497354497355\n",
      "Key Nearest Neighbors (KNN) AUROC Value = 0.9502498530276308\n",
      "Support Vector Machine (SVM) AUROC Value = 0.997501469723692\n"
     ]
    }
   ],
   "source": [
    "# Code 11\n",
    "\n",
    "print(F'Desicion Tree AUROC Value = {tree_auc}')\n",
    "print(F'Random Forest AUROC Value = {forest_auc}')\n",
    "print(F'Naive Bayes AUROC Value = {nb_auc}')\n",
    "print(F'Key Nearest Neighbors (KNN) AUROC Value = {knn_auc}')\n",
    "print(F'Support Vector Machine (SVM) AUROC Value = {svm_auc}')"
   ]
  },
  {
   "cell_type": "markdown",
   "id": "966cd38a",
   "metadata": {},
   "source": [
    "# Calculate ROC Curve"
   ]
  },
  {
   "cell_type": "markdown",
   "id": "e9fdda12",
   "metadata": {},
   "source": [
    "Pada kali ini kita akan melakukan kalkulasi atau perhitungan dari kurva **ROC**."
   ]
  },
  {
   "cell_type": "code",
   "execution_count": 26,
   "id": "c814288e",
   "metadata": {},
   "outputs": [],
   "source": [
    "# Code 12\n",
    "\n",
    "tree_fpr, tree_tpr, _ = roc_curve(y_test, tree)\n",
    "forest_fpr, forest_tpr, _ = roc_curve(y_test, forest)\n",
    "nb_fpr, nb_tpr, _ = roc_curve(y_test, nb)\n",
    "knn_fpr, knn_tpr, _ = roc_curve(y_test, knn)\n",
    "svm_fpr, svm_tpr, _ = roc_curve(y_test, svm)"
   ]
  },
  {
   "cell_type": "markdown",
   "id": "8caf1ea3",
   "metadata": {},
   "source": [
    "# Data Visualisation"
   ]
  },
  {
   "cell_type": "markdown",
   "id": "7d010aaa",
   "metadata": {},
   "source": [
    "Langkah terakhir, kita akan melakukan ploting untuk melihat perbandingan performa dari kelima model classifier yang telah kita gunakan pada **Breast Cancer** dataset."
   ]
  },
  {
   "cell_type": "code",
   "execution_count": 27,
   "id": "f29595ea",
   "metadata": {},
   "outputs": [
    {
     "data": {
      "image/png": "[encoded data removed]",
      "text/plain": [
       "<Figure size 1080x720 with 1 Axes>"
      ]
     },
     "metadata": {
      "needs_background": "light"
     },
     "output_type": "display_data"
    }
   ],
   "source": [
    "# Code 13\n",
    "\n",
    "import matplotlib.pyplot as plt\n",
    "\n",
    "plt.figure(figsize = (15, 10))\n",
    "\n",
    "plt.plot(tree_fpr, tree_tpr, linestyle = '--', label = 'Desicion Tree (AUROC = %0.3f)' %tree_auc)\n",
    "plt.plot(forest_fpr, forest_tpr, linestyle = '--', label = 'Random Forest (AUROC = %0.3f)' %forest_auc)\n",
    "plt.plot(nb_fpr, nb_tpr, linestyle = '--', label = 'Naive Bayes (AUROC = %0.3f)' %nb_auc)\n",
    "plt.plot(knn_fpr, knn_tpr, linestyle = '--', label = 'Key Nearest Neighbors (KNN) (AUROC = %0.3f)' %knn_auc)\n",
    "plt.plot(svm_fpr, svm_tpr, linestyle = '--', label = 'Support Vector Machine (SVM) (AUROC = %0.3f)' %svm_auc)\n",
    "\n",
    "\n",
    "# Title\n",
    "\n",
    "plt.title('ROC Plot')\n",
    "\n",
    "# Axis label\n",
    "\n",
    "plt.xlabel('False Positive Rate')\n",
    "plt.ylabel('True Positive Rate')\n",
    "\n",
    "# Show Legend\n",
    "\n",
    "plt.legend()\n",
    "plt.show()"
   ]
  },
  {
   "cell_type": "markdown",
   "id": "8f509e7c",
   "metadata": {},
   "source": [
    "Demikianlah cara yang dilakukan untuk melakukan perbandingan dari beberapa model classifier yang dikenakan pada **Breast Cancer** dataset."
   ]
  },
  {
   "cell_type": "markdown",
   "id": "a7d76b80",
   "metadata": {},
   "source": [
    "# \"Banyak Belajar Biar Bisa Bantu Banyak Orang\"\n",
    "\n",
    "Written by : Clarence Code Pianist (1973010)"
   ]
  }
 ],
 "metadata": {
  "kernelspec": {
   "display_name": "Python 3",
   "language": "python",
   "name": "python3"
  },
  "language_info": {
   "codemirror_mode": {
    "name": "ipython",
    "version": 3
   },
   "file_extension": ".py",
   "mimetype": "text/x-python",
   "name": "python",
   "nbconvert_exporter": "python",
   "pygments_lexer": "ipython3",
   "version": "3.8.8"
  }
 },
 "nbformat": 4,
 "nbformat_minor": 5
}
