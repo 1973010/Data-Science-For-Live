{
 "cells": [
  {
   "cell_type": "markdown",
   "metadata": {},
   "source": [
    "# Simple Linear Regression"
   ]
  },
  {
   "cell_type": "markdown",
   "metadata": {},
   "source": [
    "Simple Linear Regression memodelkan hubungan antara sebuah response variable dengan sebuah explanatory variable sebagai suatu garis lurus (linear)\n",
    "\n",
    "Referensi: https://en.wikipedia.org/wiki/Simple_linear_regression"
   ]
  },
  {
   "cell_type": "markdown",
   "metadata": {},
   "source": [
    "Dalam sesi pembelajaran kali ini, kita akan belajar tentang salah satu model machine learning paling sederhana yaitu \"Simple Linear Regression\". Model machine learning ini juga umum diperkenalkan seabagai model yang pertama kali di pelajari pada saat kita belajar \"Machine Learning\". Pada kesempatan kali ini, akan lebih ditekankan pada sisi praktikal dari simple linear regression."
   ]
  },
  {
   "cell_type": "markdown",
   "metadata": {},
   "source": [
    "# Sample Dataset"
   ]
  },
  {
   "cell_type": "code",
   "execution_count": 1,
   "metadata": {},
   "outputs": [
    {
     "data": {
      "text/html": [
       "<div>\n",
       "<style scoped>\n",
       "    .dataframe tbody tr th:only-of-type {\n",
       "        vertical-align: middle;\n",
       "    }\n",
       "\n",
       "    .dataframe tbody tr th {\n",
       "        vertical-align: top;\n",
       "    }\n",
       "\n",
       "    .dataframe thead th {\n",
       "        text-align: right;\n",
       "    }\n",
       "</style>\n",
       "<table border=\"1\" class=\"dataframe\">\n",
       "  <thead>\n",
       "    <tr style=\"text-align: right;\">\n",
       "      <th></th>\n",
       "      <th>diameter</th>\n",
       "      <th>harga</th>\n",
       "    </tr>\n",
       "  </thead>\n",
       "  <tbody>\n",
       "    <tr>\n",
       "      <td>0</td>\n",
       "      <td>6</td>\n",
       "      <td>7.0</td>\n",
       "    </tr>\n",
       "    <tr>\n",
       "      <td>1</td>\n",
       "      <td>8</td>\n",
       "      <td>9.0</td>\n",
       "    </tr>\n",
       "    <tr>\n",
       "      <td>2</td>\n",
       "      <td>10</td>\n",
       "      <td>13.0</td>\n",
       "    </tr>\n",
       "    <tr>\n",
       "      <td>3</td>\n",
       "      <td>14</td>\n",
       "      <td>17.5</td>\n",
       "    </tr>\n",
       "    <tr>\n",
       "      <td>4</td>\n",
       "      <td>18</td>\n",
       "      <td>18.0</td>\n",
       "    </tr>\n",
       "  </tbody>\n",
       "</table>\n",
       "</div>"
      ],
      "text/plain": [
       "   diameter  harga\n",
       "0         6    7.0\n",
       "1         8    9.0\n",
       "2        10   13.0\n",
       "3        14   17.5\n",
       "4        18   18.0"
      ]
     },
     "execution_count": 1,
     "metadata": {},
     "output_type": "execute_result"
    }
   ],
   "source": [
    "# 01\n",
    "import pandas as pd \n",
    "\n",
    "pizza = {'diameter' : [6, 8, 10, 14, 18],\n",
    "         'harga' : [7, 9, 13, 17.5, 18]}\n",
    "\n",
    "pizza_df = pd.DataFrame(pizza)\n",
    "pizza_df"
   ]
  },
  {
   "cell_type": "markdown",
   "metadata": {},
   "source": [
    "Pada sesi pembelajaran kali ini, kita akan mempersiapkan dataset yang akan kita pakai. Kita akan membentuk dataset yang berisi daftar diameter pizza beserta harganya, dataset ini kita akan tampung ke dalam format pandas data frame.\n",
    "- Mengimport modul pandas terlebih dahulu.\n",
    "- Lalu kita siapkan suatu dictionary yang terdiri dari 2 buah key yaitu \"diameter\" dan \"harga\" yang setiap key nya akan berasosiasi dengan list.\n",
    "- \"6, 8, 10, 14, dan 18\" adalah list untuk diameter, serta \"7, 9, 13, 17.5, dan 18\" adalah list untuk harga.\n",
    "- Berikutnya dictionary ini akan kita tampung ke dalam variable pizza untuk selanjutnya kita bentuk sebagai objek data frame.\n",
    "- Proses pembentukan data frame bisa kita lakukan dengan cara \"pd.DataFrame(pizza)\", pizza sebagai parameternya yang akan kita tampung ke dalam variable \"pizza_df\".\n",
    "- Lalu kita tampilkan isinya."
   ]
  },
  {
   "cell_type": "markdown",
   "metadata": {},
   "source": [
    "Jika kita perhatikan dataset diatas terdiri dari 2 buah kolom yaitu kolom diameter dan kolom harga. Pada pembelajaran kita kali ini, kita akan membentuk suatu model machine sederhana yang dapat digunakan untuk memprediksi harga pizza bila diketahui ukuran diamenternya, dengan kata lain disini nilai \"diameter\" akan berperan sebagai feature sedangkan \"harga\" akan berperan sebagai target."
   ]
  },
  {
   "cell_type": "markdown",
   "metadata": {},
   "source": [
    "# Visualisasi Data"
   ]
  },
  {
   "cell_type": "code",
   "execution_count": 2,
   "metadata": {},
   "outputs": [
    {
     "data": {
      "text/plain": [
       "<Figure size 640x480 with 1 Axes>"
      ]
     },
     "metadata": {},
     "output_type": "display_data"
    }
   ],
   "source": [
    "# 02\n",
    "import matplotlib.pyplot as plt\n",
    "\n",
    "pizza_df.plot(kind='scatter', x='diameter', y='harga')\n",
    "\n",
    "plt.title('Perbandingan Diameter dan Harga Pizza')\n",
    "plt.xlabel('Diameter (inch)')\n",
    "plt.ylabel('Harga (dollar)')\n",
    "plt.xlim(0, 25)\n",
    "plt.ylim(0, 25)\n",
    "plt.grid(True)\n",
    "plt.show()"
   ]
  },
  {
   "cell_type": "markdown",
   "metadata": {},
   "source": [
    "Pada bagian ini, kita akan mencoba memvisualisasikan dataset \"pizza\" yang telah kita bentuk sebelumnya ke dalam scatter plot, dimana sumbu x nya akan berasosiasi dengan diameter pizza, sedangkan sumbu y nya akan berasosisasi dengan harga pizza\n",
    "\n",
    "- Mengimport modul matplotlib yang kita aliaskan sebagai \"plt\".\n",
    "- Lalu berikutnya, karena kita ingin melakukan visualisasi berupa scatter plot, makan kita akan memanggil \"pizza_df.plot(kind='scatter', x='diameter', y='harga')\" dengan tiga parameter.\n",
    "- Parameter pertama adalah \"kind\" yang berisi nilai \"scatter\", karena ploting yang ingin kita hasilkan kali ini adalah scatter plot.\n",
    "- Parameter selanjutnya adalah x dan y dimana \"x\" akan kita asosiasikan dengan \"diameter\" sedangkan \"y\" akan kita asosiasikan dengan \"harga\".\n",
    "- \"plt.title\" kita gunakan untuk mengeset \"judul\".\n",
    "- \"plt.xlabel\" untuk mengatur tampilan label pada sumbu \"x\", begitu juga dengan sumbu \"y\" dengan code \"plt.ylabel\".\n",
    "- \"plt.xlim\" digunakan untuk mengatur jangkauan sumbu \"x', begitu juga dengan sumbu \"y\". (0,25) artinya jangkauan sumbu x dan y nya adalah 0 sampai dengan 25.\n",
    "- \"plt.grid(True)\" digunakan untuk mengaktifkan gridnya.\n",
    "- \"plt.show()\" digunakan untuk menampilkan plotting yang sudah kita buat.\n",
    "- Jika kita perhatikan pada hasil plotting diatas, setiap data point atau markernya (bulat-bulat biru) pada code akan merepresentasikan satu baris dari data frame yang kita miliki. Jika kita melihat hasil source code 01, data yang kita miliki terdiri dari 5 instance atau baris, setiap barisnya akan direpresentasikan dengan satu marker yang ada pada hasil source code 02. Oleh karena itu, pada hasil source code 02 kita bisa melihat adanya 5 marker atau titik biru dan bila kita perhatikan seolah-olah akan membentuk suatu garis lurus.\n",
    "- Hasil source code 02 merupakan kasus yang sangat tepat untuk menerapkan linear regression, karena model linear regression ini akan berkaitan dengan persamaan garis lurus.\n",
    "\n",
    "Perlu diperhatikan lagi bahwa pada eksplorasi kali ini bertujuan untuk mencoba memprediksi harga pizza bila diketahui diameternya dan kita akan akan mencoba memecahkan permasalahan ini dengan memanfaatkan model machine learning yaitu \"Simple Linear Regression\""
   ]
  },
  {
   "cell_type": "markdown",
   "metadata": {},
   "source": [
    "# Simple Linear Regression Model "
   ]
  },
  {
   "cell_type": "markdown",
   "metadata": {},
   "source": [
    "Setelah kita memahami konteks dataset dan juga permasalahannya, kita akan mencoba menerapkan \"Simple Linear Regression Model\" sebagai solusi. Sesuai dengan namanya, model machine learning yang satu ini memang digunakan untuk menyelesaikan regression task."
   ]
  },
  {
   "cell_type": "markdown",
   "metadata": {},
   "source": [
    "# Penyesuaian Dataset"
   ]
  },
  {
   "cell_type": "code",
   "execution_count": 3,
   "metadata": {},
   "outputs": [
    {
     "name": "stdout",
     "output_type": "stream",
     "text": [
      "X: [ 6  8 10 14 18]\n",
      "Y: [ 7.   9.  13.  17.5 18. ]\n"
     ]
    }
   ],
   "source": [
    "# 03\n",
    "import numpy as np\n",
    "\n",
    "X = np.array(pizza_df['diameter'])\n",
    "y = np.array(pizza_df['harga'])\n",
    "\n",
    "print(f'X: {X}')\n",
    "print(f'Y: {y}')"
   ]
  },
  {
   "cell_type": "markdown",
   "metadata": {},
   "source": [
    "Disini kita akan melakukan beberapa penyesuaian terhadap dataset pizza yang kita miliki.\n",
    "- Langkah pertama yang kita lakukan adalah mengelompokkan feature dan target ke dalam 2 variabel terpisah.\n",
    "- Selanjutnya kita akan melkaukan konversi struktur data dari yang semula menggunakan pandas data frame menjadi numpy array.\n",
    "\n",
    "Langkah code 03 :\n",
    "- Melakukan import numpy as np.\n",
    "- Untuk diameter, karena diameter ini merupakan feature maka akan kita konversikan terlebih dahulu lalu kita koversikan menjadi suatu numpy array yang beikutnya akan kita tampung kedalam variabel \"x\", dimana variabel \"x\" akan kita pandang sebagai features.\n",
    "- Lalu berikutnya, untuk kolom harga akan kita koversikan menjadi numpy array dan nilainya akan ditampung ke dalam variabel \"y' sebagai variabel target.\n",
    "- \"X: [ 6  8 10 14 18]\" merupakan kumpulan nilai features.\n",
    "- \"Y: [ 7.   9.  13.  17.5 18. ]\" merupakan kumpulan nilai target.\n",
    "\n",
    "Jika kita perhatikan pada variabel x yang digunakan untuk menampung nilai features hanya terdiri dari 1 dimensi saja padahal kita mengetahui bahwa model machine learning yang disertakan pad SKlearn membutuhkan sekumpulan nilai features yang ditampung dalam suatu array 2 dimensi. Oleh karena itu, pada kali ini kita perlu melakukan proses reshapping terhadap array yang digunakan untuk menampung nilai features ini."
   ]
  },
  {
   "cell_type": "code",
   "execution_count": 4,
   "metadata": {},
   "outputs": [
    {
     "data": {
      "text/plain": [
       "(5, 1)"
      ]
     },
     "execution_count": 4,
     "metadata": {},
     "output_type": "execute_result"
    }
   ],
   "source": [
    "# 04\n",
    "X = X.reshape(-1, 1)\n",
    "X.shape"
   ]
  },
  {
   "cell_type": "code",
   "execution_count": 5,
   "metadata": {},
   "outputs": [
    {
     "data": {
      "text/plain": [
       "array([[ 6],\n",
       "       [ 8],\n",
       "       [10],\n",
       "       [14],\n",
       "       [18]], dtype=int64)"
      ]
     },
     "execution_count": 5,
     "metadata": {},
     "output_type": "execute_result"
    }
   ],
   "source": [
    "# 05\n",
    "X"
   ]
  },
  {
   "cell_type": "markdown",
   "metadata": {},
   "source": [
    "Alur berpikir code 04 :\n",
    "- Memanggil \"X.reshape(-1, 1)\" yang kita beri nilai parameternya adalah -1 dan 1 yang ditampung ke dalam variabel \"X\".\n",
    "- \"X.shape\" digunakan untuk menampilkan shape atau dimensi dari \"X\" setelah proses reshapping.\n",
    "- Bila kita lihat, setelah proses reshapping, dimensinya menjadi (5,1) dan jika kita pada source code 05, merupakan hasil dari proses reshapping, dimana variable x akan menampung suatu array 2 dimensi dimana jumlah barisnya berjumlah 5 dan jumlah kolomnya berjumlah 1."
   ]
  },
  {
   "cell_type": "markdown",
   "metadata": {},
   "source": [
    "# Training Simple Linear Regression Model"
   ]
  },
  {
   "cell_type": "markdown",
   "metadata": {},
   "source": [
    "Pada kali ini kita, kita akan melakukan proses training model machine learning dimana model yang akan kita pilih adalah \"Linear Regression\""
   ]
  },
  {
   "cell_type": "code",
   "execution_count": 6,
   "metadata": {},
   "outputs": [
    {
     "data": {
      "text/plain": [
       "LinearRegression()"
      ]
     },
     "execution_count": 6,
     "metadata": {},
     "output_type": "execute_result"
    }
   ],
   "source": [
    "# 06\n",
    "from sklearn.linear_model import LinearRegression\n",
    "\n",
    "model = LinearRegression()\n",
    "model.fit(X, y)"
   ]
  },
  {
   "cell_type": "markdown",
   "metadata": {},
   "source": [
    "Langkah code 06 :\n",
    "- Pertama-tama, kita perlu import estimeter classnya yang kita gunakan kali ini adalah linear regression dengan cara \"from sklearn.linear_model import LinearRegression\".\n",
    "- Berikutnya, kita akan membuat objek model dari estemater class ini dengan cara \"LinearRegression()\" yang kita tampung ke dalam varibel \"model\".\n",
    "- Selanjutnya, objek model ini akan kita training dengan cara memanggi method Fit \"model.fit(X, y)\" yang membutuhkan 2 buah parameter yaitu sekumpulan nilai features dan juga nilai targetnya dimana sekumpulan nilai features dan targetnya sudah kita tempatkan kedalam variable \"X\" dan \"y\".\n",
    "- jika sudah muncul output \"LinearRegression()\" berarti proses training modelnya sudah selesai, sekarang objek model kita berstatus train model atau objek model yang sudah di training."
   ]
  },
  {
   "cell_type": "markdown",
   "metadata": {},
   "source": [
    "# Visualisasi Simple Linear Regression Model "
   ]
  },
  {
   "cell_type": "code",
   "execution_count": 7,
   "metadata": {},
   "outputs": [],
   "source": [
    "# 07\n",
    "X_vis = np.array([0, 25]).reshape(-1, 1)\n",
    "y_vis = model.predict(X_vis)"
   ]
  },
  {
   "cell_type": "markdown",
   "metadata": {},
   "source": [
    "Pola berpikir code 07 :\n",
    "- Pertama-tama kita akan siapkan dua buah nilai untuk x atau featuresnya yaitu nilai (0, 25). Kedua nilai ini kita tentukan karena pada kali ini kita akan melakukan ploting pada area dengan ukuran 25x25, dan disini kita ambil nilai terkecil dan nilai terbesarnya yaitu o dan 25.\n",
    "- Kita akan siapkan 2 buah nilai untuk features yaitu 0 dan 25 dan kedua nilai ini akan kita bentuk sebagi numpy array.\n",
    "- Karena numpy array akan digunakan sebagai features, maka perlu kita reshape agar menghasilkan array 2 dimensi dengan memanggil \"reshape(-1, 1)\" yang kita tampung ke dalam variable \"X_vis\".\n",
    "- Lalu berikutnya, berdarsarkan nilai \"X_vis\", kita akan melakukan prediksi terhadap nilai y nya dengan memanggil \"model.predict(X_vis)\" yang kita tampung ke dalam variabel \"y_vis\"."
   ]
  },
  {
   "cell_type": "code",
   "execution_count": 8,
   "metadata": {},
   "outputs": [
    {
     "data": {
      "image/png": "[encoded data removed]",
      "text/plain": [
       "<Figure size 432x288 with 1 Axes>"
      ]
     },
     "metadata": {
      "needs_background": "light"
     },
     "output_type": "display_data"
    }
   ],
   "source": [
    "# 08\n",
    "plt.scatter(X, y)\n",
    "plt.plot(X_vis, y_vis, '-r')\n",
    "\n",
    "plt.title('Perbandingan Diameter dan Harga Pizza')\n",
    "plt.xlabel('Diameter (inch)')\n",
    "plt.ylabel('Harga (dollar)')\n",
    "plt.xlim(0, 25)\n",
    "plt.ylim(0,25)\n",
    "plt.grid(True)\n",
    "plt.show()"
   ]
  },
  {
   "cell_type": "markdown",
   "metadata": {},
   "source": [
    "Pola berpikir code 08 :\n",
    "- Pertama-tama kita akan memanggil \"plt.scatter\" dan sertakan nilai \"X\" dan \"y\" yang kita miliki dari dataset sebelumnya yang digunakan untuk melakukan ploting marker berwarna biru yang berjumlah 5 yang merepresentasikan 5 instance atau 5 data point dari datset yang kita miliki.\n",
    "- Lalu selanjutnya, kita juga melakukan \"plt.plot\" untuk melakukan plotting garis yang bewarna merah. Yang kita plotting adalah nilai \"X\" dan nilai \"y' yang digunakan untuk melakukan proses visualisasi. Dimana nilai \"X\" ada 2 yaitu 0 dan 25. Nilai  \"y\" dihasilkan dari proses prediksi \"model.predict\" dari setiap nilai X_vis nya yang ditampung dalam variable \"y_vis\" pada code #07, lalu visualisasi nya kita gunakan '-r', dimana '-' akan membentuk suatu garis lurus dan 'r' akan berkolerasi dengan dengan warna merah.\n"
   ]
  },
  {
   "cell_type": "markdown",
   "metadata": {},
   "source": [
    "Disini, kita akan berfokus pada garis linearnya (yang berwarna merah). Garis linear yang terbentuk pada code 08 akan memiliki formula persamaan yang mengacu pada formula linear regression di bawah ini"
   ]
  },
  {
   "cell_type": "markdown",
   "metadata": {},
   "source": [
    "# Formula Linear Regression: y = α + βx"
   ]
  },
  {
   "cell_type": "markdown",
   "metadata": {},
   "source": [
    "- y : Response Variable\n",
    "- x : Explanatory Variable\n",
    "- α : Intercept\n",
    "- β : Slope"
   ]
  },
  {
   "cell_type": "code",
   "execution_count": 9,
   "metadata": {},
   "outputs": [
    {
     "name": "stdout",
     "output_type": "stream",
     "text": [
      "intercept: 1.965517241379315\n",
      "slope: [0.9762931]\n"
     ]
    }
   ],
   "source": [
    "# 09\n",
    "print(f'intercept: {model.intercept_}')\n",
    "print(f'slope: {model.coef_}')\n",
    "      "
   ]
  },
  {
   "cell_type": "markdown",
   "metadata": {},
   "source": [
    "Bisa kita lihat dari hasil code 09 bahwa :\n",
    "- Nilai interceptnya adalah \"1.965517241379315\" menunjuka titik awal mulai garis yang bewarna merah.\n",
    "- Nilai slopenya adalah \"0.9762931\""
   ]
  },
  {
   "cell_type": "markdown",
   "metadata": {},
   "source": [
    "# Mencari Nilai Slope"
   ]
  },
  {
   "cell_type": "markdown",
   "metadata": {},
   "source": [
    "Nilai slope pada Linear Regression bisa diperoleh dengan memanfaatkan formula berikut : "
   ]
  },
  {
   "cell_type": "markdown",
   "metadata": {},
   "source": [
    "# $β  = \\frac{cov(x,y)}{var(x)}$"
   ]
  },
  {
   "cell_type": "code",
   "execution_count": 10,
   "metadata": {},
   "outputs": [
    {
     "name": "stdout",
     "output_type": "stream",
     "text": [
      "X:\n",
      "[[ 6]\n",
      " [ 8]\n",
      " [10]\n",
      " [14]\n",
      " [18]]\n",
      "\n",
      "X flatten: [ 6  8 10 14 18]\n",
      "\n",
      "Y\\y: [ 7.   9.  13.  17.5 18. ]\n"
     ]
    }
   ],
   "source": [
    "# 10\n",
    "print(f'X:\\n{X}\\n')\n",
    "print(f'X flatten: {X.flatten()}\\n')\n",
    "print(f'Y\\y: {y}')"
   ]
  },
  {
   "cell_type": "markdown",
   "metadata": {},
   "source": [
    "Pola berpikir code 10 :\n",
    "- Jika kita melihat hasil code \"print(f'X:\\n{X}\\n')\", nilai x kita berbentuk 2 dimensi dengan jumlah baris 5 dan jumlah kolom 1.\n",
    "- \"flatten: X.flatten()\" method faltten ini bisa kita gunakan untuk mengembalikan kepada bentuk asal. Dari yang tadinya 2 dimensi kembali menjadi 1 dimensi.\n",
    "- \"{y}\" untuk menampilkan nilai y yang sudah berbentuk 1 dimensi. "
   ]
  },
  {
   "cell_type": "markdown",
   "metadata": {},
   "source": [
    "# Variance"
   ]
  },
  {
   "cell_type": "code",
   "execution_count": 11,
   "metadata": {},
   "outputs": [
    {
     "name": "stdout",
     "output_type": "stream",
     "text": [
      "variance : 23.2\n"
     ]
    }
   ],
   "source": [
    "# 11\n",
    "variance_x = np.var(X.flatten(), ddof=1)\n",
    "\n",
    "print(f'variance : {variance_x}')"
   ]
  },
  {
   "cell_type": "markdown",
   "metadata": {},
   "source": [
    "Pola berpikir code 11 :\n",
    "- Memanggil \"np.var\". Nilai variance ini akan membutuhkan 2 parameter. Parameter pertama adalah nilai dari variable x yang sudah di flatten kan. Parameter kedua yaitu ddof yaitu \"degree of freedom\" yang kita set dengan angka 1. Hasil perhitungan ditampung ke dalam variable \"variance_x\".\n",
    "- Lalu menampilkan hasilnya, yang pada kali ini hasilnya adalah 23.2"
   ]
  },
  {
   "cell_type": "markdown",
   "metadata": {},
   "source": [
    "# Covariance"
   ]
  },
  {
   "cell_type": "code",
   "execution_count": 12,
   "metadata": {},
   "outputs": [
    {
     "data": {
      "text/plain": [
       "array([[23.2 , 22.65],\n",
       "       [22.65, 24.3 ]])"
      ]
     },
     "execution_count": 12,
     "metadata": {},
     "output_type": "execute_result"
    }
   ],
   "source": [
    "# 12\n",
    "np.cov(X.flatten(), y)"
   ]
  },
  {
   "cell_type": "markdown",
   "metadata": {},
   "source": [
    "Pola berpikir code 12 :\n",
    "- Memanggil np.cov, lalu membutuhkan 2 parameter. Parameter pertama adalah nilai x yang sudah di flatten kan, lalu parameter kedua adalah y.\n",
    "- Pemanggilan fungsi \"np.cov\" ini akan menghasilkan covariance matriks yang terdiri dari 2 kolom dan 2 baris, tetapi nilai yang mau kita gunakan adalah \"22.65\" dan \"22.65\" atau yang berada dalam diagonal atau bersebrangan. "
   ]
  },
  {
   "cell_type": "code",
   "execution_count": 13,
   "metadata": {},
   "outputs": [
    {
     "name": "stdout",
     "output_type": "stream",
     "text": [
      "covariance: 22.650000000000002\n"
     ]
    }
   ],
   "source": [
    "# 13\n",
    "covariance_xy = np.cov(X.flatten(), y)[0][1]\n",
    "\n",
    "print(f'covariance: {covariance_xy}')\n",
    "\n",
    "# Kita juga bisa menggunakan X.patern() pada script ini"
   ]
  },
  {
   "cell_type": "markdown",
   "metadata": {},
   "source": [
    "# Slope"
   ]
  },
  {
   "cell_type": "code",
   "execution_count": 14,
   "metadata": {},
   "outputs": [
    {
     "name": "stdout",
     "output_type": "stream",
     "text": [
      "slope : 0.976293103448276\n"
     ]
    }
   ],
   "source": [
    "# 14\n",
    "slope = covariance_xy / variance_x\n",
    "\n",
    "print(f'slope : {slope}')\n",
    "\n",
    "# Nilainya sama persis seperti pada code 09"
   ]
  },
  {
   "cell_type": "markdown",
   "metadata": {},
   "source": [
    "# Mencari Nilai Intercept"
   ]
  },
  {
   "cell_type": "markdown",
   "metadata": {},
   "source": [
    "Nilai intercept pada Linear Regression bisa diperoleh dengan memanfaatkan formula berikut :"
   ]
  },
  {
   "cell_type": "markdown",
   "metadata": {},
   "source": [
    "  $α = \\ \\bar{y} \\ - \\ β \\bar{x}$"
   ]
  },
  {
   "cell_type": "markdown",
   "metadata": {},
   "source": [
    "- α = Nilai intercept / nilai alpha.\n",
    "- $\\bar{y}$ = Nilai rata-rata target.\n",
    "- $β \\bar{x}$ = Slope dikali nilai rata-rata x."
   ]
  },
  {
   "cell_type": "code",
   "execution_count": 15,
   "metadata": {},
   "outputs": [
    {
     "name": "stdout",
     "output_type": "stream",
     "text": [
      "intercept: 1.9655172413793096\n"
     ]
    }
   ],
   "source": [
    "# 15\n",
    "intercept = np.mean(y) - slope * np.mean(X)\n",
    "\n",
    "print(f'intercept: {intercept}') "
   ]
  },
  {
   "cell_type": "markdown",
   "metadata": {},
   "source": [
    "# Prediksi Harga Pizza"
   ]
  },
  {
   "cell_type": "markdown",
   "metadata": {},
   "source": [
    "Setelah kita memahami proses kalkulasi slope dan intercept, berikutnya kita akan menggunakan model linear regression yang telah kita training sebelumnya untuk memprediksi harga pizza berdasarkan ukuran diameternya. Untuk kasus kali ini, kita akan memprediksi harga pizza berdasarkan 3 nilai diameter."
   ]
  },
  {
   "cell_type": "code",
   "execution_count": 16,
   "metadata": {},
   "outputs": [
    {
     "data": {
      "text/plain": [
       "array([[12],\n",
       "       [20],\n",
       "       [23]])"
      ]
     },
     "execution_count": 16,
     "metadata": {},
     "output_type": "execute_result"
    }
   ],
   "source": [
    "# 16\n",
    "diameter_pizza = np.array([12, 20, 23]).reshape(-1, 1)\n",
    "diameter_pizza"
   ]
  },
  {
   "cell_type": "markdown",
   "metadata": {},
   "source": [
    "Pola berpikir code 16 :\n",
    "- Kita sudah menyiapkan 3 nilai diameter yaitu 12, 20, dan 23 sebagai features yang akan kita prediksi.\n",
    "- Ketiga nilai ini akan kita bundle sebagai suatu numpy array.\n",
    "- Karena kita hanya memiliki satu nilai features yaitu diameter saja, maka array nya perlu kita reshape untuk menjadi array 2 dimensi pada code \"reshape(-1, 1)\".\n",
    "- Lalu nilai array yang terbentuk ini kita tampung ke dalam variable diameter_pizza."
   ]
  },
  {
   "cell_type": "code",
   "execution_count": 17,
   "metadata": {},
   "outputs": [
    {
     "data": {
      "text/plain": [
       "array([13.68103448, 21.49137931, 24.42025862])"
      ]
     },
     "execution_count": 17,
     "metadata": {},
     "output_type": "execute_result"
    }
   ],
   "source": [
    "# 17\n",
    "prediksi_harga = model.predict(diameter_pizza)\n",
    "prediksi_harga"
   ]
  },
  {
   "cell_type": "markdown",
   "metadata": {},
   "source": [
    "Kita bisa memanfaatkan model linear regression yang sudah kita training sebelumnya untuk memprediksi harga pizza."
   ]
  },
  {
   "cell_type": "code",
   "execution_count": 18,
   "metadata": {},
   "outputs": [
    {
     "name": "stdout",
     "output_type": "stream",
     "text": [
      "Diameter: [12] Prediksi Harga: 13.681034482758621\n",
      "Diameter: [20] Prediksi Harga: 21.491379310344826\n",
      "Diameter: [23] Prediksi Harga: 24.42025862068965\n"
     ]
    }
   ],
   "source": [
    "# 18 Mempercantik tampilan agar lebiih mudah dipahami\n",
    "for dmtr, hrg in zip(diameter_pizza, prediksi_harga) :\n",
    "    print(f'Diameter: {dmtr} Prediksi Harga: {hrg}')"
   ]
  },
  {
   "cell_type": "markdown",
   "metadata": {},
   "source": [
    "# Evaluasi Simple Linear Regression Model"
   ]
  },
  {
   "cell_type": "markdown",
   "metadata": {},
   "source": [
    "# Training & Testing Dataset"
   ]
  },
  {
   "cell_type": "code",
   "execution_count": 19,
   "metadata": {},
   "outputs": [],
   "source": [
    "# 19\n",
    "X_train = np.array([6, 8, 10, 14, 18]).reshape(-1, 1)\n",
    "y_train = np.array([7, 9, 13, 17.5, 18])\n",
    "\n",
    "X_test = np.array([8, 9, 11, 16, 12]).reshape(-1, 1)\n",
    "y_test = np.array([11, 8.5, 15, 18, 11])\n",
    "\n",
    "# X merepresentasikan data features.\n",
    "# y merepresentasikan data target."
   ]
  },
  {
   "cell_type": "markdown",
   "metadata": {},
   "source": [
    "# Training Simple Linear Regression Model"
   ]
  },
  {
   "cell_type": "code",
   "execution_count": 20,
   "metadata": {},
   "outputs": [
    {
     "data": {
      "text/plain": [
       "LinearRegression()"
      ]
     },
     "execution_count": 20,
     "metadata": {},
     "output_type": "execute_result"
    }
   ],
   "source": [
    "# 20\n",
    "model = LinearRegression()\n",
    "model.fit(X_train, y_train)"
   ]
  },
  {
   "cell_type": "markdown",
   "metadata": {},
   "source": [
    "# Evaluasi Linear Regression Model dengan Coefficient of Determination atau R-squared  $(R^2)$"
   ]
  },
  {
   "cell_type": "markdown",
   "metadata": {},
   "source": [
    "Referensi : http://en.wikipedia.org/wiki/Coefficient_of_determination"
   ]
  },
  {
   "cell_type": "code",
   "execution_count": 21,
   "metadata": {},
   "outputs": [
    {
     "name": "stdout",
     "output_type": "stream",
     "text": [
      "R squared: 0.6620052929422553\n"
     ]
    }
   ],
   "source": [
    "# 21\n",
    "from sklearn.metrics import r2_score\n",
    "\n",
    "y_pred = model.predict(X_test)\n",
    "\n",
    "r_squared = r2_score(y_test, y_pred)\n",
    "\n",
    "print(f'R squared: {r_squared}')"
   ]
  },
  {
   "cell_type": "markdown",
   "metadata": {},
   "source": [
    "Pola berpikir code 21 :\n",
    "- Mengimport matriks evaluasi yang kita import adalah r2_score.\n",
    "- Selanjutnya kita akan melakukan proses prediksi nilai target dengan memanfaatkan nilai features pada testing set kita yang nilai prediksinya kita tampung kedalam variabel y_pred.\n",
    "- Mengukur nilai \"y\" hasil prediksi dan nilai \"y\" real dengan memanggil fungsi \"r2_score(y_test, y_pred)\" yang ditampung ke dalam variable \"r_squared\".\n",
    "- Lalu tampilkan dengan print.\n",
    "- Nilai r squared nya adalah \"0.6620052929422553\". Nilai r squared semakin dia mendekati 1 (satu) akan semakin baik, tetapi jika semakin menjauhi 1 atau semakin mendekati nilai 0 akan semakin buruk. Lalu yang terburuknya akan mendapat nilai negatif"
   ]
  },
  {
   "cell_type": "markdown",
   "metadata": {},
   "source": [
    "# Mencari Nilai R-squared ($R^2$)"
   ]
  },
  {
   "cell_type": "markdown",
   "metadata": {},
   "source": [
    "$R^2 = 1 - \\frac{SS_res}{SS_tot}$\n",
    "\n",
    "- ss_res merepresentasikan some square residual.\n",
    "- ss_tot merepresentasikan some square total."
   ]
  },
  {
   "cell_type": "markdown",
   "metadata": {},
   "source": [
    "  $SSres = \\sum_{i=1}^{n} (yi - f(X_i))^2$\n",
    "\n",
    "- ss_res pada dasarnya adalah proses perhitungan selisih antara setiap nilai y pada testing set dengan nilai prediksinya.\n",
    "- Lalu nilai selisihnya dipangkatkan dua dan kita jumlahkan secara keseluruhan.\n",
    "- Atau dengan kata lain, kita sebenernya menghitung nilai errornya atau akumulasi errornya."
   ]
  },
  {
   "cell_type": "markdown",
   "metadata": {},
   "source": [
    "  $SStot = \\sum_{i=1}^{n} (yi - \\bar{y})^2$\n",
    "\n",
    "- ss_tot pada dasarnya adalah proses perhitungan selisih nilai untuk setiap nilai y pada testing set dengan nilai rata-ratanya.\n",
    "- Lalu kita pangkatkan 2.\n",
    "- Selanjutnya kita akan akumulasikan dengan keseluruhan nilai y yang ada."
   ]
  },
  {
   "cell_type": "markdown",
   "metadata": {},
   "source": [
    " $SSres$"
   ]
  },
  {
   "cell_type": "code",
   "execution_count": 25,
   "metadata": {},
   "outputs": [
    {
     "name": "stdout",
     "output_type": "stream",
     "text": [
      "ss_res: 19.1980993608799\n"
     ]
    }
   ],
   "source": [
    "# 22 Mencari nilai some square residual \n",
    "\n",
    "ss_res = sum([(y_i - model.predict(x_i.reshape(-1, 1))[0])**2\n",
    "               for x_i, y_i in zip(X_test, y_test)])\n",
    "\n",
    "print(f'ss_res: {ss_res}')"
   ]
  },
  {
   "cell_type": "markdown",
   "metadata": {},
   "source": [
    " $SStot$"
   ]
  },
  {
   "cell_type": "code",
   "execution_count": 26,
   "metadata": {},
   "outputs": [
    {
     "name": "stdout",
     "output_type": "stream",
     "text": [
      "ss_tot: 56.8\n"
     ]
    }
   ],
   "source": [
    "# 23 Mencari nilai some square total\n",
    "\n",
    "mean_y = np.mean(y_test)\n",
    "ss_tot = sum([(y_i - mean_y)**2 for y_i in y_test])\n",
    "\n",
    "print(f'ss_tot: {ss_tot}')"
   ]
  },
  {
   "cell_type": "markdown",
   "metadata": {},
   "source": [
    " R$^2$"
   ]
  },
  {
   "cell_type": "code",
   "execution_count": 27,
   "metadata": {},
   "outputs": [
    {
     "name": "stdout",
     "output_type": "stream",
     "text": [
      "R squared: 0.6620052929422553\n"
     ]
    }
   ],
   "source": [
    "# 24 Setelah kita mendapatkan nilai some square residual dan total, baru kita dapat mendapatkan nilai R 2 nya\n",
    "\n",
    "r_squared = 1 - (ss_res / ss_tot)\n",
    "\n",
    "print(f'R squared: {r_squared}')"
   ]
  },
  {
   "cell_type": "markdown",
   "metadata": {},
   "source": [
    "Untuk pembelajaran lebih lengkapnya jangan lupa untuk mengunjungi channel youtube indonesia belajar pada link \"https://www.youtube.com/watch?v=tiREcHrtDLo\""
   ]
  },
  {
   "cell_type": "markdown",
   "metadata": {},
   "source": [
    "# \"Banyak Belajar, Biar Bisa Bantu Banyak Orang\""
   ]
  },
  {
   "cell_type": "markdown",
   "metadata": {},
   "source": [
    "By : Clarence Code Pianist"
   ]
  }
 ],
 "metadata": {
  "kernelspec": {
   "display_name": "Python 3",
   "language": "python",
   "name": "python3"
  },
  "language_info": {
   "codemirror_mode": {
    "name": "ipython",
    "version": 3
   },
   "file_extension": ".py",
   "mimetype": "text/x-python",
   "name": "python",
   "nbconvert_exporter": "python",
   "pygments_lexer": "ipython3",
   "version": "3.7.4"
  }
 },
 "nbformat": 4,
 "nbformat_minor": 2
}
