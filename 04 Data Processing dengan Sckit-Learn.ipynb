{
 "cells": [
  {
   "cell_type": "markdown",
   "metadata": {},
   "source": [
    "# Data Processing dengan Sckit-Learn"
   ]
  },
  {
   "cell_type": "markdown",
   "metadata": {},
   "source": [
    "# Sample Data"
   ]
  },
  {
   "cell_type": "markdown",
   "metadata": {},
   "source": [
    "Dalam sesi kali ini, kita akan berkenalan dengan beberapa teknik data preprocessing. Modul Sklearn telah menyediakan sejumlah teknik data preprocessing yang umum ditemui. Pada kali ini, kita akan mencoba mempelejari beberapa diantaranya"
   ]
  },
  {
   "cell_type": "code",
   "execution_count": 18,
   "metadata": {},
   "outputs": [
    {
     "data": {
      "text/plain": [
       "array([[ 2.1, -1.9,  5.5],\n",
       "       [-1.5,  2.4,  3.5],\n",
       "       [ 0.5, -7.9,  5.6],\n",
       "       [ 5.9,  2.3, -5.8]])"
      ]
     },
     "execution_count": 18,
     "metadata": {},
     "output_type": "execute_result"
    }
   ],
   "source": [
    "import numpy as np\n",
    "from sklearn import preprocessing\n",
    "\n",
    "sample_data = np.array([[2.1, -1.9, 5.5], \n",
    "                        [-1.5, 2.4, 3.5], \n",
    "                        [0.5, -7.9, 5.6],\n",
    "                        [5.9, 2.3, -5.8]])\n",
    "\n",
    "sample_data"
   ]
  },
  {
   "cell_type": "code",
   "execution_count": 19,
   "metadata": {},
   "outputs": [
    {
     "data": {
      "text/plain": [
       "(4, 3)"
      ]
     },
     "execution_count": 19,
     "metadata": {},
     "output_type": "execute_result"
    }
   ],
   "source": [
    "sample_data.shape"
   ]
  },
  {
   "cell_type": "markdown",
   "metadata": {},
   "source": [
    "- Mengimport numpy as np.\n",
    "- Modul preprocessing bisa kita import dengan memanggil 'from sklearn import preprocessing'.\n",
    "- Terdapat beberapa dataset yang sudah di generate dalam kasus ini.\n",
    "- Dataset tersebut dibentuk sebagai numpy array, data set ini bisa kita pandang sebagai dataset features.\n",
    "- Jumlah instance bernilai 4 atau 4 baris.\n",
    "- Dataset tersebut terbagi dalam 3 features.\n",
    "- Dataset ditampung ke dalam variable 'sample_data'.\n",
    "- Kita juga bisa menampilkan dimensi dari dataset tersebut dengan memanggil method 'sample_data.shape' yang dimana shapenya adalah (4, 3) yang berarti jumlah instance atau baris bernilai 4 dan jumlmah kolom atau feature nya bernilai 3."
   ]
  },
  {
   "cell_type": "markdown",
   "metadata": {},
   "source": [
    "# Teknik Data Preproscessing"
   ]
  },
  {
   "cell_type": "markdown",
   "metadata": {},
   "source": [
    "# Binarisation"
   ]
  },
  {
   "cell_type": "markdown",
   "metadata": {},
   "source": [
    "Tujuan utama dari teknik tersebut untuk menghasilkan suatu data yang terdiri dari 2 nilai numerik saja yaitu 0 dan 1."
   ]
  },
  {
   "cell_type": "code",
   "execution_count": 20,
   "metadata": {},
   "outputs": [
    {
     "data": {
      "text/plain": [
       "array([[ 2.1, -1.9,  5.5],\n",
       "       [-1.5,  2.4,  3.5],\n",
       "       [ 0.5, -7.9,  5.6],\n",
       "       [ 5.9,  2.3, -5.8]])"
      ]
     },
     "execution_count": 20,
     "metadata": {},
     "output_type": "execute_result"
    }
   ],
   "source": [
    "sample_data"
   ]
  },
  {
   "cell_type": "markdown",
   "metadata": {},
   "source": [
    "- Dataset tersebut terdiri sekumpulan nilai floating point yang beragam.\n",
    "- Untuk mengkonversikan setiap nilai numerik yang lebih besar dari 0.5 menjadi 1 dan sisanya menjadi 0.\n",
    "- Kebutuhan semacam ini, bisa kita penuhi dengan memanfaatkan class binarizer."
   ]
  },
  {
   "cell_type": "code",
   "execution_count": 21,
   "metadata": {},
   "outputs": [
    {
     "data": {
      "text/plain": [
       "array([[1., 0., 1.],\n",
       "       [0., 1., 1.],\n",
       "       [0., 0., 1.],\n",
       "       [1., 1., 0.]])"
      ]
     },
     "execution_count": 21,
     "metadata": {},
     "output_type": "execute_result"
    }
   ],
   "source": [
    "preprocessor = preprocessing.Binarizer(threshold=0.5)\n",
    "binarised_data = preprocessor.transform(sample_data)\n",
    "binarised_data"
   ]
  },
  {
   "cell_type": "markdown",
   "metadata": {},
   "source": [
    "- Membentuk objek binarizernya dan menyertakan parameter threshold yang dalam kasus ini adalah 0.5.\n",
    "- Selanjutnya, kita akan mengenakan proses transformasi terhadap sample data yang kita miliki dengan memanggil code 'binarised_data = preprocessor.transform(sample_data)'.\n",
    "- Menampilkan isinya 'binarised_data' yang menampillkan suatu dataset yang terdiri dari 2 nilai yaitu 1 dan 0, yang batasannya ditentukan oleh nilai threshlod yang benilai 0,5 artinya setiao nilai yang lebih kecil atau sama dengan 0.5 akan dikonversikan menjadi nilai = 0."
   ]
  },
  {
   "cell_type": "markdown",
   "metadata": {},
   "source": [
    "# Scaling"
   ]
  },
  {
   "cell_type": "markdown",
   "metadata": {},
   "source": [
    "Tujuan utama dari teknik ini adalah untuk menghasilkan suatu data numerik yang berada dalam rentan skala tertentu"
   ]
  },
  {
   "cell_type": "code",
   "execution_count": 22,
   "metadata": {},
   "outputs": [
    {
     "data": {
      "text/plain": [
       "array([[ 2.1, -1.9,  5.5],\n",
       "       [-1.5,  2.4,  3.5],\n",
       "       [ 0.5, -7.9,  5.6],\n",
       "       [ 5.9,  2.3, -5.8]])"
      ]
     },
     "execution_count": 22,
     "metadata": {},
     "output_type": "execute_result"
    }
   ],
   "source": [
    "sample_data"
   ]
  },
  {
   "cell_type": "markdown",
   "metadata": {},
   "source": [
    "- Dataset terdiri dari sekumpulan nilai floating point dengan rentan nilai mulai dari -7.9 sebagai nilai terkecil sampai dengan nilai 5.9 sebagai nilai terbesarnya.\n",
    "- Mengkonversikan sekumpulan nilai numerik ke dalam rentan nilai mulai dari 0 sampai 1 yang akan memanfaatkan class scaler.\n",
    "- Teknik scalling yang digunakan dalam kasus ini yaitu MinMaxScaler."
   ]
  },
  {
   "cell_type": "code",
   "execution_count": 23,
   "metadata": {},
   "outputs": [
    {
     "data": {
      "text/plain": [
       "array([[0.48648649, 0.58252427, 0.99122807],\n",
       "       [0.        , 1.        , 0.81578947],\n",
       "       [0.27027027, 0.        , 1.        ],\n",
       "       [1.        , 0.99029126, 0.        ]])"
      ]
     },
     "execution_count": 23,
     "metadata": {},
     "output_type": "execute_result"
    }
   ],
   "source": [
    "# Cara 1\n",
    "preprocessor = preprocessing.MinMaxScaler(feature_range=(0, 1))\n",
    "preprocessor.fit(sample_data)\n",
    "scaled_data = preprocessor.transform(sample_data)\n",
    "scaled_data"
   ]
  },
  {
   "cell_type": "markdown",
   "metadata": {},
   "source": [
    "- Nilai 0 (nol) akan menginidikasikan nilai terkecil dari skala yang baru.\n",
    "- Nilai 1 (satu) akan mengidentifikasikan nilai terbesar dari skala yang baru"
   ]
  },
  {
   "cell_type": "code",
   "execution_count": 24,
   "metadata": {},
   "outputs": [
    {
     "data": {
      "text/plain": [
       "array([[0.48648649, 0.58252427, 0.99122807],\n",
       "       [0.        , 1.        , 0.81578947],\n",
       "       [0.27027027, 0.        , 1.        ],\n",
       "       [1.        , 0.99029126, 0.        ]])"
      ]
     },
     "execution_count": 24,
     "metadata": {},
     "output_type": "execute_result"
    }
   ],
   "source": [
    "# Cara 2\n",
    "scaled_data = preprocessor.fit_transform(sample_data)\n",
    "scaled_data"
   ]
  },
  {
   "cell_type": "markdown",
   "metadata": {},
   "source": [
    "Proses fitting dan proses transformasinya dikenakasn terhadap data yang sama yaitu sample data. Dalam SkLean, proses ini bisa kita satukan dengan memanfaatkan method fit transform (bisa dilihat pada code diatas). Kalau kita perhatikan keduanya menghasilkan hasil yang sama, yang membedakan pada cara pertama pada proses fitting dan transform terpisah atau dikerjakan dengan menggunakan 2 method yang berbeda, sedangkan pada cara yang kedua, proses fitting dan transformasi datanya dilakukan dengan menggunakan satu kali pemanggilan method yaitu method fit transform."
   ]
  },
  {
   "cell_type": "markdown",
   "metadata": {},
   "source": [
    "# L1 Normalisation: Least Absolute Deviations"
   ]
  },
  {
   "cell_type": "markdown",
   "metadata": {},
   "source": [
    "Referensi: https://en.wikipedia.org/wiki/Least_absolute_deviations. Tujuan utama dalam teknik ini adalah untuk melakukan normalisasi terhadap data numerik yang dimiliki."
   ]
  },
  {
   "cell_type": "code",
   "execution_count": 25,
   "metadata": {},
   "outputs": [
    {
     "data": {
      "text/plain": [
       "array([[ 2.1, -1.9,  5.5],\n",
       "       [-1.5,  2.4,  3.5],\n",
       "       [ 0.5, -7.9,  5.6],\n",
       "       [ 5.9,  2.3, -5.8]])"
      ]
     },
     "execution_count": 25,
     "metadata": {},
     "output_type": "execute_result"
    }
   ],
   "source": [
    "sample_data\n",
    "# Sebelum Normalisasi"
   ]
  },
  {
   "cell_type": "code",
   "execution_count": 26,
   "metadata": {},
   "outputs": [
    {
     "data": {
      "text/plain": [
       "array([[ 0.22105263, -0.2       ,  0.57894737],\n",
       "       [-0.2027027 ,  0.32432432,  0.47297297],\n",
       "       [ 0.03571429, -0.56428571,  0.4       ],\n",
       "       [ 0.42142857,  0.16428571, -0.41428571]])"
      ]
     },
     "execution_count": 26,
     "metadata": {},
     "output_type": "execute_result"
    }
   ],
   "source": [
    "l1_normalised_data = preprocessing.normalize(sample_data, norm='l1')\n",
    "l1_normalised_data\n",
    "# Sesudah melakukan Normalisasi"
   ]
  },
  {
   "cell_type": "markdown",
   "metadata": {},
   "source": [
    "- Preprocessing normalize akan membutuhkan 2 parameter. Parameter pertama adalah data atau sample datannya. Parameter kedua adalah parameter norm.\n",
    "- Pada kasus kali ini, parameter norm bernilai strings 'l1', normalisasi l1 ini akan berasosiasi dengan normalisasi yang menerapkan list absolute deviations\n",
    "- Pemanggilan fungsi preprocessing normalize ini akan menghasilkan data yang ternormalisasi yang ditunjukan pada code diatas."
   ]
  },
  {
   "cell_type": "markdown",
   "metadata": {},
   "source": [
    "# L2 Normalisation: Least Squares"
   ]
  },
  {
   "cell_type": "markdown",
   "metadata": {},
   "source": [
    "Referensi: https://en.wikipedia.org/wiki/Least_squares. L2 Normalisation menerapkan Least Squares."
   ]
  },
  {
   "cell_type": "code",
   "execution_count": 27,
   "metadata": {},
   "outputs": [
    {
     "data": {
      "text/plain": [
       "array([[ 2.1, -1.9,  5.5],\n",
       "       [-1.5,  2.4,  3.5],\n",
       "       [ 0.5, -7.9,  5.6],\n",
       "       [ 5.9,  2.3, -5.8]])"
      ]
     },
     "execution_count": 27,
     "metadata": {},
     "output_type": "execute_result"
    }
   ],
   "source": [
    "sample_data\n",
    "# Sebelum Normalisasi"
   ]
  },
  {
   "cell_type": "code",
   "execution_count": 28,
   "metadata": {},
   "outputs": [
    {
     "data": {
      "text/plain": [
       "array([[ 0.33946114, -0.30713151,  0.88906489],\n",
       "       [-0.33325106,  0.53320169,  0.7775858 ],\n",
       "       [ 0.05156558, -0.81473612,  0.57753446],\n",
       "       [ 0.68706914,  0.26784051, -0.6754239 ]])"
      ]
     },
     "execution_count": 28,
     "metadata": {},
     "output_type": "execute_result"
    }
   ],
   "source": [
    "l2_normalised_data = preprocessing.normalize(sample_data, norm='l2')\n",
    "l2_normalised_data\n",
    "# Sesudah Normalisasi kedua"
   ]
  },
  {
   "cell_type": "markdown",
   "metadata": {},
   "source": [
    "- Memanggil fungsi 'preprocessing.normalize(sample_data, norm='l2')'.\n",
    "- Parameter pertama adalah sample datanya dan parameter kedua adalah parameter norm, yang pada kasus ini diberi nilai 'l2'.\n",
    "- Normalisasi l2 akan berasosiasi dengan teknik 'Least Squares'.\n",
    "- Pemanggilan fungsi preprocessing normalised ini akan menghasilkan data yang sudah ternormalisasi yang ditampung dalam variabel l2_normalised_data."
   ]
  },
  {
   "cell_type": "markdown",
   "metadata": {},
   "source": [
    "Untuk pembelajaran lebih lengkapnya jangan lupa untuk mengunjungi channel youtube \"Indonesia Belajar\" pada link \"https://www.youtube.com/watch?v=smNnhEd26Ek\""
   ]
  },
  {
   "cell_type": "markdown",
   "metadata": {},
   "source": [
    "# \"Banyak Belajar, Biar Bisa Bantu Banyak Orang\""
   ]
  }
 ],
 "metadata": {
  "kernelspec": {
   "display_name": "Python 3",
   "language": "python",
   "name": "python3"
  },
  "language_info": {
   "codemirror_mode": {
    "name": "ipython",
    "version": 3
   },
   "file_extension": ".py",
   "mimetype": "text/x-python",
   "name": "python",
   "nbconvert_exporter": "python",
   "pygments_lexer": "ipython3",
   "version": "3.7.4"
  }
 },
 "nbformat": 4,
 "nbformat_minor": 2
}
