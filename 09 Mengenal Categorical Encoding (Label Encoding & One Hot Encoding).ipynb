{
 "cells": [
  {
   "cell_type": "markdown",
   "metadata": {},
   "source": [
    "# Mengenal Categorical Encoding : Label Encoding & One Hot Encoding"
   ]
  },
  {
   "cell_type": "markdown",
   "metadata": {},
   "source": [
    "Dalam sesi pembelajaran kali ini, kita akan mempelajari dua macam categorical encoding yang umum ditemui dalam bidang machine learning yaitu \"Label Encoding\" dan \"One Hot Encoding\".\n",
    "\n",
    "Materi yang akan kita pelajari pada sesi ini membutuhkan pengetahuan terkait tipe data dan level of measurement yang umum ditemui dalam idang statistika."
   ]
  },
  {
   "cell_type": "markdown",
   "metadata": {},
   "source": [
    "# Apa itu Categorical Encoding?"
   ]
  },
  {
   "cell_type": "markdown",
   "metadata": {},
   "source": [
    "Secara umum, suatu dataset akan terbentuk dari kombinasi nilai numerical dan categorical, hanya saja komputer atau mesin memiliki keterbatasan. Dimana pada dasarnya, komputer hanya dapat memahami angka atau numerikal dan tidak dapat memahami teks atau categorical. Oleh karenanya, kita butuh untuk melakukan konversi nilai categorical tersebut menjadi nilai numerikal agar algoritma machine learning dapat memahaminya dengan baik.\n",
    "\n",
    "Proses konversi nilai categorical menjadi nilai numerikal tersebut dikenal dengan istilah \"Categorical Encoding\". \n",
    "\n",
    "Dalam bidang machine learning terdapat banyak jenis categorical encoding dan dua yang paling populer \n",
    " yaitu :\n",
    "- Label Encoding\n",
    "- One Hot Encoding\n",
    "\n",
    "Referensi : https://en.wikipedia.org/wiki/One-hot."
   ]
  },
  {
   "cell_type": "markdown",
   "metadata": {},
   "source": [
    "# Label Encoding "
   ]
  },
  {
   "cell_type": "markdown",
   "metadata": {},
   "source": [
    "Disini kita akan mempelajarii \"Label Encoding\" terlebih dahulu.\n",
    "\n",
    "Pada \"Label Encoding\", setiap kategori pada suatu feature akan diurutkan secara alfabet dan direpresentasikan dengan sebuah nilai integer."
   ]
  },
  {
   "cell_type": "markdown",
   "metadata": {},
   "source": [
    "# Dataset "
   ]
  },
  {
   "cell_type": "code",
   "execution_count": 43,
   "metadata": {},
   "outputs": [
    {
     "data": {
      "text/html": [
       "<div>\n",
       "<style scoped>\n",
       "    .dataframe tbody tr th:only-of-type {\n",
       "        vertical-align: middle;\n",
       "    }\n",
       "\n",
       "    .dataframe tbody tr th {\n",
       "        vertical-align: top;\n",
       "    }\n",
       "\n",
       "    .dataframe thead th {\n",
       "        text-align: right;\n",
       "    }\n",
       "</style>\n",
       "<table border=\"1\" class=\"dataframe\">\n",
       "  <thead>\n",
       "    <tr style=\"text-align: right;\">\n",
       "      <th></th>\n",
       "      <th>country</th>\n",
       "      <th>age</th>\n",
       "      <th>salary</th>\n",
       "    </tr>\n",
       "  </thead>\n",
       "  <tbody>\n",
       "    <tr>\n",
       "      <td>0</td>\n",
       "      <td>India</td>\n",
       "      <td>44</td>\n",
       "      <td>72000</td>\n",
       "    </tr>\n",
       "    <tr>\n",
       "      <td>1</td>\n",
       "      <td>US</td>\n",
       "      <td>34</td>\n",
       "      <td>65000</td>\n",
       "    </tr>\n",
       "    <tr>\n",
       "      <td>2</td>\n",
       "      <td>Japan</td>\n",
       "      <td>46</td>\n",
       "      <td>98000</td>\n",
       "    </tr>\n",
       "    <tr>\n",
       "      <td>3</td>\n",
       "      <td>US</td>\n",
       "      <td>35</td>\n",
       "      <td>45000</td>\n",
       "    </tr>\n",
       "    <tr>\n",
       "      <td>4</td>\n",
       "      <td>Japan</td>\n",
       "      <td>23</td>\n",
       "      <td>34000</td>\n",
       "    </tr>\n",
       "  </tbody>\n",
       "</table>\n",
       "</div>"
      ],
      "text/plain": [
       "  country  age  salary\n",
       "0   India   44   72000\n",
       "1      US   34   65000\n",
       "2   Japan   46   98000\n",
       "3      US   35   45000\n",
       "4   Japan   23   34000"
      ]
     },
     "execution_count": 43,
     "metadata": {},
     "output_type": "execute_result"
    }
   ],
   "source": [
    "# Code 01\n",
    "\n",
    "import pandas as pd\n",
    "\n",
    "df = pd.DataFrame({\n",
    "    'country' : ['India', 'US', 'Japan', 'US', 'Japan'],\n",
    "    'age' : [44, 34, 46, 35, 23],\n",
    "    'salary': [72000, 65000, 98000, 45000, 34000]\n",
    "})\n",
    "\n",
    "df"
   ]
  },
  {
   "cell_type": "markdown",
   "metadata": {},
   "source": [
    "Alur berpikir code 01 :\n",
    "1. Pertama-tama kita akan siapkan sebuah dataset terlebih dahulu, yang dataset nya kita akan bentuk kedalam format pandas DataFrame dengan melakukan import modul pandas dengan memanggil \"import pandas as pd\".\n",
    "2. Selanjutnya DataFrame tersebut kita akan bentuk dari suatu dictionary yang dalam kasus ini terdapat tiga buah keys yang akan merepresentasikan tiga buah kolom yaitu \"country\", \"age\", dan \"salary' yang setiap key nya akan diisi value sekumpulan nilai yang berasosiasi dengan key tersebut.\n",
    "3. Lalu selanjutnya, dictionary tersebut akan digunakan sebagia basis untuk membentuk objek DataFrame yang ditampung kedalam variabel \"df\".\n",
    "4. Langkah terakhir kita akan coba tampilkan hasilnya.\n",
    "\n",
    "Berdasarkan output 01, bisa dilihat terdapat tiga buah kolom pada DataFrame kita kali ini yaitu \"country\", \"age\", serta \"salary\" yang dari ketiga kolom tersebut terdapat sebuah kolom dengan nilai categorical yaitu kolom \"country\" yang akan kita terapkan label encoding terhadap kolom tersebut (lihat pada code 02)."
   ]
  },
  {
   "cell_type": "markdown",
   "metadata": {},
   "source": [
    "# Label Encoding pada Scikit Learn "
   ]
  },
  {
   "cell_type": "code",
   "execution_count": 44,
   "metadata": {},
   "outputs": [
    {
     "data": {
      "text/html": [
       "<div>\n",
       "<style scoped>\n",
       "    .dataframe tbody tr th:only-of-type {\n",
       "        vertical-align: middle;\n",
       "    }\n",
       "\n",
       "    .dataframe tbody tr th {\n",
       "        vertical-align: top;\n",
       "    }\n",
       "\n",
       "    .dataframe thead th {\n",
       "        text-align: right;\n",
       "    }\n",
       "</style>\n",
       "<table border=\"1\" class=\"dataframe\">\n",
       "  <thead>\n",
       "    <tr style=\"text-align: right;\">\n",
       "      <th></th>\n",
       "      <th>country</th>\n",
       "      <th>age</th>\n",
       "      <th>salary</th>\n",
       "    </tr>\n",
       "  </thead>\n",
       "  <tbody>\n",
       "    <tr>\n",
       "      <td>0</td>\n",
       "      <td>0</td>\n",
       "      <td>44</td>\n",
       "      <td>72000</td>\n",
       "    </tr>\n",
       "    <tr>\n",
       "      <td>1</td>\n",
       "      <td>2</td>\n",
       "      <td>34</td>\n",
       "      <td>65000</td>\n",
       "    </tr>\n",
       "    <tr>\n",
       "      <td>2</td>\n",
       "      <td>1</td>\n",
       "      <td>46</td>\n",
       "      <td>98000</td>\n",
       "    </tr>\n",
       "    <tr>\n",
       "      <td>3</td>\n",
       "      <td>2</td>\n",
       "      <td>35</td>\n",
       "      <td>45000</td>\n",
       "    </tr>\n",
       "    <tr>\n",
       "      <td>4</td>\n",
       "      <td>1</td>\n",
       "      <td>23</td>\n",
       "      <td>34000</td>\n",
       "    </tr>\n",
       "  </tbody>\n",
       "</table>\n",
       "</div>"
      ],
      "text/plain": [
       "   country  age  salary\n",
       "0        0   44   72000\n",
       "1        2   34   65000\n",
       "2        1   46   98000\n",
       "3        2   35   45000\n",
       "4        1   23   34000"
      ]
     },
     "execution_count": 44,
     "metadata": {},
     "output_type": "execute_result"
    }
   ],
   "source": [
    "# Code 02\n",
    "\n",
    "from sklearn.preprocessing import LabelEncoder \n",
    "\n",
    "label_encoder = LabelEncoder()\n",
    "df['country'] = label_encoder.fit_transform(df['country'])\n",
    "df"
   ]
  },
  {
   "cell_type": "markdown",
   "metadata": {},
   "source": [
    "Untuk menerapkan label encoding dengan SkLearn caranya cukup mudah sebagai berikut :\n",
    "1. Pertama-tama, kita akan melakukan import terlebih dahulu modulnya dengan memanggil \"from sklearn.preprocessing import LabelEncoder\".\n",
    "2. Lalu selanjutnya, kita akan membentuk objek dari class \"LabelEncoder()\" yang akan kita tampung kedalam variabel \"label_encoder\".\n",
    "3. Berikutnya, \"label_encoder\" tersebut akan kita gunakan untuk melakukan fit transform terhadap kolom \"country\" dari dataframe kita kali ini dengan memanggil \"label_encoder.fit_transform(df['country'])\" yang hasil tranformasinya akan kita tampung kembali kedalam kolom country dengan memanggil \"df['country] =\".\n",
    "4. Selanjutnya kita akan tampilkan nilai dfnya pada layar.\n",
    "\n",
    "Berdasarkan output code 02, kita bisa melihat perbedaan sebelum dataset dikenakan dan dikenakan pada label encoding. Sebelum label encoding nya diterapkan, kolom \"country\" tersebut berisi data text. Sedangkan setelah label encodingnya kita terapkan, kolom \"country\" tersebut menjadi data numerik.\n",
    "\n",
    "Untuk memahami mengapa nilai-nilai tersebut bisa berubah menjadi dari categorical menjadi numerik seperti dalam kasus tersebut nilai \"India\" berubah menjadi 0, nilai \"US\" berubah menjadi 2, serta \"Japan\" berubah menjadi 1. Untuk memahami hal tersebut perhatikan pada code 03."
   ]
  },
  {
   "cell_type": "code",
   "execution_count": 45,
   "metadata": {},
   "outputs": [
    {
     "data": {
      "text/plain": [
       "array(['India', 'Japan', 'US'], dtype=object)"
      ]
     },
     "execution_count": 45,
     "metadata": {},
     "output_type": "execute_result"
    }
   ],
   "source": [
    "# Code 03\n",
    "\n",
    "label_encoder.classes_"
   ]
  },
  {
   "cell_type": "markdown",
   "metadata": {},
   "source": [
    "Berdasarkan hasil output 03, kita bisa melihat kumpulan class atau kumpulan category yang menjadi acuan dari label encoder kita pada kasus ini. Bisa kita lihat bahwa terdapat tiga buah kategori negara yaitu \"India\", \"Japan\", dan \"US\" dan ketiga kategori atau label negara tersebut diurutkan secara alphabet, kita juga bisa mengetahui bahwa India menempati indeks ke-0, Japan menempati indeks ke-1, dan US menempati indek ke-2. Oleh karenanya, disini India akan direpresentasikan sebagai integer 0, Japan akan direpresentasikan sebagai integer 1, serta US akan direpresentasikan sebagai integer 2."
   ]
  },
  {
   "cell_type": "markdown",
   "metadata": {},
   "source": [
    "Sebelum kita melangkah pada jenis encoding kedua, ada salah satu kelemahan dasar dari label encoding ini. Jika kita perhatikan, kategori atau label negara akan diurutkan secara alphabet. Oleh karena itu, India direpresentasikan dengan integer 0, Japan direpresentasika dengan integer , dan US direpresentasikan dengan integer 2. Dengan representasi nilai semacam tersebut, beberapa algoritma machine learning bisa saja menarik hubungan bahwa India bernilai lebih kecil dari Japan, dan Japan bernilai lebih kecil dari US dan kondisi semecam ini tentunya tidak diharapkan. Untuk mengantisipasi kondisi tersebut, maka kita akan mempelajari jenis categorical encoding yang kedua.  "
   ]
  },
  {
   "cell_type": "markdown",
   "metadata": {},
   "source": [
    "# One Hot Encoding"
   ]
  },
  {
   "cell_type": "markdown",
   "metadata": {},
   "source": [
    "Jenis categorical encoding kedua yaitu \"One Hot Encoding\". Pada One Hot Encoding, setiap kategori pada suatu feature aka diurutkan secara alfabet dan direpresentasikan sebagai sekmpulan bits."
   ]
  },
  {
   "cell_type": "markdown",
   "metadata": {},
   "source": [
    "# Dataset"
   ]
  },
  {
   "cell_type": "markdown",
   "metadata": {},
   "source": [
    "Pertama-tama kita akan siapkan dataset terlebih dahulu. Dan untuk kasus kita kali ini, kita juga akan menggunakan dataset yang sama persis dengan dataset yang kita gunakan sebelumnya."
   ]
  },
  {
   "cell_type": "code",
   "execution_count": 46,
   "metadata": {},
   "outputs": [
    {
     "data": {
      "text/html": [
       "<div>\n",
       "<style scoped>\n",
       "    .dataframe tbody tr th:only-of-type {\n",
       "        vertical-align: middle;\n",
       "    }\n",
       "\n",
       "    .dataframe tbody tr th {\n",
       "        vertical-align: top;\n",
       "    }\n",
       "\n",
       "    .dataframe thead th {\n",
       "        text-align: right;\n",
       "    }\n",
       "</style>\n",
       "<table border=\"1\" class=\"dataframe\">\n",
       "  <thead>\n",
       "    <tr style=\"text-align: right;\">\n",
       "      <th></th>\n",
       "      <th>country</th>\n",
       "      <th>age</th>\n",
       "      <th>salary</th>\n",
       "    </tr>\n",
       "  </thead>\n",
       "  <tbody>\n",
       "    <tr>\n",
       "      <td>0</td>\n",
       "      <td>India</td>\n",
       "      <td>44</td>\n",
       "      <td>72000</td>\n",
       "    </tr>\n",
       "    <tr>\n",
       "      <td>1</td>\n",
       "      <td>US</td>\n",
       "      <td>34</td>\n",
       "      <td>65000</td>\n",
       "    </tr>\n",
       "    <tr>\n",
       "      <td>2</td>\n",
       "      <td>Japan</td>\n",
       "      <td>46</td>\n",
       "      <td>98000</td>\n",
       "    </tr>\n",
       "    <tr>\n",
       "      <td>3</td>\n",
       "      <td>US</td>\n",
       "      <td>35</td>\n",
       "      <td>45000</td>\n",
       "    </tr>\n",
       "    <tr>\n",
       "      <td>4</td>\n",
       "      <td>Japan</td>\n",
       "      <td>23</td>\n",
       "      <td>34000</td>\n",
       "    </tr>\n",
       "  </tbody>\n",
       "</table>\n",
       "</div>"
      ],
      "text/plain": [
       "  country  age  salary\n",
       "0   India   44   72000\n",
       "1      US   34   65000\n",
       "2   Japan   46   98000\n",
       "3      US   35   45000\n",
       "4   Japan   23   34000"
      ]
     },
     "execution_count": 46,
     "metadata": {},
     "output_type": "execute_result"
    }
   ],
   "source": [
    "# Code 04\n",
    "\n",
    "df = pd.DataFrame({\n",
    "    'country' : ['India', 'US', 'Japan', 'US', 'Japan'],\n",
    "    'age' : [44, 34, 46, 35, 23],\n",
    "    'salary' : [72000, 65000, 98000, 45000, 34000]\n",
    "})\n",
    "\n",
    "df"
   ]
  },
  {
   "cell_type": "markdown",
   "metadata": {},
   "source": [
    "# One Hot Encoding pada Sckit Learn"
   ]
  },
  {
   "cell_type": "markdown",
   "metadata": {},
   "source": [
    "Pada kali ini, kita akan terapkan one hot encoding pada kolom \"country\"."
   ]
  },
  {
   "cell_type": "code",
   "execution_count": 47,
   "metadata": {},
   "outputs": [
    {
     "data": {
      "text/plain": [
       "array([['India'],\n",
       "       ['US'],\n",
       "       ['Japan'],\n",
       "       ['US'],\n",
       "       ['Japan']], dtype=object)"
      ]
     },
     "execution_count": 47,
     "metadata": {},
     "output_type": "execute_result"
    }
   ],
   "source": [
    "# Code 05\n",
    "\n",
    "X = df['country'].values.reshape(-1,1)\n",
    "X"
   ]
  },
  {
   "cell_type": "markdown",
   "metadata": {},
   "source": [
    "Alur berpikir code 05 :\n",
    "1. Pertama-tama sebagai persiapan, kita akan isolasi terlebih dahulu sekumpulan nilai dari kolom \"country\" tersebut. Dimana sekumpuan nilai tersebut akan kita konversikan menjadi sebuah array dengan memanggil \"df['country'].values.reshape(-1,1)\". \n",
    "2. Lalu nilai array tersebut akan kita tampung kedalam variabel X.\n",
    "3. Selanjutnya kita akan coba tampilkan ke layar.\n",
    "\n",
    "Kita butuh untuk melakukan reshape(-1,1) karena sekumpulan nilai output tersebut akan kita perlakukan sebagai nilai feature, dimana nilai feature dalam sklearn itu diharapkan ditampung dalam suatu array dua dimensi."
   ]
  },
  {
   "cell_type": "code",
   "execution_count": 48,
   "metadata": {},
   "outputs": [
    {
     "data": {
      "text/plain": [
       "array([[1., 0., 0.],\n",
       "       [0., 0., 1.],\n",
       "       [0., 1., 0.],\n",
       "       [0., 0., 1.],\n",
       "       [0., 1., 0.]])"
      ]
     },
     "execution_count": 48,
     "metadata": {},
     "output_type": "execute_result"
    }
   ],
   "source": [
    "# Code 06\n",
    "\n",
    "from sklearn.preprocessing import OneHotEncoder\n",
    "\n",
    "onehot_encoder = OneHotEncoder()\n",
    "X = onehot_encoder.fit_transform(X).toarray()\n",
    "X"
   ]
  },
  {
   "cell_type": "markdown",
   "metadata": {},
   "source": [
    "selanjutnya kita akan bersiap untuk menerapkan one hot encoding.\n",
    "\n",
    "Alur berpikir code 06 :\n",
    "1. Untuk menerapkan one hot encoding deng sklearn, pertama-tama kita perlu mengimport terlebih dahulu modulnya dengan memanggil \"from sklearn.preprocessing import OneHotEncoder\".\n",
    "2. Lalu selanjutnya kita akan membentuk objek dari class one hot encoder ini \"OneHotEncoder()\" yang akan kita tampung kedalam variabel \"onehot_encoder\".\n",
    "3. Berikutnya, objek tersebut akan kita gunakan untuk melakukan fit transform terhadap X yang kita tahu X nya disini berupa array yang menampung sekumpulan nilai features \"country\".\n",
    "4. Lalu berikutnya, hasil tranformasinya akan kita konversikan mennjadi suatu array untuk kemudian kita tampung kembali kedalam variabel \"X\".\n",
    "5. Terkahir kita akan coba tampilkan hasilnya pada layar."
   ]
  },
  {
   "cell_type": "markdown",
   "metadata": {},
   "source": [
    "Untuk memahami proses one hot encoding (berdasarkan hasil code 06) tersebut, kita perlu memanggil fungsi \"onehot_encoder.categories_\" (lihat pada code 07)."
   ]
  },
  {
   "cell_type": "code",
   "execution_count": 49,
   "metadata": {},
   "outputs": [
    {
     "data": {
      "text/plain": [
       "[array(['India', 'Japan', 'US'], dtype=object)]"
      ]
     },
     "execution_count": 49,
     "metadata": {},
     "output_type": "execute_result"
    }
   ],
   "source": [
    "# Code 07\n",
    "\n",
    "onehot_encoder.categories_"
   ]
  },
  {
   "cell_type": "markdown",
   "metadata": {},
   "source": [
    "- Berdasarkan hasil code 07, kita hadapkan pada sebuah array yang menampung sekumpulan nilai countries yang sudah diurutkan secara alphabetic dan bisa kita ketahui bahwa disini (hasil output 07) terdapat tiga kategori atau tiga label negara yaitu India, Japan, dan US. \n",
    "- Karena terdapat tiga negara, maka untuk tiap negaranya akan diprepresentasikan dengan bits tiga digit. \n",
    "- Disini kita bisa lihat bahwa India merupakan negara pertama, Japan merupakan negara kedua, dan US merupakan negara ketiga yang berarti India akan memiliki representasi bits tiga digit dimana digit pertamanya akan bernilai satu, Japan akan direpresentasikan dengan bits tiga digit diman digits keduanya akan bernilai satu.\n",
    "- Lalu berikutnya US, karena US pada kasus tersebut merupakan negara dengan posisi ketiga, maka US aka direpresentasikan dengan bits tiga digit, dimana pada digits ketiganya akan bernilai satu."
   ]
  },
  {
   "cell_type": "markdown",
   "metadata": {},
   "source": [
    "Selanjutnya one hot encoding tersebut akan kita konversikan menjadi data frame."
   ]
  },
  {
   "cell_type": "code",
   "execution_count": 50,
   "metadata": {},
   "outputs": [
    {
     "data": {
      "text/html": [
       "<div>\n",
       "<style scoped>\n",
       "    .dataframe tbody tr th:only-of-type {\n",
       "        vertical-align: middle;\n",
       "    }\n",
       "\n",
       "    .dataframe tbody tr th {\n",
       "        vertical-align: top;\n",
       "    }\n",
       "\n",
       "    .dataframe thead th {\n",
       "        text-align: right;\n",
       "    }\n",
       "</style>\n",
       "<table border=\"1\" class=\"dataframe\">\n",
       "  <thead>\n",
       "    <tr style=\"text-align: right;\">\n",
       "      <th></th>\n",
       "      <th>0</th>\n",
       "      <th>1</th>\n",
       "      <th>2</th>\n",
       "    </tr>\n",
       "  </thead>\n",
       "  <tbody>\n",
       "    <tr>\n",
       "      <td>0</td>\n",
       "      <td>1.0</td>\n",
       "      <td>0.0</td>\n",
       "      <td>0.0</td>\n",
       "    </tr>\n",
       "    <tr>\n",
       "      <td>1</td>\n",
       "      <td>0.0</td>\n",
       "      <td>0.0</td>\n",
       "      <td>1.0</td>\n",
       "    </tr>\n",
       "    <tr>\n",
       "      <td>2</td>\n",
       "      <td>0.0</td>\n",
       "      <td>1.0</td>\n",
       "      <td>0.0</td>\n",
       "    </tr>\n",
       "    <tr>\n",
       "      <td>3</td>\n",
       "      <td>0.0</td>\n",
       "      <td>0.0</td>\n",
       "      <td>1.0</td>\n",
       "    </tr>\n",
       "    <tr>\n",
       "      <td>4</td>\n",
       "      <td>0.0</td>\n",
       "      <td>1.0</td>\n",
       "      <td>0.0</td>\n",
       "    </tr>\n",
       "  </tbody>\n",
       "</table>\n",
       "</div>"
      ],
      "text/plain": [
       "     0    1    2\n",
       "0  1.0  0.0  0.0\n",
       "1  0.0  0.0  1.0\n",
       "2  0.0  1.0  0.0\n",
       "3  0.0  0.0  1.0\n",
       "4  0.0  1.0  0.0"
      ]
     },
     "execution_count": 50,
     "metadata": {},
     "output_type": "execute_result"
    }
   ],
   "source": [
    "# Code 08\n",
    "\n",
    "df_onehot = pd.DataFrame(X, columns=[str(i) for i in range(X.shape[1])])\n",
    "df_onehot"
   ]
  },
  {
   "cell_type": "markdown",
   "metadata": {},
   "source": [
    "Alur berpikir code 08 :\n",
    "1. Pertama, memanggil \"pd.DataFrame\" yang berarti kita akan membentuk suatu objek data frame dimana objeknya akan dibentuk dari sekumpulan nilai yang ditampung oleh X.\n",
    "2. Selanjutnya, kita akan memspesifikasikan data kolom dari data frame kita.\n",
    "3. Lalu objek data frame yang terbentuk tersebut akan ditampung ke dalam variabel \"df_onehot\".\n",
    "4. Terakhir kita coba tampilkan pada layar."
   ]
  },
  {
   "cell_type": "markdown",
   "metadata": {},
   "source": [
    "Untuk selanjutnya, kita akan mencoba menggabungkan dengan data frame sebelumnya."
   ]
  },
  {
   "cell_type": "code",
   "execution_count": 51,
   "metadata": {},
   "outputs": [
    {
     "data": {
      "text/html": [
       "<div>\n",
       "<style scoped>\n",
       "    .dataframe tbody tr th:only-of-type {\n",
       "        vertical-align: middle;\n",
       "    }\n",
       "\n",
       "    .dataframe tbody tr th {\n",
       "        vertical-align: top;\n",
       "    }\n",
       "\n",
       "    .dataframe thead th {\n",
       "        text-align: right;\n",
       "    }\n",
       "</style>\n",
       "<table border=\"1\" class=\"dataframe\">\n",
       "  <thead>\n",
       "    <tr style=\"text-align: right;\">\n",
       "      <th></th>\n",
       "      <th>0</th>\n",
       "      <th>1</th>\n",
       "      <th>2</th>\n",
       "      <th>country</th>\n",
       "      <th>age</th>\n",
       "      <th>salary</th>\n",
       "    </tr>\n",
       "  </thead>\n",
       "  <tbody>\n",
       "    <tr>\n",
       "      <td>0</td>\n",
       "      <td>1.0</td>\n",
       "      <td>0.0</td>\n",
       "      <td>0.0</td>\n",
       "      <td>India</td>\n",
       "      <td>44</td>\n",
       "      <td>72000</td>\n",
       "    </tr>\n",
       "    <tr>\n",
       "      <td>1</td>\n",
       "      <td>0.0</td>\n",
       "      <td>0.0</td>\n",
       "      <td>1.0</td>\n",
       "      <td>US</td>\n",
       "      <td>34</td>\n",
       "      <td>65000</td>\n",
       "    </tr>\n",
       "    <tr>\n",
       "      <td>2</td>\n",
       "      <td>0.0</td>\n",
       "      <td>1.0</td>\n",
       "      <td>0.0</td>\n",
       "      <td>Japan</td>\n",
       "      <td>46</td>\n",
       "      <td>98000</td>\n",
       "    </tr>\n",
       "    <tr>\n",
       "      <td>3</td>\n",
       "      <td>0.0</td>\n",
       "      <td>0.0</td>\n",
       "      <td>1.0</td>\n",
       "      <td>US</td>\n",
       "      <td>35</td>\n",
       "      <td>45000</td>\n",
       "    </tr>\n",
       "    <tr>\n",
       "      <td>4</td>\n",
       "      <td>0.0</td>\n",
       "      <td>1.0</td>\n",
       "      <td>0.0</td>\n",
       "      <td>Japan</td>\n",
       "      <td>23</td>\n",
       "      <td>34000</td>\n",
       "    </tr>\n",
       "  </tbody>\n",
       "</table>\n",
       "</div>"
      ],
      "text/plain": [
       "     0    1    2 country  age  salary\n",
       "0  1.0  0.0  0.0   India   44   72000\n",
       "1  0.0  0.0  1.0      US   34   65000\n",
       "2  0.0  1.0  0.0   Japan   46   98000\n",
       "3  0.0  0.0  1.0      US   35   45000\n",
       "4  0.0  1.0  0.0   Japan   23   34000"
      ]
     },
     "execution_count": 51,
     "metadata": {},
     "output_type": "execute_result"
    }
   ],
   "source": [
    "# Code 09\n",
    "\n",
    "df = pd.concat([df_onehot, df], axis=1)\n",
    "df"
   ]
  },
  {
   "cell_type": "markdown",
   "metadata": {},
   "source": [
    "Alur berpikir code 09 :\n",
    "1. Untuk kebutuhan semacam ini caranya cukup mudah, kita hanya tinggal memanggil \"pd.concat\" lalu kita masukkan suatu list yang berisi \"df_onehot\" dan \"df\".\n",
    "2. Lalu kita sertakan parameter axis yang bernilai 1.\n",
    "3. Parameter axis kita beri nilai 1 karena proses concatnya akan kita lakukan site by site atau saling berdampingan.\n",
    "4. Lalu kita akan coba tampilkan pada layar.\n",
    "\n",
    "Bisa kita lihat pada hasil output code 09 erdapat tiga buah kolom baru yang terbentuk dari proses one hot encoding. Disini menjadi semakin jelas, India direpresentasikan dengan 1 0 0, lalu Us direpresentasikan dengan 0 0 1, dan Japan direpresentasikan dengan 0 1 0. Yang perlu diperhatikan disni adalah setiap digit dari bits nya itu ditempatkan dalam kolom yang terpisah."
   ]
  },
  {
   "cell_type": "markdown",
   "metadata": {},
   "source": [
    "Lalu tahapan berikutnya, karena kolom \"country\" ini sudah kita representasikan dengan menggunakan one hot encoding semacam ini, maka kolom \"country\" nya bisa kita drop dengan cara memanggil \"df.drop\" lalu kita masukan suatu list yang berisi string country serta menyertakan parameter axisnya dengan nilai satu (lihat pada code 10)."
   ]
  },
  {
   "cell_type": "code",
   "execution_count": 52,
   "metadata": {},
   "outputs": [
    {
     "data": {
      "text/html": [
       "<div>\n",
       "<style scoped>\n",
       "    .dataframe tbody tr th:only-of-type {\n",
       "        vertical-align: middle;\n",
       "    }\n",
       "\n",
       "    .dataframe tbody tr th {\n",
       "        vertical-align: top;\n",
       "    }\n",
       "\n",
       "    .dataframe thead th {\n",
       "        text-align: right;\n",
       "    }\n",
       "</style>\n",
       "<table border=\"1\" class=\"dataframe\">\n",
       "  <thead>\n",
       "    <tr style=\"text-align: right;\">\n",
       "      <th></th>\n",
       "      <th>0</th>\n",
       "      <th>1</th>\n",
       "      <th>2</th>\n",
       "      <th>age</th>\n",
       "      <th>salary</th>\n",
       "    </tr>\n",
       "  </thead>\n",
       "  <tbody>\n",
       "    <tr>\n",
       "      <td>0</td>\n",
       "      <td>1.0</td>\n",
       "      <td>0.0</td>\n",
       "      <td>0.0</td>\n",
       "      <td>44</td>\n",
       "      <td>72000</td>\n",
       "    </tr>\n",
       "    <tr>\n",
       "      <td>1</td>\n",
       "      <td>0.0</td>\n",
       "      <td>0.0</td>\n",
       "      <td>1.0</td>\n",
       "      <td>34</td>\n",
       "      <td>65000</td>\n",
       "    </tr>\n",
       "    <tr>\n",
       "      <td>2</td>\n",
       "      <td>0.0</td>\n",
       "      <td>1.0</td>\n",
       "      <td>0.0</td>\n",
       "      <td>46</td>\n",
       "      <td>98000</td>\n",
       "    </tr>\n",
       "    <tr>\n",
       "      <td>3</td>\n",
       "      <td>0.0</td>\n",
       "      <td>0.0</td>\n",
       "      <td>1.0</td>\n",
       "      <td>35</td>\n",
       "      <td>45000</td>\n",
       "    </tr>\n",
       "    <tr>\n",
       "      <td>4</td>\n",
       "      <td>0.0</td>\n",
       "      <td>1.0</td>\n",
       "      <td>0.0</td>\n",
       "      <td>23</td>\n",
       "      <td>34000</td>\n",
       "    </tr>\n",
       "  </tbody>\n",
       "</table>\n",
       "</div>"
      ],
      "text/plain": [
       "     0    1    2  age  salary\n",
       "0  1.0  0.0  0.0   44   72000\n",
       "1  0.0  0.0  1.0   34   65000\n",
       "2  0.0  1.0  0.0   46   98000\n",
       "3  0.0  0.0  1.0   35   45000\n",
       "4  0.0  1.0  0.0   23   34000"
      ]
     },
     "execution_count": 52,
     "metadata": {},
     "output_type": "execute_result"
    }
   ],
   "source": [
    "# Code 10\n",
    "\n",
    "df = df.drop(['country'], axis=1)\n",
    "df"
   ]
  },
  {
   "cell_type": "markdown",
   "metadata": {},
   "source": [
    "Hasil code 10 merupakan data frame final setelah kita melakukan proses one hot encoding dan ini merupakan penerapan dari one hot encoding dengan sklearn."
   ]
  },
  {
   "cell_type": "markdown",
   "metadata": {},
   "source": [
    "# Label Encoding vs One Hot Encoding"
   ]
  },
  {
   "cell_type": "markdown",
   "metadata": {},
   "source": [
    "Sebenarnya pada saat kapan kita menerapka Label Encoding dan One Hot Encoding tergantung pada kasus yang kita hadapi. Tetapi, kita akan mencoba membuat guideline agar lebih mempermudah pemahaman kita.\n",
    "\n",
    "Kita menerapkan One Hot Encoding bila :\n",
    "- Nilai categorical adalah nominal.\n",
    "- Jumlah kategori yang ada tidak terlalu banyak.\n",
    "\n",
    "Kita menerapkan Label Encoding bila : \n",
    "- Nilai categorical adalah ordinal.\n",
    "- Jumlah kategori yang ada realtif banyak.\n",
    "\n",
    "Nominal dan ordinal merupakan level of measurement yang umum ditemui dalam bidang statistika."
   ]
  },
  {
   "cell_type": "markdown",
   "metadata": {},
   "source": [
    "Untuk pembelajaran lebih lengkapnya, jangan lupa kunjungi channel youtube Indonesia Belajar pada link berikut : https://www.youtube.com/watch?v=WWbyYFPHDH8 dan jangan lupa untuk like, comment, dan share."
   ]
  },
  {
   "cell_type": "markdown",
   "metadata": {},
   "source": [
    "# \"Banyak Belajar, Biar Bisa Bantu Banyak Orang\""
   ]
  },
  {
   "cell_type": "markdown",
   "metadata": {},
   "source": [
    "Written by : Clarence Code Pianist"
   ]
  }
 ],
 "metadata": {
  "kernelspec": {
   "display_name": "Python 3",
   "language": "python",
   "name": "python3"
  },
  "language_info": {
   "codemirror_mode": {
    "name": "ipython",
    "version": 3
   },
   "file_extension": ".py",
   "mimetype": "text/x-python",
   "name": "python",
   "nbconvert_exporter": "python",
   "pygments_lexer": "ipython3",
   "version": "3.7.4"
  }
 },
 "nbformat": 4,
 "nbformat_minor": 2
}
