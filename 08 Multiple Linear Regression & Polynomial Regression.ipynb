{
 "cells": [
  {
   "cell_type": "markdown",
   "metadata": {},
   "source": [
    "# Multiple Linear Regression & Polynomial Regression"
   ]
  },
  {
   "cell_type": "markdown",
   "metadata": {},
   "source": [
    "Dalam sesi pembelajarn kali ini, kita akan bersama-sama mempelajari dua model regression yaitu \"Multiple Linear Regression\" dan \"Polynomial Regression\".\n",
    "\n",
    "Keduaanya merupakan pengembangan dari \"Simple Linear Regression\" yang pernah kita pelajari pada sesi sebelumnya."
   ]
  },
  {
   "cell_type": "markdown",
   "metadata": {},
   "source": [
    "# Sample Dataset"
   ]
  },
  {
   "cell_type": "markdown",
   "metadata": {},
   "source": [
    "Pertama-tama, kita akan menyiapkan terlebih dahulu dataset yang akan kita gunakan dalam sesi pembelajaran kali ini. Disini kita akan kembali memanfaatkan dataset \"pizza\", hanya saja disini kita akan menyertakan kolom baru yaitu \"jumlah topping\" atau \"n topping\". \n",
    "\n",
    "Dataset yang akan kita bentuk kali ini berisi daftar ukuran \"diameter\" atau diameter, \"n_topping\" atau jumlah topping, dan 'harga' atau harga dari sejumlah pizza yang akan kita tampung kedalam  format pandas DataFrame. Kali ini kita akan langsung persiapkan baik training dataset dan testing datasetnya."
   ]
  },
  {
   "cell_type": "markdown",
   "metadata": {},
   "source": [
    "# Training Set"
   ]
  },
  {
   "cell_type": "code",
   "execution_count": 20,
   "metadata": {},
   "outputs": [
    {
     "data": {
      "text/html": [
       "<div>\n",
       "<style scoped>\n",
       "    .dataframe tbody tr th:only-of-type {\n",
       "        vertical-align: middle;\n",
       "    }\n",
       "\n",
       "    .dataframe tbody tr th {\n",
       "        vertical-align: top;\n",
       "    }\n",
       "\n",
       "    .dataframe thead th {\n",
       "        text-align: right;\n",
       "    }\n",
       "</style>\n",
       "<table border=\"1\" class=\"dataframe\">\n",
       "  <thead>\n",
       "    <tr style=\"text-align: right;\">\n",
       "      <th></th>\n",
       "      <th>diameter</th>\n",
       "      <th>n_topping</th>\n",
       "      <th>harga</th>\n",
       "    </tr>\n",
       "  </thead>\n",
       "  <tbody>\n",
       "    <tr>\n",
       "      <td>0</td>\n",
       "      <td>6</td>\n",
       "      <td>2</td>\n",
       "      <td>7.0</td>\n",
       "    </tr>\n",
       "    <tr>\n",
       "      <td>1</td>\n",
       "      <td>8</td>\n",
       "      <td>1</td>\n",
       "      <td>9.0</td>\n",
       "    </tr>\n",
       "    <tr>\n",
       "      <td>2</td>\n",
       "      <td>10</td>\n",
       "      <td>0</td>\n",
       "      <td>13.0</td>\n",
       "    </tr>\n",
       "    <tr>\n",
       "      <td>3</td>\n",
       "      <td>14</td>\n",
       "      <td>2</td>\n",
       "      <td>17.5</td>\n",
       "    </tr>\n",
       "    <tr>\n",
       "      <td>4</td>\n",
       "      <td>18</td>\n",
       "      <td>0</td>\n",
       "      <td>18.0</td>\n",
       "    </tr>\n",
       "  </tbody>\n",
       "</table>\n",
       "</div>"
      ],
      "text/plain": [
       "   diameter  n_topping  harga\n",
       "0         6          2    7.0\n",
       "1         8          1    9.0\n",
       "2        10          0   13.0\n",
       "3        14          2   17.5\n",
       "4        18          0   18.0"
      ]
     },
     "execution_count": 20,
     "metadata": {},
     "output_type": "execute_result"
    }
   ],
   "source": [
    "# Code 01\n",
    "\n",
    "import pandas as pd\n",
    "\n",
    "pizza = {'diameter': [6, 8, 10, 14, 18], \n",
    "         'n_topping': [2, 1, 0, 2, 0],\n",
    "         'harga': [7, 9, 13, 17.5, 18]}\n",
    "\n",
    "train_pizza_df = pd.DataFrame(pizza)\n",
    "train_pizza_df"
   ]
  },
  {
   "cell_type": "markdown",
   "metadata": {},
   "source": [
    "Alur berpikir code 01 :\n",
    "- Pertama-tama kita akan mengimport mondul pandas yaitu \"import pandas as pd\" karena kita akan membentuk dataset dalam format pandas DataFrame.\n",
    "- Lalu berikutnya, kita akan menyiapkan dataset kita. Dataset kita kali ini awalnya dibentuk dari suatu dictionary, yang terdiri dari tiga buah key yaitu \"diameter\", \"n_toping\", dan \"harga\".\n",
    "- Setiap key tersebut akan menampung list yang berisi sekumpulan bilangan yang berasosiasi dengan setiap keys tersebut.\n",
    "- Lalu selanjutnya dictionary tersebut akan kita tampung ke dalam variabe \"pizza\".\n",
    "- Untuk selanjutnya, dictionary ini akan kita gunakan sebagai base atau sebagai basis untuk membuat pandas DataFrame.\n",
    "- Lalu selanjutnya kita panggil \"pd.DataFrame(pizza)\", artinya disini kita akan membentuk suatu pandas DataFrame dari data-data yang tersimpan dalam variabel pizza tersebut.\n",
    "- Selanjutnnya DataFrame yang terbentuk ini akan kita tampung kedalam variabel \"train_pizza_df\".\n",
    "- Lalu terakhir, kita akan mencoba tampilkan ke layar."
   ]
  },
  {
   "cell_type": "markdown",
   "metadata": {},
   "source": [
    "# Testing Set"
   ]
  },
  {
   "cell_type": "markdown",
   "metadata": {},
   "source": [
    "Selanjutnya kita juga akan menggunakan teknik yang sama untuk mempersiapkan testing dataset kita.\n",
    ".\n",
    "Disini tahapannya sama persis, hanya saja datanya berbeda (perhatikan pada code 02 dan 01 kembali)."
   ]
  },
  {
   "cell_type": "code",
   "execution_count": 21,
   "metadata": {},
   "outputs": [
    {
     "data": {
      "text/html": [
       "<div>\n",
       "<style scoped>\n",
       "    .dataframe tbody tr th:only-of-type {\n",
       "        vertical-align: middle;\n",
       "    }\n",
       "\n",
       "    .dataframe tbody tr th {\n",
       "        vertical-align: top;\n",
       "    }\n",
       "\n",
       "    .dataframe thead th {\n",
       "        text-align: right;\n",
       "    }\n",
       "</style>\n",
       "<table border=\"1\" class=\"dataframe\">\n",
       "  <thead>\n",
       "    <tr style=\"text-align: right;\">\n",
       "      <th></th>\n",
       "      <th>diameter</th>\n",
       "      <th>n_topping</th>\n",
       "      <th>harga</th>\n",
       "    </tr>\n",
       "  </thead>\n",
       "  <tbody>\n",
       "    <tr>\n",
       "      <td>0</td>\n",
       "      <td>8</td>\n",
       "      <td>2</td>\n",
       "      <td>11.0</td>\n",
       "    </tr>\n",
       "    <tr>\n",
       "      <td>1</td>\n",
       "      <td>9</td>\n",
       "      <td>0</td>\n",
       "      <td>8.5</td>\n",
       "    </tr>\n",
       "    <tr>\n",
       "      <td>2</td>\n",
       "      <td>11</td>\n",
       "      <td>2</td>\n",
       "      <td>15.0</td>\n",
       "    </tr>\n",
       "    <tr>\n",
       "      <td>3</td>\n",
       "      <td>16</td>\n",
       "      <td>2</td>\n",
       "      <td>18.0</td>\n",
       "    </tr>\n",
       "    <tr>\n",
       "      <td>4</td>\n",
       "      <td>12</td>\n",
       "      <td>0</td>\n",
       "      <td>11.0</td>\n",
       "    </tr>\n",
       "  </tbody>\n",
       "</table>\n",
       "</div>"
      ],
      "text/plain": [
       "   diameter  n_topping  harga\n",
       "0         8          2   11.0\n",
       "1         9          0    8.5\n",
       "2        11          2   15.0\n",
       "3        16          2   18.0\n",
       "4        12          0   11.0"
      ]
     },
     "execution_count": 21,
     "metadata": {},
     "output_type": "execute_result"
    }
   ],
   "source": [
    "# Code 02\n",
    "\n",
    "pizza = {'diameter': [8, 9, 11, 16, 12], \n",
    "         'n_topping': [2, 0, 2, 2, 0],\n",
    "         'harga': [11, 8.5, 15, 18, 11]}\n",
    "\n",
    "test_pizza_df = pd.DataFrame(pizza)\n",
    "test_pizza_df"
   ]
  },
  {
   "cell_type": "markdown",
   "metadata": {},
   "source": [
    "Kedua dataset tersebut (code 01 dan code 02) sama-sama terdiri dari tiga buah kolom yaitu kolom \"diameter\", \"n_topping\", dan \"harga\". \n",
    "\n",
    "Dalam sesi pembelajaran kali ini kita akan membentuk suatu model machine learning sederhana yang dapat digunakan untuk memprediksi harga pizza berdasarkan ukuran diameter dan jumlah toppingnya. Dengan kata lain, disini data diameter dan jumlah topping atau \"n_topping\" akan berperan sebagai features, sedangkan harga pizza atau \"harga\" akan berperan sebagai target. Karena disini akan diprediksi berupa nilai continous dan bukan kategori, maka kasus tersebut masuk kedalam \"Regression Task\"."
   ]
  },
  {
   "cell_type": "markdown",
   "metadata": {},
   "source": [
    "# Preprocessing Dataset"
   ]
  },
  {
   "cell_type": "markdown",
   "metadata": {},
   "source": [
    "Sebelum kita melangkah kepada proses training model, kita akan kelompokan terlebih dahulu sekumpulan nilai features dan nilai target dari sekumpulan dataset yang kita miliki."
   ]
  },
  {
   "cell_type": "code",
   "execution_count": 22,
   "metadata": {},
   "outputs": [
    {
     "name": "stdout",
     "output_type": "stream",
     "text": [
      "X_train:\n",
      "[[ 6  2]\n",
      " [ 8  1]\n",
      " [10  0]\n",
      " [14  2]\n",
      " [18  0]]\n",
      "\n",
      "y_train: [ 7.   9.  13.  17.5 18. ]\n"
     ]
    }
   ],
   "source": [
    "# Code 03 (Testing Set)\n",
    "\n",
    "import numpy as np\n",
    "\n",
    "X_train = np.array(train_pizza_df[['diameter', 'n_topping']])\n",
    "y_train = np.array(train_pizza_df['harga'])\n",
    "\n",
    "print(f'X_train:\\n{X_train}\\n')\n",
    "print(f'y_train: {y_train}')"
   ]
  },
  {
   "cell_type": "markdown",
   "metadata": {},
   "source": [
    "Alur berpikir code 03 :\n",
    "- Pertama, kita import terlebih dahulu \"numpy as np\"\n",
    "- Untuk kasus kita kali ini, diamter dan jumlah topping akan kita konversikan kedalam numpy array.\n",
    "- Lalu kemudian kita tampung kedalam variabel \"X_train\" sebagai sekumpulan features untuk training set.\n",
    "- Lalu untuk harga pizza, kita juga akan mengkonversikan menjadi numpy array untuk selanjutnya kita tampung kedalam variabel \"y_train\" sebagai skumpulan nilai target untuk training set.\n",
    "- Proses serupa juga kita akan terapkan pada testing setnya (code 04).\n",
    "\n",
    "Jika kita melihat output code 03, seperti biasa \"X_train\" selalu berada dalam format array 2 dimensi, sedangkan \"y_train\" akan selalu berada dalam format array satu dimensi."
   ]
  },
  {
   "cell_type": "code",
   "execution_count": 23,
   "metadata": {},
   "outputs": [
    {
     "name": "stdout",
     "output_type": "stream",
     "text": [
      "X_test:\n",
      "[[ 8  2]\n",
      " [ 9  0]\n",
      " [11  2]\n",
      " [16  2]\n",
      " [12  0]]\n",
      "\n",
      "y_test: [11.   8.5 15.  18.  11. ]\n"
     ]
    }
   ],
   "source": [
    "# Code 04 (Training Set)\n",
    "\n",
    "X_test = np.array(test_pizza_df[['diameter', 'n_topping']])\n",
    "y_test = np.array(test_pizza_df['harga'])\n",
    "\n",
    "print(f'X_test:\\n{X_test}\\n')\n",
    "print(f'y_test: {y_test}')"
   ]
  },
  {
   "cell_type": "markdown",
   "metadata": {},
   "source": [
    "Pada hasil output code 04 diatas tersebut merupakan testing set yang kita miliki baik untuk features maupun targetnya."
   ]
  },
  {
   "cell_type": "markdown",
   "metadata": {},
   "source": [
    "# Multiple Linear Regression"
   ]
  },
  {
   "cell_type": "markdown",
   "metadata": {},
   "source": [
    "Setelah kita memahami konteks dataset dan permasalahannya, kita akan mencoba menerapkan \"Multiple Linear Regression\" untuk kasus kita kali ini.\n",
    "\n",
    "Multiple Linear Regression merupakan generalisasi dari Simple Linear Regression yang memungkinkan untuk menggunakan beberapa explanatory variables.\n",
    "\n",
    "Jadi sebenarnya, perbedaan dasar antar \"Simple Linear Regression\" dan \"Multiple Linear Regression\" terletak pada jumlah features atau explanatory variable yang digunakan. Pada \"Simple Linear Regression\" kita hanya menggunakan satu feature saja untuk melakukan prediksi nilai, sedangkan pada \"Multiple Linear Regression\" kita akan menggunakan lebih dari satu features untuk melakukan prediksi."
   ]
  },
  {
   "cell_type": "markdown",
   "metadata": {},
   "source": [
    "# Formula\n",
    "\n",
    "$y = \\alpha + \\beta_1 x_1 + \\beta_2 x_2 + ... + \\beta_n x_n$\n",
    "\n",
    "- Jika kita perhatikan pada formula atau rumus tersebut, disana terdapat lebih dari satu nilai x, yaitu ada x1, x2, sampai dengan xn. \n",
    "- Dengan kata lain, jumlah x atau jumlah features ini bisa lebih dari satu. \n",
    "- Yang perlu diperhatikan disini ialah untuk setiap nilai $x$ nya akan dikalikan dengan $\\beta$.\n",
    "- Berarti jika kita memiliki $x1$, maka $x1$ tersebut akan dikalikan dengan $\\beta1$.\n",
    "- Dan jika kita memiliki $x2$, maka nilai $x2$ akan dikalikan dengan $\\beta2$\n",
    "\n",
    "Referensi: https://en.wikipedia.org/wiki/Linear_regression"
   ]
  },
  {
   "cell_type": "code",
   "execution_count": 24,
   "metadata": {},
   "outputs": [
    {
     "name": "stdout",
     "output_type": "stream",
     "text": [
      "r_squared: 0.7701677731318468\n"
     ]
    }
   ],
   "source": [
    "# Code 05\n",
    "\n",
    "from sklearn.linear_model import LinearRegression\n",
    "from sklearn.metrics import r2_score\n",
    "\n",
    "model = LinearRegression()\n",
    "model.fit(X_train, y_train)\n",
    "y_pred = model.predict(X_test)\n",
    "    \n",
    "print(f'r_squared: {r2_score(y_test, y_pred)}')"
   ]
  },
  {
   "cell_type": "markdown",
   "metadata": {},
   "source": [
    "Alur berpikir code 05 :\n",
    "- Pertama-tama kita akan mengimport terlebih dahulu modulnya \"from sklearn.linear_model import LinearRegression\".\n",
    "- Lalu selanjutnya, kita akan mengimport juga untuk matrix nya dengan memanggil fungsi \"from sklearn.metrics import r2_score\".\n",
    "- Lalu tahapan berikutnya, kita akan membentuk objek modelnya dengan memanggil fungsi \"LinearRegression()\", lalu kita tampung kedalam variabel \"model\".\n",
    "- Lalu berikutnya, kita akan melakukan proses training model kita dengan memanggil fungsi \"model.fit\" dengan menyertakan parameter \"(X_train, y_train)\".\n",
    "- Setelah modelnya kita training, model tersebut akan kita gunakan untuk melakukan prediksi. Disini kita akan menggunakan train model kita untuk melakukan prediksi terhadap feature yang terdapat dalam testing set kita. Oleh karenanya, kita akan memanggil fungsi \"y_pred = model.predict(X_test)\" yang akan kita tampung kedalam variabel \"y_pred\".\n",
    "- Untuk selanjutnya model prediksi ini akan kita gunakan untuk mengukur peforma dari model kita.\n",
    "- Dalam kasus kita kali ini, kita akan gunakan r2_score sebagai pengukuran peformanya.\n",
    "- Langkah terakhir, kita akan tampilkan nilai-nilai tersebut.\n",
    "\n",
    "Jika kita perhatikan pada code 05 tersebut, bahwa pada SkLearn sebenarnya tidak ada perbedaan antara implementasi \"Simple Linear Regression\" dan \"Multiple Linear Regression\". Yang berbeda hanyalah pada jumlah feature yang dilewatkannya saja."
   ]
  },
  {
   "cell_type": "markdown",
   "metadata": {},
   "source": [
    "# Polynomial Regression"
   ]
  },
  {
   "cell_type": "markdown",
   "metadata": {},
   "source": [
    "Selanjutnya kita akan mempelajari bentuk pengembangan lain dari bentuk \"Simple Linear Regression\" yaitu \"Polynomial Regression\".\n",
    "\n",
    "Polynomial Regression memodelkan hubungan antara independent variable $x$ dan dependent variable $y$ sebagai derajat polynomial dalam $x$.\n",
    "- Independent variable $x$ sebenarnya merupakan features.\n",
    "- Dependent variable $x$ sebenarnya merupakan target.\n",
    "\n",
    "Referensi: https://en.wikipedia.org/wiki/Polynomial_regression"
   ]
  },
  {
   "cell_type": "markdown",
   "metadata": {},
   "source": [
    "# Preprocessing Dataset"
   ]
  },
  {
   "cell_type": "markdown",
   "metadata": {},
   "source": [
    "Disini untuk menyederhanakan proses belajar, kita akan memangkas jumlah feature nya menjadi satu feature saja."
   ]
  },
  {
   "cell_type": "code",
   "execution_count": 25,
   "metadata": {},
   "outputs": [
    {
     "name": "stdout",
     "output_type": "stream",
     "text": [
      "X_train:\n",
      "[[ 6]\n",
      " [ 8]\n",
      " [10]\n",
      " [14]\n",
      " [18]]\n",
      "\n",
      "y_train: [ 7.   9.  13.  17.5 18. ]\n"
     ]
    }
   ],
   "source": [
    "# Code 06\n",
    "\n",
    "X_train = np.array(train_pizza_df['diameter']).reshape(-1, 1)\n",
    "y_train = np.array(train_pizza_df['harga'])\n",
    "\n",
    "print(f'X_train:\\n{X_train}\\n')\n",
    "print(f'y_train: {y_train}')"
   ]
  },
  {
   "cell_type": "markdown",
   "metadata": {},
   "source": [
    "Alur berpikir code 06 :\n",
    "- Disini feturesnya akan kita pangkas menjadi satu feature yang dalam kasus ini yang dijadikan feature adalah \"diameter\" atau diameter pizzanya, tetapi targetnya prediction nya tetap sama yaitu harga pizza.\n",
    "- Kita akan siapkansuatu numpy array \"(train_pizza_df['diameter'])\" karena kita hanya mau mengambil kolom diameter saja.\n",
    "- Lalu berikutnya, kita perlu melkaukan proses reshaping atau reshape yang dalam kasus ini (-1, 1) karena pada SkLearn untuk featuresnya itu harus berada dalam array 2 dimensi, sedangkan disini kita hanya memiliki satu kolom saja sebagai featuresnya. \n",
    "- Aritinya fetures yang terdiri dari satu varibel tersebut, perlu kita transformasikan kedalam array dua dimensi dengan memanfaatkan method reshape (-1, 1) lalu kita tampung kedalam variabel \"X_train\".\n",
    "- Selanjutnya kita akan membentuk array yang kedua yang akan menampung nilai target dengan memanggil \"np.array(train_pizza_df['harga'])\" karena kolom harga tersebut akan kita gunakan sebagai target prediksinya yang akan kita tampung kedalam variabel \"y_train\".\n",
    "- Langkah akhir, kita akan mencoba cetak ke layar baik nilai 'X_train\" dan juga \"y_train\" nya.\n",
    "\n",
    "Bisa kita lihat pada code 06. Walaupun nilai \"X_train\" nya terdiri dari satu features saja, tetapi array yang terbentuk ini tetap dalam format array 2 dimensi. Hal ini dimungkinkan karena kita memanggil method \"reshape(-1, 1)\".    \n"
   ]
  },
  {
   "cell_type": "markdown",
   "metadata": {},
   "source": [
    "# Polynomial Regression : Quadratic"
   ]
  },
  {
   "cell_type": "markdown",
   "metadata": {},
   "source": [
    "Disini kita akan mempelajari \"Polynomial Regression Quadratic\" pada SkLearn dengan derajat polynomial 2 atau biasa dikenal dengan istilah \"Quadratic\". Selain mderajat polynomial 2, kita juga bisa menggunakan polynomial lainnya seperti 3, 4, dan seterusnya. Hanya saja, yang paling umum ditemui adalah derajat polynomial 2 dengan 3 atau dikenal dengan \"Quadratic\" dan \"Cubic\"."
   ]
  },
  {
   "cell_type": "markdown",
   "metadata": {},
   "source": [
    "# Formula\n",
    "\n",
    "$ y = \\alpha + \\beta_1x + \\beta_2x^2$\n",
    "\n",
    "- Jika kita perhatikan pada formula tersebut, nilai feature nya hanya ada satu yaitu x.\n",
    "- Hanya saja nilai feature yang tunggal tersebut akan kita representasikan dalam format polynomial.\n",
    "- Untuk kasus kita kali ini, kita akan menggunakna polynomial derajat 2 yang berarti kita akan memiliki $x^1$ dan $x^2$.\n",
    "- Untuk $x^1$ akan dikalikan dengan $\\beta^1$ dan untuk $x^2$ akan kita kalikan dengan $\\beta^2$."
   ]
  },
  {
   "cell_type": "markdown",
   "metadata": {},
   "source": [
    "# Polynomial Features"
   ]
  },
  {
   "cell_type": "markdown",
   "metadata": {},
   "source": [
    "Untuk menerapkan polynomial regression, pertama-tama kita perlu melakukan transformasi terhadap feature dari datset yang kita miliki."
   ]
  },
  {
   "cell_type": "code",
   "execution_count": 26,
   "metadata": {},
   "outputs": [
    {
     "name": "stdout",
     "output_type": "stream",
     "text": [
      "X_train_quadratic:\n",
      "[[  1.   6.  36.]\n",
      " [  1.   8.  64.]\n",
      " [  1.  10. 100.]\n",
      " [  1.  14. 196.]\n",
      " [  1.  18. 324.]]\n",
      "\n"
     ]
    }
   ],
   "source": [
    "# Code 07\n",
    "\n",
    "from sklearn.preprocessing import PolynomialFeatures\n",
    "\n",
    "quadratic_feature = PolynomialFeatures(degree=2)\n",
    "X_train_quadratic = quadratic_feature.fit_transform(X_train)\n",
    "\n",
    "print(f'X_train_quadratic:\\n{X_train_quadratic}\\n')"
   ]
  },
  {
   "cell_type": "markdown",
   "metadata": {},
   "source": [
    "Alur berpikir code 07 :\n",
    "- Pertama-tama, kita akan mengimport modulnya terlebih dahulu dengan memanggil \"from sklearn.preprocessing import PolynomialFeatures\".\n",
    "- Lalu berikutnya, kita akan membentuk objek polynomial fetures nya dengan memanggil \"PolynomialFeatures\" dengan menyertakan parameter \"(degree=2)\" atau derjat polynomialnya yang dalam kasus ini nilainya adalah 2. Karena dalam kasus kita kali ini kita akan membentuk \"Quadratic Polynomial Regression\", maka degree nya kita beri nilai 2 lalu kita tampung kedalam variabel \"quadratic_feature\".\n",
    "- Objek tersebut akan kita gunakan untuk melakukan proses transformasi terhadap dataset feature yang kita miliki. Oleh karena itu, kita memanggil \"quadratic_feature.fit_transform\" dengan menyertakan parameter \"X_train\". Lalu hasil transformasinya, akan kita tampung ke dalam variabel \"X_train_quadratic\". \n",
    "- Variabel \"X_train_quadratic\" akan berisi features dari training set kita yang sudah ditransformasikan kedalam \"Polynomial Features\".\n",
    "- Langkah akhir, kita akan coba untuk tampilkan hasilnya.\n",
    "\n",
    "Bisa kita lihat pada output code 07, bahwa nilai feature yang tunggal tadi sekarang menjadi 3. Kita sama-sama mengetahui bahwa nilai pada indeks pertama adalah 6, tetapi mengapa sekarang bisa menjadi 1, 6, 36 (lihat pada output code 07). Nilai 1 diperoleh dari nilai x dipangkatkan 0 yang kita ketahui hasilnya adalah 1, nilai 2 diperoleh dari 6 dipangkatkan 1 adalah 6, lalu 6 dipangkatkan 2 adalah 36 dan seterusnya."
   ]
  },
  {
   "cell_type": "markdown",
   "metadata": {},
   "source": [
    "# Training Model"
   ]
  },
  {
   "cell_type": "markdown",
   "metadata": {},
   "source": [
    "Setelah kita memiliki polynomial features yang dibutuhkan, selanjutnya kita memulai melakukan training model."
   ]
  },
  {
   "cell_type": "code",
   "execution_count": 27,
   "metadata": {},
   "outputs": [
    {
     "data": {
      "text/plain": [
       "LinearRegression()"
      ]
     },
     "execution_count": 27,
     "metadata": {},
     "output_type": "execute_result"
    }
   ],
   "source": [
    "# Code 08\n",
    "\n",
    "model = LinearRegression()\n",
    "model.fit(X_train_quadratic, y_train)"
   ]
  },
  {
   "cell_type": "markdown",
   "metadata": {},
   "source": [
    "Alur berpikir code 08 :\n",
    "- Pertama-tama, kita akan bentuk terlebih dahulu objek modelnya dengan memanggil \"LinearRegression()\" yang kita tampung kedalam variabel model.\n",
    "- Untuk selanjutnya, objek model ini akan kita training dengan memanfaatkan nilai fetures yang sudah kita transformasikan kedalam polynomial dengan memanggil \"(X_train_quadratic, y_train)\". Perlu diperhatikan bahwa proses transformasi polynomialnya dikenakan pada features dan tidak dikenakan pada target.\n",
    "- Bisa kita lihat pada hasil code tersebut bahwa tidak ada perbedaan antar implementasi linear regression dan polynomial regression. Yang berbeda hanyalah pada polynomial regression kita perlu melakukan transformasi features kedalam polynomial features sebelum mealkukan proses training model."
   ]
  },
  {
   "cell_type": "markdown",
   "metadata": {},
   "source": [
    "# Visualisasi Model"
   ]
  },
  {
   "cell_type": "markdown",
   "metadata": {},
   "source": [
    "Selanjutnya untuk memberikan gambaran yang lebih baik terkait qudratic polynomial regression ini, kita akan mencoba untuk memvisualisasikan modelnya."
   ]
  },
  {
   "cell_type": "code",
   "execution_count": 28,
   "metadata": {},
   "outputs": [
    {
     "data": {
      "image/png": "[encoded data removed]",
      "text/plain": [
       "<Figure size 432x288 with 1 Axes>"
      ]
     },
     "metadata": {
      "needs_background": "light"
     },
     "output_type": "display_data"
    }
   ],
   "source": [
    "# Code 09\n",
    "\n",
    "import matplotlib.pyplot as plt\n",
    "\n",
    "X_vis = np.linspace(0, 25, 100).reshape(-1, 1)\n",
    "X_vis_quadratic = quadratic_feature.transform(X_vis)\n",
    "y_vis_quadratic = model.predict(X_vis_quadratic)\n",
    "\n",
    "plt.scatter(X_train, y_train)\n",
    "plt.plot(X_vis, y_vis_quadratic, '-r')\n",
    "\n",
    "plt.title('Perbandingan Diameter dan Harga Pizza')\n",
    "plt.xlabel('Diameter (inch)')\n",
    "plt.ylabel('Harga (dollar)')\n",
    "plt.xlim(0, 25)\n",
    "plt.ylim(0, 25)\n",
    "plt.grid(True)\n",
    "plt.show()"
   ]
  },
  {
   "cell_type": "markdown",
   "metadata": {},
   "source": [
    "Alur berpikir code 09 :\n",
    "- Pertama-tama kita import terlebih dahulu mathplotlibnya.\n",
    "- Selanjutnya, kita akan membentuk terlebih dahulu sederet bilangan mulai dari 0 sampai 25 sebanyak 100 data point yang akan kita tampung kedalam variabel \"X_vis\".\n",
    "- Lalu variable \"X_vis\" ini akan kita kenakan proses transformasi dengan memanggil \"quadratic_feature.transform(X_vis)\". Disini kita tidak melakukan fit transform tetapi kita hanya melakukan transform kaena kita akan menggunakan quadratic_feature yang kita buat sebelumnya, lalu hasilnya kita tampung kedalam \"X_vis_quadratic\".\n",
    "- Selanjutnya kita akan melakukan nilai prediksi terhadap nilai \"X_vis_quadratic\" dengan memanggil \"model.predict(X_vis_quadratic)\" yang hasilnya kita tmapung kedalam variabel \"y_vis_quadratic\".\n",
    "- Pada kali ini yang akan kita visualisasikan ada 2 hal. Yang pertama adalah X_train dan y_train nya atau data point yang kita gunakan untuk melakukan proses trainingnya.\n",
    "- Untuk data training tersebut, kita akan visualisasikan sebagai scatter plot dengan memanggil \"plt.scatter\" dengan menyertakan parameternya yaitu X_train serta y_train nya yang akan menghasilkan 5 titik (lihat pada hasil code 09) dan kelima titik tersebut merepresentasikan 5 data point pada training set.\n",
    "- Lalu berikutnya kita akan memploting hasil prediksi dari model kita dengan memanggil \"plt.plot(X_vis, y_vis_quadratic, '-r')\". Kali ini kita akan memploting sebagai line plot atau ploting garis dengan warna merah (lihat kembali pada hasil code 09).\n",
    "- Lalu kita cetak keterangan tambahan seperti judul, xlabel dan ylabel, xlim dan ylim, grid untuk menampilkan garisnya yang kita beri nilai True, lalu kita show atau tampilkan pada layar.\n"
   ]
  },
  {
   "cell_type": "markdown",
   "metadata": {},
   "source": [
    "# Polynomial Regression: Quadratic vs Cubic"
   ]
  },
  {
   "cell_type": "markdown",
   "metadata": {},
   "source": [
    "Untuk memperdalam pemahaman kita lebih lagi, disini kita akan mencoba membandingkan antar model \"Simple Linear Regression\", \"Quadratic Polynomial Regression\", dan juga \"Cubic Polynomial Regression\" secara visual.   "
   ]
  },
  {
   "cell_type": "code",
   "execution_count": 29,
   "metadata": {},
   "outputs": [
    {
     "data": {
      "image/png": "[encoded data removed]",
      "text/plain": [
       "<Figure size 432x288 with 1 Axes>"
      ]
     },
     "metadata": {
      "needs_background": "light"
     },
     "output_type": "display_data"
    }
   ],
   "source": [
    "# Code 10\n",
    "\n",
    "# Training Set\n",
    "plt.scatter(X_train, y_train)\n",
    "\n",
    "# Linear\n",
    "model = LinearRegression()\n",
    "model.fit(X_train, y_train)\n",
    "X_vis = np.linspace(0, 25, 100).reshape(-1, 1)\n",
    "y_vis = model.predict(X_vis)\n",
    "plt.plot(X_vis, y_vis, '--r', label='linear')\n",
    "\n",
    "# Quadratic\n",
    "quadratic_feature = PolynomialFeatures(degree=2)\n",
    "X_train_quadratic = quadratic_feature.fit_transform(X_train)\n",
    "model = LinearRegression()\n",
    "model.fit(X_train_quadratic, y_train)\n",
    "X_vis_quadratic = quadratic_feature.transform(X_vis)\n",
    "y_vis = model.predict(X_vis_quadratic)\n",
    "plt.plot(X_vis, y_vis, '--g', label='quadratic')\n",
    "\n",
    "# Cubic\n",
    "cubic_feature = PolynomialFeatures(degree=3)\n",
    "X_train_cubic = cubic_feature.fit_transform(X_train)\n",
    "model = LinearRegression()\n",
    "model.fit(X_train_cubic, y_train)\n",
    "X_vis_cubic = cubic_feature.transform(X_vis)\n",
    "y_vis = model.predict(X_vis_cubic)\n",
    "plt.plot(X_vis, y_vis, '--y', label='cubic')\n",
    "\n",
    "plt.title('Perbandingan Diameter dan Harga Pizza')\n",
    "plt.xlabel('Diameter (inch)')\n",
    "plt.ylabel('Harga (dollar)')\n",
    "plt.legend()\n",
    "plt.xlim(0, 25)\n",
    "plt.ylim(0, 25)\n",
    "plt.grid(True)\n",
    "plt.show()"
   ]
  },
  {
   "cell_type": "markdown",
   "metadata": {},
   "source": [
    "Alur berpikir code 10 :\n",
    "\n",
    "Training Set :\n",
    "- Pertama-tama kita panggil terlebih dahulu \"plt.scatter(X_train, y_train)\" artinya disini kita akan melakukan plotting dataset yang hasil plottingnya berupa kelima data point atau kelima titik biru (lihat pada hasil code 10).\n",
    "\n",
    "Linear :\n",
    "- Lalu berikutnya kita akan membentuk model simple linear regression.\n",
    "- Pertama-tama kita akan bentuk objek modelnya dengan memanggil \"LinearRegression()\" yang kita tampung kedalam variabel \"model\".\n",
    "- Lalu selanjutnya, modelnya akan kita training dengan menggunakan \"X_train\" dan \"y_train\".\n",
    "- Berikutnya disini kita akan menyiapkan 100 data point dengan jangkauan 0 - 25. Lalu nilai dat point ini sebelum ditampung kedalam variabel \"X_vis\" akan kita reshape denganparameter (-1, 1).\n",
    "- Selanjutnya nilai yang ditampung dalam variabel \"X_vis\" tersebut akan kita gunakan sebagai features untuk melakukan prediksi dengan memanggil \"model.predict(X_vis)\" yang kita tampung kedalam variabel \"y_vis\".\n",
    "- Lalu berikutnya, hasil prediksi tersebut akan kita tampilkan secara visual dengan memanggil \"plt.plot(X_vis, y_vis, '--r', label='linear')\" yang akan menghasilkan garis merah putus-putus (lihat pada hasil code 10).\n",
    "- Garis merah tersebut merepresentasikan model simple linear regression yang terbentuk.\n",
    "\n",
    "Quadratic :\n",
    "- Lalu berikutnya kita akan bandingkan dengan quadratic. Perbedaannya sebenarnya terletak hanya pada penerapan point polynomial feature dengan degree atau derajat 2.\n",
    "- Pertama kita bentuk terlebih dahulu objeknya dengan memanggil \"PolynomialFeatures(degree=2)\" yang akan kita tampug kedalam variabel \"quadratic_feature\".\n",
    "- Selanjutnya kita akan menggunaka objek \"qudratic_feature\" tersebut, untuk melakukan fit.transform terhadap nilai dari \"X_train\" yang hasilnya akan kita tampung kedalam variabel \"X_train_quadratic\".\n",
    "- Lalu tahapan berikutnya, kita akan membentuk objek modelnya yang kita tampung kedalam variabel \"model\".\n",
    "- Dan selanjutnya kita akan proses training terhadap model kita. Hanya saja disini, modelnya akan kita training dengan menggunakan features yang sudah kita tranformasikan kedalam quadratic polynomial. Oleh karenanya, kita panggil \"(X_train_quadratic, y_train)\".\n",
    "- Berikutnya nilai \"X_vis\" nya juga sama, akan kita transformasikan menjadi quadratic polynomial yang selanjutnya kita akan tampung kedalam variabel \"X_vis_quadratic\".\n",
    "- Lalu nilai \"X_vis_quadratic tersebut akan kita gunakan untuk mealkukan prediksi.\n",
    "- Selanjutnya hasil prediksi tersebut akan kita plotting dengan memanggil \"plt.plot(X_vis, y_vis, '--g', label='quadratic')\" (lihat pada code hasil code 10 garis putus-putus berwarna hijau).\n",
    "\n",
    "Cubic :\n",
    "- Perbedaan cubic dengan yang lain yaitu sewaktu kita membentuk objek polynomial features, kita menyertakan degree nya adalah 3.\n",
    "- Lalu untuk proses berikutnya sama persis dengan proses linear dan quadratic.\n",
    "- Untuk cubic polynomial regression disini, akan kita plotting sebagai \"--y\" artinya kita akan ploting sebagai garis putus-putus berwarna yellow atau kuning lalu kita menyertakan label \"cubic\" (lihat pada hasil code 10 garis putus-putus berwarna kuning)."
   ]
  },
  {
   "cell_type": "markdown",
   "metadata": {},
   "source": [
    "Untuk pembelajaran lebih lengkapnya, jangan lupa kunjungi channel youtube Indonesia Belajar pada link berikut : https://www.youtube.com/watch?v=nWJUJenAyB8 dan jangan lupa like, comment, dan share."
   ]
  },
  {
   "cell_type": "markdown",
   "metadata": {},
   "source": [
    "# \"Banyak Belajar, Biar Bisa Bantu Bantu Banyak Orang\""
   ]
  },
  {
   "cell_type": "markdown",
   "metadata": {},
   "source": [
    "Written By : Clarence Code Pianist"
   ]
  }
 ],
 "metadata": {
  "kernelspec": {
   "display_name": "Python 3",
   "language": "python",
   "name": "python3"
  },
  "language_info": {
   "codemirror_mode": {
    "name": "ipython",
    "version": 3
   },
   "file_extension": ".py",
   "mimetype": "text/x-python",
   "name": "python",
   "nbconvert_exporter": "python",
   "pygments_lexer": "ipython3",
   "version": "3.7.4"
  }
 },
 "nbformat": 4,
 "nbformat_minor": 2
}
