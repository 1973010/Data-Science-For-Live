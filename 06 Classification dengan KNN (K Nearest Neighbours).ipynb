{
 "cells": [
  {
   "cell_type": "markdown",
   "metadata": {},
   "source": [
    "# Classification dengan KNN (K Nearest Neighbours)\n",
    "\n",
    "- KNN adalah model machine learning yang dapat digunakan untuk melakukan prediksi berdasarkan kedekatan karakteristik dengan sejumlah tetangga terdekat\n",
    "- Prediksi yang dilakukan dapat diterapkan baik pada classification maupun regression tasks.\n",
    "- Dalam sesi pembelajaran kali ini, kita akan berfokus pada penerapan KNN untuk classification tasks.\n",
    "\n",
    "Referensi : https://en.wikipedia.org/wiki/K-nearest_neighbors_algorithm"
   ]
  },
  {
   "cell_type": "markdown",
   "metadata": {},
   "source": [
    "# Sample Dataset"
   ]
  },
  {
   "cell_type": "code",
   "execution_count": 38,
   "metadata": {},
   "outputs": [
    {
     "data": {
      "text/html": [
       "<div>\n",
       "<style scoped>\n",
       "    .dataframe tbody tr th:only-of-type {\n",
       "        vertical-align: middle;\n",
       "    }\n",
       "\n",
       "    .dataframe tbody tr th {\n",
       "        vertical-align: top;\n",
       "    }\n",
       "\n",
       "    .dataframe thead th {\n",
       "        text-align: right;\n",
       "    }\n",
       "</style>\n",
       "<table border=\"1\" class=\"dataframe\">\n",
       "  <thead>\n",
       "    <tr style=\"text-align: right;\">\n",
       "      <th></th>\n",
       "      <th>tinggi</th>\n",
       "      <th>berat</th>\n",
       "      <th>jk</th>\n",
       "    </tr>\n",
       "  </thead>\n",
       "  <tbody>\n",
       "    <tr>\n",
       "      <td>0</td>\n",
       "      <td>158</td>\n",
       "      <td>64</td>\n",
       "      <td>pria</td>\n",
       "    </tr>\n",
       "    <tr>\n",
       "      <td>1</td>\n",
       "      <td>170</td>\n",
       "      <td>86</td>\n",
       "      <td>pria</td>\n",
       "    </tr>\n",
       "    <tr>\n",
       "      <td>2</td>\n",
       "      <td>183</td>\n",
       "      <td>84</td>\n",
       "      <td>pria</td>\n",
       "    </tr>\n",
       "    <tr>\n",
       "      <td>3</td>\n",
       "      <td>191</td>\n",
       "      <td>80</td>\n",
       "      <td>pria</td>\n",
       "    </tr>\n",
       "    <tr>\n",
       "      <td>4</td>\n",
       "      <td>155</td>\n",
       "      <td>49</td>\n",
       "      <td>wanita</td>\n",
       "    </tr>\n",
       "    <tr>\n",
       "      <td>5</td>\n",
       "      <td>163</td>\n",
       "      <td>59</td>\n",
       "      <td>wanita</td>\n",
       "    </tr>\n",
       "    <tr>\n",
       "      <td>6</td>\n",
       "      <td>180</td>\n",
       "      <td>67</td>\n",
       "      <td>wanita</td>\n",
       "    </tr>\n",
       "    <tr>\n",
       "      <td>7</td>\n",
       "      <td>158</td>\n",
       "      <td>54</td>\n",
       "      <td>wanita</td>\n",
       "    </tr>\n",
       "    <tr>\n",
       "      <td>8</td>\n",
       "      <td>178</td>\n",
       "      <td>67</td>\n",
       "      <td>wanita</td>\n",
       "    </tr>\n",
       "  </tbody>\n",
       "</table>\n",
       "</div>"
      ],
      "text/plain": [
       "   tinggi  berat      jk\n",
       "0     158     64    pria\n",
       "1     170     86    pria\n",
       "2     183     84    pria\n",
       "3     191     80    pria\n",
       "4     155     49  wanita\n",
       "5     163     59  wanita\n",
       "6     180     67  wanita\n",
       "7     158     54  wanita\n",
       "8     178     67  wanita"
      ]
     },
     "execution_count": 38,
     "metadata": {},
     "output_type": "execute_result"
    }
   ],
   "source": [
    "# Code 01\n",
    "\n",
    "import pandas as pd\n",
    "\n",
    "sensus = {\n",
    "    'tinggi': [158, 170, 183, 191, 155, 163, 180, 158, 178],\n",
    "    'berat' : [64, 86, 84, 80, 49, 59, 67, 54, 67],\n",
    "    'jk': [\n",
    "        'pria', 'pria', 'pria', 'pria', 'wanita', 'wanita', 'wanita', 'wanita', \n",
    "        'wanita'\n",
    "    ]\n",
    "}\n",
    "\n",
    "sensus_df = pd.DataFrame(sensus)\n",
    "sensus_df"
   ]
  },
  {
   "cell_type": "markdown",
   "metadata": {},
   "source": [
    "Kali ini kita akan membentuk dataset yang berisi daftar berat dan tinggi badan sejumlah partisipan beserta gender atau jenis kelaminnya, dataset ini akan kita tampung ke dalam format Pandas DataFrame\n",
    "\n",
    "Alur berpikir code 01 :\n",
    "- Pertama, kita akan mengimport terlebih dahulu modul pandas.\n",
    "- Lalu berikutnya, menyiapkan suatu variabel yang dalam hal ini adalah 'sensus' yang digunakan untuk menampung suatu data dictionary, dimana dictionary ini akan menampung 3 buah keys yaitu : tinggi, berat, dan jk.\n",
    "- 'jk' akan berasosiasi dengan daftar jenis kelamin.\n",
    "- 'tinggi' dan 'berat'akan berasosiasi dengan nilai tinggi badan dan berat badan.\n",
    "- Lalu selanjutnya, dictionary ini akan kita tampung ke dalam suatu variabel dengan nama 'sensus'.\n",
    "- Dictionary sensus akan dibentuk menjadi suatu Pandas DataFrame. Oleh karena itu, kita panggil dengan 'pd.DataFrame(sensus)'.\n",
    "- Lalu objek DataFramenya, kita tampung ke dalam variabel 'sensus_df'.\n",
    "- Kemudian kita tampilkan dengan memanggil 'sensus_df'.\n",
    "\n",
    "Jika kita melihat dataset kita, dataset kita kali ini terdiri dari 3 buah kolom yaitu 'tinggi', 'berat', dan 'jk'. Dalam sesi pembelajaran kali ini, kita akan membentuk model machine learning sederhana yang dapat digunakan untuk memprediksi gender atau jenis kelamin seseorang berdasarkan data tinggi dan berat badanya. Dengan kata lain, data tinggi dan berat badan akan berperan sebagai features, sedangkan jenis kelamin akan berperan sebagai target."
   ]
  },
  {
   "cell_type": "markdown",
   "metadata": {},
   "source": [
    "# Visualisasi Data"
   ]
  },
  {
   "cell_type": "code",
   "execution_count": 39,
   "metadata": {},
   "outputs": [
    {
     "data": {
      "image/png": "[encoded data removed]",
      "text/plain": [
       "<Figure size 432x288 with 1 Axes>"
      ]
     },
     "metadata": {
      "needs_background": "light"
     },
     "output_type": "display_data"
    }
   ],
   "source": [
    "# Code 02\n",
    "\n",
    "import matplotlib.pyplot as plt\n",
    "\n",
    "fig, ax = plt.subplots()\n",
    "for jk, d in sensus_df.groupby('jk'):\n",
    "    ax.scatter(d['tinggi'], d['berat'], label=jk)\n",
    "    \n",
    "plt.legend(loc='upper left')\n",
    "plt.title('Sebaran Data Tinggi Badan, Berat Badan, dan Jenis Kelamin')\n",
    "plt.xlabel('Tinggi Badan (cm)')\n",
    "plt.ylabel('Berat Badan (kg)')\n",
    "plt.grid(True)\n",
    "plt.show()\n"
   ]
  },
  {
   "cell_type": "markdown",
   "metadata": {},
   "source": [
    "Kita akan mencoba visualisasikan dataset sensus yang telah kita bentuk sebelmunya ke dalam scatter plot, dimana sumbu x akan berasosisasi dengan tinggi badan, sedangkan sumbu y akan berasosisasi dengan berat badan.\n",
    "\n",
    "Disni kita juga akan menggunakan warna marker yang berbeda untuk merepresentasikan jenis kelamin pria dan wanita.\n",
    "\n",
    "Alur berpikir code 02 :\n",
    "- Import modul matplotlib.\n",
    "- Lalu berikutnya, disini kita akan membentun subplots, dimana kita akan menangkap objek figure dan axes nya.\n",
    "- Selanjutnya, kita akan melakukan looping terhadap data sensus df tersebut, dimana sensus df nya kita grouping terlebih dahulu berdasarkan 'jk' atau jenis kelaminnya.\n",
    "- Pada setiap iterasinya, kita akan menangkap 2 nilai yaitu 'jk' yang merepresentasikan jenis kelamin berdasarkan pengelompokannya, dan yang kedua adalah 'd' yang berisi sekumpulan baris data dari kelompok jenis kelamin tertentu. Karena kita ingin membentuk scatter plot, maka kita panggil 'ax.scatter', dimana sumbu x nya akan diasosiasikan dengan data baris dengan kolom 'tinggi', sedangkan sumbu y akan diasosiasi dengan data baris dengan kolom 'berat', lalu kita sertakan label dimana label tersebut akan disesuaikan dengan kelompok jenis kelaminnya.\n",
    "- Lalu berikutnya, kita akan menyertakan beberapa keterangan tambahan diantarnya adalah legend, yang akan berasosiasi dengan 'label=jk'. Jika kita tidak menyertakan parameter 'label', maka legendnya hanya akan menampilkan warna biru dan orange tanpa disertai label pria dan wanita. Lalu berikutnya, ketika kita memanggil 'plt.legend' kita juga menyertakan parameter 'loc', parameter 'loc' ini digunakan untuk mengatur lokasi atau posisi dari legendnya, yang dalam kasus ini 'loc' nya sebagai upper left, berarti posisinya ada di sudut kiri atas.\n",
    "- Selanjutnya, sebagai data tambahan disini kita akan menyertakan judul, label untuk sumbu x dan juga sumbu y 'plt.title', 'plt.xlabel', 'plt.ylabel'.\n",
    "- Selain itu, kita juga akan sertakan 'plt.grid' yang diberi nilai true.\n",
    "- Terakhir, kita memanggil 'plt.show' untuk memunculkan hasil ploting kita\n",
    "\n",
    "Jika kita hitung jumlah markernya dari hasil output code 02, berjumlah 9 marker, kesembilan marker ini akan berasosiasi dengan setiap baris dari dataset kita (lihat lagi output code 01), bisa kita lihat dalam pandas dataframe kita memiliki 9 buah entries atau row atau instances. Oleh karena itu, setiap baris ini akan menghasilkan satu data point pada scatter plot nya. Bisa kita lihat juga bahwa data 'pria' ada empat, sedangkan data 'wanita' ada 5.\n",
    "\n",
    "Pada kasus kita kali ini, tujuan utamanya adalah ketika kita menemukan suatu data point baru, maka data point tersebut akan coba diprediksi apakah dia masuk kedalam kategori 'pria' atau 'wanita."
   ]
  },
  {
   "cell_type": "markdown",
   "metadata": {},
   "source": [
    "# Classification dengan KNN"
   ]
  },
  {
   "cell_type": "markdown",
   "metadata": {},
   "source": [
    "Setelah kita memahami konteks dataset dan juga permasalahannya, kita akan mencoba menerapkan KNN atau Key Nearest Neighbours untuk melakukan klasifikasi jenis kelamin berdasarkan data tinggi dan berat badan. Sesuai dengan namanya, model machine learning yang satu ini akan melakukan prediksi yang dalam kasus ini adalah prediksi gender atau jenis kelamin berdasarkan kemiripan karakteristik atau features dengan dataset yang kita miliki. KNN juga termasuk salah satu model machine learning dasar yang wajib dikuasai."
   ]
  },
  {
   "cell_type": "markdown",
   "metadata": {},
   "source": [
    "# Preprocessing Dataset"
   ]
  },
  {
   "cell_type": "code",
   "execution_count": 40,
   "metadata": {},
   "outputs": [
    {
     "name": "stdout",
     "output_type": "stream",
     "text": [
      "X_train:\n",
      "[[158  64]\n",
      " [170  86]\n",
      " [183  84]\n",
      " [191  80]\n",
      " [155  49]\n",
      " [163  59]\n",
      " [180  67]\n",
      " [158  54]\n",
      " [178  67]]\n",
      "\n",
      "y_train: ['pria' 'pria' 'pria' 'pria' 'wanita' 'wanita' 'wanita' 'wanita' 'wanita']\n"
     ]
    }
   ],
   "source": [
    "# Code 03\n",
    "\n",
    "import numpy as np\n",
    "\n",
    "X_train = np.array(sensus_df[['tinggi', 'berat']])\n",
    "y_train = np.array(sensus_df['jk'])\n",
    "\n",
    "print(f'X_train:\\n{X_train}\\n')\n",
    "print(f'y_train: {y_train}')\n",
    "      "
   ]
  },
  {
   "cell_type": "markdown",
   "metadata": {},
   "source": [
    "Sebelum kita melangkah kepada proses training model, kita perlu melakukan beberapa penyesuaian pada dataset sensus tersebut, dimana kita akan mengkonversikan data tinggi badan dan berat badan ke dalam numpy array. Selanjutnya kita tampung ke dalam variabel 'X_train' sebagai sekumpulan features untuk training set. Lalu untuk kolom 'jenis kelamin' juga kita akan konversikan menjadi numpy array untuk selanjutnya kita tampung ke dalam variabel 'y_train' sebagai sekumpulan nilai target untuk training set.\n",
    "\n",
    "Alur berpikir code 03 :\n",
    "- Pertama-tama, kita akan import numpy as np.\n",
    "- Lalu kita akan bentuk 2 buah numpy array. Untuk numpy array yang pertama akan kita bentuk berdasarkan kolom tinggi dan berat dari 'sensus_df' yang ditampung ke dalam variabel 'X_train', sedangkan numpy array kedua kita akan bentuk berdasarkan kolom 'jk' dari 'sensus_df' yang kita tampung ke dalam variabel 'y_train'.\n",
    "- Lalu kita tampilkan dengan cara di print kedua variabel tersebut.\n",
    "\n",
    "Berdasarkan output code 03, X_train berisi sekumpulan nilai features, sedangkan y_train akan berisi sekumpulan nilai target. Jika kita perhatikan pada output code 03 sekumpulan nilai features untuk training set yang kita miliki sudah dalam format array dua dimensi dan tipe datanya pun sudah berupa data numerik, artinya sekumpulan nilai features ini sudah siap digunakan untuk proses training. Tetapi jika kita perhatikan nilai targetnya, tipe datanya berupa string. Sebenarnya untuk kasus classification dengan KNN, target dengan tipe data string tetap bisa diproses dengan baik, hanya saja kita akan menghadapi kendala ketika kita ketika kita melakukan evaluasi model. Oleh karena itu, pada kasus ini kita akan mengkonversikan nilai string menjadi nilai numerik. \n"
   ]
  },
  {
   "cell_type": "markdown",
   "metadata": {},
   "source": [
    "Karena jenis kelamin ini hanya terdiri dari 2 nilai, dalam kasus ini adalah 'pria' dan 'wanita', maka kita bisa memanfaatkan label binarizer untuk melakukan konversi nilai string tersebut menjadi numerik biner (lihat pada code 04)."
   ]
  },
  {
   "cell_type": "code",
   "execution_count": 41,
   "metadata": {},
   "outputs": [
    {
     "name": "stdout",
     "output_type": "stream",
     "text": [
      "y_train:\n",
      "[[0]\n",
      " [0]\n",
      " [0]\n",
      " [0]\n",
      " [1]\n",
      " [1]\n",
      " [1]\n",
      " [1]\n",
      " [1]]\n"
     ]
    }
   ],
   "source": [
    "# Code 04\n",
    "\n",
    "from sklearn.preprocessing import LabelBinarizer\n",
    "\n",
    "lb = LabelBinarizer()\n",
    "y_train = lb.fit_transform(y_train)\n",
    "print(f'y_train:\\n{y_train}')"
   ]
  },
  {
   "cell_type": "markdown",
   "metadata": {},
   "source": [
    "Alur berpikir code 04 :\n",
    "- Kita bisa memanfaatkan class preprocessing yang disertakan oleh SkLearn yaitu LabelBinarizer. Oleh karena itu pertama-tama, kita lakukan import modul ('from sklearn.preprocessing import LabelBinarizer').\n",
    "- Lalu berikutnya, kita akan mencoba membentuk objek dari class label binarizer ini, dengan cara memanggil ('lb = LabelBinarizer()') yang akan ditampung ke dalam variabel 'lb'.\n",
    "- Selanjutnya, objek label binarizer tersebut akan kita manfaatkan untuk melakukan transformasi data yang terdapat dalam variabel 'y_train'. Oleh karena itu, kita akan panggil ('lb.fit_transform(y_train)') yang nilainya kita tampung kembali ke dalam variabel 'y_train'.\n",
    "- Terakhir kita akan melakukan print out terhadap variabel 'y_train'.\n",
    "\n",
    "Pada output tersebut hanya terdapat 2 nilai yaitu 0 dan 1. Dalam hal ini nilai nol akan merepresentasikan data pria, sedangkan nilai satu akan merepresentasikan data wanita.\n",
    "\n",
    "Jika kita perhatikan pada output code 04 tersebut, setelah melalui proses transformasi data dengan label binarizer, sekumpulan nilai target yang kita miliki ini, sekarang tersimpan dalam format array 2 dimensi. Oleh karena itu, kita perlu kembalikan menjadi array satu dimensi dengan method flatten (pada code 05)."
   ]
  },
  {
   "cell_type": "code",
   "execution_count": 42,
   "metadata": {},
   "outputs": [
    {
     "name": "stdout",
     "output_type": "stream",
     "text": [
      "y_train: [0 0 0 0 1 1 1 1 1]\n"
     ]
    }
   ],
   "source": [
    "# Code 05\n",
    "\n",
    "y_train = y_train.flatten()\n",
    "print(f'y_train: {y_train}')"
   ]
  },
  {
   "cell_type": "markdown",
   "metadata": {},
   "source": [
    "Alur berpikir code 05 :\n",
    "- Memanggil fungsi 'y_train.flatten()' yang akan ditampung ke dalam variabel y_train.\n",
    "- Lakukan pemanggilan dengan print untuk melihat hasilnya.  \n"
   ]
  },
  {
   "cell_type": "markdown",
   "metadata": {},
   "source": [
    "# Training KNN Classification Model"
   ]
  },
  {
   "cell_type": "markdown",
   "metadata": {},
   "source": [
    "Setelah training setnya kita persiapkan, selnjutnya kita akan melangkah ke proses training model. Kali ini model machine learning yang akan kita gunakan adalah KNN."
   ]
  },
  {
   "cell_type": "code",
   "execution_count": 43,
   "metadata": {},
   "outputs": [
    {
     "data": {
      "text/plain": [
       "KNeighborsClassifier(n_neighbors=3)"
      ]
     },
     "execution_count": 43,
     "metadata": {},
     "output_type": "execute_result"
    }
   ],
   "source": [
    "# Code 06\n",
    "\n",
    "from sklearn.neighbors import KNeighborsClassifier\n",
    "\n",
    "K = 3\n",
    "model = KNeighborsClassifier(n_neighbors=K)\n",
    "model.fit(X_train, y_train)"
   ]
  },
  {
   "cell_type": "markdown",
   "metadata": {},
   "source": [
    "Alur berpikir code 06 :\n",
    "- Pertama-tama kita akan import terlebih dahulu estimater class nya 'from sklearn.neighbors import KNeighborsClassifier'. Disini kita memilih KNeighbors Classifier karena kita akan menggunakan KNN ini untuk clasification task.\n",
    "- Disini terdapat satu parameter yang harus kita spesifikasikan nilainya yaitu paremeter 'K'. Untuk kasus kali ini nilai 'K' kita akan set sebagai 3. Nilai parameter 'K' ini digunakan untuk menentukan jumlah tetangga terdekat yang akan dilibatkan untuk proses prediksi, dan untuk kasus kita kali inim adalah 3 tetangga terdekat.\n",
    "- Setelah nilai 'K' kita tentukan, selanjutnya kita akan membentuk objek dari class KNeighbors Classifier. KNeighbors Classifier ini akan membutuhkan satu parameter yaitu n_neighbors yang kita beri nilai 'K' lalu kita tampung kedalam variabel 'model'.\n",
    "- Untuk selanjutnya, kita akan melakukan training dengan memanfaatkan X_train dan y_train yang sudah kita persiapkan sebelumnya.\n",
    "- Pada kali ini, proses trainingnya akan kita lakukan dengan cara memanggil 'model.fit(X_train, y_train)'\n",
    "\n",
    "Setelah modelnya kita training (lihat pada output code 06), maka status dari model ini adalah train model atau model yang sudah di training. Pada kali ini, proses trainingnya terbilang cepat  karena ukuran data set yang kita miliki juga terbilang sangat kecil."
   ]
  },
  {
   "cell_type": "markdown",
   "metadata": {},
   "source": [
    "# Prediksi Jenis Kelamin "
   ]
  },
  {
   "cell_type": "markdown",
   "metadata": {},
   "source": [
    "Setelah model KNN Classifier nya kita training, tahapan selanjutnya kita akan menggunakan train model ini untuk melakukan prediksi gender berdasarkan data tinggi dan berat badan. Disini kita akan mempersiapkan terlebih dahulu data baru yang akan kita gunakan untuk prediksi."
   ]
  },
  {
   "cell_type": "code",
   "execution_count": 44,
   "metadata": {},
   "outputs": [
    {
     "data": {
      "text/plain": [
       "array([[155,  70]])"
      ]
     },
     "execution_count": 44,
     "metadata": {},
     "output_type": "execute_result"
    }
   ],
   "source": [
    "# Code 07\n",
    "\n",
    "tinggi_badan = 155\n",
    "berat_badan = 70\n",
    "X_new = np.array([tinggi_badan, berat_badan]).reshape(1, -1)\n",
    "X_new"
   ]
  },
  {
   "cell_type": "markdown",
   "metadata": {},
   "source": [
    "Alur berpikir code 07 :\n",
    "- Disini semisal saja kita memiliki data tinggi badan sebesar 155 dan berat badan sebesar 70 yang akan kita prediksi jenis kelaminnya apakah pria atau wanita.\n",
    "- Pada kali ini, nilai featuresnya harus kita bentuk dulu menjadi suatu numpy array. Oleh karenanya, disini kita panggil 'np.array' lalu kita bundle tinggi badan dan berat badannya '([tinggi_badan, berat_badan])'. Karena disini hanya terdapat satu dataset atau instance saja, maka perlu kita melakukan reshape menjadi array 2 dimensi 'reshape(1, -1)'. Lalu array ini akan kita tanpung ke dalam variabel 'X_new'.\n",
    "- Lalu terkahir kita akan coba tampilkan.\n",
    "\n",
    "Bisa kita lihat pada outputnya (code 07), array nya adalah array 2 dimensi dimana jumlah barisnya adalah satu dan jumlah kolom nya adalah dua."
   ]
  },
  {
   "cell_type": "markdown",
   "metadata": {},
   "source": [
    "Setelah data tinggi dan berat badanny siap, selanjutnya kita akan melakukan prediksi gender dengan memanfaatkan model KNN Classifier yang sudah kita training sebelumnya (lihat pada code 08). "
   ]
  },
  {
   "cell_type": "code",
   "execution_count": 45,
   "metadata": {},
   "outputs": [
    {
     "data": {
      "text/plain": [
       "array([1])"
      ]
     },
     "execution_count": 45,
     "metadata": {},
     "output_type": "execute_result"
    }
   ],
   "source": [
    "# Code 08\n",
    "\n",
    "y_new = model.predict(X_new)\n",
    "y_new"
   ]
  },
  {
   "cell_type": "markdown",
   "metadata": {},
   "source": [
    "Alur berpikir code 08 :\n",
    "-  Memanggil fungsi 'model.predict' lalu kita sertakan '(X_new)' nya dimana hasil prediksinya akan kita tampung kedalam variabel 'y_new'.\n",
    "- Lalu kita tampilkan pada layar.\n",
    "\n",
    "Berdasarkan hasil output code 08, kita bisa simpulkan bahwa tinggi badan 155 dan berat badan 70, ini akan diprediksi memiliki jenis kelamin [1]. "
   ]
  },
  {
   "cell_type": "code",
   "execution_count": 46,
   "metadata": {},
   "outputs": [
    {
     "data": {
      "text/plain": [
       "array(['wanita'], dtype='<U6')"
      ]
     },
     "execution_count": 46,
     "metadata": {},
     "output_type": "execute_result"
    }
   ],
   "source": [
    "# Code 09\n",
    "\n",
    "lb.inverse_transform(y_new)"
   ]
  },
  {
   "cell_type": "markdown",
   "metadata": {},
   "source": [
    "Output code 09 merupakan hasil konveri baliknya, disini kita bisa mengetahui bahwa nilai 1 untuk target itu berkolerasi dengan jenis kelamin wanita atau dengan kata lain, tinggi badan 155 dengan berat badan 70 tersebut diprediksi sebagai data 'wanita' oleh model yang sudah kita training sebelumnya. "
   ]
  },
  {
   "cell_type": "markdown",
   "metadata": {},
   "source": [
    "# Visualisasi Nearest Neighbours"
   ]
  },
  {
   "cell_type": "markdown",
   "metadata": {},
   "source": [
    "Untuk dapat memahami cara kerja KNN dengan lebih baik, kita akan mencoba visualisasikan posisi data baru tadi terhadap sekumpulan data tinggi dan berat badan yang kita gunakan sebelumnya untuk training model KNN."
   ]
  },
  {
   "cell_type": "code",
   "execution_count": 47,
   "metadata": {},
   "outputs": [
    {
     "data": {
      "image/png": "[encoded data removed]",
      "text/plain": [
       "<Figure size 432x288 with 1 Axes>"
      ]
     },
     "metadata": {
      "needs_background": "light"
     },
     "output_type": "display_data"
    }
   ],
   "source": [
    "# Code 10\n",
    "\n",
    "fig, ax = plt.subplots()\n",
    "for jk, d in sensus_df.groupby('jk'):\n",
    "    ax.scatter(d['tinggi'], d['berat'], label=jk)\n",
    "\n",
    "plt.scatter(tinggi_badan,\n",
    "           berat_badan,\n",
    "           marker='s',\n",
    "           color='red',\n",
    "           label='misterius')\n",
    "\n",
    "plt.legend(loc='upper left')\n",
    "plt.title('Sebaran Data Tinggi Badan, Berat Badan, dan Jenis Kelamin')\n",
    "plt.xlabel('Tinggi Badan (cm)')\n",
    "plt.ylabel('Berat Badan (kg)')\n",
    "plt.grid(True)\n",
    "plt.show()"
   ]
  },
  {
   "cell_type": "markdown",
   "metadata": {},
   "source": [
    "Alur berpikir code 10 :\n",
    "- Kita tidak perlu mengimport matplotlib karena cukup sekali saja.\n",
    "- Memanggil 'plt.subplots()' untuk mendapatkan objek figure dan axes nya.\n",
    "- Lalu berikutnya, kita akan mencoba tampilkan kembali data points dari dataset yang kita miliki. Caranya kurang lebih sama dengan cara sebelumnya, hanya saja disini kita akan menyertakan marker baru pada scatter plot kita. Marker baru ini dihasilkan dengan memanggil  'plt.scatter' dimana nilai x nya itu berasal dari variabel tinggi_badan daan nilai y nya berasal dari berat_badan, sedangkan untuk  markernya kita beri nilai 's' karena kita bentuk markernya sebagai square atau kotak. Lalu color kita berikan warna merah 'red', dan labelnya kita beri label 'misterius'."
   ]
  },
  {
   "cell_type": "markdown",
   "metadata": {},
   "source": [
    "# Kalkulasi Distance (Euclidean Distance)"
   ]
  },
  {
   "cell_type": "markdown",
   "metadata": {},
   "source": [
    "$distance = \\sqrt{(t_1 - t_2)^2  + (b_1 - b_2)^2 }$"
   ]
  },
  {
   "cell_type": "markdown",
   "metadata": {},
   "source": [
    "Referensi : https://en.wikipedia.org/wiki/Euclidean_distance"
   ]
  },
  {
   "cell_type": "markdown",
   "metadata": {},
   "source": [
    "Setelah kita mempelajari cara kerja KNN secara umum atau secara general, berikutnya kita akan pelajari bagimana KNN mengukur jarak atau kedekatan antara data baru yang diprediksi dengan sekumpulan data lain pada dataset training. Pada kali ini, kita akan mengenal euclidean distance untuk mengukur jarak antara satu data ponit dengan data point lainnya. \n",
    "\n",
    "Untuk selanjutnya, sejumlah K data point dengan jarak terdekat inilah yang akan digunakan oleh KNN sebagai nearest neighbors atau tetangga terdekatnya.\n",
    "\n",
    "Bila kita perhatikan pada rumus Euclidean Distance :\n",
    "- t : merepresentasikan tinggi badan.\n",
    "- b : merepresentasikan berat badan.\n",
    "- t1 : merepresentasikan data tinggi badan dari data point yang pertama.\n",
    "- t2 : merepresentasikan data tinggi badan dari data point yang kedua.\n",
    "- b1 : merepresentasikan data berat badan dari data point yang pertama. \n",
    "- b2 : merepresentasikan data berat badan dari data point yang kedua.\n",
    "\n",
    "Formula atau rumus tersebut dapat kita gunakan untuk mengukur jarak atau distance atau kedekatan antara data point pertama dengan data point kedua.\n",
    "\n",
    "Selanjutnya, kita akan coba untuk melakukan proses kalkulasi yang diterapkan oleh KNN dalam menentukan tetangga terdekat untuk suatu data point yang akan diprediksi."
   ]
  },
  {
   "cell_type": "code",
   "execution_count": 48,
   "metadata": {},
   "outputs": [
    {
     "data": {
      "text/plain": [
       "array([155,  70])"
      ]
     },
     "execution_count": 48,
     "metadata": {},
     "output_type": "execute_result"
    }
   ],
   "source": [
    "# Code 11\n",
    "\n",
    "misterius = np.array([tinggi_badan, berat_badan])\n",
    "misterius"
   ]
  },
  {
   "cell_type": "code",
   "execution_count": 49,
   "metadata": {},
   "outputs": [
    {
     "data": {
      "text/plain": [
       "array([[158,  64],\n",
       "       [170,  86],\n",
       "       [183,  84],\n",
       "       [191,  80],\n",
       "       [155,  49],\n",
       "       [163,  59],\n",
       "       [180,  67],\n",
       "       [158,  54],\n",
       "       [178,  67]], dtype=int64)"
      ]
     },
     "execution_count": 49,
     "metadata": {},
     "output_type": "execute_result"
    }
   ],
   "source": [
    "# Code 12\n",
    "\n",
    "X_train"
   ]
  },
  {
   "cell_type": "code",
   "execution_count": 50,
   "metadata": {},
   "outputs": [
    {
     "data": {
      "text/plain": [
       "[6.708203932499369,\n",
       " 21.93171219946131,\n",
       " 31.304951684997057,\n",
       " 37.36308338453881,\n",
       " 21.0,\n",
       " 13.601470508735444,\n",
       " 25.179356624028344,\n",
       " 16.278820596099706,\n",
       " 23.194827009486403]"
      ]
     },
     "execution_count": 50,
     "metadata": {},
     "output_type": "execute_result"
    }
   ],
   "source": [
    "# Code 13\n",
    "\n",
    "from scipy.spatial.distance import euclidean\n",
    "\n",
    "data_jarak = [euclidean(misterius, d) for d in X_train]\n",
    "data_jarak"
   ]
  },
  {
   "cell_type": "code",
   "execution_count": 51,
   "metadata": {},
   "outputs": [
    {
     "data": {
      "text/html": [
       "<div>\n",
       "<style scoped>\n",
       "    .dataframe tbody tr th:only-of-type {\n",
       "        vertical-align: middle;\n",
       "    }\n",
       "\n",
       "    .dataframe tbody tr th {\n",
       "        vertical-align: top;\n",
       "    }\n",
       "\n",
       "    .dataframe thead th {\n",
       "        text-align: right;\n",
       "    }\n",
       "</style>\n",
       "<table border=\"1\" class=\"dataframe\">\n",
       "  <thead>\n",
       "    <tr style=\"text-align: right;\">\n",
       "      <th></th>\n",
       "      <th>tinggi</th>\n",
       "      <th>berat</th>\n",
       "      <th>jk</th>\n",
       "      <th>jarak</th>\n",
       "    </tr>\n",
       "  </thead>\n",
       "  <tbody>\n",
       "    <tr>\n",
       "      <td>0</td>\n",
       "      <td>158</td>\n",
       "      <td>64</td>\n",
       "      <td>pria</td>\n",
       "      <td>6.708204</td>\n",
       "    </tr>\n",
       "    <tr>\n",
       "      <td>5</td>\n",
       "      <td>163</td>\n",
       "      <td>59</td>\n",
       "      <td>wanita</td>\n",
       "      <td>13.601471</td>\n",
       "    </tr>\n",
       "    <tr>\n",
       "      <td>7</td>\n",
       "      <td>158</td>\n",
       "      <td>54</td>\n",
       "      <td>wanita</td>\n",
       "      <td>16.278821</td>\n",
       "    </tr>\n",
       "    <tr>\n",
       "      <td>4</td>\n",
       "      <td>155</td>\n",
       "      <td>49</td>\n",
       "      <td>wanita</td>\n",
       "      <td>21.000000</td>\n",
       "    </tr>\n",
       "    <tr>\n",
       "      <td>1</td>\n",
       "      <td>170</td>\n",
       "      <td>86</td>\n",
       "      <td>pria</td>\n",
       "      <td>21.931712</td>\n",
       "    </tr>\n",
       "    <tr>\n",
       "      <td>8</td>\n",
       "      <td>178</td>\n",
       "      <td>67</td>\n",
       "      <td>wanita</td>\n",
       "      <td>23.194827</td>\n",
       "    </tr>\n",
       "    <tr>\n",
       "      <td>6</td>\n",
       "      <td>180</td>\n",
       "      <td>67</td>\n",
       "      <td>wanita</td>\n",
       "      <td>25.179357</td>\n",
       "    </tr>\n",
       "    <tr>\n",
       "      <td>2</td>\n",
       "      <td>183</td>\n",
       "      <td>84</td>\n",
       "      <td>pria</td>\n",
       "      <td>31.304952</td>\n",
       "    </tr>\n",
       "    <tr>\n",
       "      <td>3</td>\n",
       "      <td>191</td>\n",
       "      <td>80</td>\n",
       "      <td>pria</td>\n",
       "      <td>37.363083</td>\n",
       "    </tr>\n",
       "  </tbody>\n",
       "</table>\n",
       "</div>"
      ],
      "text/plain": [
       "   tinggi  berat      jk      jarak\n",
       "0     158     64    pria   6.708204\n",
       "5     163     59  wanita  13.601471\n",
       "7     158     54  wanita  16.278821\n",
       "4     155     49  wanita  21.000000\n",
       "1     170     86    pria  21.931712\n",
       "8     178     67  wanita  23.194827\n",
       "6     180     67  wanita  25.179357\n",
       "2     183     84    pria  31.304952\n",
       "3     191     80    pria  37.363083"
      ]
     },
     "execution_count": 51,
     "metadata": {},
     "output_type": "execute_result"
    }
   ],
   "source": [
    "# Code 14\n",
    "\n",
    "sensus_df['jarak'] = data_jarak\n",
    "sensus_df.sort_values(['jarak'])"
   ]
  },
  {
   "cell_type": "markdown",
   "metadata": {},
   "source": [
    "Alur berpikir code 11-14:\n",
    "- Pertama, data point misterius tersebut akan kita bentuk terlebih dahulu ke dalam format numpy array 'np.array([tinggi_badan, berat_badan])'.\n",
    "- Lalu selanjutnya akan kita tampung ke dalam variabel misterius.\n",
    "- Lalu berikutnya (pada code 12), kita akan tampilkan sekumpulan nilai features dari training set kita. Berdasarkan hasil output code 12, kita akan mencoba hitung jarak berdasarkan euclidean distance antara data point misterius (hasil output code 11) dengan setiap data point lain pada dataset 'X_train' (hasil output code 12).\n",
    "- Untuk menghitung jarak antara keduanya, kita gunakan function euclidean yang sudah disertakan pada scipy (pada code 13).\n",
    "- Caranya cukup mudah, kita hanya tinggal memanggil method atau function 'from scipy.spatial.distance import euclidean'.\n",
    "- Lalu berikutnya kita tinggal pakai saja euclidean distancenya. Pada code 13 baris code kedua, funtion euclidean system tersebut digunakan untuk mengukur jarak atau kedekatan atau distancenya antara data point misterius dengan suatu data point lain (dalam kasus ini adalah 'd') di dalam variabel 'X_train' yang ditampung ke dalam variabel 'data_jarak'.\n",
    "- Kemudian kita tampilkan ke layar.\n",
    "- Pada hasil output code 13, kita bisa melihat bahwa jarak antara data point misterius dengan data point pertama pada 'X_train' (158) adalah (6.708203932499369) dan seterusnya.\n",
    "- Selanjutnya untuk mempermudah proses pengamatan, kita akan membentuk kolom baru pada 'sensus_df' dengan memanfaatkan data jarak pada hasil output 13 (perhatikan pada code 14). Oleh karena itu, kita hanya tinggal memanggil 'sensus_df['jarak'] = data_jarak' artinya disini  kita akan membentuk kolom  baru pada sensus df dengan nama jarak, lalu datanya kita ambil dari variabel 'data_jarak' (pada code 13)\n",
    "- Untuk selanjutnya, DataFrame 'sensus_df' ini akan kita urutkan nilainya berdasarkan kolom jarak. Dalam hal ini, pengurutan dilakukan secara ascending artinya dari nilai terkecil sampe yang terbesar (lihat pada code 14)\n",
    "- Pada hasil output code 14, kita bisa melihat bahwa datanya sudah terurut berdasarkan kolom jarak. Karena untuk kasus kita kali ini nilai 'k' nya adalah 3, maka kita akan hanya memperhatikan 3 data point dengan jarak terdekat atau jarak terkecil dengan data point misterius yang kita miliki. Oleh karenanya, bisa kita lihat pada output code 14 juga, bahwa 3 baris pertama merupakan 3 neighbor terdekat yang akan kita perhatikan untuk melakukan proses prediksi.\n",
    "- Untuk neigbor pertama, jenis kelaminnya adalah pria, neighbor kedua jenis kelaminnya adalah wanita, dan neighbor yang ketiga jenis kelaminnya adalah wanita.\n",
    "- Berdasarkan data neighbors tersebut, makan nilai KNN akan memprediksi data point misterius tersebut sebagai data wanita."
   ]
  },
  {
   "cell_type": "markdown",
   "metadata": {},
   "source": [
    "# Evaluasi KNN Classification Model"
   ]
  },
  {
   "cell_type": "markdown",
   "metadata": {},
   "source": [
    "Setelah memahami bagaiman KNN seleksi tetangga terdekat, selanjutnya kita akan mulai mempelajari beberapa matriks yang bisa kita gunakan untuk mmengukur performa dari model machine learning untuk kasus classification task dengan menyiapkan terlebih dahulu testing set nya."
   ]
  },
  {
   "cell_type": "markdown",
   "metadata": {},
   "source": [
    "# Testing Set"
   ]
  },
  {
   "cell_type": "code",
   "execution_count": 52,
   "metadata": {},
   "outputs": [
    {
     "name": "stdout",
     "output_type": "stream",
     "text": [
      "X_test:\n",
      "[[168  65]\n",
      " [180  96]\n",
      " [160  52]\n",
      " [169  67]]\n",
      "\n",
      "y_test:\n",
      "[0 0 1 1]\n"
     ]
    }
   ],
   "source": [
    "# Code 15\n",
    "\n",
    "X_test = np.array([[168, 65], [180, 96], [160, 52], [169, 67]])\n",
    "y_test = lb.transform(np.array(['pria', 'pria', 'wanita', 'wanita'])).flatten()\n",
    "\n",
    "print(f'X_test:\\n{X_test}\\n')\n",
    "print(f'y_test:\\n{y_test}')"
   ]
  },
  {
   "cell_type": "markdown",
   "metadata": {},
   "source": [
    "Alur berpikir code 15 :\n",
    "- Code tersebut berupa testing set, diman testing set tersebut terdiri dari 4 data point. Oleh karena itu, kita akan menyiapkan numpy array yang terdiri dari 4 baris dan 2 kolom sebagai 'X_test'.\n",
    "- Lalu berikutnya, disini kita akan menyiapkan target yang terdiri dari 4 data yaitu 'pria', 'pria', 'wanita', 'wanita' yang harus kita transformasikan menjadi nilai numerik biner dengan memanfaatkan label binarizer dengan memanggil 'lb.transform' yang akan menghasilkan array 2 dimensi, padahal yang kita harapkan untuk 'y_test'adalah array 1 dimensi. Oleh karena itu, disini kita perlu memanggil method flatten.\n",
    "- Jika kita lihat pada hasil outputnya sudah sesuai dengan harapan kita yang dimana X_test nya terdiri dari sekumpulan nilai numerik yang di bundle atau dikemas sebagai array 2 dimensi. Demikian juga nilai y_test nya yang terdiri dari sekumpulan nilai numerik biner untuk kasus kita kali ini yang di bundle dalam suatu numpy array satu dimensi."
   ]
  },
  {
   "cell_type": "markdown",
   "metadata": {},
   "source": [
    "# Prediksi Terhadap Testing Set"
   ]
  },
  {
   "cell_type": "code",
   "execution_count": 53,
   "metadata": {},
   "outputs": [
    {
     "data": {
      "text/plain": [
       "array([1, 0, 1, 1])"
      ]
     },
     "execution_count": 53,
     "metadata": {},
     "output_type": "execute_result"
    }
   ],
   "source": [
    "# Code 16\n",
    "\n",
    "y_pred = model.predict(X_test)\n",
    "y_pred"
   ]
  },
  {
   "cell_type": "markdown",
   "metadata": {},
   "source": [
    "Setelah testing setnya siap (pada code 15), selanjutnya kita akan melakukan prediksi terhadap testing set tersebut dengan memanfaatkan model KNN Classifier yang sudah kita training sebelumnya.\n",
    "\n",
    "Pola berpikir code 16 :\n",
    "- Memanggil 'model.predict(X_test)' yang kita prediksi adalah nilai X_test nya yang akan kita tampung ke dalam variabel y_pred.\n",
    "- Lalu kita panggil kembali fungsi tersebut untuk melihat hasilnya.\n",
    "\n",
    "Bisa kita lihat pada hasil output code 16, nilai yang diharapkan adalah nilai yang ada di dalam y_test (lihat pada output code 15), dimana [0, 0, 1, 1] sedangkan model prediksi yang kita peroleh (pada code 16) adalah [1, 0, 1, 1] yang kita tampung kedalam variabel y_pred. Untuk fase evaluasi, pada intinya adalah kita akan membandingkan nilai y_test (pada output code 15) dengan nilai y_pred nya (pada output code 16)."
   ]
  },
  {
   "cell_type": "markdown",
   "metadata": {},
   "source": [
    "# Accuracy"
   ]
  },
  {
   "cell_type": "markdown",
   "metadata": {},
   "source": [
    "Matrik evaluasi pertama yang akan kita pelajari adalah akurasi.\n",
    "\n",
    "Accuracy is the proportion of test instances that were classified correctly. Dengan kata lain, akurasi adalah proprosi dari instance pada training set yang diklasifikasikan secara benar atau yang berhasil diprediksi dengan tepat.\n",
    "\n"
   ]
  },
  {
   "cell_type": "markdown",
   "metadata": {},
   "source": [
    "$accuracy  =  \\frac{tp + tn}{tp + tn + fp + fn}$ "
   ]
  },
  {
   "cell_type": "markdown",
   "metadata": {},
   "source": [
    "Bila kita perhatikan pada rumus accuracy :\n",
    "- tp = true positive\n",
    "- tn = true negative\n",
    "- fp = false postive\n",
    "- fn = false negative\n",
    "\n",
    "True postif dan truen negatif merepresentasikan hasil prediksi atau klasifikasi yang benar. True postive berarti sesuatu yang bernilai positif telah dengan tepat diprediksi sebagai positif oleh model, sedangkan true negative berarti sesuatu yang bernilai negatif telah dengan tepat diprediksi sebagai sesuatu yang negatif oleh model atau dengan kata lain. \n",
    "\n",
    "Jika mengacu pada kasus tersebut, true positif berarti model sudah dengan tepat memprediksi data pria sebagai pria dan data wanita sebagai wanita, sedangkan true negatif berarti model sudah dengan tepat memprediksi sebagai data wanita sebagai bukan pria dan data pria sebagai bukan wanita.\n",
    "\n",
    "Dua istilah berikutnya adalah false positive dan false negative, keduanya merepresentasikan hasil prediksi atau klasifikasi yang salah. False positive berarti sesuatu yang bernilai negatif telah keliru diprediksi sebagai positif oleh model. Sedangkan false negative, berarti sesuatu yang bernilai postif telah keliru diprediksi sebagai negatif oleh model atau jika kita kita mengacu pada kasus tersebut, false positif berarti model sudah dengan keliru memprediksi data wanita sebagai pria dan data pria sebagai wanita, sedangkan false negative berarti model sudah dengan keliru memprediksi data pria sebagai bukan pria dan data wanita sebagai bukan wanita."
   ]
  },
  {
   "cell_type": "markdown",
   "metadata": {},
   "source": [
    "Referensi : https://en.wikipedia.org/wiki/Precision_and_recall"
   ]
  },
  {
   "cell_type": "code",
   "execution_count": 54,
   "metadata": {},
   "outputs": [
    {
     "name": "stdout",
     "output_type": "stream",
     "text": [
      "Accuracy: 0.75\n"
     ]
    }
   ],
   "source": [
    "# Code 17\n",
    "\n",
    "from sklearn.metrics import accuracy_score\n",
    "\n",
    "acc = accuracy_score(y_test, y_pred)\n",
    "\n",
    "print(f'Accuracy: {acc}')"
   ]
  },
  {
   "cell_type": "markdown",
   "metadata": {},
   "source": [
    "Code 17 merupakan tahapan menggunakan matriks accuracy untuk melakukan evaluasi model machine learning pada SKLearn.\n",
    "\n",
    "Alur berpikir code 17 :\n",
    "- Memangil method 'from sklearn.metrics import accuracy_score'.\n",
    "- Lalu cara pemanfaatannya cukup sederhana, kita tinggal memanggil saja 'accuracy_score' dengan menyertakan 2 buah parameter. Parameter pertama adalah 'y_test' dan parameter kedua adalah 'y_pred'. 'y_test' merupakan target dari testing set, sedangkan 'y_pred' merupakan hasil prediksi untuk target dari testing setnya, lalu nilai akurasi ini kita tampung ke dalam variabel acc.\n",
    "- Lalu kita tampilkan ke layar.\n",
    "\n",
    "Bisa kita lihat pada output code 17, nilai akurasinya adalah 0.75 atau ddengan kata lain nilai akurasinya adalah 75%."
   ]
  },
  {
   "cell_type": "markdown",
   "metadata": {},
   "source": [
    "# Precission"
   ]
  },
  {
   "cell_type": "markdown",
   "metadata": {},
   "source": [
    "Matrik evaluasi pertama yang akan kita pelajari adalah precission. Precission is the proportion of test instances that were predicted to be positive that are truly positive. Dalam bahasa indonesia, presisi adalah proporsi dari tetsing set yang diprediksi sebagai positif oleh model, yang memang benar-benar positif.  "
   ]
  },
  {
   "cell_type": "markdown",
   "metadata": {},
   "source": [
    "$precission  =  \\frac{tp}{tp  \\ + \\  fp}$"
   ]
  },
  {
   "cell_type": "markdown",
   "metadata": {},
   "source": [
    "Bila kita perhatikan pada rumus atau formula precission :\n",
    "- tp : merepresentasikan nilai true positive.\n",
    "- fp : merepresentasikan nilai false positive."
   ]
  },
  {
   "cell_type": "markdown",
   "metadata": {},
   "source": [
    "Referensi : https://en.wikipedia.org/wiki/Precision_and_recall"
   ]
  },
  {
   "cell_type": "markdown",
   "metadata": {},
   "source": [
    "Selanjutnya kita akan mencoba melakukan tahapan matrix precision tersebut untuk melakukan evaluasi model machine learning pada SKLearn (perhatikan pada code 18)."
   ]
  },
  {
   "cell_type": "code",
   "execution_count": 55,
   "metadata": {},
   "outputs": [
    {
     "name": "stdout",
     "output_type": "stream",
     "text": [
      "Precission: 0.6666666666666666\n"
     ]
    }
   ],
   "source": [
    "# Code 18\n",
    "\n",
    "from sklearn.metrics import precision_score\n",
    "\n",
    "prec = precision_score(y_test, y_pred)\n",
    "\n",
    "print(f'Precission: {prec}')"
   ]
  },
  {
   "cell_type": "markdown",
   "metadata": {},
   "source": [
    "Alur berpikir code 18 :\n",
    "- Pertama, kita import terlebih dahulu precision score nya dengan cara 'from sklearn.metrics import precision_score'.\n",
    "- Lalu untuk menggunakannya sama seperti cara kita menggunakan evaluation matrix yang lainnya, kita cukup memanggil 'precision_score(y_test, y_pred)', disini kita menyertakan nilai 'y_test' dan juga 'y_pred' sebagai parameternya. \n",
    "- Lalu hasilnya kita akan tampung ke dalam variabel 'prec'.\n",
    "- Kemudian kita tampilkan dengan cara print.\n",
    "\n",
    "Bisa kita lihat pada hasil output code 18, bahwa nilai precissionnya adalah 0.6666 sekian atau disini kita bisa bilang bahwa nilai precisionnya adalah 66,66%."
   ]
  },
  {
   "cell_type": "markdown",
   "metadata": {},
   "source": [
    "# Recall"
   ]
  },
  {
   "cell_type": "markdown",
   "metadata": {},
   "source": [
    "Recall is the proportion of truly postive test instances that were predicted to be positive. Dalam bahasa indonesia kita bisa bilang bahwa recall adalah proporsi dari data pada testing set kita yangi memang benar-benar positif yang diprediksi sebagai positif oleh model kita."
   ]
  },
  {
   "cell_type": "markdown",
   "metadata": {},
   "source": [
    "$recall  =  \\frac{tp}{tp + fn}$"
   ]
  },
  {
   "cell_type": "markdown",
   "metadata": {},
   "source": [
    "Bila kita perhatikan pada formula atau rumus recall :\n",
    "- tp : merepresentasikan nilai true positive.\n",
    "- fn : merepresentasikan nilai false negativ."
   ]
  },
  {
   "cell_type": "markdown",
   "metadata": {},
   "source": [
    "Referensi : https://en.wikipedia.org/wiki/Precision_and_recall"
   ]
  },
  {
   "cell_type": "code",
   "execution_count": 56,
   "metadata": {},
   "outputs": [
    {
     "name": "stdout",
     "output_type": "stream",
     "text": [
      "Recall: 1.0\n"
     ]
    }
   ],
   "source": [
    "# Code 19\n",
    "\n",
    "from sklearn.metrics import recall_score\n",
    "\n",
    "rec = recall_score(y_test, y_pred)\n",
    "\n",
    "print(f'Recall: {rec}')"
   ]
  },
  {
   "cell_type": "markdown",
   "metadata": {},
   "source": [
    "Alur berpikir code 19 :\n",
    "- Pertama, kita mengimport 'from sklearn.metrics import recall_score'\n",
    "- Lalu pemanfaatannya, kita tinggal memanggil 'rec = recall_score(y_test, y_pred)'. Seperti biasa nilai 'y_test' dan 'y_pred' merupakan parameternya, yang kita tampung ke dalam variabel 'rec'.\n",
    "- Terakhir kita tampilkan dengan print.\n",
    "\n",
    "Berdasarkan output code 19, nilai recall nya adalah 1 yang merupakan nilai tertinggi atau dengan kata lain, nilai recall nya adalah 100%."
   ]
  },
  {
   "cell_type": "markdown",
   "metadata": {},
   "source": [
    "# F1 Score"
   ]
  },
  {
   "cell_type": "markdown",
   "metadata": {},
   "source": [
    "Metriks selanjutnya yang akan kita pelajari adalah F1 Score.\n",
    "\n",
    "The F1 score is the harmonic mean of precision and recall. Dalam bahasa indonesia yaitu f1 score merupakan harmonik mean atau nilai rata-rata harmonik dari percision dan recall. "
   ]
  },
  {
   "cell_type": "markdown",
   "metadata": {},
   "source": [
    "$F1  =  2 \\ \\times \\ \\frac{precision \\ \\times \\ recall}{precision \\ + \\ recall}$"
   ]
  },
  {
   "cell_type": "markdown",
   "metadata": {},
   "source": [
    "Referensi : https://en.wikipedia.org/wiki/Precision_and_recall"
   ]
  },
  {
   "cell_type": "code",
   "execution_count": 57,
   "metadata": {},
   "outputs": [
    {
     "name": "stdout",
     "output_type": "stream",
     "text": [
      "F1-score: 0.8\n"
     ]
    }
   ],
   "source": [
    "# Code 20\n",
    "\n",
    "from sklearn.metrics import f1_score\n",
    "\n",
    "f1 = f1_score(y_test, y_pred)\n",
    "\n",
    "print(f'F1-score: {f1}')"
   ]
  },
  {
   "cell_type": "markdown",
   "metadata": {},
   "source": [
    "Alur berpikir code 20 :\n",
    "- Pertama-tama kita akan mengimport terlebih dahulu 'from sklearn.metrics import f1_score'.\n",
    "- Lalu untuk menggunakannya juga sama, kita hanya tinggal memanggil 'f1 = f1_score(y_test, y_pred)' dimana 'y_test' dan 'y_pred' sebagai parameternya yang akan kita tampung ke dalam variabel 'f1'.\n",
    "- Terakhir kita tampilkan pada layar hasilnya.\n",
    "\n",
    "Berdasarkan output code 20, kita memeroleh f1-score nya adalah 0.8.\n"
   ]
  },
  {
   "cell_type": "markdown",
   "metadata": {},
   "source": [
    "# Classification Report"
   ]
  },
  {
   "cell_type": "markdown",
   "metadata": {},
   "source": [
    "Keempat matriks yang sudah kita bahas sebelumnya, juga bisa ditampilkan secara keseluruhan sebagai classification report. Sesuai dengan namanya, keempat matriks tersebut memang digunakan untuk mengukur performa model pada classification task.  \n",
    "\n",
    "Berikut kita akan mencoba cara untuk menampilkan classification report dengan memanfaatkan SKlearn (perhatikan pada code 21). "
   ]
  },
  {
   "cell_type": "code",
   "execution_count": 58,
   "metadata": {},
   "outputs": [
    {
     "name": "stdout",
     "output_type": "stream",
     "text": [
      "Classification Report :\n",
      "              precision    recall  f1-score   support\n",
      "\n",
      "           0       1.00      0.50      0.67         2\n",
      "           1       0.67      1.00      0.80         2\n",
      "\n",
      "    accuracy                           0.75         4\n",
      "   macro avg       0.83      0.75      0.73         4\n",
      "weighted avg       0.83      0.75      0.73         4\n",
      "\n"
     ]
    }
   ],
   "source": [
    "# Code 21\n",
    "\n",
    "from sklearn.metrics import classification_report\n",
    "\n",
    "cls_report = classification_report(y_test, y_pred)\n",
    "\n",
    "print(f'Classification Report :\\n{cls_report}')"
   ]
  },
  {
   "cell_type": "markdown",
   "metadata": {},
   "source": [
    "Alur berpikir code 21 :\n",
    "- Pertama, kita panggil dengan menggunakan 'from sklearn.metrics import classification_report'.\n",
    "- Lalu pemanfaatannya juga sama dengan matriks yang lainnya, kita tinggal memanggil 'classification_report(y_test, y_pred)', dimana 'y_test' dan 'y_pred' merupakan parameternya lalu kita akan tampung ke dalam variabel 'cls_report.\n",
    "- Terakhir, kita akan tampilkan ke layar dengan print.\n",
    "\n",
    "Bisa kita lihat pada output code 21, kita bisa melihat nilai precision, recall, dan f1-score dan juga kita bisa lihat pengklasifikasiannya. Keempat matriks evaluasi yang kita pelajari ini ditunjukan untuk binary classifier, dimana berapa pun banyaknya jumlah class atau kelompok nilai yang terdapat pada targets tetap akan diasumsikan sebagai dua kelompok nilai saja yaitu positif atau negatif.\n",
    "\n",
    "Disini nilai biner satu akan dipandang sebagai nilai positif secara deafult, sedangkan nilai biner 0 akan dipandang sebagai nilai negatif.\n",
    "\n",
    "Classification report yang ditampilkan pada output code 21 mencankup nilai presicion recall dan f1-score untuk keseluruhan kelas baik yang bernilai 0 maupun 1. Oleh karena itu, sebaiknya kita untuk menggunakan classification report daripada melakukan pengukuran precision, recall, serta f1-score secara terpisah. Selain itu, classification report juga menampilkan nilai rata-rata untuk precision, recall, dan f1-score."
   ]
  },
  {
   "cell_type": "markdown",
   "metadata": {},
   "source": [
    "# Matthews Correlation Coefficient (MCC)"
   ]
  },
  {
   "cell_type": "markdown",
   "metadata": {},
   "source": [
    "Metriks evaluasi kelima yang akan kita pelajati adalah matthews correlation coefficient atau yang biasa disingkat menjadi MCC.\n",
    "\n",
    "- MCC is an alternative to the F1 score for measuring the performance of binary classifiers. Dalam bahasa indonesia, kita bisa bilang bahwa mcc merupakan alternatif untuk f1-score yang digunakan untuk keperluan pengukuran performa dari binary classifier.\n",
    "- A perfect classifier's MCC is 1. Dalam terjemahan bahasa indonesia, artinya nilai tertingginya adalah satu. \n",
    "- A trivial classifier that predicts randomly will score 0, and a perfectly wrong classifier will score -1. Dalam bahasa indonesia yaitu jika prediksinya dilakukan secara random atau acak dan asal maka nilai scorenya adalah 0, atau jika model classifier nya benar-benar kacau maka akan menghasilkan nilai -1. Oleh karena itu, nilai rentan MCC ini dimulai dari -1 untuk kondisi terburuk sampai dengan 1 untuk kondisi terbaiknya."
   ]
  },
  {
   "cell_type": "markdown",
   "metadata": {},
   "source": [
    "$MCC = \\frac{tp \\ \\times \\ tn + fp \\ \\times \\ fn}{\\sqrt{(tp + fp) \\ \\times \\ (tp + fn) \\ \\times \\ (tn + fp) \\ \\times \\ (tn + fn)}}$"
   ]
  },
  {
   "cell_type": "markdown",
   "metadata": {},
   "source": [
    "Referensi : https://en.wikipedia.org/wiki/Matthews_coefficient"
   ]
  },
  {
   "cell_type": "code",
   "execution_count": 59,
   "metadata": {},
   "outputs": [
    {
     "name": "stdout",
     "output_type": "stream",
     "text": [
      "MCC: 0.5773502691896258\n"
     ]
    }
   ],
   "source": [
    "# Code 22\n",
    "\n",
    "from sklearn.metrics import matthews_corrcoef\n",
    "\n",
    "mcc = matthews_corrcoef(y_test, y_pred)\n",
    "\n",
    "print(f'MCC: {mcc}')"
   ]
  },
  {
   "cell_type": "markdown",
   "metadata": {},
   "source": [
    "Pada code 22 merupakan cara atau tahapan menggunakan mcc untuk melakukan evaluasi model machine learning pada SkLearn.\n",
    "\n",
    "Alur berpikir code 22 :\n",
    "- Pertama, kita memanggil'from sklearn.metrics import matthews_corrcoef'.\n",
    "- Lalu untuk menggunakan matthews correlation coefficient ini kita tinggal panggil saja 'matthews_corrcoef' lalu sertakan parameternya yang dalam hal ini, parameter pertama adalah'y_test' dan parameter kedua adalah 'y_pred' yang kemudian kita tampung ke dalam variabel mcc.\n",
    "- Kemudian kita tampilkan ke layar dengan cara memanggilnya denga print.\n",
    "\n",
    "Berdasarkan output code 22, nilai MCC nya adalah 0.5773502691896258."
   ]
  },
  {
   "cell_type": "markdown",
   "metadata": {},
   "source": [
    "Untuk pembelajaran lebih lengkapnya jangan lupa untuk kunjungi channel Indonesia Belajar pada link : https://www.youtube.com/watch?v=4zARMcgc7hA "
   ]
  },
  {
   "cell_type": "markdown",
   "metadata": {},
   "source": [
    "# \" Banyak Belajar Biar Bisa Bantu Banyak Orang \""
   ]
  },
  {
   "cell_type": "markdown",
   "metadata": {},
   "source": [
    "By : Clarence Code Pianist"
   ]
  }
 ],
 "metadata": {
  "kernelspec": {
   "display_name": "Python 3",
   "language": "python",
   "name": "python3"
  },
  "language_info": {
   "codemirror_mode": {
    "name": "ipython",
    "version": 3
   },
   "file_extension": ".py",
   "mimetype": "text/x-python",
   "name": "python",
   "nbconvert_exporter": "python",
   "pygments_lexer": "ipython3",
   "version": "3.7.4"
  }
 },
 "nbformat": 4,
 "nbformat_minor": 2
}
